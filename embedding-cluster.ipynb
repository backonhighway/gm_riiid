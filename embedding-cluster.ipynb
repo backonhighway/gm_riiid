{
 "cells": [
  {
   "cell_type": "code",
   "execution_count": 1,
   "metadata": {},
   "outputs": [],
   "source": [
    "from sklearn.decomposition import TruncatedSVD\n",
    "from sklearn.cluster import KMeans\n",
    "\n",
    "import numpy as np\n",
    "import pandas as pd"
   ]
  },
  {
   "cell_type": "code",
   "execution_count": 32,
   "metadata": {},
   "outputs": [],
   "source": [
    "embed = np.load(\"./content_embedding.npy\")"
   ]
  },
  {
   "cell_type": "code",
   "execution_count": 33,
   "metadata": {},
   "outputs": [
    {
     "data": {
      "text/plain": [
       "(13524, 128)"
      ]
     },
     "execution_count": 33,
     "metadata": {},
     "output_type": "execute_result"
    }
   ],
   "source": [
    "embed.shape"
   ]
  },
  {
   "cell_type": "code",
   "execution_count": 34,
   "metadata": {},
   "outputs": [
    {
     "data": {
      "text/plain": [
       "array([ 0.00348971,  0.01093413,  0.01815927, ..., -0.02049293,\n",
       "       -0.06177155,  0.09914625], dtype=float32)"
      ]
     },
     "execution_count": 34,
     "metadata": {},
     "output_type": "execute_result"
    }
   ],
   "source": [
    "embed[:, 0]"
   ]
  },
  {
   "cell_type": "code",
   "execution_count": 35,
   "metadata": {},
   "outputs": [
    {
     "data": {
      "text/plain": [
       "array([ 0.01093413,  0.01815927,  0.02203978, ..., -0.02049293,\n",
       "       -0.06177155,  0.09914625], dtype=float32)"
      ]
     },
     "execution_count": 35,
     "metadata": {},
     "output_type": "execute_result"
    }
   ],
   "source": [
    "embed[1:, 0]"
   ]
  },
  {
   "cell_type": "code",
   "execution_count": 36,
   "metadata": {},
   "outputs": [],
   "source": [
    "embed = embed[1:]"
   ]
  },
  {
   "cell_type": "code",
   "execution_count": 37,
   "metadata": {},
   "outputs": [],
   "source": [
    "svd = TruncatedSVD(n_components=20)\n",
    "content_vecs = svd.fit_transform(embed)"
   ]
  },
  {
   "cell_type": "code",
   "execution_count": 38,
   "metadata": {},
   "outputs": [
    {
     "data": {
      "text/plain": [
       "(13523, 20)"
      ]
     },
     "execution_count": 38,
     "metadata": {},
     "output_type": "execute_result"
    }
   ],
   "source": [
    "content_vecs.shape"
   ]
  },
  {
   "cell_type": "code",
   "execution_count": 39,
   "metadata": {},
   "outputs": [
    {
     "data": {
      "text/plain": [
       "array([[ 0.29857266,  0.0828594 ,  0.10337925, ..., -0.05289454,\n",
       "        -0.04786237,  0.01002183],\n",
       "       [ 0.29416677,  0.11227994, -0.04767716, ...,  0.05001845,\n",
       "        -0.05255706,  0.02543679],\n",
       "       [-0.22071125,  0.04720166,  0.08526865, ...,  0.00883699,\n",
       "         0.01770988,  0.03280997],\n",
       "       ...,\n",
       "       [-0.00494652, -0.05653199, -0.04470852, ..., -0.02753389,\n",
       "         0.03068023,  0.01990469],\n",
       "       [ 0.25516766, -0.11038473,  0.04874474, ..., -0.04982777,\n",
       "         0.06112582, -0.05504936],\n",
       "       [ 0.43774703,  0.11116546, -0.13141455, ..., -0.09800366,\n",
       "        -0.04020726,  0.04884924]], dtype=float32)"
      ]
     },
     "execution_count": 39,
     "metadata": {},
     "output_type": "execute_result"
    }
   ],
   "source": [
    "content_vecs"
   ]
  },
  {
   "cell_type": "code",
   "execution_count": 41,
   "metadata": {},
   "outputs": [],
   "source": [
    "content_vecs = pd.DataFrame(content_vecs)"
   ]
  },
  {
   "cell_type": "code",
   "execution_count": 42,
   "metadata": {},
   "outputs": [
    {
     "data": {
      "text/html": [
       "<div>\n",
       "<style scoped>\n",
       "    .dataframe tbody tr th:only-of-type {\n",
       "        vertical-align: middle;\n",
       "    }\n",
       "\n",
       "    .dataframe tbody tr th {\n",
       "        vertical-align: top;\n",
       "    }\n",
       "\n",
       "    .dataframe thead th {\n",
       "        text-align: right;\n",
       "    }\n",
       "</style>\n",
       "<table border=\"1\" class=\"dataframe\">\n",
       "  <thead>\n",
       "    <tr style=\"text-align: right;\">\n",
       "      <th></th>\n",
       "      <th>0</th>\n",
       "      <th>1</th>\n",
       "      <th>2</th>\n",
       "      <th>3</th>\n",
       "      <th>4</th>\n",
       "      <th>5</th>\n",
       "      <th>6</th>\n",
       "      <th>7</th>\n",
       "      <th>8</th>\n",
       "      <th>9</th>\n",
       "      <th>10</th>\n",
       "      <th>11</th>\n",
       "      <th>12</th>\n",
       "      <th>13</th>\n",
       "      <th>14</th>\n",
       "      <th>15</th>\n",
       "      <th>16</th>\n",
       "      <th>17</th>\n",
       "      <th>18</th>\n",
       "      <th>19</th>\n",
       "    </tr>\n",
       "  </thead>\n",
       "  <tbody>\n",
       "    <tr>\n",
       "      <th>0</th>\n",
       "      <td>0.298573</td>\n",
       "      <td>0.082859</td>\n",
       "      <td>0.103379</td>\n",
       "      <td>0.019431</td>\n",
       "      <td>-0.108116</td>\n",
       "      <td>0.069238</td>\n",
       "      <td>-0.122686</td>\n",
       "      <td>0.034020</td>\n",
       "      <td>0.106384</td>\n",
       "      <td>0.013467</td>\n",
       "      <td>0.049322</td>\n",
       "      <td>0.044373</td>\n",
       "      <td>-0.019987</td>\n",
       "      <td>-0.051152</td>\n",
       "      <td>0.002223</td>\n",
       "      <td>-0.027400</td>\n",
       "      <td>-0.045768</td>\n",
       "      <td>-0.052895</td>\n",
       "      <td>-0.047862</td>\n",
       "      <td>0.010022</td>\n",
       "    </tr>\n",
       "    <tr>\n",
       "      <th>1</th>\n",
       "      <td>0.294167</td>\n",
       "      <td>0.112280</td>\n",
       "      <td>-0.047677</td>\n",
       "      <td>0.030680</td>\n",
       "      <td>-0.053393</td>\n",
       "      <td>-0.071304</td>\n",
       "      <td>-0.158679</td>\n",
       "      <td>-0.008623</td>\n",
       "      <td>0.041525</td>\n",
       "      <td>0.016410</td>\n",
       "      <td>-0.005720</td>\n",
       "      <td>-0.040753</td>\n",
       "      <td>-0.010178</td>\n",
       "      <td>0.045152</td>\n",
       "      <td>0.017016</td>\n",
       "      <td>0.018646</td>\n",
       "      <td>-0.058797</td>\n",
       "      <td>0.050018</td>\n",
       "      <td>-0.052557</td>\n",
       "      <td>0.025437</td>\n",
       "    </tr>\n",
       "  </tbody>\n",
       "</table>\n",
       "</div>"
      ],
      "text/plain": [
       "         0         1         2         3         4         5         6   \\\n",
       "0  0.298573  0.082859  0.103379  0.019431 -0.108116  0.069238 -0.122686   \n",
       "1  0.294167  0.112280 -0.047677  0.030680 -0.053393 -0.071304 -0.158679   \n",
       "\n",
       "         7         8         9         10        11        12        13  \\\n",
       "0  0.034020  0.106384  0.013467  0.049322  0.044373 -0.019987 -0.051152   \n",
       "1 -0.008623  0.041525  0.016410 -0.005720 -0.040753 -0.010178  0.045152   \n",
       "\n",
       "         14        15        16        17        18        19  \n",
       "0  0.002223 -0.027400 -0.045768 -0.052895 -0.047862  0.010022  \n",
       "1  0.017016  0.018646 -0.058797  0.050018 -0.052557  0.025437  "
      ]
     },
     "execution_count": 42,
     "metadata": {},
     "output_type": "execute_result"
    }
   ],
   "source": [
    "content_vecs.head(2)"
   ]
  },
  {
   "cell_type": "code",
   "execution_count": 43,
   "metadata": {},
   "outputs": [],
   "source": [
    "content_vecs.reset_index(inplace=True)"
   ]
  },
  {
   "cell_type": "code",
   "execution_count": 44,
   "metadata": {},
   "outputs": [],
   "source": [
    "content_vecs.columns = [\"content_id\"] + [\"nn_svd\"+str(i) for i in range(20)]"
   ]
  },
  {
   "cell_type": "code",
   "execution_count": 45,
   "metadata": {},
   "outputs": [
    {
     "data": {
      "text/html": [
       "<div>\n",
       "<style scoped>\n",
       "    .dataframe tbody tr th:only-of-type {\n",
       "        vertical-align: middle;\n",
       "    }\n",
       "\n",
       "    .dataframe tbody tr th {\n",
       "        vertical-align: top;\n",
       "    }\n",
       "\n",
       "    .dataframe thead th {\n",
       "        text-align: right;\n",
       "    }\n",
       "</style>\n",
       "<table border=\"1\" class=\"dataframe\">\n",
       "  <thead>\n",
       "    <tr style=\"text-align: right;\">\n",
       "      <th></th>\n",
       "      <th>content_id</th>\n",
       "      <th>nn_svd0</th>\n",
       "      <th>nn_svd1</th>\n",
       "      <th>nn_svd2</th>\n",
       "      <th>nn_svd3</th>\n",
       "      <th>nn_svd4</th>\n",
       "      <th>nn_svd5</th>\n",
       "      <th>nn_svd6</th>\n",
       "      <th>nn_svd7</th>\n",
       "      <th>nn_svd8</th>\n",
       "      <th>...</th>\n",
       "      <th>nn_svd10</th>\n",
       "      <th>nn_svd11</th>\n",
       "      <th>nn_svd12</th>\n",
       "      <th>nn_svd13</th>\n",
       "      <th>nn_svd14</th>\n",
       "      <th>nn_svd15</th>\n",
       "      <th>nn_svd16</th>\n",
       "      <th>nn_svd17</th>\n",
       "      <th>nn_svd18</th>\n",
       "      <th>nn_svd19</th>\n",
       "    </tr>\n",
       "  </thead>\n",
       "  <tbody>\n",
       "    <tr>\n",
       "      <th>0</th>\n",
       "      <td>0</td>\n",
       "      <td>0.298573</td>\n",
       "      <td>0.082859</td>\n",
       "      <td>0.103379</td>\n",
       "      <td>0.019431</td>\n",
       "      <td>-0.108116</td>\n",
       "      <td>0.069238</td>\n",
       "      <td>-0.122686</td>\n",
       "      <td>0.034020</td>\n",
       "      <td>0.106384</td>\n",
       "      <td>...</td>\n",
       "      <td>0.049322</td>\n",
       "      <td>0.044373</td>\n",
       "      <td>-0.019987</td>\n",
       "      <td>-0.051152</td>\n",
       "      <td>0.002223</td>\n",
       "      <td>-0.027400</td>\n",
       "      <td>-0.045768</td>\n",
       "      <td>-0.052895</td>\n",
       "      <td>-0.047862</td>\n",
       "      <td>0.010022</td>\n",
       "    </tr>\n",
       "    <tr>\n",
       "      <th>1</th>\n",
       "      <td>1</td>\n",
       "      <td>0.294167</td>\n",
       "      <td>0.112280</td>\n",
       "      <td>-0.047677</td>\n",
       "      <td>0.030680</td>\n",
       "      <td>-0.053393</td>\n",
       "      <td>-0.071304</td>\n",
       "      <td>-0.158679</td>\n",
       "      <td>-0.008623</td>\n",
       "      <td>0.041525</td>\n",
       "      <td>...</td>\n",
       "      <td>-0.005720</td>\n",
       "      <td>-0.040753</td>\n",
       "      <td>-0.010178</td>\n",
       "      <td>0.045152</td>\n",
       "      <td>0.017016</td>\n",
       "      <td>0.018646</td>\n",
       "      <td>-0.058797</td>\n",
       "      <td>0.050018</td>\n",
       "      <td>-0.052557</td>\n",
       "      <td>0.025437</td>\n",
       "    </tr>\n",
       "  </tbody>\n",
       "</table>\n",
       "<p>2 rows × 21 columns</p>\n",
       "</div>"
      ],
      "text/plain": [
       "   content_id   nn_svd0   nn_svd1   nn_svd2   nn_svd3   nn_svd4   nn_svd5  \\\n",
       "0           0  0.298573  0.082859  0.103379  0.019431 -0.108116  0.069238   \n",
       "1           1  0.294167  0.112280 -0.047677  0.030680 -0.053393 -0.071304   \n",
       "\n",
       "    nn_svd6   nn_svd7   nn_svd8  ...  nn_svd10  nn_svd11  nn_svd12  nn_svd13  \\\n",
       "0 -0.122686  0.034020  0.106384  ...  0.049322  0.044373 -0.019987 -0.051152   \n",
       "1 -0.158679 -0.008623  0.041525  ... -0.005720 -0.040753 -0.010178  0.045152   \n",
       "\n",
       "   nn_svd14  nn_svd15  nn_svd16  nn_svd17  nn_svd18  nn_svd19  \n",
       "0  0.002223 -0.027400 -0.045768 -0.052895 -0.047862  0.010022  \n",
       "1  0.017016  0.018646 -0.058797  0.050018 -0.052557  0.025437  \n",
       "\n",
       "[2 rows x 21 columns]"
      ]
     },
     "execution_count": 45,
     "metadata": {},
     "output_type": "execute_result"
    }
   ],
   "source": [
    "content_vecs.head(2)"
   ]
  },
  {
   "cell_type": "code",
   "execution_count": 46,
   "metadata": {},
   "outputs": [],
   "source": [
    "kmeans = KMeans(n_clusters=35)\n",
    "content_clusters = kmeans.fit_predict(content_vecs)"
   ]
  },
  {
   "cell_type": "code",
   "execution_count": 47,
   "metadata": {},
   "outputs": [
    {
     "data": {
      "text/plain": [
       "(13523,)"
      ]
     },
     "execution_count": 47,
     "metadata": {},
     "output_type": "execute_result"
    }
   ],
   "source": [
    "content_clusters.shape"
   ]
  },
  {
   "cell_type": "code",
   "execution_count": 48,
   "metadata": {},
   "outputs": [],
   "source": [
    "content_vecs[\"nn_cluster\"] = content_clusters"
   ]
  },
  {
   "cell_type": "code",
   "execution_count": 49,
   "metadata": {},
   "outputs": [],
   "source": [
    "content_vecs.to_csv(\"./content_nn.csv\", index=False)"
   ]
  },
  {
   "cell_type": "code",
   "execution_count": null,
   "metadata": {},
   "outputs": [],
   "source": []
  }
 ],
 "metadata": {
  "kernelspec": {
   "display_name": "Python 3",
   "language": "python",
   "name": "python3"
  },
  "language_info": {
   "codemirror_mode": {
    "name": "ipython",
    "version": 3
   },
   "file_extension": ".py",
   "mimetype": "text/x-python",
   "name": "python",
   "nbconvert_exporter": "python",
   "pygments_lexer": "ipython3",
   "version": "3.7.9"
  }
 },
 "nbformat": 4,
 "nbformat_minor": 4
}
