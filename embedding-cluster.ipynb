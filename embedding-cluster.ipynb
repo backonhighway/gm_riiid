{
 "cells": [
  {
   "cell_type": "code",
   "execution_count": 35,
   "metadata": {},
   "outputs": [],
   "source": [
    "from sklearn.decomposition import TruncatedSVD\n",
    "from sklearn.cluster import KMeans\n",
    "from sklearn.decomposition import NMF, LatentDirichletAllocation\n",
    "\n",
    "import numpy as np\n",
    "import pandas as pd"
   ]
  },
  {
   "cell_type": "code",
   "execution_count": null,
   "metadata": {},
   "outputs": [],
   "source": []
  },
  {
   "cell_type": "code",
   "execution_count": 14,
   "metadata": {},
   "outputs": [
    {
     "data": {
      "text/html": [
       "<div>\n",
       "<style scoped>\n",
       "    .dataframe tbody tr th:only-of-type {\n",
       "        vertical-align: middle;\n",
       "    }\n",
       "\n",
       "    .dataframe tbody tr th {\n",
       "        vertical-align: top;\n",
       "    }\n",
       "\n",
       "    .dataframe thead th {\n",
       "        text-align: right;\n",
       "    }\n",
       "</style>\n",
       "<table border=\"1\" class=\"dataframe\">\n",
       "  <thead>\n",
       "    <tr style=\"text-align: right;\">\n",
       "      <th></th>\n",
       "      <th>question_id</th>\n",
       "      <th>bundle_id</th>\n",
       "      <th>correct_answer</th>\n",
       "      <th>part</th>\n",
       "      <th>tags</th>\n",
       "    </tr>\n",
       "  </thead>\n",
       "  <tbody>\n",
       "    <tr>\n",
       "      <th>0</th>\n",
       "      <td>0</td>\n",
       "      <td>0</td>\n",
       "      <td>0</td>\n",
       "      <td>1</td>\n",
       "      <td>51 131 162 38</td>\n",
       "    </tr>\n",
       "    <tr>\n",
       "      <th>1</th>\n",
       "      <td>1</td>\n",
       "      <td>1</td>\n",
       "      <td>1</td>\n",
       "      <td>1</td>\n",
       "      <td>131 36 81</td>\n",
       "    </tr>\n",
       "  </tbody>\n",
       "</table>\n",
       "</div>"
      ],
      "text/plain": [
       "   question_id  bundle_id  correct_answer  part           tags\n",
       "0            0          0               0     1  51 131 162 38\n",
       "1            1          1               1     1      131 36 81"
      ]
     },
     "execution_count": 14,
     "metadata": {},
     "output_type": "execute_result"
    }
   ],
   "source": [
    "question = pd.read_csv(\"/home/pocket/input/questions.csv\")\n",
    "question.head(2)"
   ]
  },
  {
   "cell_type": "code",
   "execution_count": 113,
   "metadata": {},
   "outputs": [
    {
     "name": "stdout",
     "output_type": "stream",
     "text": [
      "(13523,)\n",
      "(13523, 189)\n"
     ]
    }
   ],
   "source": [
    "df = question.copy()\n",
    "tags = df[\"tags\"].fillna(-1).str.split()\n",
    "print(tags.shape)\n",
    "tags = pd.get_dummies(tags.apply(pd.Series).fillna(-1).stack()).sum(level=0)\n",
    "print(tags.shape)"
   ]
  },
  {
   "cell_type": "code",
   "execution_count": 115,
   "metadata": {},
   "outputs": [],
   "source": [
    "tags.drop(columns=[-1], inplace=True)"
   ]
  },
  {
   "cell_type": "code",
   "execution_count": 116,
   "metadata": {},
   "outputs": [
    {
     "data": {
      "text/plain": [
       "(13523, 188)"
      ]
     },
     "execution_count": 116,
     "metadata": {},
     "output_type": "execute_result"
    }
   ],
   "source": [
    "tags.shape"
   ]
  },
  {
   "cell_type": "code",
   "execution_count": 117,
   "metadata": {},
   "outputs": [],
   "source": [
    "nmf = NMF(n_components=20).fit(tags.T)"
   ]
  },
  {
   "cell_type": "code",
   "execution_count": 118,
   "metadata": {},
   "outputs": [
    {
     "data": {
      "text/plain": [
       "(20, 13523)"
      ]
     },
     "execution_count": 118,
     "metadata": {},
     "output_type": "execute_result"
    }
   ],
   "source": [
    "nmf.components_.shape"
   ]
  },
  {
   "cell_type": "code",
   "execution_count": 119,
   "metadata": {},
   "outputs": [],
   "source": [
    "lda = LatentDirichletAllocation(n_components=20, max_iter=5,\n",
    "                                learning_method='online',\n",
    "                                learning_offset=50.,\n",
    "                                random_state=0)"
   ]
  },
  {
   "cell_type": "code",
   "execution_count": 120,
   "metadata": {},
   "outputs": [
    {
     "data": {
      "text/plain": [
       "LatentDirichletAllocation(learning_method='online', learning_offset=50.0,\n",
       "                          max_iter=5, n_components=20, random_state=0)"
      ]
     },
     "execution_count": 120,
     "metadata": {},
     "output_type": "execute_result"
    }
   ],
   "source": [
    "lda.fit(tags.T)"
   ]
  },
  {
   "cell_type": "code",
   "execution_count": 121,
   "metadata": {},
   "outputs": [],
   "source": [
    "lda_argmax = lda.components_.argmax(axis=0)"
   ]
  },
  {
   "cell_type": "code",
   "execution_count": 122,
   "metadata": {},
   "outputs": [],
   "source": [
    "kmeans = KMeans(n_clusters=20)\n",
    "raw_clusters = kmeans.fit_predict(tags)\n",
    "nmf_clusters = kmeans.fit_predict(nmf.components_.T)\n",
    "lda_clusters = kmeans.fit_predict(lda.components_.T)"
   ]
  },
  {
   "cell_type": "code",
   "execution_count": 123,
   "metadata": {},
   "outputs": [
    {
     "data": {
      "text/plain": [
       "array([ 1, 12, 18, ...,  9,  7, 11], dtype=int32)"
      ]
     },
     "execution_count": 123,
     "metadata": {},
     "output_type": "execute_result"
    }
   ],
   "source": [
    "raw_clusters.shape\n",
    "raw_clusters\n",
    "nmf_clusters\n",
    "lda_clusters"
   ]
  },
  {
   "cell_type": "code",
   "execution_count": 124,
   "metadata": {},
   "outputs": [],
   "source": [
    "output = pd.DataFrame({\n",
    "    \"contents_id\": df[\"question_id\"],\n",
    "    \"raw_clusters\": raw_clusters,\n",
    "    \"nmf_clusters\": nmf_clusters,\n",
    "    \"lda_clusters\": lda_clusters,\n",
    "    \"lda_argmax\": lda_argmax\n",
    "})"
   ]
  },
  {
   "cell_type": "code",
   "execution_count": 125,
   "metadata": {},
   "outputs": [
    {
     "data": {
      "text/html": [
       "<div>\n",
       "<style scoped>\n",
       "    .dataframe tbody tr th:only-of-type {\n",
       "        vertical-align: middle;\n",
       "    }\n",
       "\n",
       "    .dataframe tbody tr th {\n",
       "        vertical-align: top;\n",
       "    }\n",
       "\n",
       "    .dataframe thead th {\n",
       "        text-align: right;\n",
       "    }\n",
       "</style>\n",
       "<table border=\"1\" class=\"dataframe\">\n",
       "  <thead>\n",
       "    <tr style=\"text-align: right;\">\n",
       "      <th></th>\n",
       "      <th>contents_id</th>\n",
       "      <th>raw_clusters</th>\n",
       "      <th>nmf_clusters</th>\n",
       "      <th>lda_clusters</th>\n",
       "      <th>lda_argmax</th>\n",
       "    </tr>\n",
       "  </thead>\n",
       "  <tbody>\n",
       "    <tr>\n",
       "      <th>0</th>\n",
       "      <td>0</td>\n",
       "      <td>14</td>\n",
       "      <td>9</td>\n",
       "      <td>1</td>\n",
       "      <td>3</td>\n",
       "    </tr>\n",
       "    <tr>\n",
       "      <th>1</th>\n",
       "      <td>1</td>\n",
       "      <td>14</td>\n",
       "      <td>9</td>\n",
       "      <td>12</td>\n",
       "      <td>3</td>\n",
       "    </tr>\n",
       "    <tr>\n",
       "      <th>2</th>\n",
       "      <td>2</td>\n",
       "      <td>14</td>\n",
       "      <td>9</td>\n",
       "      <td>18</td>\n",
       "      <td>4</td>\n",
       "    </tr>\n",
       "    <tr>\n",
       "      <th>3</th>\n",
       "      <td>3</td>\n",
       "      <td>14</td>\n",
       "      <td>9</td>\n",
       "      <td>12</td>\n",
       "      <td>3</td>\n",
       "    </tr>\n",
       "    <tr>\n",
       "      <th>4</th>\n",
       "      <td>4</td>\n",
       "      <td>14</td>\n",
       "      <td>9</td>\n",
       "      <td>18</td>\n",
       "      <td>4</td>\n",
       "    </tr>\n",
       "    <tr>\n",
       "      <th>...</th>\n",
       "      <td>...</td>\n",
       "      <td>...</td>\n",
       "      <td>...</td>\n",
       "      <td>...</td>\n",
       "      <td>...</td>\n",
       "    </tr>\n",
       "    <tr>\n",
       "      <th>13518</th>\n",
       "      <td>13518</td>\n",
       "      <td>18</td>\n",
       "      <td>1</td>\n",
       "      <td>6</td>\n",
       "      <td>10</td>\n",
       "    </tr>\n",
       "    <tr>\n",
       "      <th>13519</th>\n",
       "      <td>13519</td>\n",
       "      <td>1</td>\n",
       "      <td>11</td>\n",
       "      <td>0</td>\n",
       "      <td>1</td>\n",
       "    </tr>\n",
       "    <tr>\n",
       "      <th>13520</th>\n",
       "      <td>13520</td>\n",
       "      <td>9</td>\n",
       "      <td>8</td>\n",
       "      <td>9</td>\n",
       "      <td>16</td>\n",
       "    </tr>\n",
       "    <tr>\n",
       "      <th>13521</th>\n",
       "      <td>13521</td>\n",
       "      <td>0</td>\n",
       "      <td>1</td>\n",
       "      <td>7</td>\n",
       "      <td>15</td>\n",
       "    </tr>\n",
       "    <tr>\n",
       "      <th>13522</th>\n",
       "      <td>13522</td>\n",
       "      <td>4</td>\n",
       "      <td>1</td>\n",
       "      <td>11</td>\n",
       "      <td>14</td>\n",
       "    </tr>\n",
       "  </tbody>\n",
       "</table>\n",
       "<p>13523 rows × 5 columns</p>\n",
       "</div>"
      ],
      "text/plain": [
       "       contents_id  raw_clusters  nmf_clusters  lda_clusters  lda_argmax\n",
       "0                0            14             9             1           3\n",
       "1                1            14             9            12           3\n",
       "2                2            14             9            18           4\n",
       "3                3            14             9            12           3\n",
       "4                4            14             9            18           4\n",
       "...            ...           ...           ...           ...         ...\n",
       "13518        13518            18             1             6          10\n",
       "13519        13519             1            11             0           1\n",
       "13520        13520             9             8             9          16\n",
       "13521        13521             0             1             7          15\n",
       "13522        13522             4             1            11          14\n",
       "\n",
       "[13523 rows x 5 columns]"
      ]
     },
     "execution_count": 125,
     "metadata": {},
     "output_type": "execute_result"
    }
   ],
   "source": [
    "output"
   ]
  },
  {
   "cell_type": "code",
   "execution_count": 127,
   "metadata": {},
   "outputs": [],
   "source": [
    "output.to_csv(\"./tag_cluster.csv\", index=False)"
   ]
  },
  {
   "cell_type": "code",
   "execution_count": null,
   "metadata": {},
   "outputs": [],
   "source": []
  },
  {
   "cell_type": "code",
   "execution_count": 2,
   "metadata": {},
   "outputs": [],
   "source": [
    "contents_w2v = np.load(\"./w2v_content_embedding.npy\")"
   ]
  },
  {
   "cell_type": "code",
   "execution_count": 3,
   "metadata": {},
   "outputs": [
    {
     "data": {
      "text/plain": [
       "(13523, 512)"
      ]
     },
     "execution_count": 3,
     "metadata": {},
     "output_type": "execute_result"
    }
   ],
   "source": [
    "contents_w2v = contents_w2v[1:]\n",
    "contents_w2v.shape"
   ]
  },
  {
   "cell_type": "code",
   "execution_count": 6,
   "metadata": {},
   "outputs": [],
   "source": [
    "svd = TruncatedSVD(n_components=20)\n",
    "content_vecs = svd.fit_transform(contents_w2v)"
   ]
  },
  {
   "cell_type": "code",
   "execution_count": 8,
   "metadata": {},
   "outputs": [],
   "source": [
    "content_vecs = pd.DataFrame(content_vecs)"
   ]
  },
  {
   "cell_type": "code",
   "execution_count": 9,
   "metadata": {},
   "outputs": [
    {
     "data": {
      "text/html": [
       "<div>\n",
       "<style scoped>\n",
       "    .dataframe tbody tr th:only-of-type {\n",
       "        vertical-align: middle;\n",
       "    }\n",
       "\n",
       "    .dataframe tbody tr th {\n",
       "        vertical-align: top;\n",
       "    }\n",
       "\n",
       "    .dataframe thead th {\n",
       "        text-align: right;\n",
       "    }\n",
       "</style>\n",
       "<table border=\"1\" class=\"dataframe\">\n",
       "  <thead>\n",
       "    <tr style=\"text-align: right;\">\n",
       "      <th></th>\n",
       "      <th>0</th>\n",
       "      <th>1</th>\n",
       "      <th>2</th>\n",
       "      <th>3</th>\n",
       "      <th>4</th>\n",
       "      <th>5</th>\n",
       "      <th>6</th>\n",
       "      <th>7</th>\n",
       "      <th>8</th>\n",
       "      <th>9</th>\n",
       "      <th>10</th>\n",
       "      <th>11</th>\n",
       "      <th>12</th>\n",
       "      <th>13</th>\n",
       "      <th>14</th>\n",
       "      <th>15</th>\n",
       "      <th>16</th>\n",
       "      <th>17</th>\n",
       "      <th>18</th>\n",
       "      <th>19</th>\n",
       "    </tr>\n",
       "  </thead>\n",
       "  <tbody>\n",
       "    <tr>\n",
       "      <th>0</th>\n",
       "      <td>3.161624</td>\n",
       "      <td>1.691552</td>\n",
       "      <td>2.205576</td>\n",
       "      <td>2.947486</td>\n",
       "      <td>-1.622994</td>\n",
       "      <td>-3.254926</td>\n",
       "      <td>2.167415</td>\n",
       "      <td>-3.629961</td>\n",
       "      <td>1.748464</td>\n",
       "      <td>0.509243</td>\n",
       "      <td>1.749342</td>\n",
       "      <td>0.932389</td>\n",
       "      <td>-1.625107</td>\n",
       "      <td>1.185443</td>\n",
       "      <td>2.061522</td>\n",
       "      <td>0.354314</td>\n",
       "      <td>3.440267</td>\n",
       "      <td>2.503750</td>\n",
       "      <td>-1.862160</td>\n",
       "      <td>0.427862</td>\n",
       "    </tr>\n",
       "    <tr>\n",
       "      <th>1</th>\n",
       "      <td>3.629113</td>\n",
       "      <td>2.045199</td>\n",
       "      <td>3.005470</td>\n",
       "      <td>2.878517</td>\n",
       "      <td>-1.094892</td>\n",
       "      <td>-3.275723</td>\n",
       "      <td>2.391864</td>\n",
       "      <td>-3.412076</td>\n",
       "      <td>1.372243</td>\n",
       "      <td>0.357086</td>\n",
       "      <td>0.842056</td>\n",
       "      <td>-0.447781</td>\n",
       "      <td>-2.061819</td>\n",
       "      <td>0.526491</td>\n",
       "      <td>1.626541</td>\n",
       "      <td>0.887823</td>\n",
       "      <td>3.848322</td>\n",
       "      <td>2.125844</td>\n",
       "      <td>-1.949963</td>\n",
       "      <td>-0.855733</td>\n",
       "    </tr>\n",
       "    <tr>\n",
       "      <th>2</th>\n",
       "      <td>3.958047</td>\n",
       "      <td>2.248505</td>\n",
       "      <td>-3.999284</td>\n",
       "      <td>6.128333</td>\n",
       "      <td>2.085880</td>\n",
       "      <td>-3.870665</td>\n",
       "      <td>6.805003</td>\n",
       "      <td>-2.929393</td>\n",
       "      <td>2.164355</td>\n",
       "      <td>2.322942</td>\n",
       "      <td>0.448248</td>\n",
       "      <td>1.937650</td>\n",
       "      <td>-0.786695</td>\n",
       "      <td>0.384824</td>\n",
       "      <td>1.688471</td>\n",
       "      <td>3.599606</td>\n",
       "      <td>0.094661</td>\n",
       "      <td>-2.696258</td>\n",
       "      <td>-1.061617</td>\n",
       "      <td>-0.006865</td>\n",
       "    </tr>\n",
       "    <tr>\n",
       "      <th>3</th>\n",
       "      <td>4.143218</td>\n",
       "      <td>1.069464</td>\n",
       "      <td>-0.950913</td>\n",
       "      <td>4.977015</td>\n",
       "      <td>1.725434</td>\n",
       "      <td>-2.830408</td>\n",
       "      <td>6.925851</td>\n",
       "      <td>-2.593976</td>\n",
       "      <td>2.223670</td>\n",
       "      <td>2.007153</td>\n",
       "      <td>-0.102928</td>\n",
       "      <td>0.593090</td>\n",
       "      <td>-0.475249</td>\n",
       "      <td>-0.148284</td>\n",
       "      <td>1.271681</td>\n",
       "      <td>1.336333</td>\n",
       "      <td>0.255513</td>\n",
       "      <td>-2.420286</td>\n",
       "      <td>-0.255309</td>\n",
       "      <td>-1.507089</td>\n",
       "    </tr>\n",
       "    <tr>\n",
       "      <th>4</th>\n",
       "      <td>4.780718</td>\n",
       "      <td>-0.597240</td>\n",
       "      <td>0.705930</td>\n",
       "      <td>3.132240</td>\n",
       "      <td>1.514180</td>\n",
       "      <td>-1.385974</td>\n",
       "      <td>4.085215</td>\n",
       "      <td>-0.771896</td>\n",
       "      <td>1.114255</td>\n",
       "      <td>0.468459</td>\n",
       "      <td>0.677376</td>\n",
       "      <td>-0.300456</td>\n",
       "      <td>1.272041</td>\n",
       "      <td>-0.049898</td>\n",
       "      <td>1.045809</td>\n",
       "      <td>0.435972</td>\n",
       "      <td>0.360007</td>\n",
       "      <td>-1.665184</td>\n",
       "      <td>-0.205277</td>\n",
       "      <td>-1.020311</td>\n",
       "    </tr>\n",
       "  </tbody>\n",
       "</table>\n",
       "</div>"
      ],
      "text/plain": [
       "         0         1         2         3         4         5         6   \\\n",
       "0  3.161624  1.691552  2.205576  2.947486 -1.622994 -3.254926  2.167415   \n",
       "1  3.629113  2.045199  3.005470  2.878517 -1.094892 -3.275723  2.391864   \n",
       "2  3.958047  2.248505 -3.999284  6.128333  2.085880 -3.870665  6.805003   \n",
       "3  4.143218  1.069464 -0.950913  4.977015  1.725434 -2.830408  6.925851   \n",
       "4  4.780718 -0.597240  0.705930  3.132240  1.514180 -1.385974  4.085215   \n",
       "\n",
       "         7         8         9         10        11        12        13  \\\n",
       "0 -3.629961  1.748464  0.509243  1.749342  0.932389 -1.625107  1.185443   \n",
       "1 -3.412076  1.372243  0.357086  0.842056 -0.447781 -2.061819  0.526491   \n",
       "2 -2.929393  2.164355  2.322942  0.448248  1.937650 -0.786695  0.384824   \n",
       "3 -2.593976  2.223670  2.007153 -0.102928  0.593090 -0.475249 -0.148284   \n",
       "4 -0.771896  1.114255  0.468459  0.677376 -0.300456  1.272041 -0.049898   \n",
       "\n",
       "         14        15        16        17        18        19  \n",
       "0  2.061522  0.354314  3.440267  2.503750 -1.862160  0.427862  \n",
       "1  1.626541  0.887823  3.848322  2.125844 -1.949963 -0.855733  \n",
       "2  1.688471  3.599606  0.094661 -2.696258 -1.061617 -0.006865  \n",
       "3  1.271681  1.336333  0.255513 -2.420286 -0.255309 -1.507089  \n",
       "4  1.045809  0.435972  0.360007 -1.665184 -0.205277 -1.020311  "
      ]
     },
     "execution_count": 9,
     "metadata": {},
     "output_type": "execute_result"
    }
   ],
   "source": [
    "content_vecs.head()"
   ]
  },
  {
   "cell_type": "code",
   "execution_count": 10,
   "metadata": {},
   "outputs": [],
   "source": [
    "content_vecs.reset_index(inplace=True)\n",
    "content_vecs.columns = [\"content_id\"] + [\"w2v_svd\"+str(i) for i in range(20)]"
   ]
  },
  {
   "cell_type": "code",
   "execution_count": 11,
   "metadata": {},
   "outputs": [
    {
     "data": {
      "text/html": [
       "<div>\n",
       "<style scoped>\n",
       "    .dataframe tbody tr th:only-of-type {\n",
       "        vertical-align: middle;\n",
       "    }\n",
       "\n",
       "    .dataframe tbody tr th {\n",
       "        vertical-align: top;\n",
       "    }\n",
       "\n",
       "    .dataframe thead th {\n",
       "        text-align: right;\n",
       "    }\n",
       "</style>\n",
       "<table border=\"1\" class=\"dataframe\">\n",
       "  <thead>\n",
       "    <tr style=\"text-align: right;\">\n",
       "      <th></th>\n",
       "      <th>content_id</th>\n",
       "      <th>w2v_svd0</th>\n",
       "      <th>w2v_svd1</th>\n",
       "      <th>w2v_svd2</th>\n",
       "      <th>w2v_svd3</th>\n",
       "      <th>w2v_svd4</th>\n",
       "      <th>w2v_svd5</th>\n",
       "      <th>w2v_svd6</th>\n",
       "      <th>w2v_svd7</th>\n",
       "      <th>w2v_svd8</th>\n",
       "      <th>...</th>\n",
       "      <th>w2v_svd10</th>\n",
       "      <th>w2v_svd11</th>\n",
       "      <th>w2v_svd12</th>\n",
       "      <th>w2v_svd13</th>\n",
       "      <th>w2v_svd14</th>\n",
       "      <th>w2v_svd15</th>\n",
       "      <th>w2v_svd16</th>\n",
       "      <th>w2v_svd17</th>\n",
       "      <th>w2v_svd18</th>\n",
       "      <th>w2v_svd19</th>\n",
       "    </tr>\n",
       "  </thead>\n",
       "  <tbody>\n",
       "    <tr>\n",
       "      <th>0</th>\n",
       "      <td>0</td>\n",
       "      <td>3.161624</td>\n",
       "      <td>1.691552</td>\n",
       "      <td>2.205576</td>\n",
       "      <td>2.947486</td>\n",
       "      <td>-1.622994</td>\n",
       "      <td>-3.254926</td>\n",
       "      <td>2.167415</td>\n",
       "      <td>-3.629961</td>\n",
       "      <td>1.748464</td>\n",
       "      <td>...</td>\n",
       "      <td>1.749342</td>\n",
       "      <td>0.932389</td>\n",
       "      <td>-1.625107</td>\n",
       "      <td>1.185443</td>\n",
       "      <td>2.061522</td>\n",
       "      <td>0.354314</td>\n",
       "      <td>3.440267</td>\n",
       "      <td>2.503750</td>\n",
       "      <td>-1.862160</td>\n",
       "      <td>0.427862</td>\n",
       "    </tr>\n",
       "    <tr>\n",
       "      <th>1</th>\n",
       "      <td>1</td>\n",
       "      <td>3.629113</td>\n",
       "      <td>2.045199</td>\n",
       "      <td>3.005470</td>\n",
       "      <td>2.878517</td>\n",
       "      <td>-1.094892</td>\n",
       "      <td>-3.275723</td>\n",
       "      <td>2.391864</td>\n",
       "      <td>-3.412076</td>\n",
       "      <td>1.372243</td>\n",
       "      <td>...</td>\n",
       "      <td>0.842056</td>\n",
       "      <td>-0.447781</td>\n",
       "      <td>-2.061819</td>\n",
       "      <td>0.526491</td>\n",
       "      <td>1.626541</td>\n",
       "      <td>0.887823</td>\n",
       "      <td>3.848322</td>\n",
       "      <td>2.125844</td>\n",
       "      <td>-1.949963</td>\n",
       "      <td>-0.855733</td>\n",
       "    </tr>\n",
       "  </tbody>\n",
       "</table>\n",
       "<p>2 rows × 21 columns</p>\n",
       "</div>"
      ],
      "text/plain": [
       "   content_id  w2v_svd0  w2v_svd1  w2v_svd2  w2v_svd3  w2v_svd4  w2v_svd5  \\\n",
       "0           0  3.161624  1.691552  2.205576  2.947486 -1.622994 -3.254926   \n",
       "1           1  3.629113  2.045199  3.005470  2.878517 -1.094892 -3.275723   \n",
       "\n",
       "   w2v_svd6  w2v_svd7  w2v_svd8  ...  w2v_svd10  w2v_svd11  w2v_svd12  \\\n",
       "0  2.167415 -3.629961  1.748464  ...   1.749342   0.932389  -1.625107   \n",
       "1  2.391864 -3.412076  1.372243  ...   0.842056  -0.447781  -2.061819   \n",
       "\n",
       "   w2v_svd13  w2v_svd14  w2v_svd15  w2v_svd16  w2v_svd17  w2v_svd18  w2v_svd19  \n",
       "0   1.185443   2.061522   0.354314   3.440267   2.503750  -1.862160   0.427862  \n",
       "1   0.526491   1.626541   0.887823   3.848322   2.125844  -1.949963  -0.855733  \n",
       "\n",
       "[2 rows x 21 columns]"
      ]
     },
     "execution_count": 11,
     "metadata": {},
     "output_type": "execute_result"
    }
   ],
   "source": [
    "content_vecs.head(2)"
   ]
  },
  {
   "cell_type": "code",
   "execution_count": 12,
   "metadata": {},
   "outputs": [],
   "source": [
    "content_vecs.to_csv(\"./content_w2v.csv\", index=False)"
   ]
  },
  {
   "cell_type": "code",
   "execution_count": null,
   "metadata": {},
   "outputs": [],
   "source": []
  },
  {
   "cell_type": "code",
   "execution_count": null,
   "metadata": {},
   "outputs": [],
   "source": []
  },
  {
   "cell_type": "code",
   "execution_count": 32,
   "metadata": {},
   "outputs": [],
   "source": [
    "embed = np.load(\"./content_embedding.npy\")"
   ]
  },
  {
   "cell_type": "code",
   "execution_count": 33,
   "metadata": {},
   "outputs": [
    {
     "data": {
      "text/plain": [
       "(13524, 128)"
      ]
     },
     "execution_count": 33,
     "metadata": {},
     "output_type": "execute_result"
    }
   ],
   "source": [
    "embed.shape"
   ]
  },
  {
   "cell_type": "code",
   "execution_count": 34,
   "metadata": {},
   "outputs": [
    {
     "data": {
      "text/plain": [
       "array([ 0.00348971,  0.01093413,  0.01815927, ..., -0.02049293,\n",
       "       -0.06177155,  0.09914625], dtype=float32)"
      ]
     },
     "execution_count": 34,
     "metadata": {},
     "output_type": "execute_result"
    }
   ],
   "source": [
    "embed[:, 0]"
   ]
  },
  {
   "cell_type": "code",
   "execution_count": 35,
   "metadata": {},
   "outputs": [
    {
     "data": {
      "text/plain": [
       "array([ 0.01093413,  0.01815927,  0.02203978, ..., -0.02049293,\n",
       "       -0.06177155,  0.09914625], dtype=float32)"
      ]
     },
     "execution_count": 35,
     "metadata": {},
     "output_type": "execute_result"
    }
   ],
   "source": [
    "embed[1:, 0]"
   ]
  },
  {
   "cell_type": "code",
   "execution_count": 36,
   "metadata": {},
   "outputs": [],
   "source": [
    "embed = embed[1:]"
   ]
  },
  {
   "cell_type": "code",
   "execution_count": 37,
   "metadata": {},
   "outputs": [],
   "source": [
    "svd = TruncatedSVD(n_components=20)\n",
    "content_vecs = svd.fit_transform(embed)"
   ]
  },
  {
   "cell_type": "code",
   "execution_count": 38,
   "metadata": {},
   "outputs": [
    {
     "data": {
      "text/plain": [
       "(13523, 20)"
      ]
     },
     "execution_count": 38,
     "metadata": {},
     "output_type": "execute_result"
    }
   ],
   "source": [
    "content_vecs.shape"
   ]
  },
  {
   "cell_type": "code",
   "execution_count": 39,
   "metadata": {},
   "outputs": [
    {
     "data": {
      "text/plain": [
       "array([[ 0.29857266,  0.0828594 ,  0.10337925, ..., -0.05289454,\n",
       "        -0.04786237,  0.01002183],\n",
       "       [ 0.29416677,  0.11227994, -0.04767716, ...,  0.05001845,\n",
       "        -0.05255706,  0.02543679],\n",
       "       [-0.22071125,  0.04720166,  0.08526865, ...,  0.00883699,\n",
       "         0.01770988,  0.03280997],\n",
       "       ...,\n",
       "       [-0.00494652, -0.05653199, -0.04470852, ..., -0.02753389,\n",
       "         0.03068023,  0.01990469],\n",
       "       [ 0.25516766, -0.11038473,  0.04874474, ..., -0.04982777,\n",
       "         0.06112582, -0.05504936],\n",
       "       [ 0.43774703,  0.11116546, -0.13141455, ..., -0.09800366,\n",
       "        -0.04020726,  0.04884924]], dtype=float32)"
      ]
     },
     "execution_count": 39,
     "metadata": {},
     "output_type": "execute_result"
    }
   ],
   "source": [
    "content_vecs"
   ]
  },
  {
   "cell_type": "code",
   "execution_count": 41,
   "metadata": {},
   "outputs": [],
   "source": [
    "content_vecs = pd.DataFrame(content_vecs)"
   ]
  },
  {
   "cell_type": "code",
   "execution_count": 42,
   "metadata": {},
   "outputs": [
    {
     "data": {
      "text/html": [
       "<div>\n",
       "<style scoped>\n",
       "    .dataframe tbody tr th:only-of-type {\n",
       "        vertical-align: middle;\n",
       "    }\n",
       "\n",
       "    .dataframe tbody tr th {\n",
       "        vertical-align: top;\n",
       "    }\n",
       "\n",
       "    .dataframe thead th {\n",
       "        text-align: right;\n",
       "    }\n",
       "</style>\n",
       "<table border=\"1\" class=\"dataframe\">\n",
       "  <thead>\n",
       "    <tr style=\"text-align: right;\">\n",
       "      <th></th>\n",
       "      <th>0</th>\n",
       "      <th>1</th>\n",
       "      <th>2</th>\n",
       "      <th>3</th>\n",
       "      <th>4</th>\n",
       "      <th>5</th>\n",
       "      <th>6</th>\n",
       "      <th>7</th>\n",
       "      <th>8</th>\n",
       "      <th>9</th>\n",
       "      <th>10</th>\n",
       "      <th>11</th>\n",
       "      <th>12</th>\n",
       "      <th>13</th>\n",
       "      <th>14</th>\n",
       "      <th>15</th>\n",
       "      <th>16</th>\n",
       "      <th>17</th>\n",
       "      <th>18</th>\n",
       "      <th>19</th>\n",
       "    </tr>\n",
       "  </thead>\n",
       "  <tbody>\n",
       "    <tr>\n",
       "      <th>0</th>\n",
       "      <td>0.298573</td>\n",
       "      <td>0.082859</td>\n",
       "      <td>0.103379</td>\n",
       "      <td>0.019431</td>\n",
       "      <td>-0.108116</td>\n",
       "      <td>0.069238</td>\n",
       "      <td>-0.122686</td>\n",
       "      <td>0.034020</td>\n",
       "      <td>0.106384</td>\n",
       "      <td>0.013467</td>\n",
       "      <td>0.049322</td>\n",
       "      <td>0.044373</td>\n",
       "      <td>-0.019987</td>\n",
       "      <td>-0.051152</td>\n",
       "      <td>0.002223</td>\n",
       "      <td>-0.027400</td>\n",
       "      <td>-0.045768</td>\n",
       "      <td>-0.052895</td>\n",
       "      <td>-0.047862</td>\n",
       "      <td>0.010022</td>\n",
       "    </tr>\n",
       "    <tr>\n",
       "      <th>1</th>\n",
       "      <td>0.294167</td>\n",
       "      <td>0.112280</td>\n",
       "      <td>-0.047677</td>\n",
       "      <td>0.030680</td>\n",
       "      <td>-0.053393</td>\n",
       "      <td>-0.071304</td>\n",
       "      <td>-0.158679</td>\n",
       "      <td>-0.008623</td>\n",
       "      <td>0.041525</td>\n",
       "      <td>0.016410</td>\n",
       "      <td>-0.005720</td>\n",
       "      <td>-0.040753</td>\n",
       "      <td>-0.010178</td>\n",
       "      <td>0.045152</td>\n",
       "      <td>0.017016</td>\n",
       "      <td>0.018646</td>\n",
       "      <td>-0.058797</td>\n",
       "      <td>0.050018</td>\n",
       "      <td>-0.052557</td>\n",
       "      <td>0.025437</td>\n",
       "    </tr>\n",
       "  </tbody>\n",
       "</table>\n",
       "</div>"
      ],
      "text/plain": [
       "         0         1         2         3         4         5         6   \\\n",
       "0  0.298573  0.082859  0.103379  0.019431 -0.108116  0.069238 -0.122686   \n",
       "1  0.294167  0.112280 -0.047677  0.030680 -0.053393 -0.071304 -0.158679   \n",
       "\n",
       "         7         8         9         10        11        12        13  \\\n",
       "0  0.034020  0.106384  0.013467  0.049322  0.044373 -0.019987 -0.051152   \n",
       "1 -0.008623  0.041525  0.016410 -0.005720 -0.040753 -0.010178  0.045152   \n",
       "\n",
       "         14        15        16        17        18        19  \n",
       "0  0.002223 -0.027400 -0.045768 -0.052895 -0.047862  0.010022  \n",
       "1  0.017016  0.018646 -0.058797  0.050018 -0.052557  0.025437  "
      ]
     },
     "execution_count": 42,
     "metadata": {},
     "output_type": "execute_result"
    }
   ],
   "source": [
    "content_vecs.head(2)"
   ]
  },
  {
   "cell_type": "code",
   "execution_count": 43,
   "metadata": {},
   "outputs": [],
   "source": [
    "content_vecs.reset_index(inplace=True)"
   ]
  },
  {
   "cell_type": "code",
   "execution_count": 44,
   "metadata": {},
   "outputs": [],
   "source": [
    "content_vecs.columns = [\"content_id\"] + [\"nn_svd\"+str(i) for i in range(20)]"
   ]
  },
  {
   "cell_type": "code",
   "execution_count": 45,
   "metadata": {},
   "outputs": [
    {
     "data": {
      "text/html": [
       "<div>\n",
       "<style scoped>\n",
       "    .dataframe tbody tr th:only-of-type {\n",
       "        vertical-align: middle;\n",
       "    }\n",
       "\n",
       "    .dataframe tbody tr th {\n",
       "        vertical-align: top;\n",
       "    }\n",
       "\n",
       "    .dataframe thead th {\n",
       "        text-align: right;\n",
       "    }\n",
       "</style>\n",
       "<table border=\"1\" class=\"dataframe\">\n",
       "  <thead>\n",
       "    <tr style=\"text-align: right;\">\n",
       "      <th></th>\n",
       "      <th>content_id</th>\n",
       "      <th>nn_svd0</th>\n",
       "      <th>nn_svd1</th>\n",
       "      <th>nn_svd2</th>\n",
       "      <th>nn_svd3</th>\n",
       "      <th>nn_svd4</th>\n",
       "      <th>nn_svd5</th>\n",
       "      <th>nn_svd6</th>\n",
       "      <th>nn_svd7</th>\n",
       "      <th>nn_svd8</th>\n",
       "      <th>...</th>\n",
       "      <th>nn_svd10</th>\n",
       "      <th>nn_svd11</th>\n",
       "      <th>nn_svd12</th>\n",
       "      <th>nn_svd13</th>\n",
       "      <th>nn_svd14</th>\n",
       "      <th>nn_svd15</th>\n",
       "      <th>nn_svd16</th>\n",
       "      <th>nn_svd17</th>\n",
       "      <th>nn_svd18</th>\n",
       "      <th>nn_svd19</th>\n",
       "    </tr>\n",
       "  </thead>\n",
       "  <tbody>\n",
       "    <tr>\n",
       "      <th>0</th>\n",
       "      <td>0</td>\n",
       "      <td>0.298573</td>\n",
       "      <td>0.082859</td>\n",
       "      <td>0.103379</td>\n",
       "      <td>0.019431</td>\n",
       "      <td>-0.108116</td>\n",
       "      <td>0.069238</td>\n",
       "      <td>-0.122686</td>\n",
       "      <td>0.034020</td>\n",
       "      <td>0.106384</td>\n",
       "      <td>...</td>\n",
       "      <td>0.049322</td>\n",
       "      <td>0.044373</td>\n",
       "      <td>-0.019987</td>\n",
       "      <td>-0.051152</td>\n",
       "      <td>0.002223</td>\n",
       "      <td>-0.027400</td>\n",
       "      <td>-0.045768</td>\n",
       "      <td>-0.052895</td>\n",
       "      <td>-0.047862</td>\n",
       "      <td>0.010022</td>\n",
       "    </tr>\n",
       "    <tr>\n",
       "      <th>1</th>\n",
       "      <td>1</td>\n",
       "      <td>0.294167</td>\n",
       "      <td>0.112280</td>\n",
       "      <td>-0.047677</td>\n",
       "      <td>0.030680</td>\n",
       "      <td>-0.053393</td>\n",
       "      <td>-0.071304</td>\n",
       "      <td>-0.158679</td>\n",
       "      <td>-0.008623</td>\n",
       "      <td>0.041525</td>\n",
       "      <td>...</td>\n",
       "      <td>-0.005720</td>\n",
       "      <td>-0.040753</td>\n",
       "      <td>-0.010178</td>\n",
       "      <td>0.045152</td>\n",
       "      <td>0.017016</td>\n",
       "      <td>0.018646</td>\n",
       "      <td>-0.058797</td>\n",
       "      <td>0.050018</td>\n",
       "      <td>-0.052557</td>\n",
       "      <td>0.025437</td>\n",
       "    </tr>\n",
       "  </tbody>\n",
       "</table>\n",
       "<p>2 rows × 21 columns</p>\n",
       "</div>"
      ],
      "text/plain": [
       "   content_id   nn_svd0   nn_svd1   nn_svd2   nn_svd3   nn_svd4   nn_svd5  \\\n",
       "0           0  0.298573  0.082859  0.103379  0.019431 -0.108116  0.069238   \n",
       "1           1  0.294167  0.112280 -0.047677  0.030680 -0.053393 -0.071304   \n",
       "\n",
       "    nn_svd6   nn_svd7   nn_svd8  ...  nn_svd10  nn_svd11  nn_svd12  nn_svd13  \\\n",
       "0 -0.122686  0.034020  0.106384  ...  0.049322  0.044373 -0.019987 -0.051152   \n",
       "1 -0.158679 -0.008623  0.041525  ... -0.005720 -0.040753 -0.010178  0.045152   \n",
       "\n",
       "   nn_svd14  nn_svd15  nn_svd16  nn_svd17  nn_svd18  nn_svd19  \n",
       "0  0.002223 -0.027400 -0.045768 -0.052895 -0.047862  0.010022  \n",
       "1  0.017016  0.018646 -0.058797  0.050018 -0.052557  0.025437  \n",
       "\n",
       "[2 rows x 21 columns]"
      ]
     },
     "execution_count": 45,
     "metadata": {},
     "output_type": "execute_result"
    }
   ],
   "source": [
    "content_vecs.head(2)"
   ]
  },
  {
   "cell_type": "code",
   "execution_count": 46,
   "metadata": {},
   "outputs": [],
   "source": [
    "kmeans = KMeans(n_clusters=35)\n",
    "content_clusters = kmeans.fit_predict(content_vecs)"
   ]
  },
  {
   "cell_type": "code",
   "execution_count": 47,
   "metadata": {},
   "outputs": [
    {
     "data": {
      "text/plain": [
       "(13523,)"
      ]
     },
     "execution_count": 47,
     "metadata": {},
     "output_type": "execute_result"
    }
   ],
   "source": [
    "content_clusters.shape"
   ]
  },
  {
   "cell_type": "code",
   "execution_count": 48,
   "metadata": {},
   "outputs": [],
   "source": [
    "content_vecs[\"nn_cluster\"] = content_clusters"
   ]
  },
  {
   "cell_type": "code",
   "execution_count": 49,
   "metadata": {},
   "outputs": [],
   "source": [
    "content_vecs.to_csv(\"./content_nn.csv\", index=False)"
   ]
  },
  {
   "cell_type": "code",
   "execution_count": null,
   "metadata": {},
   "outputs": [],
   "source": []
  }
 ],
 "metadata": {
  "kernelspec": {
   "display_name": "Python 3",
   "language": "python",
   "name": "python3"
  },
  "language_info": {
   "codemirror_mode": {
    "name": "ipython",
    "version": 3
   },
   "file_extension": ".py",
   "mimetype": "text/x-python",
   "name": "python",
   "nbconvert_exporter": "python",
   "pygments_lexer": "ipython3",
   "version": "3.7.9"
  }
 },
 "nbformat": 4,
 "nbformat_minor": 4
}
