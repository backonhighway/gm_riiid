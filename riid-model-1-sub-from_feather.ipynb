{
 "cells": [
  {
   "cell_type": "code",
   "execution_count": 1,
   "metadata": {},
   "outputs": [],
   "source": [
    "import json\n",
    "from collections import Counter, defaultdict\n",
    "import gc\n",
    "\n",
    "import numpy as np\n",
    "import pandas as pd\n",
    "import glob\n",
    "import time\n",
    "from tqdm import tqdm\n",
    "\n",
    "from sklearn import model_selection, metrics\n",
    "import matplotlib.pyplot as plt\n",
    "import seaborn as sn\n",
    "\n",
    "import lightgbm as lgb\n",
    "\n",
    "\n",
    "#import riiideducation"
   ]
  },
  {
   "cell_type": "code",
   "execution_count": 2,
   "metadata": {},
   "outputs": [],
   "source": [
    "import feather"
   ]
  },
  {
   "cell_type": "code",
   "execution_count": 5,
   "metadata": {},
   "outputs": [
    {
     "data": {
      "text/html": [
       "<div>\n",
       "<style scoped>\n",
       "    .dataframe tbody tr th:only-of-type {\n",
       "        vertical-align: middle;\n",
       "    }\n",
       "\n",
       "    .dataframe tbody tr th {\n",
       "        vertical-align: top;\n",
       "    }\n",
       "\n",
       "    .dataframe thead th {\n",
       "        text-align: right;\n",
       "    }\n",
       "</style>\n",
       "<table border=\"1\" class=\"dataframe\">\n",
       "  <thead>\n",
       "    <tr style=\"text-align: right;\">\n",
       "      <th></th>\n",
       "      <th>question_id</th>\n",
       "      <th>bundle_id</th>\n",
       "      <th>correct_answer</th>\n",
       "      <th>part</th>\n",
       "      <th>tags</th>\n",
       "    </tr>\n",
       "  </thead>\n",
       "  <tbody>\n",
       "    <tr>\n",
       "      <th>0</th>\n",
       "      <td>0</td>\n",
       "      <td>0</td>\n",
       "      <td>0</td>\n",
       "      <td>1</td>\n",
       "      <td>51 131 162 38</td>\n",
       "    </tr>\n",
       "    <tr>\n",
       "      <th>1</th>\n",
       "      <td>1</td>\n",
       "      <td>1</td>\n",
       "      <td>1</td>\n",
       "      <td>1</td>\n",
       "      <td>131 36 81</td>\n",
       "    </tr>\n",
       "  </tbody>\n",
       "</table>\n",
       "</div>"
      ],
      "text/plain": [
       "   question_id  bundle_id  correct_answer  part           tags\n",
       "0            0          0               0     1  51 131 162 38\n",
       "1            1          1               1     1      131 36 81"
      ]
     },
     "execution_count": 5,
     "metadata": {},
     "output_type": "execute_result"
    }
   ],
   "source": [
    "question = pd.read_csv(\"/home/pocket/input/questions.csv\")\n",
    "question.head(2)"
   ]
  },
  {
   "cell_type": "code",
   "execution_count": 6,
   "metadata": {},
   "outputs": [
    {
     "data": {
      "text/plain": [
       "<AxesSubplot:>"
      ]
     },
     "execution_count": 6,
     "metadata": {},
     "output_type": "execute_result"
    },
    {
     "data": {
      "image/png": "[encoded data removed]",
      "text/plain": [
       "<Figure size 432x288 with 1 Axes>"
      ]
     },
     "metadata": {
      "needs_background": "light"
     },
     "output_type": "display_data"
    }
   ],
   "source": [
    "question[\"tags\"].astype(str).apply(lambda x: len(x.split())).hist()"
   ]
  },
  {
   "cell_type": "code",
   "execution_count": 22,
   "metadata": {},
   "outputs": [],
   "source": [
    "train = pd.read_feather(\"./train_sorted.feather\")"
   ]
  },
  {
   "cell_type": "code",
   "execution_count": 23,
   "metadata": {},
   "outputs": [
    {
     "name": "stdout",
     "output_type": "stream",
     "text": [
      "Index(['row_id', 'timestamp', 'user_id', 'content_id', 'content_type_id',\n",
      "       'task_container_id', 'user_answer', 'answered_correctly',\n",
      "       'prior_question_elapsed_time', 'prior_question_had_explanation',\n",
      "       'max_time_stamp', 'rand_time_stamp', 'virtual_time_stamp'],\n",
      "      dtype='object')\n"
     ]
    }
   ],
   "source": [
    "print(train.columns)\n",
    "\n",
    "# no lectures for now\n",
    "train = train[train[\"answered_correctly\"] != -1]"
   ]
  },
  {
   "cell_type": "code",
   "execution_count": 24,
   "metadata": {},
   "outputs": [],
   "source": [
    "u_cnt = Counter()\n",
    "u_ac_cnt = Counter()\n",
    "u_prev_ts = {}\n",
    "uc_prev_ts = {}\n",
    "u_prev_ac = {}\n",
    "uc_prev_ac = {}\n",
    "u_prev_ua = {}\n",
    "u_prev_qm = {}\n",
    "u_ac_sum, u_qm_sum = Counter(), Counter()\n",
    "\n",
    "def init_values():\n",
    "    #u_cnt.clear()\n",
    "    #u_ac_cnt.clear()\n",
    "    u_prev_ts.clear()\n",
    "    #uc_prev_ts.clear()\n",
    "    u_prev_ac.clear()\n",
    "    #uc_prev_ac.clear()\n",
    "    u_prev_ua.clear()\n",
    "    u_prev_qm.clear()\n",
    "    #u_ac_sum.clear()\n",
    "    #u_qm_sum.clear()\n",
    "\n",
    "def update_ac_values(prev_rows, prev_acs, prev_uas):\n",
    "    #for i, row in enumerate(prev_df.values):\n",
    "    for i, row in enumerate(prev_rows):\n",
    "        update_ac_value(row, prev_acs[i], prev_uas[i])\n",
    "    \n",
    "def update_ac_value(row, prev_ac, prev_ua):\n",
    "    uid = row[2]\n",
    "    cid = row[3]\n",
    "    ucid = (uid, cid)\n",
    "    \n",
    "    u_ac_cnt[uid] += 1\n",
    "    u_ac_sum[uid] += prev_ac\n",
    "    u_prev_ac[uid] = prev_ac\n",
    "    uc_prev_ac[ucid] = prev_ac\n",
    "    u_prev_ua[uid] = prev_ua\n",
    "\n",
    "def make_row(row, data_list, is_train=True):\n",
    "    ts = row[1]\n",
    "    uid = row[2]\n",
    "    cid = row[3]\n",
    "    tcid = row[5]\n",
    "    if is_train:\n",
    "        et = row[8]\n",
    "        pqhe = row[9]\n",
    "    else:\n",
    "        et = row[6]\n",
    "        pqhe = row[7]\n",
    "    ucid = (uid, cid)\n",
    "    utcid = (uid, tcid)\n",
    "    contents = contents_dict[cid]\n",
    "    \n",
    "    output = {}\n",
    "    if is_train:\n",
    "        output[\"ac\"] = row[7]\n",
    "    output[\"ts\"] = ts\n",
    "    output[\"uid\"] = uid\n",
    "    output[\"cid\"] = cid\n",
    "    output[\"tcid\"] = tcid\n",
    "    output[\"et\"] = et\n",
    "    output[\"pqhe\"] = pqhe\n",
    "    content_col = [\n",
    "        \"q_ac_mean\", \"q_ac_cnt\", \"q_et_mean\", \"q_et_cnt\", \"q_et_std\", \"b_ac_mean\", \"b_ac_cnt\",\n",
    "    ]\n",
    "    for c in content_col:\n",
    "        output[c] = contents[c]\n",
    "    \n",
    "    output[\"u_td\"] = u_prev_ts.get(uid, np.nan) - ts\n",
    "    output[\"uc_td\"] = uc_prev_ts.get(ucid, np.nan) - ts\n",
    "    u_prev_ts[uid] = ts\n",
    "    uc_prev_ts[ucid] = ts\n",
    "    \n",
    "    output[\"u_prev_ac\"] = u_prev_ac.get(uid, np.nan)\n",
    "    output[\"uc_prev_ac\"] = uc_prev_ac.get(ucid, np.nan)\n",
    "    output[\"u_prev_qm\"] = u_prev_qm.get(uid, np.nan)\n",
    "    output[\"u_prev_ua\"] = u_prev_ua.get(uid, np.nan)\n",
    "    u_prev_qm[uid] = contents[\"q_ac_mean\"]\n",
    "    \n",
    "    u_cnt[uid] += 1\n",
    "    u_qm_sum[uid] += contents[\"q_ac_mean\"]\n",
    "    output[\"u_cnt\"] = u_cnt[uid]\n",
    "    output[\"u_ac_cnt\"] = u_ac_cnt[uid]\n",
    "    output[\"u_ac_mean\"] = (u_ac_sum[uid] / u_ac_cnt[uid]) if u_ac_cnt[uid] != 0 else np.nan\n",
    "    output[\"u_qm_mean\"] = u_qm_sum[uid] / u_cnt[uid]\n",
    "    \n",
    "    data_list.append(output)\n",
    "    return data_list\n"
   ]
  },
  {
   "cell_type": "code",
   "execution_count": 14,
   "metadata": {},
   "outputs": [
    {
     "name": "stdout",
     "output_type": "stream",
     "text": [
      "   question_id  bundle_id  q_ac_mean  q_ac_cnt     q_et_mean  q_et_cnt  \\\n",
      "0            0          0   0.904942    3703.0  21888.376953    3702.0   \n",
      "1            1          1   0.889641    3987.0  21801.617188    3987.0   \n",
      "\n",
      "       q_et_std  b_ac_mean  b_ac_cnt  \n",
      "0  11530.265963   0.904942    3703.0  \n",
      "1  10502.874817   0.889641    3987.0  \n",
      "(13523, 9)\n",
      "13523\n"
     ]
    }
   ],
   "source": [
    "# content_train = train[:50*1000*1000].copy()\n",
    "# train = train[50*1000*1000:]\n",
    "\n",
    "\n",
    "# q_col = [\"question_id\", \"bundle_id\"]\n",
    "# content_train = pd.merge(\n",
    "#     content_train, question[q_col], left_on=\"content_id\", right_on=\"question_id\", how=\"left\"\n",
    "# )\n",
    "\n",
    "# # contents features\n",
    "# # there are no new contents in the test, so we use part of the train as the pseudo-training set\n",
    "# temp = content_train.groupby(\"content_id\")[\"answered_correctly\"].agg([\"mean\", \"count\"])\n",
    "# temp.columns = [\"q_ac_mean\", \"q_ac_cnt\"]\n",
    "# temp2 = content_train.groupby(\"content_id\")[\"prior_question_elapsed_time\"].agg([\"mean\", \"count\", \"std\"])\n",
    "# temp2.columns = [\"q_et_mean\", \"q_et_cnt\", \"q_et_std\"]\n",
    "# # temp3 = content_train.groupby(\"content_id\")[\"timestamp_diff\"].agg([\"mean\", \"std\", \"min\", \"max\", \"skew\"])\n",
    "# # temp3.columns = [\"q_td_mean\", \"q_td_std\", \"q_td_min\", \"q_td_max\", \"q_td_skew\"]\n",
    "# temp4 = content_train.groupby(\"bundle_id\")[\"answered_correctly\"].agg([\"mean\", \"count\"])\n",
    "# temp4.columns = [\"b_ac_mean\", \"b_ac_cnt\"]\n",
    "# q_col = [\"question_id\", \"bundle_id\", \"part\"]\n",
    "# #q_col += [str(i) for i in range(188)]\n",
    "# contents = pd.merge(question[q_col], temp, left_on=\"question_id\", right_on=\"content_id\", how=\"left\")\n",
    "# contents = pd.merge(contents, temp2, left_on=\"question_id\", right_on=\"content_id\", how=\"left\")\n",
    "# #contents = pd.merge(contents, temp3, left_on=\"question_id\", right_on=\"content_id\", how=\"left\")\n",
    "# contents = pd.merge(contents, temp4, on=\"bundle_id\", how=\"left\")\n",
    "# print(contents.head(2))\n",
    "# print(contents.shape)\n",
    "# merge_col = [\n",
    "#     \"question_id\", \"q_ac_mean\", \"q_ac_cnt\", \"q_et_mean\",\n",
    "#     \"q_et_cnt\", \"q_et_std\", \"b_ac_mean\", \"b_ac_cnt\"\n",
    "# ]\n",
    "# contents = contents[merge_col]\n",
    "# contents = contents.set_index(\"question_id\")\n",
    "# contents_dict = contents.to_dict(\"index\")\n",
    "# print(len(contents_dict))"
   ]
  },
  {
   "cell_type": "code",
   "execution_count": 19,
   "metadata": {},
   "outputs": [
    {
     "name": "stdout",
     "output_type": "stream",
     "text": [
      "13523\n"
     ]
    }
   ],
   "source": [
    "# with open(\"./contents_dict.pkl\", \"wb\") as handle:\n",
    "#     pickle.dump(contents_dict, handle, protocol=pickle.HIGHEST_PROTOCOL)\n",
    "# print(len(contents_dict))"
   ]
  },
  {
   "cell_type": "code",
   "execution_count": 20,
   "metadata": {},
   "outputs": [
    {
     "name": "stdout",
     "output_type": "stream",
     "text": [
      "13523\n"
     ]
    }
   ],
   "source": [
    "import pickle\n",
    "with open(\"./contents_dict.pkl\", \"rb\") as handle:\n",
    "    contents_dict = pickle.load(handle)\n",
    "print(len(contents_dict))"
   ]
  },
  {
   "cell_type": "code",
   "execution_count": 25,
   "metadata": {},
   "outputs": [],
   "source": [
    "#content_train = train[:50*1000*1000].copy()\n",
    "train = train[50*1000*1000:]"
   ]
  },
  {
   "cell_type": "code",
   "execution_count": 26,
   "metadata": {},
   "outputs": [
    {
     "name": "stdout",
     "output_type": "stream",
     "text": [
      "49271300\n"
     ]
    }
   ],
   "source": [
    "print(len(train))"
   ]
  },
  {
   "cell_type": "code",
   "execution_count": 29,
   "metadata": {},
   "outputs": [],
   "source": [
    "class SingleLgb:\n",
    "    def __init__(self, seed=99, dry_run=False):\n",
    "        self.train_param = self.get_param()\n",
    "        if dry_run:\n",
    "            self.num_rounds = 100\n",
    "        else:\n",
    "            self.num_rounds = 1000\n",
    "\n",
    "    def do_train_direct(self, x_train, x_test, y_train, y_test):\n",
    "        lgb_train = lgb.Dataset(x_train, y_train)\n",
    "        lgb_eval = lgb.Dataset(x_test, y_test)\n",
    "\n",
    "        # print('Start training...')\n",
    "        model = lgb.train(self.train_param,\n",
    "                          lgb_train,\n",
    "                          valid_sets=[lgb_eval],\n",
    "                          verbose_eval=100,\n",
    "                          num_boost_round=self.num_rounds,\n",
    "                          early_stopping_rounds=100,\n",
    "                          #categorical_feature=[]\n",
    "                         )\n",
    "        # print('End training...')\n",
    "        return model\n",
    "\n",
    "    @staticmethod\n",
    "    def show_feature_importance(model, filename=None):\n",
    "        fi = pd.DataFrame({\n",
    "            \"name\": model.feature_name(),\n",
    "            \"importance_split\": model.feature_importance(importance_type=\"split\").astype(int),\n",
    "            \"importance_gain\": model.feature_importance(importance_type=\"gain\").astype(int),\n",
    "        })\n",
    "        fi = fi.sort_values(by=\"importance_gain\", ascending=False)\n",
    "        print(fi)\n",
    "        #with pd.option_context('display.max_rows', None, 'display.max_columns', None):  # more options can be specified also\n",
    "            #print(df)\n",
    "\n",
    "    @staticmethod\n",
    "    def get_param():\n",
    "        return {\n",
    "            'num_leaves': 31,\n",
    "            'min_data_in_leaf': 50,\n",
    "            'objective': 'binary',\n",
    "            'metric': 'auc',\n",
    "            #'metric': 'binary_logloss',\n",
    "            'max_depth': -1,\n",
    "            'learning_rate': 0.05,\n",
    "            \"boosting\": \"gbdt\",\n",
    "            \"feature_fraction\": 0.9,\n",
    "            \"verbosity\": -1,\n",
    "            \"random_state\": 81,\n",
    "        }\n",
    "    \n",
    "class SingleTrainer:\n",
    "    def __init__(self, pred_col, dry_run=False):\n",
    "        self.pred_col = pred_col\n",
    "        self.target_col = \"ac\"\n",
    "        self.dry_run = dry_run\n",
    "        self.val_size = 4*1000*1000\n",
    "\n",
    "    def train_model(self, df):\n",
    "        X = df[self.pred_col]\n",
    "        y = df[self.target_col]\n",
    "        \n",
    "        models, scores = list(), list()\n",
    "        for fold in range(4):\n",
    "            print(\"---------\")\n",
    "            print(\"fold=\", fold)\n",
    "            f, c = fold, self.val_size\n",
    "            val_s, val_e = -c-f*c, len(df)-f*c\n",
    "            train_idx = -c-f*c\n",
    "            X_train, X_val = X.iloc[:train_idx], X.iloc[val_s:val_e]\n",
    "            y_train, y_val = y.iloc[:train_idx], y.iloc[val_s:val_e]\n",
    "            print(X_train.shape, X_val.shape)\n",
    "            \n",
    "            lgbm = SingleLgb(seed=99, dry_run=self.dry_run)\n",
    "            model = lgbm.do_train_direct(X_train, X_val, y_train, y_val)\n",
    "            score = model.best_score[\"valid_0\"][\"auc\"]\n",
    "            pred = model.predict(X_val)\n",
    "            if fold == 0:\n",
    "                lgbm.show_feature_importance(model)\n",
    "            models.append(model)\n",
    "            scores.append(score)\n",
    "            break\n",
    "        return models, np.mean(scores)"
   ]
  },
  {
   "cell_type": "code",
   "execution_count": 28,
   "metadata": {},
   "outputs": [
    {
     "name": "stderr",
     "output_type": "stream",
     "text": [
      "100%|██████████| 49271300/49271300 [12:19<00:00, 66607.30it/s] \n"
     ]
    },
    {
     "name": "stdout",
     "output_type": "stream",
     "text": [
      "   ac           ts         uid   cid  tcid       et  pqhe  q_ac_mean  \\\n",
      "0   1  23758731186   392484238  5499  1995  20000.0  True   0.817723   \n",
      "1   1   1294359506  2041505565  8715   626  50000.0  True   0.669728   \n",
      "\n",
      "   q_ac_cnt     q_et_mean  ...  u_td  uc_td  u_prev_ac  uc_prev_ac  u_prev_qm  \\\n",
      "0    1388.0  25007.816406  ...   NaN    NaN        NaN         NaN        NaN   \n",
      "1    2831.0  25048.060547  ...   NaN    NaN        NaN         NaN        NaN   \n",
      "\n",
      "   u_prev_ua  u_cnt  u_ac_cnt  u_ac_mean  u_qm_mean  \n",
      "0        NaN      1         0        NaN   0.817723  \n",
      "1        NaN      1         0        NaN   0.669728  \n",
      "\n",
      "[2 rows x 24 columns]\n"
     ]
    }
   ],
   "source": [
    "train_data_list = list()\n",
    "utcid_set = set()\n",
    "prev_rows, prev_acs, prev_uas = list(), list(), list()\n",
    "init_values()\n",
    "\n",
    "not_updated_idx = 0\n",
    "for i, row in enumerate(tqdm(train.values)):\n",
    "    uid = row[2]\n",
    "    tcid = row[5]\n",
    "    utcid = (uid, tcid)\n",
    "    if utcid not in utcid_set:\n",
    "        if len(prev_rows) > 0:\n",
    "            #prev_df2 = train.iloc[not_updated_idx:i] iloc too slow lol\n",
    "            update_ac_values(prev_rows, prev_acs, prev_uas)\n",
    "            prev_rows.clear()\n",
    "            prev_acs.clear()\n",
    "            prev_uas.clear()\n",
    "            utcid_set.clear()\n",
    "            not_updated_idx = i\n",
    "    prev_rows.append(row)\n",
    "    prev_acs.append(row[7])\n",
    "    prev_uas.append(row[6])\n",
    "    utcid_set.add(utcid)\n",
    "    if i % 3*1000*1000 == 0:\n",
    "        init_values()\n",
    "        \n",
    "    make_row(row, train_data_list, True)\n",
    "        \n",
    "    \n",
    "df = pd.DataFrame(train_data_list)\n",
    "print(df.head(2))\n",
    "#print(df.info())"
   ]
  },
  {
   "cell_type": "code",
   "execution_count": 30,
   "metadata": {},
   "outputs": [
    {
     "name": "stdout",
     "output_type": "stream",
     "text": [
      "hi\n"
     ]
    }
   ],
   "source": [
    "print(\"hi\")"
   ]
  },
  {
   "cell_type": "code",
   "execution_count": 31,
   "metadata": {},
   "outputs": [],
   "source": [
    "# %%timeit\n",
    "# df = pd.DataFrame(data_list)\n",
    "# 24.7 s ± 205 ms per loop (mean ± std. dev. of 7 runs, 1 loop each)"
   ]
  },
  {
   "cell_type": "code",
   "execution_count": 21,
   "metadata": {},
   "outputs": [
    {
     "data": {
      "text/plain": [
       "Index(['ac', 'ts', 'uid', 'cid', 'tcid', 'et', 'pqhe', 'q_ac_mean', 'q_ac_cnt',\n",
       "       'q_et_mean', 'q_et_cnt', 'q_et_std', 'b_ac_mean', 'b_ac_cnt', 'u_td',\n",
       "       'uc_td', 'u_prev_ac', 'uc_prev_ac', 'u_prev_qm', 'u_prev_ua', 'u_cnt',\n",
       "       'u_ac_cnt', 'u_ac_mean', 'u_qm_mean'],\n",
       "      dtype='object')"
      ]
     },
     "execution_count": 21,
     "metadata": {},
     "output_type": "execute_result"
    }
   ],
   "source": [
    "df.columns"
   ]
  },
  {
   "cell_type": "code",
   "execution_count": 36,
   "metadata": {},
   "outputs": [
    {
     "name": "stdout",
     "output_type": "stream",
     "text": [
      "['ts', 'q_ac_mean', 'q_ac_cnt', 'q_et_mean', 'q_et_cnt', 'q_et_std', 'b_ac_mean', 'b_ac_cnt', 'u_td', 'uc_td', 'u_prev_qm', 'u_cnt', 'u_qm_mean', 'u_et_mean', 'u_ac_mean', 'et']\n"
     ]
    }
   ],
   "source": [
    "pred_col = ['ts',  'q_ac_mean', 'q_ac_cnt',\n",
    "    'q_et_mean', 'q_et_cnt', 'q_et_std', 'b_ac_mean', 'b_ac_cnt', 'u_td',\n",
    "       'uc_td','u_prev_qm', 'u_cnt',\n",
    "       'u_qm_mean', 'u_et_mean', 'u_ac_mean', \n",
    "            \"et\", \n",
    "           # 'uid', 'cid', 'tcid', 'et',\n",
    "            #'pqhe', \n",
    "             #'u_prev_ac', 'uc_prev_ac', 'u_prev_ua', \n",
    "]\n",
    "print(pred_col)\n",
    "pred_col = [\n",
    "    \"ts\", \"et\", \"q_ac_mean\", \"q_ac_cnt\", 'q_et_mean', 'q_et_cnt', 'q_et_std', 'b_ac_mean', 'b_ac_cnt',\n",
    "    \"u_ac_mean\", \"u_cnt\", \"u_qm_mean\", \"u_td\", #\"uc_td\",\n",
    "    \"u_ac_cnt\", #\"u_et_cnt\"\n",
    "    #\"u_et_mean\", \"u_prev_qm\", \"u_ac_cnt\" small gain\n",
    "]"
   ]
  },
  {
   "cell_type": "code",
   "execution_count": 37,
   "metadata": {},
   "outputs": [
    {
     "data": {
      "text/html": [
       "<div>\n",
       "<style scoped>\n",
       "    .dataframe tbody tr th:only-of-type {\n",
       "        vertical-align: middle;\n",
       "    }\n",
       "\n",
       "    .dataframe tbody tr th {\n",
       "        vertical-align: top;\n",
       "    }\n",
       "\n",
       "    .dataframe thead th {\n",
       "        text-align: right;\n",
       "    }\n",
       "</style>\n",
       "<table border=\"1\" class=\"dataframe\">\n",
       "  <thead>\n",
       "    <tr style=\"text-align: right;\">\n",
       "      <th></th>\n",
       "      <th>ts</th>\n",
       "      <th>et</th>\n",
       "      <th>q_ac_mean</th>\n",
       "      <th>q_ac_cnt</th>\n",
       "      <th>q_et_mean</th>\n",
       "      <th>q_et_cnt</th>\n",
       "      <th>q_et_std</th>\n",
       "      <th>b_ac_mean</th>\n",
       "      <th>b_ac_cnt</th>\n",
       "      <th>u_ac_mean</th>\n",
       "      <th>u_cnt</th>\n",
       "      <th>u_qm_mean</th>\n",
       "      <th>u_td</th>\n",
       "      <th>u_ac_cnt</th>\n",
       "    </tr>\n",
       "  </thead>\n",
       "  <tbody>\n",
       "    <tr>\n",
       "      <th>count</th>\n",
       "      <td>4.927130e+07</td>\n",
       "      <td>4.908798e+07</td>\n",
       "      <td>4.927129e+07</td>\n",
       "      <td>4.927129e+07</td>\n",
       "      <td>4.927129e+07</td>\n",
       "      <td>4.927129e+07</td>\n",
       "      <td>4.927129e+07</td>\n",
       "      <td>4.927129e+07</td>\n",
       "      <td>4.927129e+07</td>\n",
       "      <td>4.904416e+07</td>\n",
       "      <td>4.927130e+07</td>\n",
       "      <td>4.926600e+07</td>\n",
       "      <td>7.725199e+06</td>\n",
       "      <td>4.927130e+07</td>\n",
       "    </tr>\n",
       "    <tr>\n",
       "      <th>mean</th>\n",
       "      <td>1.016223e+10</td>\n",
       "      <td>2.545773e+04</td>\n",
       "      <td>6.559170e-01</td>\n",
       "      <td>1.266337e+04</td>\n",
       "      <td>2.558852e+04</td>\n",
       "      <td>1.251167e+04</td>\n",
       "      <td>1.822441e+04</td>\n",
       "      <td>6.559170e-01</td>\n",
       "      <td>2.283060e+04</td>\n",
       "      <td>6.461861e-01</td>\n",
       "      <td>1.056951e+03</td>\n",
       "      <td>6.520151e-01</td>\n",
       "      <td>-1.994599e+01</td>\n",
       "      <td>1.055528e+03</td>\n",
       "    </tr>\n",
       "    <tr>\n",
       "      <th>std</th>\n",
       "      <td>1.433762e+10</td>\n",
       "      <td>1.984836e+04</td>\n",
       "      <td>1.744216e-01</td>\n",
       "      <td>1.991321e+04</td>\n",
       "      <td>6.643313e+03</td>\n",
       "      <td>1.959918e+04</td>\n",
       "      <td>5.738546e+03</td>\n",
       "      <td>1.526838e-01</td>\n",
       "      <td>4.898042e+04</td>\n",
       "      <td>1.326957e-01</td>\n",
       "      <td>1.641493e+03</td>\n",
       "      <td>7.141951e-02</td>\n",
       "      <td>6.714332e+02</td>\n",
       "      <td>1.641430e+03</td>\n",
       "    </tr>\n",
       "    <tr>\n",
       "      <th>min</th>\n",
       "      <td>0.000000e+00</td>\n",
       "      <td>0.000000e+00</td>\n",
       "      <td>9.192364e-02</td>\n",
       "      <td>3.000000e+00</td>\n",
       "      <td>1.166667e+04</td>\n",
       "      <td>3.000000e+00</td>\n",
       "      <td>2.645751e+03</td>\n",
       "      <td>1.490168e-01</td>\n",
       "      <td>3.000000e+00</td>\n",
       "      <td>0.000000e+00</td>\n",
       "      <td>1.000000e+00</td>\n",
       "      <td>1.355019e-01</td>\n",
       "      <td>-1.654850e+05</td>\n",
       "      <td>0.000000e+00</td>\n",
       "    </tr>\n",
       "    <tr>\n",
       "      <th>25%</th>\n",
       "      <td>6.268123e+08</td>\n",
       "      <td>1.600000e+04</td>\n",
       "      <td>5.452756e-01</td>\n",
       "      <td>2.988000e+03</td>\n",
       "      <td>2.268620e+04</td>\n",
       "      <td>2.981000e+03</td>\n",
       "      <td>1.281271e+04</td>\n",
       "      <td>5.626595e-01</td>\n",
       "      <td>4.685000e+03</td>\n",
       "      <td>5.837321e-01</td>\n",
       "      <td>1.100000e+02</td>\n",
       "      <td>6.196921e-01</td>\n",
       "      <td>0.000000e+00</td>\n",
       "      <td>1.080000e+02</td>\n",
       "    </tr>\n",
       "    <tr>\n",
       "      <th>50%</th>\n",
       "      <td>3.378293e+09</td>\n",
       "      <td>2.100000e+04</td>\n",
       "      <td>6.748187e-01</td>\n",
       "      <td>6.093000e+03</td>\n",
       "      <td>2.494064e+04</td>\n",
       "      <td>6.073000e+03</td>\n",
       "      <td>2.009622e+04</td>\n",
       "      <td>6.725155e-01</td>\n",
       "      <td>9.458000e+03</td>\n",
       "      <td>6.666667e-01</td>\n",
       "      <td>4.290000e+02</td>\n",
       "      <td>6.629988e-01</td>\n",
       "      <td>0.000000e+00</td>\n",
       "      <td>4.270000e+02</td>\n",
       "    </tr>\n",
       "    <tr>\n",
       "      <th>75%</th>\n",
       "      <td>1.433534e+10</td>\n",
       "      <td>2.966700e+04</td>\n",
       "      <td>7.868281e-01</td>\n",
       "      <td>1.232200e+04</td>\n",
       "      <td>2.590223e+04</td>\n",
       "      <td>1.230900e+04</td>\n",
       "      <td>2.227811e+04</td>\n",
       "      <td>7.629688e-01</td>\n",
       "      <td>1.884900e+04</td>\n",
       "      <td>7.305159e-01</td>\n",
       "      <td>1.275000e+03</td>\n",
       "      <td>6.972480e-01</td>\n",
       "      <td>0.000000e+00</td>\n",
       "      <td>1.273000e+03</td>\n",
       "    </tr>\n",
       "    <tr>\n",
       "      <th>max</th>\n",
       "      <td>8.742577e+10</td>\n",
       "      <td>3.000000e+05</td>\n",
       "      <td>1.000000e+00</td>\n",
       "      <td>1.141000e+05</td>\n",
       "      <td>6.451883e+04</td>\n",
       "      <td>1.140490e+05</td>\n",
       "      <td>7.976424e+04</td>\n",
       "      <td>1.000000e+00</td>\n",
       "      <td>3.416380e+05</td>\n",
       "      <td>1.000000e+00</td>\n",
       "      <td>1.760900e+04</td>\n",
       "      <td>1.000000e+00</td>\n",
       "      <td>0.000000e+00</td>\n",
       "      <td>1.760800e+04</td>\n",
       "    </tr>\n",
       "  </tbody>\n",
       "</table>\n",
       "</div>"
      ],
      "text/plain": [
       "                 ts            et     q_ac_mean      q_ac_cnt     q_et_mean  \\\n",
       "count  4.927130e+07  4.908798e+07  4.927129e+07  4.927129e+07  4.927129e+07   \n",
       "mean   1.016223e+10  2.545773e+04  6.559170e-01  1.266337e+04  2.558852e+04   \n",
       "std    1.433762e+10  1.984836e+04  1.744216e-01  1.991321e+04  6.643313e+03   \n",
       "min    0.000000e+00  0.000000e+00  9.192364e-02  3.000000e+00  1.166667e+04   \n",
       "25%    6.268123e+08  1.600000e+04  5.452756e-01  2.988000e+03  2.268620e+04   \n",
       "50%    3.378293e+09  2.100000e+04  6.748187e-01  6.093000e+03  2.494064e+04   \n",
       "75%    1.433534e+10  2.966700e+04  7.868281e-01  1.232200e+04  2.590223e+04   \n",
       "max    8.742577e+10  3.000000e+05  1.000000e+00  1.141000e+05  6.451883e+04   \n",
       "\n",
       "           q_et_cnt      q_et_std     b_ac_mean      b_ac_cnt     u_ac_mean  \\\n",
       "count  4.927129e+07  4.927129e+07  4.927129e+07  4.927129e+07  4.904416e+07   \n",
       "mean   1.251167e+04  1.822441e+04  6.559170e-01  2.283060e+04  6.461861e-01   \n",
       "std    1.959918e+04  5.738546e+03  1.526838e-01  4.898042e+04  1.326957e-01   \n",
       "min    3.000000e+00  2.645751e+03  1.490168e-01  3.000000e+00  0.000000e+00   \n",
       "25%    2.981000e+03  1.281271e+04  5.626595e-01  4.685000e+03  5.837321e-01   \n",
       "50%    6.073000e+03  2.009622e+04  6.725155e-01  9.458000e+03  6.666667e-01   \n",
       "75%    1.230900e+04  2.227811e+04  7.629688e-01  1.884900e+04  7.305159e-01   \n",
       "max    1.140490e+05  7.976424e+04  1.000000e+00  3.416380e+05  1.000000e+00   \n",
       "\n",
       "              u_cnt     u_qm_mean          u_td      u_ac_cnt  \n",
       "count  4.927130e+07  4.926600e+07  7.725199e+06  4.927130e+07  \n",
       "mean   1.056951e+03  6.520151e-01 -1.994599e+01  1.055528e+03  \n",
       "std    1.641493e+03  7.141951e-02  6.714332e+02  1.641430e+03  \n",
       "min    1.000000e+00  1.355019e-01 -1.654850e+05  0.000000e+00  \n",
       "25%    1.100000e+02  6.196921e-01  0.000000e+00  1.080000e+02  \n",
       "50%    4.290000e+02  6.629988e-01  0.000000e+00  4.270000e+02  \n",
       "75%    1.275000e+03  6.972480e-01  0.000000e+00  1.273000e+03  \n",
       "max    1.760900e+04  1.000000e+00  0.000000e+00  1.760800e+04  "
      ]
     },
     "execution_count": 37,
     "metadata": {},
     "output_type": "execute_result"
    }
   ],
   "source": [
    "df[pred_col].describe()"
   ]
  },
  {
   "cell_type": "code",
   "execution_count": 38,
   "metadata": {},
   "outputs": [
    {
     "name": "stdout",
     "output_type": "stream",
     "text": [
      "---------\n",
      "fold= 0\n",
      "(45271300, 14) (4000000, 14)\n",
      "Training until validation scores don't improve for 100 rounds\n",
      "[100]\tvalid_0's auc: 0.761757\n",
      "[200]\tvalid_0's auc: 0.763338\n",
      "[300]\tvalid_0's auc: 0.763891\n",
      "[400]\tvalid_0's auc: 0.764206\n",
      "[500]\tvalid_0's auc: 0.764433\n",
      "[600]\tvalid_0's auc: 0.764602\n",
      "[700]\tvalid_0's auc: 0.764753\n",
      "[800]\tvalid_0's auc: 0.764918\n",
      "[900]\tvalid_0's auc: 0.765032\n",
      "[1000]\tvalid_0's auc: 0.765165\n",
      "Did not meet early stopping. Best iteration is:\n",
      "[1000]\tvalid_0's auc: 0.765165\n",
      "         name  importance_split  importance_gain\n",
      "2   q_ac_mean              3629         63876049\n",
      "9   u_ac_mean              3809         18821087\n",
      "11  u_qm_mean              3039          5283471\n",
      "7   b_ac_mean              1823          2309975\n",
      "1          et              2258          1358695\n",
      "10      u_cnt              1512           756555\n",
      "13   u_ac_cnt              1447           628734\n",
      "4   q_et_mean              3247           546026\n",
      "3    q_ac_cnt              2190           391356\n",
      "8    b_ac_cnt              1745           372633\n",
      "5    q_et_cnt              1125           244111\n",
      "6    q_et_std              2471           230539\n",
      "0          ts              1556           129431\n",
      "12       u_td               149            24526\n"
     ]
    }
   ],
   "source": [
    "#temp_df = df[1*1000*1000:].copy()\n",
    "temp_df = df.copy()\n",
    "trainer = SingleTrainer(pred_col, dry_run=False)\n",
    "models, score = trainer.train_model(temp_df)"
   ]
  },
  {
   "cell_type": "code",
   "execution_count": 39,
   "metadata": {},
   "outputs": [],
   "source": [
    "#standard way\n",
    "#[1000]\tvalid_0's auc: 0.782993\n",
    "\n",
    "#periodic initialization\n",
    "#0.730-2\n",
    "\n",
    "#with u_ac_mean\n",
    "#0.762\n",
    "\n",
    "#with uc_td\n",
    "#has 0.776ish\n",
    "\n",
    "#with U_et_cnt(reset-cnt)\n",
    "#same\n",
    "\n",
    "#with uc_ac_prev\n",
    "#0.777ish\n",
    "\n",
    "#without\n",
    "#[1000]\tvalid_0's auc: 0.765165"
   ]
  },
  {
   "cell_type": "code",
   "execution_count": 24,
   "metadata": {},
   "outputs": [],
   "source": [
    "import pickle"
   ]
  },
  {
   "cell_type": "code",
   "execution_count": 40,
   "metadata": {},
   "outputs": [],
   "source": [
    "data_tuple = (u_cnt, u_qm_sum, u_ac_cnt, u_ac_sum)#, uc_prev_ts, uc_prev_ac)\n",
    "with open(\"./data_tuple.pkl\", \"wb\") as handle:\n",
    "    pickle.dump(data_tuple, handle, pickle.HIGHEST_PROTOCOL)"
   ]
  },
  {
   "cell_type": "code",
   "execution_count": 44,
   "metadata": {},
   "outputs": [],
   "source": [
    "with open(\"./uc_prev_ac.pkl\", \"wb\") as handle:\n",
    "    pickle.dump(uc_prev_ac, handle, pickle.HIGHEST_PROTOCOL)"
   ]
  },
  {
   "cell_type": "code",
   "execution_count": 41,
   "metadata": {},
   "outputs": [
    {
     "name": "stdout",
     "output_type": "stream",
     "text": [
      "Copying file://./data_tuple.pkl [Content-Type=application/octet-stream]...\n",
      "- [1 files][  7.3 MiB/  7.3 MiB]                                                \n",
      "Operation completed over 1 objects/7.3 MiB.                                      \n"
     ]
    }
   ],
   "source": [
    "!gsutil cp ./data_tuple.pkl gs://dena-ai-training-24-gcp/riiid/data_tuple.pkl"
   ]
  },
  {
   "cell_type": "code",
   "execution_count": 42,
   "metadata": {},
   "outputs": [
    {
     "data": {
      "text/plain": [
       "<lightgbm.basic.Booster at 0x7fbd84561c10>"
      ]
     },
     "execution_count": 42,
     "metadata": {},
     "output_type": "execute_result"
    }
   ],
   "source": [
    "models[0].save_model(\"./model.lgb\")"
   ]
  },
  {
   "cell_type": "code",
   "execution_count": null,
   "metadata": {},
   "outputs": [],
   "source": []
  },
  {
   "cell_type": "code",
   "execution_count": null,
   "metadata": {},
   "outputs": [
    {
     "name": "stdout",
     "output_type": "stream",
     "text": [
      "  adding: ../imported/ (stored 0%)\n",
      "  adding: ../imported/riid-model-1-sub-2e22c046-1dd5-465b-acab-86bce5acc113-Copy1.ipynb (deflated 71%)\n",
      "  adding: ../imported/contents_dict_50m_seed3.pkl (deflated 62%)\n",
      "  adding: ../imported/riid-model-1-sub-2e22c046-1dd5-465b-acab-86bce5acc113.ipynb (deflated 74%)\n",
      "  adding: ../imported/data_tuple.pkl (deflated 55%)\n",
      "  adding: ../imported/train.feather"
     ]
    }
   ],
   "source": [
    "!zip -r /home/imported.zip ../imported"
   ]
  },
  {
   "cell_type": "code",
   "execution_count": null,
   "metadata": {},
   "outputs": [],
   "source": [
    "!gsutil cp /home/imported.zip gs://dena-ai-training-24-gcp/riiid/imported.zip"
   ]
  },
  {
   "cell_type": "code",
   "execution_count": null,
   "metadata": {},
   "outputs": [],
   "source": [
    "def make_pred_df(df):\n",
    "    pred_data_list = list()\n",
    "    for i, row in enumerate(df.values):\n",
    "        make_row(row, pred_data_list, False)\n",
    "    pred_df = pd.DataFrame(pred_data_list)\n",
    "    return pred_df"
   ]
  },
  {
   "cell_type": "code",
   "execution_count": null,
   "metadata": {},
   "outputs": [],
   "source": [
    "env = riiideducation.make_env()\n",
    "is_train = False\n",
    "init_values()"
   ]
  },
  {
   "cell_type": "code",
   "execution_count": null,
   "metadata": {},
   "outputs": [],
   "source": [
    "prev_df = None\n",
    "for (test_df, sample_prediction_df) in env.iter_test():\n",
    "    #show_col = [\"row_id\", \"user_id\", \"content_type_id\", \"prior_group_answers_correct\", \"prior_group_responses\"]\n",
    "    #print(test_df.head(2))\n",
    "    #print(sample_prediction_df.head(2))\n",
    "    prev_ac = eval(test_df.iloc[0][\"prior_group_answers_correct\"])\n",
    "    prev_ua = eval(test_df.iloc[0][\"prior_group_responses\"])\n",
    "    use_df = test_df[test_df['content_type_id'] == 0]\n",
    "    #print(\"--------------------\")\n",
    "    \n",
    "    if len(prev_ac) > 0:\n",
    "        update_ac_values(prev_df.values, prev_ac, prev_ua)\n",
    "    pred_df = make_pred_df(use_df)\n",
    "    #print(pred_df.head(2))\n",
    "    pred = models[0].predict(pred_df[pred_col])\n",
    "    prev_df = use_df\n",
    "    \n",
    "    sub_df = use_df[[\"row_id\"]].copy()\n",
    "    sub_df[\"answered_correctly\"] = pred\n",
    "    env.predict(sub_df)\n",
    "    #test_df['answered_correctly'] = 0.5\n",
    "    #env.predict(test_df.loc[test_df['content_type_id'] == 0, ['row_id', 'answered_correctly']])\n",
    "\n",
    "\n",
    "#print(pred_df.columns)\n"
   ]
  },
  {
   "cell_type": "code",
   "execution_count": null,
   "metadata": {},
   "outputs": [],
   "source": []
  }
 ],
 "metadata": {
  "kernelspec": {
   "display_name": "Python 3",
   "language": "python",
   "name": "python3"
  },
  "language_info": {
   "codemirror_mode": {
    "name": "ipython",
    "version": 3
   },
   "file_extension": ".py",
   "mimetype": "text/x-python",
   "name": "python",
   "nbconvert_exporter": "python",
   "pygments_lexer": "ipython3",
   "version": "3.7.9"
  }
 },
 "nbformat": 4,
 "nbformat_minor": 4
}
