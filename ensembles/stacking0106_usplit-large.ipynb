{
 "cells": [
  {
   "cell_type": "code",
   "execution_count": 40,
   "metadata": {},
   "outputs": [],
   "source": [
    "import json\n",
    "from collections import Counter, defaultdict, deque\n",
    "import gc\n",
    "\n",
    "import numpy as np\n",
    "import pandas as pd\n",
    "import glob\n",
    "import time\n",
    "from tqdm import tqdm\n",
    "\n",
    "from sklearn import model_selection, metrics\n",
    "from sklearn.cluster import KMeans\n",
    "import matplotlib.pyplot as plt\n",
    "import seaborn as sn\n",
    "\n",
    "import lightgbm as lgb\n",
    "from scipy.stats import skew\n",
    "\n",
    "import feather\n",
    "import pickle\n",
    "import h5py\n",
    "\n",
    "from concurrent import futures\n",
    "#import riiideducation"
   ]
  },
  {
   "cell_type": "code",
   "execution_count": 41,
   "metadata": {},
   "outputs": [],
   "source": [
    "# lyaka1 = np.load(\"./ssakt15_valid_preds.npy\")\n",
    "# lyaka2 = np.load(\"./ssakt31_valid_preds.npy\")\n",
    "# sakami[\"lyaka1\"] = lyaka1\n",
    "# sakami[\"lyaka2\"] = lyaka2"
   ]
  },
  {
   "cell_type": "code",
   "execution_count": 42,
   "metadata": {},
   "outputs": [],
   "source": [
    "owruby =  pd.read_csv(\"./owruby/owruby_usplit.csv\")"
   ]
  },
  {
   "cell_type": "code",
   "execution_count": 43,
   "metadata": {},
   "outputs": [
    {
     "data": {
      "text/html": [
       "<div>\n",
       "<style scoped>\n",
       "    .dataframe tbody tr th:only-of-type {\n",
       "        vertical-align: middle;\n",
       "    }\n",
       "\n",
       "    .dataframe tbody tr th {\n",
       "        vertical-align: top;\n",
       "    }\n",
       "\n",
       "    .dataframe thead th {\n",
       "        text-align: right;\n",
       "    }\n",
       "</style>\n",
       "<table border=\"1\" class=\"dataframe\">\n",
       "  <thead>\n",
       "    <tr style=\"text-align: right;\">\n",
       "      <th></th>\n",
       "      <th>row_id</th>\n",
       "      <th>answered_correctly</th>\n",
       "      <th>label</th>\n",
       "    </tr>\n",
       "  </thead>\n",
       "  <tbody>\n",
       "    <tr>\n",
       "      <th>0</th>\n",
       "      <td>1874</td>\n",
       "      <td>0.822659</td>\n",
       "      <td>0</td>\n",
       "    </tr>\n",
       "    <tr>\n",
       "      <th>1</th>\n",
       "      <td>1875</td>\n",
       "      <td>0.408418</td>\n",
       "      <td>0</td>\n",
       "    </tr>\n",
       "  </tbody>\n",
       "</table>\n",
       "</div>"
      ],
      "text/plain": [
       "   row_id  answered_correctly  label\n",
       "0    1874            0.822659      0\n",
       "1    1875            0.408418      0"
      ]
     },
     "execution_count": 43,
     "metadata": {},
     "output_type": "execute_result"
    }
   ],
   "source": [
    "owruby.head(2)"
   ]
  },
  {
   "cell_type": "code",
   "execution_count": 44,
   "metadata": {},
   "outputs": [],
   "source": [
    "sakami_rows = owruby[[\"row_id\"]].sort_values(by=\"row_id\")"
   ]
  },
  {
   "cell_type": "code",
   "execution_count": 45,
   "metadata": {},
   "outputs": [],
   "source": [
    "sakami_rows[\"sakami192\"] = np.load(\"./sakami/sakami192_usplit.npy\")\n",
    "sakami_rows[\"sakami193\"] = np.load(\"./sakami/sakami193_usplit.npy\")\n",
    "sakami_rows[\"sakami197\"] = np.load(\"./sakami/sakami197_usplit.npy\")\n",
    "sakami_rows[\"sakami198\"] = np.load(\"./sakami/sakami198_usplit.npy\")\n",
    "sakami_rows[\"sakami200\"] = np.load(\"./sakami/sakami200_usplit.npy\")\n",
    "sakami_rows[\"sakami201\"] = np.load(\"./sakami/sakami201_usplit.npy\")"
   ]
  },
  {
   "cell_type": "code",
   "execution_count": 47,
   "metadata": {},
   "outputs": [],
   "source": [
    "lyaka = np.load(\"./lyaka/lyaka_usplit.npy\")"
   ]
  },
  {
   "cell_type": "code",
   "execution_count": 49,
   "metadata": {},
   "outputs": [],
   "source": [
    "sakami_rows[\"lyaka\"] = lyaka"
   ]
  },
  {
   "cell_type": "code",
   "execution_count": 50,
   "metadata": {},
   "outputs": [
    {
     "data": {
      "text/html": [
       "<div>\n",
       "<style scoped>\n",
       "    .dataframe tbody tr th:only-of-type {\n",
       "        vertical-align: middle;\n",
       "    }\n",
       "\n",
       "    .dataframe tbody tr th {\n",
       "        vertical-align: top;\n",
       "    }\n",
       "\n",
       "    .dataframe thead th {\n",
       "        text-align: right;\n",
       "    }\n",
       "</style>\n",
       "<table border=\"1\" class=\"dataframe\">\n",
       "  <thead>\n",
       "    <tr style=\"text-align: right;\">\n",
       "      <th></th>\n",
       "      <th>row_id</th>\n",
       "      <th>sakami192</th>\n",
       "      <th>sakami193</th>\n",
       "      <th>sakami197</th>\n",
       "      <th>sakami198</th>\n",
       "      <th>sakami200</th>\n",
       "      <th>sakami201</th>\n",
       "      <th>lyaka</th>\n",
       "    </tr>\n",
       "  </thead>\n",
       "  <tbody>\n",
       "    <tr>\n",
       "      <th>0</th>\n",
       "      <td>1874</td>\n",
       "      <td>0.845537</td>\n",
       "      <td>0.824574</td>\n",
       "      <td>0.826250</td>\n",
       "      <td>0.838496</td>\n",
       "      <td>0.833348</td>\n",
       "      <td>0.835412</td>\n",
       "      <td>0.846752</td>\n",
       "    </tr>\n",
       "    <tr>\n",
       "      <th>1</th>\n",
       "      <td>1875</td>\n",
       "      <td>0.268288</td>\n",
       "      <td>0.252530</td>\n",
       "      <td>0.252409</td>\n",
       "      <td>0.259301</td>\n",
       "      <td>0.224170</td>\n",
       "      <td>0.265376</td>\n",
       "      <td>0.285767</td>\n",
       "    </tr>\n",
       "  </tbody>\n",
       "</table>\n",
       "</div>"
      ],
      "text/plain": [
       "   row_id  sakami192  sakami193  sakami197  sakami198  sakami200  sakami201  \\\n",
       "0    1874   0.845537   0.824574   0.826250   0.838496   0.833348   0.835412   \n",
       "1    1875   0.268288   0.252530   0.252409   0.259301   0.224170   0.265376   \n",
       "\n",
       "      lyaka  \n",
       "0  0.846752  \n",
       "1  0.285767  "
      ]
     },
     "execution_count": 50,
     "metadata": {},
     "output_type": "execute_result"
    }
   ],
   "source": [
    "sakami_rows.head(2)"
   ]
  },
  {
   "cell_type": "code",
   "execution_count": 51,
   "metadata": {},
   "outputs": [
    {
     "data": {
      "text/html": [
       "<div>\n",
       "<style scoped>\n",
       "    .dataframe tbody tr th:only-of-type {\n",
       "        vertical-align: middle;\n",
       "    }\n",
       "\n",
       "    .dataframe tbody tr th {\n",
       "        vertical-align: top;\n",
       "    }\n",
       "\n",
       "    .dataframe thead th {\n",
       "        text-align: right;\n",
       "    }\n",
       "</style>\n",
       "<table border=\"1\" class=\"dataframe\">\n",
       "  <thead>\n",
       "    <tr style=\"text-align: right;\">\n",
       "      <th></th>\n",
       "      <th>row_id</th>\n",
       "      <th>answered_correctly</th>\n",
       "      <th>label</th>\n",
       "      <th>sakami192</th>\n",
       "      <th>sakami193</th>\n",
       "      <th>sakami197</th>\n",
       "      <th>sakami198</th>\n",
       "      <th>sakami200</th>\n",
       "      <th>sakami201</th>\n",
       "      <th>lyaka</th>\n",
       "    </tr>\n",
       "  </thead>\n",
       "  <tbody>\n",
       "    <tr>\n",
       "      <th>0</th>\n",
       "      <td>1874</td>\n",
       "      <td>0.822659</td>\n",
       "      <td>0</td>\n",
       "      <td>0.845537</td>\n",
       "      <td>0.824574</td>\n",
       "      <td>0.826250</td>\n",
       "      <td>0.838496</td>\n",
       "      <td>0.833348</td>\n",
       "      <td>0.835412</td>\n",
       "      <td>0.846752</td>\n",
       "    </tr>\n",
       "    <tr>\n",
       "      <th>1</th>\n",
       "      <td>1875</td>\n",
       "      <td>0.408418</td>\n",
       "      <td>0</td>\n",
       "      <td>0.268288</td>\n",
       "      <td>0.252530</td>\n",
       "      <td>0.252409</td>\n",
       "      <td>0.259301</td>\n",
       "      <td>0.224170</td>\n",
       "      <td>0.265376</td>\n",
       "      <td>0.285767</td>\n",
       "    </tr>\n",
       "  </tbody>\n",
       "</table>\n",
       "</div>"
      ],
      "text/plain": [
       "   row_id  answered_correctly  label  sakami192  sakami193  sakami197  \\\n",
       "0    1874            0.822659      0   0.845537   0.824574   0.826250   \n",
       "1    1875            0.408418      0   0.268288   0.252530   0.252409   \n",
       "\n",
       "   sakami198  sakami200  sakami201     lyaka  \n",
       "0   0.838496   0.833348   0.835412  0.846752  \n",
       "1   0.259301   0.224170   0.265376  0.285767  "
      ]
     },
     "execution_count": 51,
     "metadata": {},
     "output_type": "execute_result"
    }
   ],
   "source": [
    "merged = pd.merge(owruby, sakami_rows, on=\"row_id\", how=\"inner\")\n",
    "merged.head(2)"
   ]
  },
  {
   "cell_type": "code",
   "execution_count": 52,
   "metadata": {},
   "outputs": [],
   "source": [
    "pocket = pd.read_csv(\"../pred_0107_usplit_large.csv\")"
   ]
  },
  {
   "cell_type": "code",
   "execution_count": 53,
   "metadata": {},
   "outputs": [
    {
     "data": {
      "text/html": [
       "<div>\n",
       "<style scoped>\n",
       "    .dataframe tbody tr th:only-of-type {\n",
       "        vertical-align: middle;\n",
       "    }\n",
       "\n",
       "    .dataframe tbody tr th {\n",
       "        vertical-align: top;\n",
       "    }\n",
       "\n",
       "    .dataframe thead th {\n",
       "        text-align: right;\n",
       "    }\n",
       "</style>\n",
       "<table border=\"1\" class=\"dataframe\">\n",
       "  <thead>\n",
       "    <tr style=\"text-align: right;\">\n",
       "      <th></th>\n",
       "      <th>row_id</th>\n",
       "      <th>pocket_pred</th>\n",
       "    </tr>\n",
       "  </thead>\n",
       "  <tbody>\n",
       "    <tr>\n",
       "      <th>0</th>\n",
       "      <td>74094689</td>\n",
       "      <td>0.318954</td>\n",
       "    </tr>\n",
       "    <tr>\n",
       "      <th>1</th>\n",
       "      <td>74094690</td>\n",
       "      <td>0.187424</td>\n",
       "    </tr>\n",
       "  </tbody>\n",
       "</table>\n",
       "</div>"
      ],
      "text/plain": [
       "     row_id  pocket_pred\n",
       "0  74094689     0.318954\n",
       "1  74094690     0.187424"
      ]
     },
     "execution_count": 53,
     "metadata": {},
     "output_type": "execute_result"
    }
   ],
   "source": [
    "pocket.head(2)"
   ]
  },
  {
   "cell_type": "code",
   "execution_count": 54,
   "metadata": {},
   "outputs": [
    {
     "data": {
      "text/plain": [
       "(5296660, 11)"
      ]
     },
     "execution_count": 54,
     "metadata": {},
     "output_type": "execute_result"
    }
   ],
   "source": [
    "merged = pd.merge(merged, pocket, on=\"row_id\", how=\"inner\")\n",
    "merged.shape"
   ]
  },
  {
   "cell_type": "code",
   "execution_count": 55,
   "metadata": {},
   "outputs": [],
   "source": [
    "merged[\"owruby\"] = merged[\"answered_correctly\"]\n",
    "merged.drop(columns=\"answered_correctly\", inplace=True)"
   ]
  },
  {
   "cell_type": "code",
   "execution_count": 56,
   "metadata": {},
   "outputs": [
    {
     "data": {
      "text/html": [
       "<div>\n",
       "<style scoped>\n",
       "    .dataframe tbody tr th:only-of-type {\n",
       "        vertical-align: middle;\n",
       "    }\n",
       "\n",
       "    .dataframe tbody tr th {\n",
       "        vertical-align: top;\n",
       "    }\n",
       "\n",
       "    .dataframe thead th {\n",
       "        text-align: right;\n",
       "    }\n",
       "</style>\n",
       "<table border=\"1\" class=\"dataframe\">\n",
       "  <thead>\n",
       "    <tr style=\"text-align: right;\">\n",
       "      <th></th>\n",
       "      <th>row_id</th>\n",
       "      <th>label</th>\n",
       "      <th>sakami192</th>\n",
       "      <th>sakami193</th>\n",
       "      <th>sakami197</th>\n",
       "      <th>sakami198</th>\n",
       "      <th>sakami200</th>\n",
       "      <th>sakami201</th>\n",
       "      <th>lyaka</th>\n",
       "      <th>pocket_pred</th>\n",
       "      <th>owruby</th>\n",
       "    </tr>\n",
       "  </thead>\n",
       "  <tbody>\n",
       "    <tr>\n",
       "      <th>0</th>\n",
       "      <td>1874</td>\n",
       "      <td>0</td>\n",
       "      <td>0.845537</td>\n",
       "      <td>0.824574</td>\n",
       "      <td>0.826250</td>\n",
       "      <td>0.838496</td>\n",
       "      <td>0.833348</td>\n",
       "      <td>0.835412</td>\n",
       "      <td>0.846752</td>\n",
       "      <td>0.823691</td>\n",
       "      <td>0.822659</td>\n",
       "    </tr>\n",
       "    <tr>\n",
       "      <th>1</th>\n",
       "      <td>1875</td>\n",
       "      <td>0</td>\n",
       "      <td>0.268288</td>\n",
       "      <td>0.252530</td>\n",
       "      <td>0.252409</td>\n",
       "      <td>0.259301</td>\n",
       "      <td>0.224170</td>\n",
       "      <td>0.265376</td>\n",
       "      <td>0.285767</td>\n",
       "      <td>0.276968</td>\n",
       "      <td>0.408418</td>\n",
       "    </tr>\n",
       "  </tbody>\n",
       "</table>\n",
       "</div>"
      ],
      "text/plain": [
       "   row_id  label  sakami192  sakami193  sakami197  sakami198  sakami200  \\\n",
       "0    1874      0   0.845537   0.824574   0.826250   0.838496   0.833348   \n",
       "1    1875      0   0.268288   0.252530   0.252409   0.259301   0.224170   \n",
       "\n",
       "   sakami201     lyaka  pocket_pred    owruby  \n",
       "0   0.835412  0.846752     0.823691  0.822659  \n",
       "1   0.265376  0.285767     0.276968  0.408418  "
      ]
     },
     "execution_count": 56,
     "metadata": {},
     "output_type": "execute_result"
    }
   ],
   "source": [
    "merged.head(2)"
   ]
  },
  {
   "cell_type": "code",
   "execution_count": 57,
   "metadata": {},
   "outputs": [
    {
     "data": {
      "text/plain": [
       "Index(['row_id', 'label', 'sakami192', 'sakami193', 'sakami197', 'sakami198',\n",
       "       'sakami200', 'sakami201', 'lyaka', 'pocket_pred', 'owruby'],\n",
       "      dtype='object')"
      ]
     },
     "execution_count": 57,
     "metadata": {},
     "output_type": "execute_result"
    }
   ],
   "source": [
    "merged.columns"
   ]
  },
  {
   "cell_type": "code",
   "execution_count": 58,
   "metadata": {},
   "outputs": [],
   "source": [
    "valid_feats = pd.read_feather(\"../valid_0106_2.feather\")"
   ]
  },
  {
   "cell_type": "code",
   "execution_count": 59,
   "metadata": {},
   "outputs": [
    {
     "data": {
      "text/html": [
       "<div>\n",
       "<style scoped>\n",
       "    .dataframe tbody tr th:only-of-type {\n",
       "        vertical-align: middle;\n",
       "    }\n",
       "\n",
       "    .dataframe tbody tr th {\n",
       "        vertical-align: top;\n",
       "    }\n",
       "\n",
       "    .dataframe thead th {\n",
       "        text-align: right;\n",
       "    }\n",
       "</style>\n",
       "<table border=\"1\" class=\"dataframe\">\n",
       "  <thead>\n",
       "    <tr style=\"text-align: right;\">\n",
       "      <th></th>\n",
       "      <th>index</th>\n",
       "      <th>row_id</th>\n",
       "      <th>user_id</th>\n",
       "      <th>ac</th>\n",
       "      <th>et</th>\n",
       "      <th>q_ac_mean</th>\n",
       "      <th>q_ac_cnt</th>\n",
       "      <th>q_et_mean</th>\n",
       "      <th>q_et_cnt</th>\n",
       "      <th>q_et_std</th>\n",
       "      <th>...</th>\n",
       "      <th>u_td_p4p5</th>\n",
       "      <th>u_td_p5p6</th>\n",
       "      <th>u_td_p6p7</th>\n",
       "      <th>u_td_p7p8</th>\n",
       "      <th>u_td_p8p9</th>\n",
       "      <th>u_td_p9p10</th>\n",
       "      <th>ut_ac_mean</th>\n",
       "      <th>ut_ac_mean2</th>\n",
       "      <th>u_ok_ts</th>\n",
       "      <th>u_ng_ts</th>\n",
       "    </tr>\n",
       "  </thead>\n",
       "  <tbody>\n",
       "    <tr>\n",
       "      <th>0</th>\n",
       "      <td>30755</td>\n",
       "      <td>74094689</td>\n",
       "      <td>1576045200</td>\n",
       "      <td>0</td>\n",
       "      <td>NaN</td>\n",
       "      <td>0.554006</td>\n",
       "      <td>9897</td>\n",
       "      <td>25198.609375</td>\n",
       "      <td>9842</td>\n",
       "      <td>21517.152005</td>\n",
       "      <td>...</td>\n",
       "      <td>NaN</td>\n",
       "      <td>NaN</td>\n",
       "      <td>NaN</td>\n",
       "      <td>NaN</td>\n",
       "      <td>NaN</td>\n",
       "      <td>NaN</td>\n",
       "      <td>NaN</td>\n",
       "      <td>NaN</td>\n",
       "      <td>NaN</td>\n",
       "      <td>NaN</td>\n",
       "    </tr>\n",
       "    <tr>\n",
       "      <th>1</th>\n",
       "      <td>30769</td>\n",
       "      <td>74094690</td>\n",
       "      <td>1576045200</td>\n",
       "      <td>1</td>\n",
       "      <td>27000.0</td>\n",
       "      <td>0.364658</td>\n",
       "      <td>14419</td>\n",
       "      <td>26085.080078</td>\n",
       "      <td>14356</td>\n",
       "      <td>20998.380102</td>\n",
       "      <td>...</td>\n",
       "      <td>NaN</td>\n",
       "      <td>NaN</td>\n",
       "      <td>NaN</td>\n",
       "      <td>NaN</td>\n",
       "      <td>NaN</td>\n",
       "      <td>NaN</td>\n",
       "      <td>NaN</td>\n",
       "      <td>NaN</td>\n",
       "      <td>NaN</td>\n",
       "      <td>-61704.0</td>\n",
       "    </tr>\n",
       "  </tbody>\n",
       "</table>\n",
       "<p>2 rows × 83 columns</p>\n",
       "</div>"
      ],
      "text/plain": [
       "   index    row_id     user_id  ac       et  q_ac_mean  q_ac_cnt  \\\n",
       "0  30755  74094689  1576045200   0      NaN   0.554006      9897   \n",
       "1  30769  74094690  1576045200   1  27000.0   0.364658     14419   \n",
       "\n",
       "      q_et_mean  q_et_cnt      q_et_std  ...  u_td_p4p5  u_td_p5p6  u_td_p6p7  \\\n",
       "0  25198.609375      9842  21517.152005  ...        NaN        NaN        NaN   \n",
       "1  26085.080078     14356  20998.380102  ...        NaN        NaN        NaN   \n",
       "\n",
       "   u_td_p7p8  u_td_p8p9  u_td_p9p10  ut_ac_mean  ut_ac_mean2  u_ok_ts  u_ng_ts  \n",
       "0        NaN        NaN         NaN         NaN          NaN      NaN      NaN  \n",
       "1        NaN        NaN         NaN         NaN          NaN      NaN -61704.0  \n",
       "\n",
       "[2 rows x 83 columns]"
      ]
     },
     "execution_count": 59,
     "metadata": {},
     "output_type": "execute_result"
    }
   ],
   "source": [
    "valid_feats.head(2)"
   ]
  },
  {
   "cell_type": "code",
   "execution_count": 60,
   "metadata": {},
   "outputs": [
    {
     "data": {
      "text/plain": [
       "(5296660, 83)"
      ]
     },
     "execution_count": 60,
     "metadata": {},
     "output_type": "execute_result"
    }
   ],
   "source": [
    "valid_feats.shape"
   ]
  },
  {
   "cell_type": "code",
   "execution_count": 61,
   "metadata": {},
   "outputs": [],
   "source": [
    "merged = pd.merge(merged, valid_feats, on=\"row_id\", how=\"inner\")"
   ]
  },
  {
   "cell_type": "code",
   "execution_count": 62,
   "metadata": {},
   "outputs": [],
   "source": [
    "#merged[\"owruby2\"] = (merged[\"owruby2_1\"] + merged[\"owruby2_2\"] + merged[\"owruby2_3\"] + merged[\"owruby2_4\"]) / 4"
   ]
  },
  {
   "cell_type": "code",
   "execution_count": 63,
   "metadata": {},
   "outputs": [
    {
     "data": {
      "text/html": [
       "<div>\n",
       "<style scoped>\n",
       "    .dataframe tbody tr th:only-of-type {\n",
       "        vertical-align: middle;\n",
       "    }\n",
       "\n",
       "    .dataframe tbody tr th {\n",
       "        vertical-align: top;\n",
       "    }\n",
       "\n",
       "    .dataframe thead th {\n",
       "        text-align: right;\n",
       "    }\n",
       "</style>\n",
       "<table border=\"1\" class=\"dataframe\">\n",
       "  <thead>\n",
       "    <tr style=\"text-align: right;\">\n",
       "      <th></th>\n",
       "      <th>row_id</th>\n",
       "      <th>label</th>\n",
       "      <th>sakami192</th>\n",
       "      <th>sakami193</th>\n",
       "      <th>sakami197</th>\n",
       "      <th>sakami198</th>\n",
       "      <th>sakami200</th>\n",
       "      <th>sakami201</th>\n",
       "      <th>lyaka</th>\n",
       "      <th>pocket_pred</th>\n",
       "      <th>...</th>\n",
       "      <th>u_td_p4p5</th>\n",
       "      <th>u_td_p5p6</th>\n",
       "      <th>u_td_p6p7</th>\n",
       "      <th>u_td_p7p8</th>\n",
       "      <th>u_td_p8p9</th>\n",
       "      <th>u_td_p9p10</th>\n",
       "      <th>ut_ac_mean</th>\n",
       "      <th>ut_ac_mean2</th>\n",
       "      <th>u_ok_ts</th>\n",
       "      <th>u_ng_ts</th>\n",
       "    </tr>\n",
       "  </thead>\n",
       "  <tbody>\n",
       "    <tr>\n",
       "      <th>0</th>\n",
       "      <td>1874</td>\n",
       "      <td>0</td>\n",
       "      <td>0.845537</td>\n",
       "      <td>0.824574</td>\n",
       "      <td>0.826250</td>\n",
       "      <td>0.838496</td>\n",
       "      <td>0.833348</td>\n",
       "      <td>0.835412</td>\n",
       "      <td>0.846752</td>\n",
       "      <td>0.823691</td>\n",
       "      <td>...</td>\n",
       "      <td>NaN</td>\n",
       "      <td>NaN</td>\n",
       "      <td>NaN</td>\n",
       "      <td>NaN</td>\n",
       "      <td>NaN</td>\n",
       "      <td>NaN</td>\n",
       "      <td>NaN</td>\n",
       "      <td>NaN</td>\n",
       "      <td>NaN</td>\n",
       "      <td>NaN</td>\n",
       "    </tr>\n",
       "    <tr>\n",
       "      <th>1</th>\n",
       "      <td>1875</td>\n",
       "      <td>0</td>\n",
       "      <td>0.268288</td>\n",
       "      <td>0.252530</td>\n",
       "      <td>0.252409</td>\n",
       "      <td>0.259301</td>\n",
       "      <td>0.224170</td>\n",
       "      <td>0.265376</td>\n",
       "      <td>0.285767</td>\n",
       "      <td>0.276968</td>\n",
       "      <td>...</td>\n",
       "      <td>NaN</td>\n",
       "      <td>NaN</td>\n",
       "      <td>NaN</td>\n",
       "      <td>NaN</td>\n",
       "      <td>NaN</td>\n",
       "      <td>NaN</td>\n",
       "      <td>NaN</td>\n",
       "      <td>NaN</td>\n",
       "      <td>NaN</td>\n",
       "      <td>-24224.0</td>\n",
       "    </tr>\n",
       "  </tbody>\n",
       "</table>\n",
       "<p>2 rows × 93 columns</p>\n",
       "</div>"
      ],
      "text/plain": [
       "   row_id  label  sakami192  sakami193  sakami197  sakami198  sakami200  \\\n",
       "0    1874      0   0.845537   0.824574   0.826250   0.838496   0.833348   \n",
       "1    1875      0   0.268288   0.252530   0.252409   0.259301   0.224170   \n",
       "\n",
       "   sakami201     lyaka  pocket_pred  ...  u_td_p4p5  u_td_p5p6  u_td_p6p7  \\\n",
       "0   0.835412  0.846752     0.823691  ...        NaN        NaN        NaN   \n",
       "1   0.265376  0.285767     0.276968  ...        NaN        NaN        NaN   \n",
       "\n",
       "   u_td_p7p8  u_td_p8p9  u_td_p9p10  ut_ac_mean  ut_ac_mean2  u_ok_ts  u_ng_ts  \n",
       "0        NaN        NaN         NaN         NaN          NaN      NaN      NaN  \n",
       "1        NaN        NaN         NaN         NaN          NaN      NaN -24224.0  \n",
       "\n",
       "[2 rows x 93 columns]"
      ]
     },
     "execution_count": 63,
     "metadata": {},
     "output_type": "execute_result"
    }
   ],
   "source": [
    "merged.head(2)"
   ]
  },
  {
   "cell_type": "code",
   "execution_count": null,
   "metadata": {},
   "outputs": [],
   "source": []
  },
  {
   "cell_type": "code",
   "execution_count": 64,
   "metadata": {},
   "outputs": [],
   "source": [
    "usplit_rowid = pd.read_csv(\"./usplit_rowid.csv\")"
   ]
  },
  {
   "cell_type": "code",
   "execution_count": 65,
   "metadata": {},
   "outputs": [
    {
     "data": {
      "text/html": [
       "<div>\n",
       "<style scoped>\n",
       "    .dataframe tbody tr th:only-of-type {\n",
       "        vertical-align: middle;\n",
       "    }\n",
       "\n",
       "    .dataframe tbody tr th {\n",
       "        vertical-align: top;\n",
       "    }\n",
       "\n",
       "    .dataframe thead th {\n",
       "        text-align: right;\n",
       "    }\n",
       "</style>\n",
       "<table border=\"1\" class=\"dataframe\">\n",
       "  <thead>\n",
       "    <tr style=\"text-align: right;\">\n",
       "      <th></th>\n",
       "      <th>row_id</th>\n",
       "    </tr>\n",
       "  </thead>\n",
       "  <tbody>\n",
       "    <tr>\n",
       "      <th>0</th>\n",
       "      <td>24785</td>\n",
       "    </tr>\n",
       "    <tr>\n",
       "      <th>1</th>\n",
       "      <td>24786</td>\n",
       "    </tr>\n",
       "  </tbody>\n",
       "</table>\n",
       "</div>"
      ],
      "text/plain": [
       "   row_id\n",
       "0   24785\n",
       "1   24786"
      ]
     },
     "execution_count": 65,
     "metadata": {},
     "output_type": "execute_result"
    }
   ],
   "source": [
    "usplit_rowid.head(2)"
   ]
  },
  {
   "cell_type": "code",
   "execution_count": 66,
   "metadata": {},
   "outputs": [
    {
     "data": {
      "text/plain": [
       "(1999704, 1)"
      ]
     },
     "execution_count": 66,
     "metadata": {},
     "output_type": "execute_result"
    }
   ],
   "source": [
    "usplit_rowid.shape"
   ]
  },
  {
   "cell_type": "code",
   "execution_count": null,
   "metadata": {},
   "outputs": [],
   "source": []
  },
  {
   "cell_type": "code",
   "execution_count": 67,
   "metadata": {},
   "outputs": [],
   "source": [
    "class SingleLgb:\n",
    "    def __init__(self, seed=99, dry_run=False):\n",
    "        self.train_param = self.get_param(seed)\n",
    "        if dry_run:\n",
    "            self.num_rounds = 100\n",
    "        else:\n",
    "            self.num_rounds = 1100\n",
    "\n",
    "    def do_train_direct(self, x_train, x_test, y_train, y_test):\n",
    "        lgb_train = lgb.Dataset(x_train, y_train)\n",
    "        lgb_eval = lgb.Dataset(x_test, y_test)\n",
    "\n",
    "        # print('Start training...')\n",
    "        model = lgb.train(self.train_param,\n",
    "                          lgb_train,\n",
    "                          valid_sets=[lgb_eval],\n",
    "                          verbose_eval=100,\n",
    "                          num_boost_round=self.num_rounds,\n",
    "                          early_stopping_rounds=100,\n",
    "                          #categorical_feature=[]\n",
    "                         )\n",
    "        # print('End training...')\n",
    "        return model\n",
    "\n",
    "    @staticmethod\n",
    "    def show_feature_importance(model, filename=None):\n",
    "        fi = pd.DataFrame({\n",
    "            \"name\": model.feature_name(),\n",
    "            \"importance_split\": model.feature_importance(importance_type=\"split\").astype(int),\n",
    "            \"importance_gain\": model.feature_importance(importance_type=\"gain\").astype(int),\n",
    "        })\n",
    "        fi = fi.sort_values(by=\"importance_gain\", ascending=False)\n",
    "        #print(fi)\n",
    "        with pd.option_context('display.max_rows', None, 'display.max_columns', None):  # more options can be specified also\n",
    "            print(fi)\n",
    "\n",
    "    @staticmethod\n",
    "    def get_param(seed):\n",
    "        return {\n",
    "            'num_leaves': 127,\n",
    "            'min_data_in_leaf': 100,\n",
    "            'objective': 'binary',\n",
    "            #'metric': 'auc',\n",
    "            'metric': 'binary_logloss',\n",
    "            'max_depth': -1,\n",
    "            'learning_rate': 0.02,\n",
    "            \"boosting\": \"gbdt\",\n",
    "            \"feature_fraction\": 0.9,\n",
    "            \"verbosity\": -1,\n",
    "            \"random_state\": seed,\n",
    "        }\n",
    "    \n",
    "class SingleTrainer:\n",
    "    def __init__(self, pred_col, dry_run=False):\n",
    "        self.pred_col = pred_col\n",
    "        self.target_col = \"ac\"\n",
    "        self.dry_run = dry_run\n",
    "        self.val_size = 2*1000*1000\n",
    "\n",
    "    \n",
    "    def train_model(self, df_train, df_valid):\n",
    "        X_train, X_val = df_train[self.pred_col], df_valid[self.pred_col]\n",
    "        y_train, y_val = df_train[self.target_col], df_valid[self.target_col]\n",
    "        \n",
    "        models, scores = list(), list()\n",
    "        for fold in range(4):\n",
    "            print(\"---------\")\n",
    "            print(\"fold=\", fold)\n",
    "            print(X_train.shape, X_val.shape)\n",
    "            \n",
    "            lgbm = SingleLgb(seed=99, dry_run=self.dry_run)\n",
    "            model = lgbm.do_train_direct(X_train, X_val, y_train, y_val)\n",
    "            score = model.best_score[\"valid_0\"][\"binary_logloss\"]\n",
    "            pred = model.predict(X_val)\n",
    "            score = metrics.roc_auc_score(y_val, pred)\n",
    "            print(\"AUC=\", score)\n",
    "            if fold == 0:\n",
    "                lgbm.show_feature_importance(model)\n",
    "            models.append(model)\n",
    "            scores.append(score)\n",
    "            break\n",
    "        return models, np.mean(scores)"
   ]
  },
  {
   "cell_type": "code",
   "execution_count": null,
   "metadata": {},
   "outputs": [],
   "source": []
  },
  {
   "cell_type": "code",
   "execution_count": 68,
   "metadata": {},
   "outputs": [],
   "source": [
    "# pred_col = [\n",
    "#     \"et\",  \"q_ac_cnt\",  'b_ac_mean', 'b_ac_cnt', \"q_ac_mean\",\n",
    "#     \"u_ac_mean\", \"u_cnt\", \"u_qm_mean\", #\"u_td\", #\"uc_td\",\n",
    "#     \"u_ac_cnt\", #\"u_et_cnt\"\n",
    "#     'u_ok_qm_mean', 'u_ng_qm_mean',\n",
    "#     'q_et_mean', 'q_et_cnt', 'q_et_std',\n",
    "#    \"up_ac_cnt\", \"up_ac_mean\",\n",
    "#     \"u_td\", \n",
    "#     \"q_ng_uac_mean\",\"q_ok_uac_mean\", \"q_ok_uac_std\", \"q_ng_uac_std\",\n",
    "#     \"correct_answer\",\n",
    "#     \"u_ac_mean20\",\n",
    "#     \"ulr_ac_mean\", #\"ulr_ac_cnt\",  \"ub_cnt\",\n",
    "#     \"ut_ac_mean\",\"ut_ac_mean2\",\n",
    "#     \"uca_ac_mean\", \n",
    "#     \"ul_td\", \"u_td_wl\", \n",
    "#     #\"q_pqhe_true_uac_mean\", \"q_pqhe_true_uac_std\", \"q_pqhe_false_uac_mean\", \"q_pqhe_false_uac_std\",\n",
    "#     #\"pqhe\",\n",
    "#     \"uc_td\", \"uc_ac_mean\", \"uc_ac_cnt\", \n",
    "#     #\"u_td_final\", #\"ub_td_final\"\n",
    "#     'u_td_tp1','u_td_p1p2', 'u_td_p2p3', 'u_td_p3p4', 'u_td_p4p5',\n",
    "#     'u_td_p5p6', 'u_td_p6p7', 'u_td_p7p8', 'u_td_p8p9', 'u_td_p9p10',\n",
    "#     \"uac_prev1\", \"uac_prev2\",\n",
    "#     \"elo_beta\", \"u_elo_theta\", \n",
    "#     \"u_rate\",\n",
    "# ]\n",
    "# nn_col = [f\"nn_svd{i}\" for i in range(20)]\n",
    "# pred_col += nn_col\n",
    "# print(pred_col)"
   ]
  },
  {
   "cell_type": "code",
   "execution_count": 73,
   "metadata": {},
   "outputs": [],
   "source": [
    "pred_col = [\n",
    "    'sakami192', 'sakami193', 'sakami197',\n",
    "    #'sakami198', #'sakami200', \"sakami201\",\n",
    "    'pocket_pred', \"owruby\", \"lyaka\",\n",
    "    \"uc_td\", \"uc_ac_mean\", \"uc_ac_cnt\", \n",
    "    \"ul_td\", \"u_td\", \"u_td_p1p2\", \n",
    "    \"ut_ac_mean\", \"ut_ac_mean2\",\n",
    "    \"up_ac_mean\",\n",
    "    \"et\", \"q_et_mean\", \"q_et_std\",\n",
    "    \"u_elo_theta\",\"q_ac_mean\",  #\"ulr_elo_mean\", \"up_elo_mean\",\n",
    "    \"up_ac_cnt\", \"u_cnt\", \"q_ac_cnt\"\n",
    "]\n"
   ]
  },
  {
   "cell_type": "code",
   "execution_count": 74,
   "metadata": {},
   "outputs": [],
   "source": [
    "#sorted_df = merged.sort_values(by=\"row_id\")"
   ]
  },
  {
   "cell_type": "code",
   "execution_count": 75,
   "metadata": {},
   "outputs": [],
   "source": [
    "cond = merged[\"row_id\"].isin(usplit_rowid[\"row_id\"])\n",
    "df_train = merged[~cond]\n",
    "df_valid = merged[cond]"
   ]
  },
  {
   "cell_type": "code",
   "execution_count": 76,
   "metadata": {},
   "outputs": [
    {
     "name": "stdout",
     "output_type": "stream",
     "text": [
      "---------\n",
      "fold= 0\n",
      "(3296956, 23) (1999704, 23)\n",
      "Training until validation scores don't improve for 100 rounds\n",
      "[100]\tvalid_0's binary_logloss: 0.494546\n",
      "[200]\tvalid_0's binary_logloss: 0.4884\n",
      "[300]\tvalid_0's binary_logloss: 0.487975\n",
      "[400]\tvalid_0's binary_logloss: 0.487909\n",
      "[500]\tvalid_0's binary_logloss: 0.487892\n",
      "[600]\tvalid_0's binary_logloss: 0.487891\n",
      "Early stopping, best iteration is:\n",
      "[546]\tvalid_0's binary_logloss: 0.487887\n",
      "AUC= 0.81365198797239\n",
      "           name  importance_split  importance_gain\n",
      "0     sakami192              3311         13579838\n",
      "1     sakami193              3820          7090313\n",
      "4        owruby              5306          3868496\n",
      "3   pocket_pred              6756           427117\n",
      "2     sakami197              3000           197255\n",
      "5         lyaka              3102           126290\n",
      "6         uc_td              3378            85803\n",
      "9         ul_td              4169            67379\n",
      "19    q_ac_mean              3770            56000\n",
      "7    uc_ac_mean              1778            54359\n",
      "21        u_cnt              3120            49489\n",
      "10         u_td              3301            46638\n",
      "18  u_elo_theta              3205            41575\n",
      "14   up_ac_mean              2625            31865\n",
      "13  ut_ac_mean2              2202            31155\n",
      "11    u_td_p1p2              2479            31126\n",
      "22     q_ac_cnt              2517            29190\n",
      "16    q_et_mean              2165            27811\n",
      "20    up_ac_cnt              2297            27181\n",
      "15           et              2069            24959\n",
      "12   ut_ac_mean              1917            24772\n",
      "17     q_et_std              1993            22961\n",
      "8     uc_ac_cnt               516            12189\n"
     ]
    }
   ],
   "source": [
    "trainer = SingleTrainer(pred_col, dry_run=False)\n",
    "models, score = trainer.train_model(df_train, df_valid)"
   ]
  },
  {
   "cell_type": "code",
   "execution_count": 77,
   "metadata": {},
   "outputs": [],
   "source": [
    "# trainer = SingleTrainer(pred_col, dry_run=False)\n",
    "# models, score = trainer.seed_avg_model(merged)"
   ]
  },
  {
   "cell_type": "code",
   "execution_count": 78,
   "metadata": {},
   "outputs": [],
   "source": [
    "# final_valid = merged.iloc[-2*1000*1000:]\n",
    "# preds = []\n",
    "# for model in models:\n",
    "#     pred_y = models[0].predict(final_valid[pred_col])\n",
    "#     preds.append(pred_y)\n",
    "# final_pred = (preds[0] +  preds[1] +  preds[2] +  preds[3])/4\n",
    "# final_pred.shape\n",
    "# score = metrics.roc_auc_score(final_valid[\"ac\"], final_pred)\n",
    "# print(score)"
   ]
  },
  {
   "cell_type": "code",
   "execution_count": 79,
   "metadata": {},
   "outputs": [],
   "source": [
    "# new valid 3m-2m, 20feats: "
   ]
  },
  {
   "cell_type": "code",
   "execution_count": 80,
   "metadata": {},
   "outputs": [
    {
     "data": {
      "text/plain": [
       "<lightgbm.basic.Booster at 0x7f578aee30d0>"
      ]
     },
     "execution_count": 80,
     "metadata": {},
     "output_type": "execute_result"
    }
   ],
   "source": [
    "models[0].save_model(\"./ensemble_model_0107_usplit_large.lgb\")"
   ]
  },
  {
   "cell_type": "code",
   "execution_count": 34,
   "metadata": {},
   "outputs": [
    {
     "data": {
      "text/plain": [
       "3296660     62956040\n",
       "3296661     62956041\n",
       "3296662     62956042\n",
       "3296663     62956043\n",
       "3296664     62956044\n",
       "             ...    \n",
       "5296655    101230020\n",
       "5296656    101230021\n",
       "5296657    101230022\n",
       "5296658    101230023\n",
       "5296659    101230024\n",
       "Name: row_id, Length: 2000000, dtype: int64"
      ]
     },
     "execution_count": 34,
     "metadata": {},
     "output_type": "execute_result"
    }
   ],
   "source": [
    "merged.iloc[-2*1000*1000:][\"row_id\"]"
   ]
  },
  {
   "cell_type": "code",
   "execution_count": 35,
   "metadata": {},
   "outputs": [],
   "source": [
    "final_pred = models[0].predict(merged.iloc[-2*1000*1000:][pred_col])"
   ]
  },
  {
   "cell_type": "code",
   "execution_count": 36,
   "metadata": {},
   "outputs": [
    {
     "data": {
      "text/plain": [
       "(2000000,)"
      ]
     },
     "execution_count": 36,
     "metadata": {},
     "output_type": "execute_result"
    }
   ],
   "source": [
    "final_pred.shape"
   ]
  },
  {
   "cell_type": "code",
   "execution_count": 37,
   "metadata": {},
   "outputs": [],
   "source": [
    "final_pred_df = pd.DataFrame({\n",
    "    \"row_id\": merged.iloc[-2*1000*1000:][\"row_id\"],\n",
    "    \"pocket_pred\": final_pred\n",
    "})"
   ]
  },
  {
   "cell_type": "code",
   "execution_count": 38,
   "metadata": {},
   "outputs": [
    {
     "data": {
      "text/html": [
       "<div>\n",
       "<style scoped>\n",
       "    .dataframe tbody tr th:only-of-type {\n",
       "        vertical-align: middle;\n",
       "    }\n",
       "\n",
       "    .dataframe tbody tr th {\n",
       "        vertical-align: top;\n",
       "    }\n",
       "\n",
       "    .dataframe thead th {\n",
       "        text-align: right;\n",
       "    }\n",
       "</style>\n",
       "<table border=\"1\" class=\"dataframe\">\n",
       "  <thead>\n",
       "    <tr style=\"text-align: right;\">\n",
       "      <th></th>\n",
       "      <th>row_id</th>\n",
       "      <th>pocket_pred</th>\n",
       "    </tr>\n",
       "  </thead>\n",
       "  <tbody>\n",
       "    <tr>\n",
       "      <th>3296660</th>\n",
       "      <td>62956040</td>\n",
       "      <td>0.994550</td>\n",
       "    </tr>\n",
       "    <tr>\n",
       "      <th>3296661</th>\n",
       "      <td>62956041</td>\n",
       "      <td>0.992167</td>\n",
       "    </tr>\n",
       "  </tbody>\n",
       "</table>\n",
       "</div>"
      ],
      "text/plain": [
       "           row_id  pocket_pred\n",
       "3296660  62956040     0.994550\n",
       "3296661  62956041     0.992167"
      ]
     },
     "execution_count": 38,
     "metadata": {},
     "output_type": "execute_result"
    }
   ],
   "source": [
    "final_pred_df.head(2)"
   ]
  },
  {
   "cell_type": "code",
   "execution_count": 39,
   "metadata": {},
   "outputs": [],
   "source": [
    "final_pred_df.to_csv(\"usplit_large_pocket_stack_pred.csv\")"
   ]
  },
  {
   "cell_type": "code",
   "execution_count": null,
   "metadata": {},
   "outputs": [],
   "source": [
    "# before lyaka 8140\n",
    "# after sakami1 8141\n",
    "# after lyaka12 8142\n",
    "# only lyaka12, no sakami1 0.81419: model0101\n",
    "# only lyaka2 0.81415\n",
    "\n",
    "# valid "
   ]
  },
  {
   "cell_type": "code",
   "execution_count": 55,
   "metadata": {},
   "outputs": [],
   "source": [
    "# base feats\n",
    "#Early stopping, best iteration is:\n",
    "#[295]\tvalid_0's binary_logloss: 0.517508\n",
    "#AUC= 0.7967711921542647\n",
    "\n",
    "# with owruby, sakami\n",
    "# [73]\tvalid_0's binary_logloss: 0.499981\n",
    "#AUC= 0.812631130956799\n",
    "\n",
    "# add pocket1223\n",
    "#AUC= 0.8130389687940041\n",
    "\n",
    "#just 3\n",
    "#AUC= 0.8119216727001559\n",
    "\n",
    "# just3 + top feats\n",
    "#0.81279"
   ]
  },
  {
   "cell_type": "code",
   "execution_count": null,
   "metadata": {},
   "outputs": [],
   "source": []
  },
  {
   "cell_type": "code",
   "execution_count": 58,
   "metadata": {},
   "outputs": [],
   "source": [
    "class SeedLgb:\n",
    "    def __init__(self, seed=99, dry_run=False):\n",
    "        self.train_param = self.get_param(seed)\n",
    "        if dry_run:\n",
    "            self.num_rounds = 100\n",
    "        else:\n",
    "            self.num_rounds = 1100\n",
    "\n",
    "    def do_train_direct(self, x_train, y_train):\n",
    "        lgb_train = lgb.Dataset(x_train, y_train)\n",
    "\n",
    "        # print('Start training...')\n",
    "        model = lgb.train(self.train_param,\n",
    "                          lgb_train,\n",
    "                          valid_sets=None,\n",
    "                          verbose_eval=100,\n",
    "                          num_boost_round=self.num_rounds,\n",
    "                          #categorical_feature=[]\n",
    "                         )\n",
    "        # print('End training...')\n",
    "        return model\n",
    "\n",
    "    @staticmethod\n",
    "    def show_feature_importance(model, filename=None):\n",
    "        fi = pd.DataFrame({\n",
    "            \"name\": model.feature_name(),\n",
    "            \"importance_split\": model.feature_importance(importance_type=\"split\").astype(int),\n",
    "            \"importance_gain\": model.feature_importance(importance_type=\"gain\").astype(int),\n",
    "        })\n",
    "        fi = fi.sort_values(by=\"importance_gain\", ascending=False)\n",
    "        #print(fi)\n",
    "        with pd.option_context('display.max_rows', None, 'display.max_columns', None):  # more options can be specified also\n",
    "            print(fi)\n",
    "\n",
    "    @staticmethod\n",
    "    def get_param(seed):\n",
    "        return {\n",
    "            'num_leaves': 127,\n",
    "            'min_data_in_leaf': 100,\n",
    "            'objective': 'binary',\n",
    "            #'metric': 'auc',\n",
    "            'metric': 'binary_logloss',\n",
    "            'max_depth': -1,\n",
    "            'learning_rate': 0.02,\n",
    "            \"boosting\": \"gbdt\",\n",
    "            \"feature_fraction\": 0.9,\n",
    "            \"verbosity\": -1,\n",
    "            \"random_state\": seed,\n",
    "        }\n",
    "    \n",
    "class SeedTrainer:\n",
    "    def __init__(self, pred_col, dry_run=False):\n",
    "        self.pred_col = pred_col\n",
    "        self.target_col = \"ac\"\n",
    "        self.dry_run = dry_run\n",
    "\n",
    "    def train_model(self, df):\n",
    "        X = df[self.pred_col]\n",
    "        y = df[self.target_col]\n",
    "        \n",
    "        models, scores = list(), list()\n",
    "        for fold in range(4):\n",
    "            print(\"---------\")\n",
    "            print(\"fold=\", fold)\n",
    "            \n",
    "            lgbm = SeedLgb(seed=fold, dry_run=self.dry_run)\n",
    "            model = lgbm.do_train_direct(X, y)\n",
    "            #score = model.best_score[\"valid_0\"][\"binary_logloss\"]\n",
    "            #pred = model.predict(X_val)\n",
    "            #score = metrics.roc_auc_score(y_val, pred)\n",
    "            #print(\"AUC=\", score)\n",
    "            if fold == 0:\n",
    "                lgbm.show_feature_importance(model)\n",
    "            models.append(model)\n",
    "            #scores.append(score)\n",
    "        return models, scores"
   ]
  },
  {
   "cell_type": "code",
   "execution_count": 59,
   "metadata": {},
   "outputs": [
    {
     "name": "stdout",
     "output_type": "stream",
     "text": [
      "---------\n",
      "fold= 0\n",
      "           name  importance_split  importance_gain\n",
      "1       sakami2              9218         21663621\n",
      "2       owruby2             10160         16689718\n",
      "0   pocket_1226             11127           640644\n",
      "3        lyaka2              7528           252855\n",
      "4         uc_td              6046           140199\n",
      "6         ul_td              9285           131655\n",
      "7          u_td              7975            96863\n",
      "5    uc_ac_mean              2511            93665\n",
      "19        u_cnt              7030            93439\n",
      "16    q_ac_mean              7188            89085\n",
      "15  u_elo_theta              7249            81063\n",
      "8     u_td_p1p2              6702            73352\n",
      "20     q_ac_cnt              6421            68977\n",
      "11   up_ac_mean              6620            68750\n",
      "13    q_et_mean              5564            64248\n",
      "17    up_ac_cnt              5850            62281\n",
      "9    ut_ac_mean              5259            61034\n",
      "12           et              5675            60832\n",
      "10  ut_ac_mean2              5133            57416\n",
      "14     q_et_std              5371            55588\n",
      "18    uc_ac_cnt               688            10562\n",
      "---------\n",
      "fold= 1\n",
      "---------\n",
      "fold= 2\n",
      "---------\n",
      "fold= 3\n"
     ]
    }
   ],
   "source": [
    "trainer = SeedTrainer(pred_col, dry_run=False)\n",
    "models, score = trainer.train_model(merged)"
   ]
  },
  {
   "cell_type": "code",
   "execution_count": 60,
   "metadata": {},
   "outputs": [],
   "source": [
    "for i in range(4):\n",
    "    models[i].save_model(f\"./ensemble_model_0101_all{i}.lgb\")"
   ]
  },
  {
   "cell_type": "code",
   "execution_count": null,
   "metadata": {},
   "outputs": [],
   "source": []
  },
  {
   "cell_type": "code",
   "execution_count": null,
   "metadata": {},
   "outputs": [],
   "source": []
  },
  {
   "cell_type": "code",
   "execution_count": null,
   "metadata": {},
   "outputs": [],
   "source": []
  },
  {
   "cell_type": "code",
   "execution_count": null,
   "metadata": {},
   "outputs": [],
   "source": []
  },
  {
   "cell_type": "code",
   "execution_count": null,
   "metadata": {},
   "outputs": [],
   "source": []
  },
  {
   "cell_type": "code",
   "execution_count": 22,
   "metadata": {},
   "outputs": [
    {
     "data": {
      "text/plain": [
       "0.8115313781174149"
      ]
     },
     "execution_count": 22,
     "metadata": {},
     "output_type": "execute_result"
    }
   ],
   "source": [
    "metrics.roc_auc_score(merged2[\"label\"], merged2[\"ranked_3avg\"])"
   ]
  },
  {
   "cell_type": "code",
   "execution_count": 17,
   "metadata": {},
   "outputs": [
    {
     "name": "stdout",
     "output_type": "stream",
     "text": [
      "1.5 0.8115757793963951\n",
      "1.75 0.8115617807361065\n",
      "2 0.8115436387419797\n",
      "2.25 0.8115220983411143\n",
      "2.5 0.8114978412488558\n",
      "3 0.811442840131525\n",
      "3.5 0.8113818106061845\n",
      "4 0.8113171371978005\n"
     ]
    }
   ],
   "source": [
    "for power in [1.5, 1.75, 2, 2.25, 2.5, 3, 3.5, 4]:\n",
    "    merged2[\"power_mean\"] = (merged2[\"sakami\"]**power + merged2[\"owruby\"]**power + merged2[\"pocket_1223\"]**power)\n",
    "    score = metrics.roc_auc_score(merged2[\"label\"], merged2[\"power_mean\"])\n",
    "    print(power, score)"
   ]
  },
  {
   "cell_type": "code",
   "execution_count": null,
   "metadata": {},
   "outputs": [],
   "source": []
  },
  {
   "cell_type": "code",
   "execution_count": null,
   "metadata": {},
   "outputs": [],
   "source": []
  }
 ],
 "metadata": {
  "kernelspec": {
   "display_name": "Python 3",
   "language": "python",
   "name": "python3"
  },
  "language_info": {
   "codemirror_mode": {
    "name": "ipython",
    "version": 3
   },
   "file_extension": ".py",
   "mimetype": "text/x-python",
   "name": "python",
   "nbconvert_exporter": "python",
   "pygments_lexer": "ipython3",
   "version": "3.7.9"
  }
 },
 "nbformat": 4,
 "nbformat_minor": 4
}
