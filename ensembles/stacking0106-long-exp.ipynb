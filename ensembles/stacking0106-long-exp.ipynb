{
 "cells": [
  {
   "cell_type": "code",
   "execution_count": 68,
   "metadata": {},
   "outputs": [],
   "source": [
    "import json\n",
    "from collections import Counter, defaultdict, deque\n",
    "import gc\n",
    "\n",
    "import numpy as np\n",
    "import pandas as pd\n",
    "import glob\n",
    "import time\n",
    "from tqdm import tqdm\n",
    "\n",
    "from sklearn import model_selection, metrics\n",
    "from sklearn.cluster import KMeans\n",
    "import matplotlib.pyplot as plt\n",
    "import seaborn as sn\n",
    "\n",
    "import lightgbm as lgb\n",
    "from scipy.stats import skew\n",
    "\n",
    "import feather\n",
    "import pickle\n",
    "import h5py\n",
    "\n",
    "from concurrent import futures\n",
    "#import riiideducation"
   ]
  },
  {
   "cell_type": "code",
   "execution_count": 69,
   "metadata": {},
   "outputs": [],
   "source": [
    "# lyaka1 = np.load(\"./ssakt15_valid_preds.npy\")\n",
    "# lyaka2 = np.load(\"./ssakt31_valid_preds.npy\")\n",
    "# sakami[\"lyaka1\"] = lyaka1\n",
    "# sakami[\"lyaka2\"] = lyaka2"
   ]
  },
  {
   "cell_type": "code",
   "execution_count": 70,
   "metadata": {},
   "outputs": [],
   "source": [
    "owruby =  pd.read_csv(\"./owruby/owruby_old_large.csv\")"
   ]
  },
  {
   "cell_type": "code",
   "execution_count": 71,
   "metadata": {},
   "outputs": [
    {
     "data": {
      "text/html": [
       "<div>\n",
       "<style scoped>\n",
       "    .dataframe tbody tr th:only-of-type {\n",
       "        vertical-align: middle;\n",
       "    }\n",
       "\n",
       "    .dataframe tbody tr th {\n",
       "        vertical-align: top;\n",
       "    }\n",
       "\n",
       "    .dataframe thead th {\n",
       "        text-align: right;\n",
       "    }\n",
       "</style>\n",
       "<table border=\"1\" class=\"dataframe\">\n",
       "  <thead>\n",
       "    <tr style=\"text-align: right;\">\n",
       "      <th></th>\n",
       "      <th>row_id</th>\n",
       "      <th>answered_correctly</th>\n",
       "      <th>label</th>\n",
       "    </tr>\n",
       "  </thead>\n",
       "  <tbody>\n",
       "    <tr>\n",
       "      <th>0</th>\n",
       "      <td>70629059</td>\n",
       "      <td>0.881129</td>\n",
       "      <td>1</td>\n",
       "    </tr>\n",
       "    <tr>\n",
       "      <th>1</th>\n",
       "      <td>70629060</td>\n",
       "      <td>0.846699</td>\n",
       "      <td>1</td>\n",
       "    </tr>\n",
       "  </tbody>\n",
       "</table>\n",
       "</div>"
      ],
      "text/plain": [
       "     row_id  answered_correctly  label\n",
       "0  70629059            0.881129      1\n",
       "1  70629060            0.846699      1"
      ]
     },
     "execution_count": 71,
     "metadata": {},
     "output_type": "execute_result"
    }
   ],
   "source": [
    "owruby.head(2)"
   ]
  },
  {
   "cell_type": "code",
   "execution_count": 72,
   "metadata": {},
   "outputs": [],
   "source": [
    "sakami_rows = owruby[[\"row_id\"]].sort_values(by=\"row_id\")"
   ]
  },
  {
   "cell_type": "code",
   "execution_count": 73,
   "metadata": {},
   "outputs": [],
   "source": [
    "sakami_rows[\"sakami181\"] = np.load(\"./sakami/sakami181_old.npy\")\n",
    "sakami_rows[\"sakami188\"] = np.load(\"./sakami/sakami188_old.npy\")\n",
    "sakami_rows[\"sakami189\"] = np.load(\"./sakami/sakami189_old.npy\")\n",
    "sakami_rows[\"sakami194\"] = np.load(\"./sakami/sakami194_old.npy\")\n",
    "sakami_rows[\"sakami195\"] = np.load(\"./sakami/sakami195_old.npy\")\n",
    "sakami_rows[\"sakami199\"] = np.load(\"./sakami/sakami199_old.npy\")"
   ]
  },
  {
   "cell_type": "code",
   "execution_count": 74,
   "metadata": {},
   "outputs": [
    {
     "data": {
      "text/html": [
       "<div>\n",
       "<style scoped>\n",
       "    .dataframe tbody tr th:only-of-type {\n",
       "        vertical-align: middle;\n",
       "    }\n",
       "\n",
       "    .dataframe tbody tr th {\n",
       "        vertical-align: top;\n",
       "    }\n",
       "\n",
       "    .dataframe thead th {\n",
       "        text-align: right;\n",
       "    }\n",
       "</style>\n",
       "<table border=\"1\" class=\"dataframe\">\n",
       "  <thead>\n",
       "    <tr style=\"text-align: right;\">\n",
       "      <th></th>\n",
       "      <th>row_id</th>\n",
       "      <th>sakami181</th>\n",
       "      <th>sakami188</th>\n",
       "      <th>sakami189</th>\n",
       "      <th>sakami194</th>\n",
       "      <th>sakami195</th>\n",
       "      <th>sakami199</th>\n",
       "    </tr>\n",
       "  </thead>\n",
       "  <tbody>\n",
       "    <tr>\n",
       "      <th>608902</th>\n",
       "      <td>96</td>\n",
       "      <td>0.312084</td>\n",
       "      <td>0.349430</td>\n",
       "      <td>0.275476</td>\n",
       "      <td>0.345089</td>\n",
       "      <td>0.314714</td>\n",
       "      <td>0.306979</td>\n",
       "    </tr>\n",
       "    <tr>\n",
       "      <th>608949</th>\n",
       "      <td>97</td>\n",
       "      <td>0.290176</td>\n",
       "      <td>0.320404</td>\n",
       "      <td>0.289015</td>\n",
       "      <td>0.420256</td>\n",
       "      <td>0.319085</td>\n",
       "      <td>0.298901</td>\n",
       "    </tr>\n",
       "  </tbody>\n",
       "</table>\n",
       "</div>"
      ],
      "text/plain": [
       "        row_id  sakami181  sakami188  sakami189  sakami194  sakami195  \\\n",
       "608902      96   0.312084   0.349430   0.275476   0.345089   0.314714   \n",
       "608949      97   0.290176   0.320404   0.289015   0.420256   0.319085   \n",
       "\n",
       "        sakami199  \n",
       "608902   0.306979  \n",
       "608949   0.298901  "
      ]
     },
     "execution_count": 74,
     "metadata": {},
     "output_type": "execute_result"
    }
   ],
   "source": [
    "sakami_rows.head(2)"
   ]
  },
  {
   "cell_type": "code",
   "execution_count": 75,
   "metadata": {},
   "outputs": [],
   "source": [
    "lyaka = np.load(\"./lyaka/lyaka_old.npy\")"
   ]
  },
  {
   "cell_type": "code",
   "execution_count": 76,
   "metadata": {},
   "outputs": [],
   "source": [
    "sakami_rows[\"lyaka\"] = lyaka"
   ]
  },
  {
   "cell_type": "code",
   "execution_count": 77,
   "metadata": {},
   "outputs": [
    {
     "data": {
      "text/html": [
       "<div>\n",
       "<style scoped>\n",
       "    .dataframe tbody tr th:only-of-type {\n",
       "        vertical-align: middle;\n",
       "    }\n",
       "\n",
       "    .dataframe tbody tr th {\n",
       "        vertical-align: top;\n",
       "    }\n",
       "\n",
       "    .dataframe thead th {\n",
       "        text-align: right;\n",
       "    }\n",
       "</style>\n",
       "<table border=\"1\" class=\"dataframe\">\n",
       "  <thead>\n",
       "    <tr style=\"text-align: right;\">\n",
       "      <th></th>\n",
       "      <th>row_id</th>\n",
       "      <th>answered_correctly</th>\n",
       "      <th>label</th>\n",
       "      <th>sakami181</th>\n",
       "      <th>sakami188</th>\n",
       "      <th>sakami189</th>\n",
       "      <th>sakami194</th>\n",
       "      <th>sakami195</th>\n",
       "      <th>sakami199</th>\n",
       "      <th>lyaka</th>\n",
       "    </tr>\n",
       "  </thead>\n",
       "  <tbody>\n",
       "    <tr>\n",
       "      <th>0</th>\n",
       "      <td>70629059</td>\n",
       "      <td>0.881129</td>\n",
       "      <td>1</td>\n",
       "      <td>0.907971</td>\n",
       "      <td>0.921032</td>\n",
       "      <td>0.877498</td>\n",
       "      <td>0.919777</td>\n",
       "      <td>0.949675</td>\n",
       "      <td>0.933091</td>\n",
       "      <td>0.939251</td>\n",
       "    </tr>\n",
       "    <tr>\n",
       "      <th>1</th>\n",
       "      <td>70629060</td>\n",
       "      <td>0.846699</td>\n",
       "      <td>1</td>\n",
       "      <td>0.829032</td>\n",
       "      <td>0.874914</td>\n",
       "      <td>0.818954</td>\n",
       "      <td>0.858582</td>\n",
       "      <td>0.917695</td>\n",
       "      <td>0.887193</td>\n",
       "      <td>0.859678</td>\n",
       "    </tr>\n",
       "  </tbody>\n",
       "</table>\n",
       "</div>"
      ],
      "text/plain": [
       "     row_id  answered_correctly  label  sakami181  sakami188  sakami189  \\\n",
       "0  70629059            0.881129      1   0.907971   0.921032   0.877498   \n",
       "1  70629060            0.846699      1   0.829032   0.874914   0.818954   \n",
       "\n",
       "   sakami194  sakami195  sakami199     lyaka  \n",
       "0   0.919777   0.949675   0.933091  0.939251  \n",
       "1   0.858582   0.917695   0.887193  0.859678  "
      ]
     },
     "execution_count": 77,
     "metadata": {},
     "output_type": "execute_result"
    }
   ],
   "source": [
    "merged = pd.merge(owruby, sakami_rows, on=\"row_id\", how=\"inner\")\n",
    "merged.head(2)"
   ]
  },
  {
   "cell_type": "code",
   "execution_count": 78,
   "metadata": {},
   "outputs": [],
   "source": [
    "pocket = pd.read_csv(\"../pred_0106_long.csv\")"
   ]
  },
  {
   "cell_type": "code",
   "execution_count": 79,
   "metadata": {},
   "outputs": [
    {
     "data": {
      "text/html": [
       "<div>\n",
       "<style scoped>\n",
       "    .dataframe tbody tr th:only-of-type {\n",
       "        vertical-align: middle;\n",
       "    }\n",
       "\n",
       "    .dataframe tbody tr th {\n",
       "        vertical-align: top;\n",
       "    }\n",
       "\n",
       "    .dataframe thead th {\n",
       "        text-align: right;\n",
       "    }\n",
       "</style>\n",
       "<table border=\"1\" class=\"dataframe\">\n",
       "  <thead>\n",
       "    <tr style=\"text-align: right;\">\n",
       "      <th></th>\n",
       "      <th>0</th>\n",
       "    </tr>\n",
       "  </thead>\n",
       "  <tbody>\n",
       "    <tr>\n",
       "      <th>0</th>\n",
       "      <td>0.870664</td>\n",
       "    </tr>\n",
       "    <tr>\n",
       "      <th>1</th>\n",
       "      <td>0.864616</td>\n",
       "    </tr>\n",
       "  </tbody>\n",
       "</table>\n",
       "</div>"
      ],
      "text/plain": [
       "          0\n",
       "0  0.870664\n",
       "1  0.864616"
      ]
     },
     "execution_count": 79,
     "metadata": {},
     "output_type": "execute_result"
    }
   ],
   "source": [
    "pocket.head(2)"
   ]
  },
  {
   "cell_type": "code",
   "execution_count": 80,
   "metadata": {},
   "outputs": [],
   "source": [
    "merged[\"pocket\"] = pocket"
   ]
  },
  {
   "cell_type": "code",
   "execution_count": 81,
   "metadata": {},
   "outputs": [],
   "source": [
    "merged[\"owruby\"] = merged[\"answered_correctly\"]\n",
    "merged.drop(columns=\"answered_correctly\", inplace=True)"
   ]
  },
  {
   "cell_type": "code",
   "execution_count": 82,
   "metadata": {},
   "outputs": [
    {
     "data": {
      "text/html": [
       "<div>\n",
       "<style scoped>\n",
       "    .dataframe tbody tr th:only-of-type {\n",
       "        vertical-align: middle;\n",
       "    }\n",
       "\n",
       "    .dataframe tbody tr th {\n",
       "        vertical-align: top;\n",
       "    }\n",
       "\n",
       "    .dataframe thead th {\n",
       "        text-align: right;\n",
       "    }\n",
       "</style>\n",
       "<table border=\"1\" class=\"dataframe\">\n",
       "  <thead>\n",
       "    <tr style=\"text-align: right;\">\n",
       "      <th></th>\n",
       "      <th>row_id</th>\n",
       "      <th>label</th>\n",
       "      <th>sakami181</th>\n",
       "      <th>sakami188</th>\n",
       "      <th>sakami189</th>\n",
       "      <th>sakami194</th>\n",
       "      <th>sakami195</th>\n",
       "      <th>sakami199</th>\n",
       "      <th>lyaka</th>\n",
       "      <th>pocket</th>\n",
       "      <th>owruby</th>\n",
       "    </tr>\n",
       "  </thead>\n",
       "  <tbody>\n",
       "    <tr>\n",
       "      <th>0</th>\n",
       "      <td>70629059</td>\n",
       "      <td>1</td>\n",
       "      <td>0.907971</td>\n",
       "      <td>0.921032</td>\n",
       "      <td>0.877498</td>\n",
       "      <td>0.919777</td>\n",
       "      <td>0.949675</td>\n",
       "      <td>0.933091</td>\n",
       "      <td>0.939251</td>\n",
       "      <td>0.870664</td>\n",
       "      <td>0.881129</td>\n",
       "    </tr>\n",
       "    <tr>\n",
       "      <th>1</th>\n",
       "      <td>70629060</td>\n",
       "      <td>1</td>\n",
       "      <td>0.829032</td>\n",
       "      <td>0.874914</td>\n",
       "      <td>0.818954</td>\n",
       "      <td>0.858582</td>\n",
       "      <td>0.917695</td>\n",
       "      <td>0.887193</td>\n",
       "      <td>0.859678</td>\n",
       "      <td>0.864616</td>\n",
       "      <td>0.846699</td>\n",
       "    </tr>\n",
       "  </tbody>\n",
       "</table>\n",
       "</div>"
      ],
      "text/plain": [
       "     row_id  label  sakami181  sakami188  sakami189  sakami194  sakami195  \\\n",
       "0  70629059      1   0.907971   0.921032   0.877498   0.919777   0.949675   \n",
       "1  70629060      1   0.829032   0.874914   0.818954   0.858582   0.917695   \n",
       "\n",
       "   sakami199     lyaka    pocket    owruby  \n",
       "0   0.933091  0.939251  0.870664  0.881129  \n",
       "1   0.887193  0.859678  0.864616  0.846699  "
      ]
     },
     "execution_count": 82,
     "metadata": {},
     "output_type": "execute_result"
    }
   ],
   "source": [
    "merged.head(2)"
   ]
  },
  {
   "cell_type": "code",
   "execution_count": 83,
   "metadata": {},
   "outputs": [
    {
     "data": {
      "text/plain": [
       "Index(['row_id', 'label', 'sakami181', 'sakami188', 'sakami189', 'sakami194',\n",
       "       'sakami195', 'sakami199', 'lyaka', 'pocket', 'owruby'],\n",
       "      dtype='object')"
      ]
     },
     "execution_count": 83,
     "metadata": {},
     "output_type": "execute_result"
    }
   ],
   "source": [
    "merged.columns"
   ]
  },
  {
   "cell_type": "code",
   "execution_count": 84,
   "metadata": {},
   "outputs": [],
   "source": [
    "valid_feats = pd.read_feather(\"../valid_0106.feather\")"
   ]
  },
  {
   "cell_type": "code",
   "execution_count": 85,
   "metadata": {},
   "outputs": [
    {
     "data": {
      "text/html": [
       "<div>\n",
       "<style scoped>\n",
       "    .dataframe tbody tr th:only-of-type {\n",
       "        vertical-align: middle;\n",
       "    }\n",
       "\n",
       "    .dataframe tbody tr th {\n",
       "        vertical-align: top;\n",
       "    }\n",
       "\n",
       "    .dataframe thead th {\n",
       "        text-align: right;\n",
       "    }\n",
       "</style>\n",
       "<table border=\"1\" class=\"dataframe\">\n",
       "  <thead>\n",
       "    <tr style=\"text-align: right;\">\n",
       "      <th></th>\n",
       "      <th>index</th>\n",
       "      <th>row_id</th>\n",
       "      <th>user_id</th>\n",
       "      <th>ac</th>\n",
       "      <th>et</th>\n",
       "      <th>q_ac_mean</th>\n",
       "      <th>q_ac_cnt</th>\n",
       "      <th>q_et_mean</th>\n",
       "      <th>q_et_cnt</th>\n",
       "      <th>q_et_std</th>\n",
       "      <th>...</th>\n",
       "      <th>u_td_p4p5</th>\n",
       "      <th>u_td_p5p6</th>\n",
       "      <th>u_td_p6p7</th>\n",
       "      <th>u_td_p7p8</th>\n",
       "      <th>u_td_p8p9</th>\n",
       "      <th>u_td_p9p10</th>\n",
       "      <th>ut_ac_mean</th>\n",
       "      <th>ut_ac_mean2</th>\n",
       "      <th>u_ok_ts</th>\n",
       "      <th>u_ng_ts</th>\n",
       "    </tr>\n",
       "  </thead>\n",
       "  <tbody>\n",
       "    <tr>\n",
       "      <th>0</th>\n",
       "      <td>96130348</td>\n",
       "      <td>70629059</td>\n",
       "      <td>1503172082</td>\n",
       "      <td>1</td>\n",
       "      <td>93333.0</td>\n",
       "      <td>0.890898</td>\n",
       "      <td>15875</td>\n",
       "      <td>24237.519531</td>\n",
       "      <td>15875</td>\n",
       "      <td>13892.560771</td>\n",
       "      <td>...</td>\n",
       "      <td>2732487.0</td>\n",
       "      <td>143467.0</td>\n",
       "      <td>190046.0</td>\n",
       "      <td>182226.0</td>\n",
       "      <td>190944.0</td>\n",
       "      <td>110019856.0</td>\n",
       "      <td>0.705882</td>\n",
       "      <td>0.688819</td>\n",
       "      <td>-9272200.0</td>\n",
       "      <td>-9597517.0</td>\n",
       "    </tr>\n",
       "    <tr>\n",
       "      <th>1</th>\n",
       "      <td>96130349</td>\n",
       "      <td>70629060</td>\n",
       "      <td>1503172082</td>\n",
       "      <td>1</td>\n",
       "      <td>93333.0</td>\n",
       "      <td>0.872811</td>\n",
       "      <td>15874</td>\n",
       "      <td>24237.470703</td>\n",
       "      <td>15874</td>\n",
       "      <td>13892.997062</td>\n",
       "      <td>...</td>\n",
       "      <td>454170.0</td>\n",
       "      <td>2732487.0</td>\n",
       "      <td>143467.0</td>\n",
       "      <td>190046.0</td>\n",
       "      <td>182226.0</td>\n",
       "      <td>190944.0</td>\n",
       "      <td>0.737113</td>\n",
       "      <td>0.711192</td>\n",
       "      <td>-9272200.0</td>\n",
       "      <td>-9597517.0</td>\n",
       "    </tr>\n",
       "  </tbody>\n",
       "</table>\n",
       "<p>2 rows × 83 columns</p>\n",
       "</div>"
      ],
      "text/plain": [
       "      index    row_id     user_id  ac       et  q_ac_mean  q_ac_cnt  \\\n",
       "0  96130348  70629059  1503172082   1  93333.0   0.890898     15875   \n",
       "1  96130349  70629060  1503172082   1  93333.0   0.872811     15874   \n",
       "\n",
       "      q_et_mean  q_et_cnt      q_et_std  ...  u_td_p4p5  u_td_p5p6  u_td_p6p7  \\\n",
       "0  24237.519531     15875  13892.560771  ...  2732487.0   143467.0   190046.0   \n",
       "1  24237.470703     15874  13892.997062  ...   454170.0  2732487.0   143467.0   \n",
       "\n",
       "   u_td_p7p8  u_td_p8p9   u_td_p9p10  ut_ac_mean  ut_ac_mean2    u_ok_ts  \\\n",
       "0   182226.0   190944.0  110019856.0    0.705882     0.688819 -9272200.0   \n",
       "1   190046.0   182226.0     190944.0    0.737113     0.711192 -9272200.0   \n",
       "\n",
       "     u_ng_ts  \n",
       "0 -9597517.0  \n",
       "1 -9597517.0  \n",
       "\n",
       "[2 rows x 83 columns]"
      ]
     },
     "execution_count": 85,
     "metadata": {},
     "output_type": "execute_result"
    }
   ],
   "source": [
    "valid_feats.head(2)"
   ]
  },
  {
   "cell_type": "code",
   "execution_count": 86,
   "metadata": {},
   "outputs": [
    {
     "data": {
      "text/plain": [
       "(5000000, 83)"
      ]
     },
     "execution_count": 86,
     "metadata": {},
     "output_type": "execute_result"
    }
   ],
   "source": [
    "valid_feats.shape"
   ]
  },
  {
   "cell_type": "code",
   "execution_count": 87,
   "metadata": {},
   "outputs": [],
   "source": [
    "merged = pd.merge(merged, valid_feats, on=\"row_id\", how=\"inner\")"
   ]
  },
  {
   "cell_type": "code",
   "execution_count": 88,
   "metadata": {},
   "outputs": [
    {
     "data": {
      "text/html": [
       "<div>\n",
       "<style scoped>\n",
       "    .dataframe tbody tr th:only-of-type {\n",
       "        vertical-align: middle;\n",
       "    }\n",
       "\n",
       "    .dataframe tbody tr th {\n",
       "        vertical-align: top;\n",
       "    }\n",
       "\n",
       "    .dataframe thead th {\n",
       "        text-align: right;\n",
       "    }\n",
       "</style>\n",
       "<table border=\"1\" class=\"dataframe\">\n",
       "  <thead>\n",
       "    <tr style=\"text-align: right;\">\n",
       "      <th></th>\n",
       "      <th>row_id</th>\n",
       "      <th>label</th>\n",
       "      <th>sakami181</th>\n",
       "      <th>sakami188</th>\n",
       "      <th>sakami189</th>\n",
       "      <th>sakami194</th>\n",
       "      <th>sakami195</th>\n",
       "      <th>sakami199</th>\n",
       "      <th>lyaka</th>\n",
       "      <th>pocket</th>\n",
       "      <th>...</th>\n",
       "      <th>u_td_p4p5</th>\n",
       "      <th>u_td_p5p6</th>\n",
       "      <th>u_td_p6p7</th>\n",
       "      <th>u_td_p7p8</th>\n",
       "      <th>u_td_p8p9</th>\n",
       "      <th>u_td_p9p10</th>\n",
       "      <th>ut_ac_mean</th>\n",
       "      <th>ut_ac_mean2</th>\n",
       "      <th>u_ok_ts</th>\n",
       "      <th>u_ng_ts</th>\n",
       "    </tr>\n",
       "  </thead>\n",
       "  <tbody>\n",
       "    <tr>\n",
       "      <th>0</th>\n",
       "      <td>70629059</td>\n",
       "      <td>1</td>\n",
       "      <td>0.907971</td>\n",
       "      <td>0.921032</td>\n",
       "      <td>0.877498</td>\n",
       "      <td>0.919777</td>\n",
       "      <td>0.949675</td>\n",
       "      <td>0.933091</td>\n",
       "      <td>0.939251</td>\n",
       "      <td>0.870664</td>\n",
       "      <td>...</td>\n",
       "      <td>2732487.0</td>\n",
       "      <td>143467.0</td>\n",
       "      <td>190046.0</td>\n",
       "      <td>182226.0</td>\n",
       "      <td>190944.0</td>\n",
       "      <td>110019856.0</td>\n",
       "      <td>0.705882</td>\n",
       "      <td>0.688819</td>\n",
       "      <td>-9272200.0</td>\n",
       "      <td>-9597517.0</td>\n",
       "    </tr>\n",
       "    <tr>\n",
       "      <th>1</th>\n",
       "      <td>70629060</td>\n",
       "      <td>1</td>\n",
       "      <td>0.829032</td>\n",
       "      <td>0.874914</td>\n",
       "      <td>0.818954</td>\n",
       "      <td>0.858582</td>\n",
       "      <td>0.917695</td>\n",
       "      <td>0.887193</td>\n",
       "      <td>0.859678</td>\n",
       "      <td>0.864616</td>\n",
       "      <td>...</td>\n",
       "      <td>454170.0</td>\n",
       "      <td>2732487.0</td>\n",
       "      <td>143467.0</td>\n",
       "      <td>190046.0</td>\n",
       "      <td>182226.0</td>\n",
       "      <td>190944.0</td>\n",
       "      <td>0.737113</td>\n",
       "      <td>0.711192</td>\n",
       "      <td>-9272200.0</td>\n",
       "      <td>-9597517.0</td>\n",
       "    </tr>\n",
       "  </tbody>\n",
       "</table>\n",
       "<p>2 rows × 93 columns</p>\n",
       "</div>"
      ],
      "text/plain": [
       "     row_id  label  sakami181  sakami188  sakami189  sakami194  sakami195  \\\n",
       "0  70629059      1   0.907971   0.921032   0.877498   0.919777   0.949675   \n",
       "1  70629060      1   0.829032   0.874914   0.818954   0.858582   0.917695   \n",
       "\n",
       "   sakami199     lyaka    pocket  ...  u_td_p4p5  u_td_p5p6  u_td_p6p7  \\\n",
       "0   0.933091  0.939251  0.870664  ...  2732487.0   143467.0   190046.0   \n",
       "1   0.887193  0.859678  0.864616  ...   454170.0  2732487.0   143467.0   \n",
       "\n",
       "   u_td_p7p8  u_td_p8p9   u_td_p9p10  ut_ac_mean  ut_ac_mean2    u_ok_ts  \\\n",
       "0   182226.0   190944.0  110019856.0    0.705882     0.688819 -9272200.0   \n",
       "1   190046.0   182226.0     190944.0    0.737113     0.711192 -9272200.0   \n",
       "\n",
       "     u_ng_ts  \n",
       "0 -9597517.0  \n",
       "1 -9597517.0  \n",
       "\n",
       "[2 rows x 93 columns]"
      ]
     },
     "execution_count": 88,
     "metadata": {},
     "output_type": "execute_result"
    }
   ],
   "source": [
    "merged.head(2)"
   ]
  },
  {
   "cell_type": "code",
   "execution_count": null,
   "metadata": {},
   "outputs": [],
   "source": []
  },
  {
   "cell_type": "code",
   "execution_count": 89,
   "metadata": {},
   "outputs": [],
   "source": [
    "class SingleLgb:\n",
    "    def __init__(self, seed=99, dry_run=False):\n",
    "        self.train_param = self.get_param(seed)\n",
    "        if dry_run:\n",
    "            self.num_rounds = 100\n",
    "        else:\n",
    "            self.num_rounds = 1100\n",
    "\n",
    "    def do_train_direct(self, x_train, x_test, y_train, y_test):\n",
    "        lgb_train = lgb.Dataset(x_train, y_train)\n",
    "        lgb_eval = lgb.Dataset(x_test, y_test)\n",
    "\n",
    "        # print('Start training...')\n",
    "        model = lgb.train(self.train_param,\n",
    "                          lgb_train,\n",
    "                          valid_sets=[lgb_eval],\n",
    "                          verbose_eval=100,\n",
    "                          num_boost_round=self.num_rounds,\n",
    "                          early_stopping_rounds=100,\n",
    "                          #categorical_feature=[]\n",
    "                         )\n",
    "        # print('End training...')\n",
    "        return model\n",
    "\n",
    "    @staticmethod\n",
    "    def show_feature_importance(model, filename=None):\n",
    "        fi = pd.DataFrame({\n",
    "            \"name\": model.feature_name(),\n",
    "            \"importance_split\": model.feature_importance(importance_type=\"split\").astype(int),\n",
    "            \"importance_gain\": model.feature_importance(importance_type=\"gain\").astype(int),\n",
    "        })\n",
    "        fi = fi.sort_values(by=\"importance_gain\", ascending=False)\n",
    "        #print(fi)\n",
    "        with pd.option_context('display.max_rows', None, 'display.max_columns', None):  # more options can be specified also\n",
    "            print(fi)\n",
    "\n",
    "    @staticmethod\n",
    "    def get_param(seed):\n",
    "        return {\n",
    "            'num_leaves': 127,\n",
    "            'min_data_in_leaf': 100,\n",
    "            'objective': 'binary',\n",
    "            #'metric': 'auc',\n",
    "            'metric': 'binary_logloss',\n",
    "            'max_depth': -1,\n",
    "            'learning_rate': 0.02,\n",
    "            \"boosting\": \"gbdt\",\n",
    "            \"feature_fraction\": 0.9,\n",
    "            \"verbosity\": -1,\n",
    "            \"random_state\": seed,\n",
    "        }\n",
    "    \n",
    "class SingleTrainer:\n",
    "    def __init__(self, pred_col, dry_run=False):\n",
    "        self.pred_col = pred_col\n",
    "        self.target_col = \"ac\"\n",
    "        self.dry_run = dry_run\n",
    "        self.val_size = 2*1000*1000\n",
    "    \n",
    "    def train_model(self, df):\n",
    "        X = df[self.pred_col]\n",
    "        y = df[self.target_col]\n",
    "        \n",
    "        models, scores = list(), list()\n",
    "        for fold in range(3):\n",
    "            print(\"---------\")\n",
    "            print(\"fold=\", fold)\n",
    "            f, c = fold, self.val_size\n",
    "            val_s, val_e = -c-f*500*1000, len(df)-f*500*1000\n",
    "            train_idx = -c-f*500*1000\n",
    "            X_train, X_val = X.iloc[:train_idx], X.iloc[val_s:val_e]\n",
    "            y_train, y_val = y.iloc[:train_idx], y.iloc[val_s:val_e]\n",
    "            print(X_train.shape, X_val.shape)\n",
    "            \n",
    "            lgbm = SingleLgb(seed=99, dry_run=self.dry_run)\n",
    "            model = lgbm.do_train_direct(X_train, X_val, y_train, y_val)\n",
    "            score = model.best_score[\"valid_0\"][\"binary_logloss\"]\n",
    "            pred = model.predict(X_val)\n",
    "            score = metrics.roc_auc_score(y_val, pred)\n",
    "            print(\"AUC=\", score)\n",
    "            if fold == 0:\n",
    "                lgbm.show_feature_importance(model)\n",
    "            models.append(model)\n",
    "            scores.append(score)\n",
    "            break\n",
    "        return models, np.mean(scores)"
   ]
  },
  {
   "cell_type": "code",
   "execution_count": null,
   "metadata": {},
   "outputs": [],
   "source": []
  },
  {
   "cell_type": "code",
   "execution_count": 90,
   "metadata": {},
   "outputs": [],
   "source": [
    "# pred_col = [\n",
    "#     \"et\",  \"q_ac_cnt\",  'b_ac_mean', 'b_ac_cnt', \"q_ac_mean\",\n",
    "#     \"u_ac_mean\", \"u_cnt\", \"u_qm_mean\", #\"u_td\", #\"uc_td\",\n",
    "#     \"u_ac_cnt\", #\"u_et_cnt\"\n",
    "#     'u_ok_qm_mean', 'u_ng_qm_mean',\n",
    "#     'q_et_mean', 'q_et_cnt', 'q_et_std',\n",
    "#    \"up_ac_cnt\", \"up_ac_mean\",\n",
    "#     \"u_td\", \n",
    "#     \"q_ng_uac_mean\",\"q_ok_uac_mean\", \"q_ok_uac_std\", \"q_ng_uac_std\",\n",
    "#     \"correct_answer\",\n",
    "#     \"u_ac_mean20\",\n",
    "#     \"ulr_ac_mean\", #\"ulr_ac_cnt\",  \"ub_cnt\",\n",
    "#     \"ut_ac_mean\",\"ut_ac_mean2\",\n",
    "#     \"uca_ac_mean\", \n",
    "#     \"ul_td\", \"u_td_wl\", \n",
    "#     #\"q_pqhe_true_uac_mean\", \"q_pqhe_true_uac_std\", \"q_pqhe_false_uac_mean\", \"q_pqhe_false_uac_std\",\n",
    "#     #\"pqhe\",\n",
    "#     \"uc_td\", \"uc_ac_mean\", \"uc_ac_cnt\", \n",
    "#     #\"u_td_final\", #\"ub_td_final\"\n",
    "#     'u_td_tp1','u_td_p1p2', 'u_td_p2p3', 'u_td_p3p4', 'u_td_p4p5',\n",
    "#     'u_td_p5p6', 'u_td_p6p7', 'u_td_p7p8', 'u_td_p8p9', 'u_td_p9p10',\n",
    "#     \"uac_prev1\", \"uac_prev2\",\n",
    "#     \"elo_beta\", \"u_elo_theta\", \n",
    "#     \"u_rate\",\n",
    "# ]\n",
    "# nn_col = [f\"nn_svd{i}\" for i in range(20)]\n",
    "# pred_col += nn_col\n",
    "# print(pred_col)"
   ]
  },
  {
   "cell_type": "code",
   "execution_count": 91,
   "metadata": {},
   "outputs": [],
   "source": [
    "pred_col = [\n",
    "    'sakami181', 'sakami188', 'sakami189', 'sakami194', \n",
    "    #\"sakami199\", 'sakami195',  \n",
    "    'pocket', \"owruby\", \"lyaka\",\n",
    "    \"uc_td\", \"uc_ac_mean\", \"uc_ac_cnt\", \n",
    "    \"ul_td\", \"u_td\", \"u_td_p1p2\", \n",
    "    \"ut_ac_mean\", \"ut_ac_mean2\",\n",
    "    \"up_ac_mean\",\n",
    "    \"et\", \"q_et_mean\", \"q_et_std\",\n",
    "    \"u_elo_theta\",\"q_ac_mean\",  #\"ulr_elo_mean\", \"up_elo_mean\",\n",
    "    \"up_ac_cnt\", \"u_cnt\", \"q_ac_cnt\"\n",
    "]\n",
    "\n"
   ]
  },
  {
   "cell_type": "code",
   "execution_count": 92,
   "metadata": {},
   "outputs": [],
   "source": [
    "#sorted_df = merged.sort_values(by=\"row_id\")"
   ]
  },
  {
   "cell_type": "code",
   "execution_count": 93,
   "metadata": {},
   "outputs": [
    {
     "name": "stdout",
     "output_type": "stream",
     "text": [
      "---------\n",
      "fold= 0\n",
      "(3000000, 24) (2000000, 24)\n",
      "Training until validation scores don't improve for 100 rounds\n",
      "[100]\tvalid_0's binary_logloss: 0.504191\n",
      "[200]\tvalid_0's binary_logloss: 0.497985\n",
      "[300]\tvalid_0's binary_logloss: 0.497551\n",
      "[400]\tvalid_0's binary_logloss: 0.497476\n",
      "[500]\tvalid_0's binary_logloss: 0.49745\n",
      "[600]\tvalid_0's binary_logloss: 0.497443\n",
      "[700]\tvalid_0's binary_logloss: 0.497441\n",
      "Early stopping, best iteration is:\n",
      "[632]\tvalid_0's binary_logloss: 0.497438\n",
      "AUC= 0.8148679935292612\n",
      "           name  importance_split  importance_gain\n",
      "5        owruby              5573         14322262\n",
      "0     sakami181              3459          6318971\n",
      "1     sakami188              3866          2224057\n",
      "4        pocket              7126           429126\n",
      "2     sakami189              3334           111060\n",
      "6         lyaka              3298            96306\n",
      "3     sakami194              3047            96266\n",
      "10        ul_td              4822            72254\n",
      "7         uc_td              3250            67586\n",
      "22        u_cnt              3797            55613\n",
      "8    uc_ac_mean              1862            53060\n",
      "20    q_ac_mean              3921            50891\n",
      "11         u_td              3860            48859\n",
      "19  u_elo_theta              3459            39465\n",
      "12    u_td_p1p2              3068            34379\n",
      "23     q_ac_cnt              2958            33533\n",
      "15   up_ac_mean              3000            33458\n",
      "16           et              2782            31222\n",
      "21    up_ac_cnt              2626            31046\n",
      "13   ut_ac_mean              2539            31015\n",
      "17    q_et_mean              2624            30337\n",
      "14  ut_ac_mean2              2495            29530\n",
      "18     q_et_std              2513            27291\n",
      "9     uc_ac_cnt               353             4736\n"
     ]
    }
   ],
   "source": [
    "trainer = SingleTrainer(pred_col, dry_run=False)\n",
    "models, score = trainer.train_model(merged)"
   ]
  },
  {
   "cell_type": "code",
   "execution_count": 94,
   "metadata": {},
   "outputs": [],
   "source": [
    "# trainer = SingleTrainer(pred_col, dry_run=False)\n",
    "# models, score = trainer.seed_avg_model(merged)"
   ]
  },
  {
   "cell_type": "code",
   "execution_count": 95,
   "metadata": {},
   "outputs": [],
   "source": [
    "# final_valid = merged.iloc[-2*1000*1000:]\n",
    "# preds = []\n",
    "# for model in models:\n",
    "#     pred_y = models[0].predict(final_valid[pred_col])\n",
    "#     preds.append(pred_y)\n",
    "# final_pred = (preds[0] +  preds[1] +  preds[2] +  preds[3])/4\n",
    "# final_pred.shape\n",
    "# score = metrics.roc_auc_score(final_valid[\"ac\"], final_pred)\n",
    "# print(score)"
   ]
  },
  {
   "cell_type": "code",
   "execution_count": 96,
   "metadata": {},
   "outputs": [],
   "source": [
    "# new valid 3m-2m, 20feats: "
   ]
  },
  {
   "cell_type": "code",
   "execution_count": 97,
   "metadata": {},
   "outputs": [
    {
     "data": {
      "text/plain": [
       "<lightgbm.basic.Booster at 0x7fb441294610>"
      ]
     },
     "execution_count": 97,
     "metadata": {},
     "output_type": "execute_result"
    }
   ],
   "source": [
    "models[0].save_model(\"./ensemble_model_0106_large_fast.lgb\")"
   ]
  },
  {
   "cell_type": "code",
   "execution_count": 36,
   "metadata": {},
   "outputs": [
    {
     "data": {
      "text/plain": [
       "3000000    25708400\n",
       "3000001    25708401\n",
       "3000002    25708402\n",
       "3000003    25708403\n",
       "3000004    25708404\n",
       "             ...   \n",
       "4999995    26498141\n",
       "4999996    26498142\n",
       "4999997    26498143\n",
       "4999998    26498144\n",
       "4999999    32938743\n",
       "Name: row_id, Length: 2000000, dtype: int64"
      ]
     },
     "execution_count": 36,
     "metadata": {},
     "output_type": "execute_result"
    }
   ],
   "source": [
    "merged.iloc[-2*1000*1000:][\"row_id\"]"
   ]
  },
  {
   "cell_type": "code",
   "execution_count": 37,
   "metadata": {},
   "outputs": [],
   "source": [
    "final_pred = models[0].predict(merged.iloc[-2*1000*1000:][pred_col])"
   ]
  },
  {
   "cell_type": "code",
   "execution_count": 38,
   "metadata": {},
   "outputs": [
    {
     "data": {
      "text/plain": [
       "(2000000,)"
      ]
     },
     "execution_count": 38,
     "metadata": {},
     "output_type": "execute_result"
    }
   ],
   "source": [
    "final_pred.shape"
   ]
  },
  {
   "cell_type": "code",
   "execution_count": 39,
   "metadata": {},
   "outputs": [],
   "source": [
    "final_pred_df = pd.DataFrame({\n",
    "    \"row_id\": merged.iloc[-2*1000*1000:][\"row_id\"],\n",
    "    \"pocket_pred\": final_pred\n",
    "})"
   ]
  },
  {
   "cell_type": "code",
   "execution_count": 40,
   "metadata": {},
   "outputs": [
    {
     "data": {
      "text/html": [
       "<div>\n",
       "<style scoped>\n",
       "    .dataframe tbody tr th:only-of-type {\n",
       "        vertical-align: middle;\n",
       "    }\n",
       "\n",
       "    .dataframe tbody tr th {\n",
       "        vertical-align: top;\n",
       "    }\n",
       "\n",
       "    .dataframe thead th {\n",
       "        text-align: right;\n",
       "    }\n",
       "</style>\n",
       "<table border=\"1\" class=\"dataframe\">\n",
       "  <thead>\n",
       "    <tr style=\"text-align: right;\">\n",
       "      <th></th>\n",
       "      <th>row_id</th>\n",
       "      <th>pocket_pred</th>\n",
       "    </tr>\n",
       "  </thead>\n",
       "  <tbody>\n",
       "    <tr>\n",
       "      <th>3000000</th>\n",
       "      <td>25708400</td>\n",
       "      <td>0.684089</td>\n",
       "    </tr>\n",
       "    <tr>\n",
       "      <th>3000001</th>\n",
       "      <td>25708401</td>\n",
       "      <td>0.932540</td>\n",
       "    </tr>\n",
       "  </tbody>\n",
       "</table>\n",
       "</div>"
      ],
      "text/plain": [
       "           row_id  pocket_pred\n",
       "3000000  25708400     0.684089\n",
       "3000001  25708401     0.932540"
      ]
     },
     "execution_count": 40,
     "metadata": {},
     "output_type": "execute_result"
    }
   ],
   "source": [
    "final_pred_df.head(2)"
   ]
  },
  {
   "cell_type": "code",
   "execution_count": 41,
   "metadata": {},
   "outputs": [],
   "source": [
    "final_pred_df.to_csv(\"old_valid_large_pocket_stack_pred.csv\")"
   ]
  },
  {
   "cell_type": "code",
   "execution_count": null,
   "metadata": {},
   "outputs": [],
   "source": [
    "# before lyaka 8140\n",
    "# after sakami1 8141\n",
    "# after lyaka12 8142\n",
    "# only lyaka12, no sakami1 0.81419: model0101\n",
    "# only lyaka2 0.81415\n",
    "\n",
    "# valid "
   ]
  },
  {
   "cell_type": "code",
   "execution_count": 55,
   "metadata": {},
   "outputs": [],
   "source": [
    "# base feats\n",
    "#Early stopping, best iteration is:\n",
    "#[295]\tvalid_0's binary_logloss: 0.517508\n",
    "#AUC= 0.7967711921542647\n",
    "\n",
    "# with owruby, sakami\n",
    "# [73]\tvalid_0's binary_logloss: 0.499981\n",
    "#AUC= 0.812631130956799\n",
    "\n",
    "# add pocket1223\n",
    "#AUC= 0.8130389687940041\n",
    "\n",
    "#just 3\n",
    "#AUC= 0.8119216727001559\n",
    "\n",
    "# just3 + top feats\n",
    "#0.81279"
   ]
  },
  {
   "cell_type": "code",
   "execution_count": null,
   "metadata": {},
   "outputs": [],
   "source": []
  },
  {
   "cell_type": "code",
   "execution_count": 58,
   "metadata": {},
   "outputs": [],
   "source": [
    "class SeedLgb:\n",
    "    def __init__(self, seed=99, dry_run=False):\n",
    "        self.train_param = self.get_param(seed)\n",
    "        if dry_run:\n",
    "            self.num_rounds = 100\n",
    "        else:\n",
    "            self.num_rounds = 1100\n",
    "\n",
    "    def do_train_direct(self, x_train, y_train):\n",
    "        lgb_train = lgb.Dataset(x_train, y_train)\n",
    "\n",
    "        # print('Start training...')\n",
    "        model = lgb.train(self.train_param,\n",
    "                          lgb_train,\n",
    "                          valid_sets=None,\n",
    "                          verbose_eval=100,\n",
    "                          num_boost_round=self.num_rounds,\n",
    "                          #categorical_feature=[]\n",
    "                         )\n",
    "        # print('End training...')\n",
    "        return model\n",
    "\n",
    "    @staticmethod\n",
    "    def show_feature_importance(model, filename=None):\n",
    "        fi = pd.DataFrame({\n",
    "            \"name\": model.feature_name(),\n",
    "            \"importance_split\": model.feature_importance(importance_type=\"split\").astype(int),\n",
    "            \"importance_gain\": model.feature_importance(importance_type=\"gain\").astype(int),\n",
    "        })\n",
    "        fi = fi.sort_values(by=\"importance_gain\", ascending=False)\n",
    "        #print(fi)\n",
    "        with pd.option_context('display.max_rows', None, 'display.max_columns', None):  # more options can be specified also\n",
    "            print(fi)\n",
    "\n",
    "    @staticmethod\n",
    "    def get_param(seed):\n",
    "        return {\n",
    "            'num_leaves': 127,\n",
    "            'min_data_in_leaf': 100,\n",
    "            'objective': 'binary',\n",
    "            #'metric': 'auc',\n",
    "            'metric': 'binary_logloss',\n",
    "            'max_depth': -1,\n",
    "            'learning_rate': 0.02,\n",
    "            \"boosting\": \"gbdt\",\n",
    "            \"feature_fraction\": 0.9,\n",
    "            \"verbosity\": -1,\n",
    "            \"random_state\": seed,\n",
    "        }\n",
    "    \n",
    "class SeedTrainer:\n",
    "    def __init__(self, pred_col, dry_run=False):\n",
    "        self.pred_col = pred_col\n",
    "        self.target_col = \"ac\"\n",
    "        self.dry_run = dry_run\n",
    "\n",
    "    def train_model(self, df):\n",
    "        X = df[self.pred_col]\n",
    "        y = df[self.target_col]\n",
    "        \n",
    "        models, scores = list(), list()\n",
    "        for fold in range(4):\n",
    "            print(\"---------\")\n",
    "            print(\"fold=\", fold)\n",
    "            \n",
    "            lgbm = SeedLgb(seed=fold, dry_run=self.dry_run)\n",
    "            model = lgbm.do_train_direct(X, y)\n",
    "            #score = model.best_score[\"valid_0\"][\"binary_logloss\"]\n",
    "            #pred = model.predict(X_val)\n",
    "            #score = metrics.roc_auc_score(y_val, pred)\n",
    "            #print(\"AUC=\", score)\n",
    "            if fold == 0:\n",
    "                lgbm.show_feature_importance(model)\n",
    "            models.append(model)\n",
    "            #scores.append(score)\n",
    "        return models, scores"
   ]
  },
  {
   "cell_type": "code",
   "execution_count": 59,
   "metadata": {},
   "outputs": [
    {
     "name": "stdout",
     "output_type": "stream",
     "text": [
      "---------\n",
      "fold= 0\n",
      "           name  importance_split  importance_gain\n",
      "1       sakami2              9218         21663621\n",
      "2       owruby2             10160         16689718\n",
      "0   pocket_1226             11127           640644\n",
      "3        lyaka2              7528           252855\n",
      "4         uc_td              6046           140199\n",
      "6         ul_td              9285           131655\n",
      "7          u_td              7975            96863\n",
      "5    uc_ac_mean              2511            93665\n",
      "19        u_cnt              7030            93439\n",
      "16    q_ac_mean              7188            89085\n",
      "15  u_elo_theta              7249            81063\n",
      "8     u_td_p1p2              6702            73352\n",
      "20     q_ac_cnt              6421            68977\n",
      "11   up_ac_mean              6620            68750\n",
      "13    q_et_mean              5564            64248\n",
      "17    up_ac_cnt              5850            62281\n",
      "9    ut_ac_mean              5259            61034\n",
      "12           et              5675            60832\n",
      "10  ut_ac_mean2              5133            57416\n",
      "14     q_et_std              5371            55588\n",
      "18    uc_ac_cnt               688            10562\n",
      "---------\n",
      "fold= 1\n",
      "---------\n",
      "fold= 2\n",
      "---------\n",
      "fold= 3\n"
     ]
    }
   ],
   "source": [
    "trainer = SeedTrainer(pred_col, dry_run=False)\n",
    "models, score = trainer.train_model(merged)"
   ]
  },
  {
   "cell_type": "code",
   "execution_count": 60,
   "metadata": {},
   "outputs": [],
   "source": [
    "for i in range(4):\n",
    "    models[i].save_model(f\"./ensemble_model_0101_all{i}.lgb\")"
   ]
  },
  {
   "cell_type": "code",
   "execution_count": null,
   "metadata": {},
   "outputs": [],
   "source": []
  },
  {
   "cell_type": "code",
   "execution_count": null,
   "metadata": {},
   "outputs": [],
   "source": []
  },
  {
   "cell_type": "code",
   "execution_count": null,
   "metadata": {},
   "outputs": [],
   "source": []
  },
  {
   "cell_type": "code",
   "execution_count": null,
   "metadata": {},
   "outputs": [],
   "source": []
  },
  {
   "cell_type": "code",
   "execution_count": null,
   "metadata": {},
   "outputs": [],
   "source": []
  },
  {
   "cell_type": "code",
   "execution_count": 22,
   "metadata": {},
   "outputs": [
    {
     "data": {
      "text/plain": [
       "0.8115313781174149"
      ]
     },
     "execution_count": 22,
     "metadata": {},
     "output_type": "execute_result"
    }
   ],
   "source": [
    "metrics.roc_auc_score(merged2[\"label\"], merged2[\"ranked_3avg\"])"
   ]
  },
  {
   "cell_type": "code",
   "execution_count": 17,
   "metadata": {},
   "outputs": [
    {
     "name": "stdout",
     "output_type": "stream",
     "text": [
      "1.5 0.8115757793963951\n",
      "1.75 0.8115617807361065\n",
      "2 0.8115436387419797\n",
      "2.25 0.8115220983411143\n",
      "2.5 0.8114978412488558\n",
      "3 0.811442840131525\n",
      "3.5 0.8113818106061845\n",
      "4 0.8113171371978005\n"
     ]
    }
   ],
   "source": [
    "for power in [1.5, 1.75, 2, 2.25, 2.5, 3, 3.5, 4]:\n",
    "    merged2[\"power_mean\"] = (merged2[\"sakami\"]**power + merged2[\"owruby\"]**power + merged2[\"pocket_1223\"]**power)\n",
    "    score = metrics.roc_auc_score(merged2[\"label\"], merged2[\"power_mean\"])\n",
    "    print(power, score)"
   ]
  },
  {
   "cell_type": "code",
   "execution_count": null,
   "metadata": {},
   "outputs": [],
   "source": []
  },
  {
   "cell_type": "code",
   "execution_count": null,
   "metadata": {},
   "outputs": [],
   "source": []
  }
 ],
 "metadata": {
  "kernelspec": {
   "display_name": "Python 3",
   "language": "python",
   "name": "python3"
  },
  "language_info": {
   "codemirror_mode": {
    "name": "ipython",
    "version": 3
   },
   "file_extension": ".py",
   "mimetype": "text/x-python",
   "name": "python",
   "nbconvert_exporter": "python",
   "pygments_lexer": "ipython3",
   "version": "3.7.9"
  }
 },
 "nbformat": 4,
 "nbformat_minor": 4
}
