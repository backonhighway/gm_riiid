{
 "cells": [
  {
   "cell_type": "code",
   "execution_count": 1,
   "metadata": {},
   "outputs": [],
   "source": [
    "import json\n",
    "from collections import Counter, defaultdict, deque\n",
    "import gc\n",
    "\n",
    "import numpy as np\n",
    "import pandas as pd\n",
    "import glob\n",
    "import time\n",
    "from tqdm import tqdm\n",
    "\n",
    "from sklearn import model_selection, metrics\n",
    "from sklearn.cluster import KMeans\n",
    "import matplotlib.pyplot as plt\n",
    "import seaborn as sn\n",
    "\n",
    "import lightgbm as lgb\n",
    "from scipy.stats import skew\n",
    "\n",
    "import feather\n",
    "import pickle\n",
    "import h5py\n",
    "\n",
    "from concurrent import futures\n",
    "#import riiideducation"
   ]
  },
  {
   "cell_type": "code",
   "execution_count": 2,
   "metadata": {},
   "outputs": [],
   "source": [
    "sakami = pd.read_csv(\"./sakami-1221.csv\")\n",
    "sakami2 = np.load(\"./sakami-134pp.npy\")\n",
    "sakami[\"sakami2\"] = sakami2\n",
    "pocket_1221 = pd.read_csv(\"./pred_1221.csv\")\n",
    "pocket_1223 = pd.read_csv(\"./pred_1223.csv\")\n",
    "pocket_1226 = pd.read_csv(\"./pred_1226.csv\")\n",
    "owruby = pd.read_csv(\"./owruby_v022.csv\")\n",
    "owruby2_1 = pd.read_csv(\"./owruby_v026_1.csv\")\n",
    "owruby2_2 = pd.read_csv(\"./owruby_v026_2.csv\")\n",
    "owruby2_3 = pd.read_csv(\"./owruby_v026_3.csv\")\n",
    "owruby2_4 = pd.read_csv(\"./owruby_v026_4.csv\")\n",
    "merged = owruby.copy()\n",
    "merged[\"pocket_1221\"] = pocket_1221\n",
    "merged[\"pocket_1223\"] = pocket_1223\n",
    "merged[\"pocket_1226\"] = pocket_1226\n",
    "merged[\"owruby\"] = merged[\"answered_correctly\"]\n",
    "merged[\"owruby2_1\"] = owruby2_1[\"answered_correctly\"]\n",
    "merged[\"owruby2_2\"] = owruby2_2[\"answered_correctly\"]\n",
    "merged[\"owruby2_3\"] = owruby2_3[\"answered_correctly\"]\n",
    "merged[\"owruby2_4\"] = owruby2_4[\"answered_correctly\"]\n",
    "merged.drop(columns=\"answered_correctly\", inplace=True)\n",
    "merged2 = pd.merge(merged, sakami, on=\"row_id\", how=\"inner\")\n",
    "merged2[\"sakami\"] = merged2[\"prediction\"]\n",
    "merged2.drop(columns=\"prediction\", inplace=True)\n",
    "merged2[\"owruby2\"] = (merged2[\"owruby2_1\"] + merged2[\"owruby2_2\"] + merged2[\"owruby2_3\"] + merged2[\"owruby2_4\"]) / 4"
   ]
  },
  {
   "cell_type": "code",
   "execution_count": 9,
   "metadata": {},
   "outputs": [],
   "source": [
    "pred_col = [\"pocket_1221\", \"pocket_1223\", \"pocket_1226\", \"owruby\", \"owruby2\", \"sakami\", \"sakami2\"]"
   ]
  },
  {
   "cell_type": "code",
   "execution_count": 10,
   "metadata": {},
   "outputs": [
    {
     "data": {
      "text/html": [
       "<style  type=\"text/css\" >\n",
       "#T_9c9fe3e6_49c2_11eb_b5d6_b7e87a0f7eecrow0_col0,#T_9c9fe3e6_49c2_11eb_b5d6_b7e87a0f7eecrow1_col1,#T_9c9fe3e6_49c2_11eb_b5d6_b7e87a0f7eecrow2_col2,#T_9c9fe3e6_49c2_11eb_b5d6_b7e87a0f7eecrow3_col3,#T_9c9fe3e6_49c2_11eb_b5d6_b7e87a0f7eecrow4_col4,#T_9c9fe3e6_49c2_11eb_b5d6_b7e87a0f7eecrow5_col5,#T_9c9fe3e6_49c2_11eb_b5d6_b7e87a0f7eecrow6_col6{\n",
       "            background-color:  #b40426;\n",
       "            color:  #f1f1f1;\n",
       "        }#T_9c9fe3e6_49c2_11eb_b5d6_b7e87a0f7eecrow0_col1{\n",
       "            background-color:  #f39475;\n",
       "            color:  #000000;\n",
       "        }#T_9c9fe3e6_49c2_11eb_b5d6_b7e87a0f7eecrow0_col2{\n",
       "            background-color:  #f08a6c;\n",
       "            color:  #000000;\n",
       "        }#T_9c9fe3e6_49c2_11eb_b5d6_b7e87a0f7eecrow0_col3,#T_9c9fe3e6_49c2_11eb_b5d6_b7e87a0f7eecrow0_col4,#T_9c9fe3e6_49c2_11eb_b5d6_b7e87a0f7eecrow0_col5,#T_9c9fe3e6_49c2_11eb_b5d6_b7e87a0f7eecrow0_col6,#T_9c9fe3e6_49c2_11eb_b5d6_b7e87a0f7eecrow6_col0,#T_9c9fe3e6_49c2_11eb_b5d6_b7e87a0f7eecrow6_col1,#T_9c9fe3e6_49c2_11eb_b5d6_b7e87a0f7eecrow6_col2{\n",
       "            background-color:  #3b4cc0;\n",
       "            color:  #f1f1f1;\n",
       "        }#T_9c9fe3e6_49c2_11eb_b5d6_b7e87a0f7eecrow1_col0{\n",
       "            background-color:  #ef886b;\n",
       "            color:  #000000;\n",
       "        }#T_9c9fe3e6_49c2_11eb_b5d6_b7e87a0f7eecrow1_col2,#T_9c9fe3e6_49c2_11eb_b5d6_b7e87a0f7eecrow2_col1{\n",
       "            background-color:  #cd423b;\n",
       "            color:  #f1f1f1;\n",
       "        }#T_9c9fe3e6_49c2_11eb_b5d6_b7e87a0f7eecrow1_col3,#T_9c9fe3e6_49c2_11eb_b5d6_b7e87a0f7eecrow1_col5,#T_9c9fe3e6_49c2_11eb_b5d6_b7e87a0f7eecrow1_col6{\n",
       "            background-color:  #5d7ce6;\n",
       "            color:  #000000;\n",
       "        }#T_9c9fe3e6_49c2_11eb_b5d6_b7e87a0f7eecrow1_col4{\n",
       "            background-color:  #5f7fe8;\n",
       "            color:  #000000;\n",
       "        }#T_9c9fe3e6_49c2_11eb_b5d6_b7e87a0f7eecrow2_col0{\n",
       "            background-color:  #eb7d62;\n",
       "            color:  #000000;\n",
       "        }#T_9c9fe3e6_49c2_11eb_b5d6_b7e87a0f7eecrow2_col3{\n",
       "            background-color:  #6384eb;\n",
       "            color:  #000000;\n",
       "        }#T_9c9fe3e6_49c2_11eb_b5d6_b7e87a0f7eecrow2_col4{\n",
       "            background-color:  #6687ed;\n",
       "            color:  #000000;\n",
       "        }#T_9c9fe3e6_49c2_11eb_b5d6_b7e87a0f7eecrow2_col5,#T_9c9fe3e6_49c2_11eb_b5d6_b7e87a0f7eecrow2_col6{\n",
       "            background-color:  #6282ea;\n",
       "            color:  #000000;\n",
       "        }#T_9c9fe3e6_49c2_11eb_b5d6_b7e87a0f7eecrow3_col0,#T_9c9fe3e6_49c2_11eb_b5d6_b7e87a0f7eecrow3_col1{\n",
       "            background-color:  #6a8bef;\n",
       "            color:  #000000;\n",
       "        }#T_9c9fe3e6_49c2_11eb_b5d6_b7e87a0f7eecrow3_col2{\n",
       "            background-color:  #6b8df0;\n",
       "            color:  #000000;\n",
       "        }#T_9c9fe3e6_49c2_11eb_b5d6_b7e87a0f7eecrow3_col4{\n",
       "            background-color:  #f6a385;\n",
       "            color:  #000000;\n",
       "        }#T_9c9fe3e6_49c2_11eb_b5d6_b7e87a0f7eecrow3_col5,#T_9c9fe3e6_49c2_11eb_b5d6_b7e87a0f7eecrow3_col6{\n",
       "            background-color:  #b9d0f9;\n",
       "            color:  #000000;\n",
       "        }#T_9c9fe3e6_49c2_11eb_b5d6_b7e87a0f7eecrow4_col0{\n",
       "            background-color:  #7699f6;\n",
       "            color:  #000000;\n",
       "        }#T_9c9fe3e6_49c2_11eb_b5d6_b7e87a0f7eecrow4_col1{\n",
       "            background-color:  #799cf8;\n",
       "            color:  #000000;\n",
       "        }#T_9c9fe3e6_49c2_11eb_b5d6_b7e87a0f7eecrow4_col2{\n",
       "            background-color:  #7a9df8;\n",
       "            color:  #000000;\n",
       "        }#T_9c9fe3e6_49c2_11eb_b5d6_b7e87a0f7eecrow4_col3{\n",
       "            background-color:  #f59f80;\n",
       "            color:  #000000;\n",
       "        }#T_9c9fe3e6_49c2_11eb_b5d6_b7e87a0f7eecrow4_col5,#T_9c9fe3e6_49c2_11eb_b5d6_b7e87a0f7eecrow4_col6{\n",
       "            background-color:  #d2dbe8;\n",
       "            color:  #000000;\n",
       "        }#T_9c9fe3e6_49c2_11eb_b5d6_b7e87a0f7eecrow5_col0,#T_9c9fe3e6_49c2_11eb_b5d6_b7e87a0f7eecrow5_col1,#T_9c9fe3e6_49c2_11eb_b5d6_b7e87a0f7eecrow5_col2{\n",
       "            background-color:  #3c4ec2;\n",
       "            color:  #f1f1f1;\n",
       "        }#T_9c9fe3e6_49c2_11eb_b5d6_b7e87a0f7eecrow5_col3{\n",
       "            background-color:  #94b6ff;\n",
       "            color:  #000000;\n",
       "        }#T_9c9fe3e6_49c2_11eb_b5d6_b7e87a0f7eecrow5_col4{\n",
       "            background-color:  #adc9fd;\n",
       "            color:  #000000;\n",
       "        }#T_9c9fe3e6_49c2_11eb_b5d6_b7e87a0f7eecrow5_col6,#T_9c9fe3e6_49c2_11eb_b5d6_b7e87a0f7eecrow6_col5{\n",
       "            background-color:  #d75445;\n",
       "            color:  #000000;\n",
       "        }#T_9c9fe3e6_49c2_11eb_b5d6_b7e87a0f7eecrow6_col3{\n",
       "            background-color:  #93b5fe;\n",
       "            color:  #000000;\n",
       "        }#T_9c9fe3e6_49c2_11eb_b5d6_b7e87a0f7eecrow6_col4{\n",
       "            background-color:  #abc8fd;\n",
       "            color:  #000000;\n",
       "        }</style><table id=\"T_9c9fe3e6_49c2_11eb_b5d6_b7e87a0f7eec\" ><thead>    <tr>        <th class=\"blank level0\" ></th>        <th class=\"col_heading level0 col0\" >pocket_1221</th>        <th class=\"col_heading level0 col1\" >pocket_1223</th>        <th class=\"col_heading level0 col2\" >pocket_1226</th>        <th class=\"col_heading level0 col3\" >owruby</th>        <th class=\"col_heading level0 col4\" >owruby2</th>        <th class=\"col_heading level0 col5\" >sakami</th>        <th class=\"col_heading level0 col6\" >sakami2</th>    </tr></thead><tbody>\n",
       "                <tr>\n",
       "                        <th id=\"T_9c9fe3e6_49c2_11eb_b5d6_b7e87a0f7eeclevel0_row0\" class=\"row_heading level0 row0\" >pocket_1221</th>\n",
       "                        <td id=\"T_9c9fe3e6_49c2_11eb_b5d6_b7e87a0f7eecrow0_col0\" class=\"data row0 col0\" >1.000000</td>\n",
       "                        <td id=\"T_9c9fe3e6_49c2_11eb_b5d6_b7e87a0f7eecrow0_col1\" class=\"data row0 col1\" >0.985242</td>\n",
       "                        <td id=\"T_9c9fe3e6_49c2_11eb_b5d6_b7e87a0f7eecrow0_col2\" class=\"data row0 col2\" >0.986866</td>\n",
       "                        <td id=\"T_9c9fe3e6_49c2_11eb_b5d6_b7e87a0f7eecrow0_col3\" class=\"data row0 col3\" >0.940157</td>\n",
       "                        <td id=\"T_9c9fe3e6_49c2_11eb_b5d6_b7e87a0f7eecrow0_col4\" class=\"data row0 col4\" >0.942414</td>\n",
       "                        <td id=\"T_9c9fe3e6_49c2_11eb_b5d6_b7e87a0f7eecrow0_col5\" class=\"data row0 col5\" >0.929778</td>\n",
       "                        <td id=\"T_9c9fe3e6_49c2_11eb_b5d6_b7e87a0f7eecrow0_col6\" class=\"data row0 col6\" >0.929442</td>\n",
       "            </tr>\n",
       "            <tr>\n",
       "                        <th id=\"T_9c9fe3e6_49c2_11eb_b5d6_b7e87a0f7eeclevel0_row1\" class=\"row_heading level0 row1\" >pocket_1223</th>\n",
       "                        <td id=\"T_9c9fe3e6_49c2_11eb_b5d6_b7e87a0f7eecrow1_col0\" class=\"data row1 col0\" >0.985242</td>\n",
       "                        <td id=\"T_9c9fe3e6_49c2_11eb_b5d6_b7e87a0f7eecrow1_col1\" class=\"data row1 col1\" >1.000000</td>\n",
       "                        <td id=\"T_9c9fe3e6_49c2_11eb_b5d6_b7e87a0f7eecrow1_col2\" class=\"data row1 col2\" >0.995586</td>\n",
       "                        <td id=\"T_9c9fe3e6_49c2_11eb_b5d6_b7e87a0f7eecrow1_col3\" class=\"data row1 col3\" >0.946721</td>\n",
       "                        <td id=\"T_9c9fe3e6_49c2_11eb_b5d6_b7e87a0f7eecrow1_col4\" class=\"data row1 col4\" >0.949334</td>\n",
       "                        <td id=\"T_9c9fe3e6_49c2_11eb_b5d6_b7e87a0f7eecrow1_col5\" class=\"data row1 col5\" >0.937598</td>\n",
       "                        <td id=\"T_9c9fe3e6_49c2_11eb_b5d6_b7e87a0f7eecrow1_col6\" class=\"data row1 col6\" >0.937241</td>\n",
       "            </tr>\n",
       "            <tr>\n",
       "                        <th id=\"T_9c9fe3e6_49c2_11eb_b5d6_b7e87a0f7eeclevel0_row2\" class=\"row_heading level0 row2\" >pocket_1226</th>\n",
       "                        <td id=\"T_9c9fe3e6_49c2_11eb_b5d6_b7e87a0f7eecrow2_col0\" class=\"data row2 col0\" >0.986866</td>\n",
       "                        <td id=\"T_9c9fe3e6_49c2_11eb_b5d6_b7e87a0f7eecrow2_col1\" class=\"data row2 col1\" >0.995586</td>\n",
       "                        <td id=\"T_9c9fe3e6_49c2_11eb_b5d6_b7e87a0f7eecrow2_col2\" class=\"data row2 col2\" >1.000000</td>\n",
       "                        <td id=\"T_9c9fe3e6_49c2_11eb_b5d6_b7e87a0f7eecrow2_col3\" class=\"data row2 col3\" >0.947882</td>\n",
       "                        <td id=\"T_9c9fe3e6_49c2_11eb_b5d6_b7e87a0f7eecrow2_col4\" class=\"data row2 col4\" >0.950477</td>\n",
       "                        <td id=\"T_9c9fe3e6_49c2_11eb_b5d6_b7e87a0f7eecrow2_col5\" class=\"data row2 col5\" >0.938757</td>\n",
       "                        <td id=\"T_9c9fe3e6_49c2_11eb_b5d6_b7e87a0f7eecrow2_col6\" class=\"data row2 col6\" >0.938401</td>\n",
       "            </tr>\n",
       "            <tr>\n",
       "                        <th id=\"T_9c9fe3e6_49c2_11eb_b5d6_b7e87a0f7eeclevel0_row3\" class=\"row_heading level0 row3\" >owruby</th>\n",
       "                        <td id=\"T_9c9fe3e6_49c2_11eb_b5d6_b7e87a0f7eecrow3_col0\" class=\"data row3 col0\" >0.940157</td>\n",
       "                        <td id=\"T_9c9fe3e6_49c2_11eb_b5d6_b7e87a0f7eecrow3_col1\" class=\"data row3 col1\" >0.946721</td>\n",
       "                        <td id=\"T_9c9fe3e6_49c2_11eb_b5d6_b7e87a0f7eecrow3_col2\" class=\"data row3 col2\" >0.947882</td>\n",
       "                        <td id=\"T_9c9fe3e6_49c2_11eb_b5d6_b7e87a0f7eecrow3_col3\" class=\"data row3 col3\" >1.000000</td>\n",
       "                        <td id=\"T_9c9fe3e6_49c2_11eb_b5d6_b7e87a0f7eecrow3_col4\" class=\"data row3 col4\" >0.984184</td>\n",
       "                        <td id=\"T_9c9fe3e6_49c2_11eb_b5d6_b7e87a0f7eecrow3_col5\" class=\"data row3 col5\" >0.956344</td>\n",
       "                        <td id=\"T_9c9fe3e6_49c2_11eb_b5d6_b7e87a0f7eecrow3_col6\" class=\"data row3 col6\" >0.956064</td>\n",
       "            </tr>\n",
       "            <tr>\n",
       "                        <th id=\"T_9c9fe3e6_49c2_11eb_b5d6_b7e87a0f7eeclevel0_row4\" class=\"row_heading level0 row4\" >owruby2</th>\n",
       "                        <td id=\"T_9c9fe3e6_49c2_11eb_b5d6_b7e87a0f7eecrow4_col0\" class=\"data row4 col0\" >0.942414</td>\n",
       "                        <td id=\"T_9c9fe3e6_49c2_11eb_b5d6_b7e87a0f7eecrow4_col1\" class=\"data row4 col1\" >0.949334</td>\n",
       "                        <td id=\"T_9c9fe3e6_49c2_11eb_b5d6_b7e87a0f7eecrow4_col2\" class=\"data row4 col2\" >0.950477</td>\n",
       "                        <td id=\"T_9c9fe3e6_49c2_11eb_b5d6_b7e87a0f7eecrow4_col3\" class=\"data row4 col3\" >0.984184</td>\n",
       "                        <td id=\"T_9c9fe3e6_49c2_11eb_b5d6_b7e87a0f7eecrow4_col4\" class=\"data row4 col4\" >1.000000</td>\n",
       "                        <td id=\"T_9c9fe3e6_49c2_11eb_b5d6_b7e87a0f7eecrow4_col5\" class=\"data row4 col5\" >0.961987</td>\n",
       "                        <td id=\"T_9c9fe3e6_49c2_11eb_b5d6_b7e87a0f7eecrow4_col6\" class=\"data row4 col6\" >0.961946</td>\n",
       "            </tr>\n",
       "            <tr>\n",
       "                        <th id=\"T_9c9fe3e6_49c2_11eb_b5d6_b7e87a0f7eeclevel0_row5\" class=\"row_heading level0 row5\" >sakami</th>\n",
       "                        <td id=\"T_9c9fe3e6_49c2_11eb_b5d6_b7e87a0f7eecrow5_col0\" class=\"data row5 col0\" >0.929778</td>\n",
       "                        <td id=\"T_9c9fe3e6_49c2_11eb_b5d6_b7e87a0f7eecrow5_col1\" class=\"data row5 col1\" >0.937598</td>\n",
       "                        <td id=\"T_9c9fe3e6_49c2_11eb_b5d6_b7e87a0f7eecrow5_col2\" class=\"data row5 col2\" >0.938757</td>\n",
       "                        <td id=\"T_9c9fe3e6_49c2_11eb_b5d6_b7e87a0f7eecrow5_col3\" class=\"data row5 col3\" >0.956344</td>\n",
       "                        <td id=\"T_9c9fe3e6_49c2_11eb_b5d6_b7e87a0f7eecrow5_col4\" class=\"data row5 col4\" >0.961987</td>\n",
       "                        <td id=\"T_9c9fe3e6_49c2_11eb_b5d6_b7e87a0f7eecrow5_col5\" class=\"data row5 col5\" >1.000000</td>\n",
       "                        <td id=\"T_9c9fe3e6_49c2_11eb_b5d6_b7e87a0f7eecrow5_col6\" class=\"data row5 col6\" >0.992730</td>\n",
       "            </tr>\n",
       "            <tr>\n",
       "                        <th id=\"T_9c9fe3e6_49c2_11eb_b5d6_b7e87a0f7eeclevel0_row6\" class=\"row_heading level0 row6\" >sakami2</th>\n",
       "                        <td id=\"T_9c9fe3e6_49c2_11eb_b5d6_b7e87a0f7eecrow6_col0\" class=\"data row6 col0\" >0.929442</td>\n",
       "                        <td id=\"T_9c9fe3e6_49c2_11eb_b5d6_b7e87a0f7eecrow6_col1\" class=\"data row6 col1\" >0.937241</td>\n",
       "                        <td id=\"T_9c9fe3e6_49c2_11eb_b5d6_b7e87a0f7eecrow6_col2\" class=\"data row6 col2\" >0.938401</td>\n",
       "                        <td id=\"T_9c9fe3e6_49c2_11eb_b5d6_b7e87a0f7eecrow6_col3\" class=\"data row6 col3\" >0.956064</td>\n",
       "                        <td id=\"T_9c9fe3e6_49c2_11eb_b5d6_b7e87a0f7eecrow6_col4\" class=\"data row6 col4\" >0.961946</td>\n",
       "                        <td id=\"T_9c9fe3e6_49c2_11eb_b5d6_b7e87a0f7eecrow6_col5\" class=\"data row6 col5\" >0.992730</td>\n",
       "                        <td id=\"T_9c9fe3e6_49c2_11eb_b5d6_b7e87a0f7eecrow6_col6\" class=\"data row6 col6\" >1.000000</td>\n",
       "            </tr>\n",
       "    </tbody></table>"
      ],
      "text/plain": [
       "<pandas.io.formats.style.Styler at 0x7f8cdc1fafd0>"
      ]
     },
     "execution_count": 10,
     "metadata": {},
     "output_type": "execute_result"
    }
   ],
   "source": [
    "corr = merged2[pred_col].corr()\n",
    "corr.style.background_gradient(cmap='coolwarm')"
   ]
  },
  {
   "cell_type": "code",
   "execution_count": 40,
   "metadata": {},
   "outputs": [
    {
     "data": {
      "text/plain": [
       "<AxesSubplot:ylabel='Frequency'>"
      ]
     },
     "execution_count": 40,
     "metadata": {},
     "output_type": "execute_result"
    },
    {
     "data": {
      "image/png": "[encoded data removed]",
      "text/plain": [
       "<Figure size 432x288 with 1 Axes>"
      ]
     },
     "metadata": {
      "needs_background": "light"
     },
     "output_type": "display_data"
    }
   ],
   "source": [
    "merged2[[\"pocket_1223\",\"sakami\"]].plot(kind=\"hist\", alpha=0.5)"
   ]
  },
  {
   "cell_type": "code",
   "execution_count": 41,
   "metadata": {},
   "outputs": [
    {
     "data": {
      "text/plain": [
       "<AxesSubplot:ylabel='Frequency'>"
      ]
     },
     "execution_count": 41,
     "metadata": {},
     "output_type": "execute_result"
    },
    {
     "data": {
      "image/png": "[encoded data removed]",
      "text/plain": [
       "<Figure size 432x288 with 1 Axes>"
      ]
     },
     "metadata": {
      "needs_background": "light"
     },
     "output_type": "display_data"
    }
   ],
   "source": [
    "merged2[[\"owruby\",\"sakami\"]].plot(kind=\"hist\", alpha=0.5)"
   ]
  },
  {
   "cell_type": "code",
   "execution_count": null,
   "metadata": {},
   "outputs": [],
   "source": []
  }
 ],
 "metadata": {
  "kernelspec": {
   "display_name": "Python 3",
   "language": "python",
   "name": "python3"
  },
  "language_info": {
   "codemirror_mode": {
    "name": "ipython",
    "version": 3
   },
   "file_extension": ".py",
   "mimetype": "text/x-python",
   "name": "python",
   "nbconvert_exporter": "python",
   "pygments_lexer": "ipython3",
   "version": "3.7.9"
  }
 },
 "nbformat": 4,
 "nbformat_minor": 4
}
