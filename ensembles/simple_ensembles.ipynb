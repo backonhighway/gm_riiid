{
 "cells": [
  {
   "cell_type": "code",
   "execution_count": 2,
   "metadata": {},
   "outputs": [],
   "source": [
    "import json\n",
    "from collections import Counter, defaultdict, deque\n",
    "import gc\n",
    "\n",
    "import numpy as np\n",
    "import pandas as pd\n",
    "import glob\n",
    "import time\n",
    "from tqdm import tqdm\n",
    "\n",
    "from sklearn import model_selection, metrics\n",
    "from sklearn.cluster import KMeans\n",
    "import matplotlib.pyplot as plt\n",
    "import seaborn as sn\n",
    "\n",
    "import lightgbm as lgb\n",
    "from scipy.stats import skew\n",
    "\n",
    "import feather\n",
    "import pickle\n",
    "import h5py\n",
    "\n",
    "from concurrent import futures\n",
    "#import riiideducation"
   ]
  },
  {
   "cell_type": "code",
   "execution_count": 3,
   "metadata": {},
   "outputs": [],
   "source": [
    "pocket_1221 = pd.read_csv(\"./pred_1221.csv\")\n",
    "pocket_1223 = pd.read_csv(\"./pred_1223.csv\")\n",
    "pocket_1226 = pd.read_csv(\"./pred_1226.csv\")\n",
    "owruby = pd.read_csv(\"./owruby_v022.csv\")\n",
    "sakami = pd.read_csv(\"./sakami-1221.csv\")\n",
    "owruby2_1 = pd.read_csv(\"./owruby_v026_1.csv\")\n",
    "owruby2_2 = pd.read_csv(\"./owruby_v026_2.csv\")\n",
    "owruby2_3 = pd.read_csv(\"./owruby_v026_3.csv\")\n",
    "owruby2_4 = pd.read_csv(\"./owruby_v026_4.csv\")"
   ]
  },
  {
   "cell_type": "code",
   "execution_count": 15,
   "metadata": {},
   "outputs": [],
   "source": [
    "sakami2 = np.load(\"sakami-134pp.npy\")\n",
    "sakami[\"sakami2\"] = sakami2"
   ]
  },
  {
   "cell_type": "code",
   "execution_count": 18,
   "metadata": {},
   "outputs": [
    {
     "data": {
      "text/html": [
       "<div>\n",
       "<style scoped>\n",
       "    .dataframe tbody tr th:only-of-type {\n",
       "        vertical-align: middle;\n",
       "    }\n",
       "\n",
       "    .dataframe tbody tr th {\n",
       "        vertical-align: top;\n",
       "    }\n",
       "\n",
       "    .dataframe thead th {\n",
       "        text-align: right;\n",
       "    }\n",
       "</style>\n",
       "<table border=\"1\" class=\"dataframe\">\n",
       "  <thead>\n",
       "    <tr style=\"text-align: right;\">\n",
       "      <th></th>\n",
       "      <th>Unnamed: 0</th>\n",
       "      <th>row_id</th>\n",
       "      <th>answered_correctly</th>\n",
       "      <th>prediction</th>\n",
       "      <th>sakami2</th>\n",
       "    </tr>\n",
       "  </thead>\n",
       "  <tbody>\n",
       "    <tr>\n",
       "      <th>0</th>\n",
       "      <td>96</td>\n",
       "      <td>96</td>\n",
       "      <td>1</td>\n",
       "      <td>0.297885</td>\n",
       "      <td>0.297187</td>\n",
       "    </tr>\n",
       "    <tr>\n",
       "      <th>1</th>\n",
       "      <td>97</td>\n",
       "      <td>97</td>\n",
       "      <td>0</td>\n",
       "      <td>0.318944</td>\n",
       "      <td>0.304867</td>\n",
       "    </tr>\n",
       "    <tr>\n",
       "      <th>2</th>\n",
       "      <td>98</td>\n",
       "      <td>98</td>\n",
       "      <td>1</td>\n",
       "      <td>0.551568</td>\n",
       "      <td>0.509313</td>\n",
       "    </tr>\n",
       "    <tr>\n",
       "      <th>3</th>\n",
       "      <td>99</td>\n",
       "      <td>99</td>\n",
       "      <td>0</td>\n",
       "      <td>0.494178</td>\n",
       "      <td>0.516816</td>\n",
       "    </tr>\n",
       "    <tr>\n",
       "      <th>4</th>\n",
       "      <td>100</td>\n",
       "      <td>100</td>\n",
       "      <td>1</td>\n",
       "      <td>0.144016</td>\n",
       "      <td>0.120744</td>\n",
       "    </tr>\n",
       "  </tbody>\n",
       "</table>\n",
       "</div>"
      ],
      "text/plain": [
       "   Unnamed: 0  row_id  answered_correctly  prediction   sakami2\n",
       "0          96      96                   1    0.297885  0.297187\n",
       "1          97      97                   0    0.318944  0.304867\n",
       "2          98      98                   1    0.551568  0.509313\n",
       "3          99      99                   0    0.494178  0.516816\n",
       "4         100     100                   1    0.144016  0.120744"
      ]
     },
     "execution_count": 18,
     "metadata": {},
     "output_type": "execute_result"
    }
   ],
   "source": [
    "sakami.head()"
   ]
  },
  {
   "cell_type": "code",
   "execution_count": 4,
   "metadata": {},
   "outputs": [],
   "source": [
    "#sakami[\"row_id\"].describe()"
   ]
  },
  {
   "cell_type": "code",
   "execution_count": 5,
   "metadata": {},
   "outputs": [
    {
     "name": "stdout",
     "output_type": "stream",
     "text": [
      "          0\n",
      "0  0.871062\n",
      "1  0.866829\n",
      "     row_id  answered_correctly  label\n",
      "0  70629059            0.818395      1\n",
      "1  70629060            0.817051      1\n",
      "   Unnamed: 0  row_id  answered_correctly  prediction\n",
      "0          96      96                   1    0.297885\n",
      "1          97      97                   0    0.318944\n"
     ]
    }
   ],
   "source": [
    "print(pocket_1226.head(2))\n",
    "print(owruby2_1.head(2))\n",
    "print(sakami.head(2))"
   ]
  },
  {
   "cell_type": "code",
   "execution_count": 16,
   "metadata": {},
   "outputs": [],
   "source": [
    "merged = owruby.copy()\n",
    "merged[\"pocket_1221\"] = pocket_1221\n",
    "merged[\"pocket_1223\"] = pocket_1223\n",
    "merged[\"pocket_1226\"] = pocket_1226\n",
    "merged[\"owruby\"] = merged[\"answered_correctly\"]\n",
    "merged[\"owruby2_1\"] = owruby2_1[\"answered_correctly\"]\n",
    "merged[\"owruby2_2\"] = owruby2_2[\"answered_correctly\"]\n",
    "merged[\"owruby2_3\"] = owruby2_3[\"answered_correctly\"]\n",
    "merged[\"owruby2_4\"] = owruby2_4[\"answered_correctly\"]\n",
    "merged.drop(columns=\"answered_correctly\", inplace=True)"
   ]
  },
  {
   "cell_type": "code",
   "execution_count": 17,
   "metadata": {},
   "outputs": [],
   "source": [
    "merged2 = pd.merge(merged, sakami, on=\"row_id\", how=\"inner\")"
   ]
  },
  {
   "cell_type": "code",
   "execution_count": 19,
   "metadata": {},
   "outputs": [
    {
     "name": "stdout",
     "output_type": "stream",
     "text": [
      "(5000000, 10) (5000000, 14)\n"
     ]
    }
   ],
   "source": [
    "print(merged.shape, merged2.shape)"
   ]
  },
  {
   "cell_type": "code",
   "execution_count": 20,
   "metadata": {},
   "outputs": [],
   "source": [
    "merged2[\"sakami\"] = merged2[\"prediction\"]\n",
    "merged2.drop(columns=\"prediction\", inplace=True)"
   ]
  },
  {
   "cell_type": "code",
   "execution_count": 21,
   "metadata": {},
   "outputs": [],
   "source": [
    "merged2[\"owruby2\"] = (merged2[\"owruby2_1\"] + merged2[\"owruby2_2\"] + merged2[\"owruby2_3\"] + merged2[\"owruby2_4\"]) / 4"
   ]
  },
  {
   "cell_type": "code",
   "execution_count": 22,
   "metadata": {},
   "outputs": [
    {
     "data": {
      "text/html": [
       "<div>\n",
       "<style scoped>\n",
       "    .dataframe tbody tr th:only-of-type {\n",
       "        vertical-align: middle;\n",
       "    }\n",
       "\n",
       "    .dataframe tbody tr th {\n",
       "        vertical-align: top;\n",
       "    }\n",
       "\n",
       "    .dataframe thead th {\n",
       "        text-align: right;\n",
       "    }\n",
       "</style>\n",
       "<table border=\"1\" class=\"dataframe\">\n",
       "  <thead>\n",
       "    <tr style=\"text-align: right;\">\n",
       "      <th></th>\n",
       "      <th>row_id</th>\n",
       "      <th>label</th>\n",
       "      <th>pocket_1221</th>\n",
       "      <th>pocket_1223</th>\n",
       "      <th>pocket_1226</th>\n",
       "      <th>owruby</th>\n",
       "      <th>owruby2_1</th>\n",
       "      <th>owruby2_2</th>\n",
       "      <th>owruby2_3</th>\n",
       "      <th>owruby2_4</th>\n",
       "      <th>Unnamed: 0</th>\n",
       "      <th>answered_correctly</th>\n",
       "      <th>sakami2</th>\n",
       "      <th>sakami</th>\n",
       "      <th>owruby2</th>\n",
       "    </tr>\n",
       "  </thead>\n",
       "  <tbody>\n",
       "    <tr>\n",
       "      <th>0</th>\n",
       "      <td>70629059</td>\n",
       "      <td>1</td>\n",
       "      <td>0.899222</td>\n",
       "      <td>0.882067</td>\n",
       "      <td>0.871062</td>\n",
       "      <td>0.851218</td>\n",
       "      <td>0.818395</td>\n",
       "      <td>0.762108</td>\n",
       "      <td>0.795984</td>\n",
       "      <td>0.824208</td>\n",
       "      <td>70629059</td>\n",
       "      <td>1</td>\n",
       "      <td>0.894440</td>\n",
       "      <td>0.900553</td>\n",
       "      <td>0.800174</td>\n",
       "    </tr>\n",
       "    <tr>\n",
       "      <th>1</th>\n",
       "      <td>70629060</td>\n",
       "      <td>1</td>\n",
       "      <td>0.875296</td>\n",
       "      <td>0.861982</td>\n",
       "      <td>0.866829</td>\n",
       "      <td>0.832965</td>\n",
       "      <td>0.817051</td>\n",
       "      <td>0.821449</td>\n",
       "      <td>0.836079</td>\n",
       "      <td>0.826704</td>\n",
       "      <td>70629060</td>\n",
       "      <td>1</td>\n",
       "      <td>0.860161</td>\n",
       "      <td>0.865924</td>\n",
       "      <td>0.825321</td>\n",
       "    </tr>\n",
       "  </tbody>\n",
       "</table>\n",
       "</div>"
      ],
      "text/plain": [
       "     row_id  label  pocket_1221  pocket_1223  pocket_1226    owruby  \\\n",
       "0  70629059      1     0.899222     0.882067     0.871062  0.851218   \n",
       "1  70629060      1     0.875296     0.861982     0.866829  0.832965   \n",
       "\n",
       "   owruby2_1  owruby2_2  owruby2_3  owruby2_4  Unnamed: 0  answered_correctly  \\\n",
       "0   0.818395   0.762108   0.795984   0.824208    70629059                   1   \n",
       "1   0.817051   0.821449   0.836079   0.826704    70629060                   1   \n",
       "\n",
       "    sakami2    sakami   owruby2  \n",
       "0  0.894440  0.900553  0.800174  \n",
       "1  0.860161  0.865924  0.825321  "
      ]
     },
     "execution_count": 22,
     "metadata": {},
     "output_type": "execute_result"
    }
   ],
   "source": [
    "merged2.head(2)"
   ]
  },
  {
   "cell_type": "code",
   "execution_count": 13,
   "metadata": {},
   "outputs": [],
   "source": [
    "# pred_col = [\n",
    "#     \"pocket_1221\", \"pocket_1223\", \"owruby\", \"sakami\"\n",
    "# ]"
   ]
  },
  {
   "cell_type": "code",
   "execution_count": 23,
   "metadata": {},
   "outputs": [],
   "source": [
    "merged2[\"avg2\"] = (merged2[\"sakami2\"] + merged2[\"pocket_1226\"]) / 2\n",
    "merged2[\"avg3\"] = (merged2[\"sakami2\"] + merged2[\"pocket_1223\"]) / 2"
   ]
  },
  {
   "cell_type": "code",
   "execution_count": 24,
   "metadata": {},
   "outputs": [
    {
     "data": {
      "text/plain": [
       "0.8108916699904363"
      ]
     },
     "execution_count": 24,
     "metadata": {},
     "output_type": "execute_result"
    }
   ],
   "source": [
    "metrics.roc_auc_score(merged2[\"label\"], merged2[\"avg2\"])"
   ]
  },
  {
   "cell_type": "code",
   "execution_count": 25,
   "metadata": {},
   "outputs": [
    {
     "data": {
      "text/plain": [
       "0.8108136239937651"
      ]
     },
     "execution_count": 25,
     "metadata": {},
     "output_type": "execute_result"
    }
   ],
   "source": [
    "metrics.roc_auc_score(merged2[\"label\"], merged2[\"avg3\"])"
   ]
  },
  {
   "cell_type": "code",
   "execution_count": null,
   "metadata": {},
   "outputs": [],
   "source": []
  },
  {
   "cell_type": "code",
   "execution_count": 37,
   "metadata": {},
   "outputs": [],
   "source": [
    "merged2[\"avg\"] = (merged2[\"sakami2\"] + merged2[\"owruby2\"]) / 2\n",
    "merged2[\"3avg\"] = (merged2[\"sakami2\"] + merged2[\"owruby2\"] + merged2[\"pocket_1226\"]) / 3\n",
    "merged2[\"weighted\"] = merged2[\"sakami2\"]*0.4 + merged2[\"owruby2\"]*0.4 + merged2[\"pocket_1226\"]*0.2"
   ]
  },
  {
   "cell_type": "code",
   "execution_count": 27,
   "metadata": {},
   "outputs": [
    {
     "data": {
      "text/plain": [
       "0.8085990634123565"
      ]
     },
     "execution_count": 27,
     "metadata": {},
     "output_type": "execute_result"
    }
   ],
   "source": [
    "metrics.roc_auc_score(merged2[\"label\"], merged2[\"sakami\"])"
   ]
  },
  {
   "cell_type": "code",
   "execution_count": 38,
   "metadata": {},
   "outputs": [
    {
     "data": {
      "text/plain": [
       "0.8116706471505933"
      ]
     },
     "execution_count": 38,
     "metadata": {},
     "output_type": "execute_result"
    }
   ],
   "source": [
    "metrics.roc_auc_score(merged2[\"label\"], merged2[\"avg\"])"
   ]
  },
  {
   "cell_type": "code",
   "execution_count": 29,
   "metadata": {},
   "outputs": [
    {
     "data": {
      "text/plain": [
       "0.812223227247307"
      ]
     },
     "execution_count": 29,
     "metadata": {},
     "output_type": "execute_result"
    }
   ],
   "source": [
    "metrics.roc_auc_score(merged2[\"label\"], merged2[\"3avg\"])"
   ]
  },
  {
   "cell_type": "code",
   "execution_count": 30,
   "metadata": {},
   "outputs": [
    {
     "data": {
      "text/plain": [
       "0.8123557143167384"
      ]
     },
     "execution_count": 30,
     "metadata": {},
     "output_type": "execute_result"
    }
   ],
   "source": [
    "metrics.roc_auc_score(merged2[\"label\"], merged2[\"weighted\"])"
   ]
  },
  {
   "cell_type": "code",
   "execution_count": 31,
   "metadata": {},
   "outputs": [],
   "source": [
    "merged2[\"sakami-rank\"] = merged2[\"sakami2\"].rank()\n",
    "merged2[\"owruby-rank\"] = merged2[\"owruby2\"].rank()\n",
    "merged2[\"pocket-rank\"] = merged2[\"pocket_1226\"].rank()"
   ]
  },
  {
   "cell_type": "code",
   "execution_count": 32,
   "metadata": {},
   "outputs": [],
   "source": [
    "merged2[\"ranked_avg\"] = (merged2[\"sakami-rank\"] + merged2[\"owruby-rank\"])\n",
    "merged2[\"ranked_3avg\"] = (merged2[\"sakami-rank\"] + merged2[\"owruby-rank\"] + merged2[\"pocket-rank\"])"
   ]
  },
  {
   "cell_type": "code",
   "execution_count": 33,
   "metadata": {},
   "outputs": [
    {
     "data": {
      "text/plain": [
       "0.8117137458640472"
      ]
     },
     "execution_count": 33,
     "metadata": {},
     "output_type": "execute_result"
    }
   ],
   "source": [
    "metrics.roc_auc_score(merged2[\"label\"], merged2[\"ranked_avg\"])"
   ]
  },
  {
   "cell_type": "code",
   "execution_count": 34,
   "metadata": {},
   "outputs": [
    {
     "data": {
      "text/plain": [
       "0.8122063305623283"
      ]
     },
     "execution_count": 34,
     "metadata": {},
     "output_type": "execute_result"
    }
   ],
   "source": [
    "metrics.roc_auc_score(merged2[\"label\"], merged2[\"ranked_3avg\"])"
   ]
  },
  {
   "cell_type": "code",
   "execution_count": 39,
   "metadata": {},
   "outputs": [
    {
     "name": "stdout",
     "output_type": "stream",
     "text": [
      "1.5 0.8122420446445264\n",
      "1.75 0.8122429171510669\n",
      "2 0.8122395856489596\n",
      "2.25 0.8122324370676334\n",
      "2.5 0.8122222494209007\n",
      "3 0.8121941845373124\n",
      "3.5 0.8121586996153545\n",
      "4 0.8121174458482582\n"
     ]
    }
   ],
   "source": [
    "for power in [1.5, 1.75, 2, 2.25, 2.5, 3, 3.5, 4]:\n",
    "    merged2[\"power_mean\"] = (merged2[\"sakami2\"]**power + merged2[\"owruby2\"]**power + merged2[\"pocket_1226\"]**power)\n",
    "    score = metrics.roc_auc_score(merged2[\"label\"], merged2[\"power_mean\"])\n",
    "    print(power, score)"
   ]
  },
  {
   "cell_type": "code",
   "execution_count": null,
   "metadata": {},
   "outputs": [],
   "source": []
  },
  {
   "cell_type": "code",
   "execution_count": null,
   "metadata": {},
   "outputs": [],
   "source": []
  }
 ],
 "metadata": {
  "kernelspec": {
   "display_name": "Python 3",
   "language": "python",
   "name": "python3"
  },
  "language_info": {
   "codemirror_mode": {
    "name": "ipython",
    "version": 3
   },
   "file_extension": ".py",
   "mimetype": "text/x-python",
   "name": "python",
   "nbconvert_exporter": "python",
   "pygments_lexer": "ipython3",
   "version": "3.7.9"
  }
 },
 "nbformat": 4,
 "nbformat_minor": 4
}
