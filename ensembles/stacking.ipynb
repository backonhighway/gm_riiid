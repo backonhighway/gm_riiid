{
 "cells": [
  {
   "cell_type": "code",
   "execution_count": 1,
   "metadata": {},
   "outputs": [],
   "source": [
    "import json\n",
    "from collections import Counter, defaultdict, deque\n",
    "import gc\n",
    "\n",
    "import numpy as np\n",
    "import pandas as pd\n",
    "import glob\n",
    "import time\n",
    "from tqdm import tqdm\n",
    "\n",
    "from sklearn import model_selection, metrics\n",
    "from sklearn.cluster import KMeans\n",
    "import matplotlib.pyplot as plt\n",
    "import seaborn as sn\n",
    "\n",
    "import lightgbm as lgb\n",
    "from scipy.stats import skew\n",
    "\n",
    "import feather\n",
    "import pickle\n",
    "import h5py\n",
    "\n",
    "from concurrent import futures\n",
    "#import riiideducation"
   ]
  },
  {
   "cell_type": "code",
   "execution_count": 2,
   "metadata": {},
   "outputs": [],
   "source": [
    "pocket_1221 = pd.read_csv(\"./pred_1221.csv\")\n",
    "pocket_1223 = pd.read_csv(\"./pred_1223.csv\")\n",
    "owruby = pd.read_csv(\"./owruby_v022.csv\")\n",
    "sakami = pd.read_csv(\"./sakami-1221.csv\")"
   ]
  },
  {
   "cell_type": "code",
   "execution_count": 3,
   "metadata": {},
   "outputs": [
    {
     "name": "stdout",
     "output_type": "stream",
     "text": [
      "          0\n",
      "0  0.899222\n",
      "1  0.875296\n",
      "          0\n",
      "0  0.882067\n",
      "1  0.861982\n",
      "     row_id  answered_correctly  label\n",
      "0  70629059            0.851218      1\n",
      "1  70629060            0.832965      1\n",
      "   Unnamed: 0  row_id  answered_correctly  prediction\n",
      "0          96      96                   1    0.297885\n",
      "1          97      97                   0    0.318944\n"
     ]
    }
   ],
   "source": [
    "print(pocket_1221.head(2))\n",
    "print(pocket_1223.head(2))\n",
    "print(owruby.head(2))\n",
    "print(sakami.head(2))"
   ]
  },
  {
   "cell_type": "code",
   "execution_count": 4,
   "metadata": {},
   "outputs": [],
   "source": [
    "merged = owruby.copy()\n",
    "merged[\"pocket_1221\"] = pocket_1221\n",
    "merged[\"pocket_1223\"] = pocket_1223\n",
    "merged[\"owruby\"] = merged[\"answered_correctly\"]\n",
    "merged.drop(columns=\"answered_correctly\", inplace=True)"
   ]
  },
  {
   "cell_type": "code",
   "execution_count": 5,
   "metadata": {},
   "outputs": [],
   "source": [
    "merged2 = pd.merge(merged, sakami, on=\"row_id\", how=\"inner\")"
   ]
  },
  {
   "cell_type": "code",
   "execution_count": 6,
   "metadata": {},
   "outputs": [
    {
     "name": "stdout",
     "output_type": "stream",
     "text": [
      "(5000000, 5) (5000000, 8)\n"
     ]
    }
   ],
   "source": [
    "print(merged.shape, merged2.shape)"
   ]
  },
  {
   "cell_type": "code",
   "execution_count": 7,
   "metadata": {},
   "outputs": [],
   "source": [
    "merged2[\"sakami\"] = merged2[\"prediction\"]\n",
    "merged2.drop(columns=\"prediction\", inplace=True)"
   ]
  },
  {
   "cell_type": "code",
   "execution_count": 8,
   "metadata": {},
   "outputs": [
    {
     "data": {
      "text/html": [
       "<div>\n",
       "<style scoped>\n",
       "    .dataframe tbody tr th:only-of-type {\n",
       "        vertical-align: middle;\n",
       "    }\n",
       "\n",
       "    .dataframe tbody tr th {\n",
       "        vertical-align: top;\n",
       "    }\n",
       "\n",
       "    .dataframe thead th {\n",
       "        text-align: right;\n",
       "    }\n",
       "</style>\n",
       "<table border=\"1\" class=\"dataframe\">\n",
       "  <thead>\n",
       "    <tr style=\"text-align: right;\">\n",
       "      <th></th>\n",
       "      <th>row_id</th>\n",
       "      <th>label</th>\n",
       "      <th>pocket_1221</th>\n",
       "      <th>pocket_1223</th>\n",
       "      <th>owruby</th>\n",
       "      <th>Unnamed: 0</th>\n",
       "      <th>answered_correctly</th>\n",
       "      <th>sakami</th>\n",
       "    </tr>\n",
       "  </thead>\n",
       "  <tbody>\n",
       "    <tr>\n",
       "      <th>0</th>\n",
       "      <td>70629059</td>\n",
       "      <td>1</td>\n",
       "      <td>0.899222</td>\n",
       "      <td>0.882067</td>\n",
       "      <td>0.851218</td>\n",
       "      <td>70629059</td>\n",
       "      <td>1</td>\n",
       "      <td>0.900553</td>\n",
       "    </tr>\n",
       "    <tr>\n",
       "      <th>1</th>\n",
       "      <td>70629060</td>\n",
       "      <td>1</td>\n",
       "      <td>0.875296</td>\n",
       "      <td>0.861982</td>\n",
       "      <td>0.832965</td>\n",
       "      <td>70629060</td>\n",
       "      <td>1</td>\n",
       "      <td>0.865924</td>\n",
       "    </tr>\n",
       "  </tbody>\n",
       "</table>\n",
       "</div>"
      ],
      "text/plain": [
       "     row_id  label  pocket_1221  pocket_1223    owruby  Unnamed: 0  \\\n",
       "0  70629059      1     0.899222     0.882067  0.851218    70629059   \n",
       "1  70629060      1     0.875296     0.861982  0.832965    70629060   \n",
       "\n",
       "   answered_correctly    sakami  \n",
       "0                   1  0.900553  \n",
       "1                   1  0.865924  "
      ]
     },
     "execution_count": 8,
     "metadata": {},
     "output_type": "execute_result"
    }
   ],
   "source": [
    "merged2.head(2)"
   ]
  },
  {
   "cell_type": "code",
   "execution_count": 9,
   "metadata": {},
   "outputs": [],
   "source": [
    "pred_col = [\"pocket_1221\", \"pocket_1223\", \"owruby\", \"sakami\"]"
   ]
  },
  {
   "cell_type": "code",
   "execution_count": null,
   "metadata": {},
   "outputs": [],
   "source": []
  },
  {
   "cell_type": "code",
   "execution_count": 10,
   "metadata": {},
   "outputs": [],
   "source": [
    "valid_feats = pd.read_feather(\"../valid_1223.feather\")"
   ]
  },
  {
   "cell_type": "code",
   "execution_count": 11,
   "metadata": {},
   "outputs": [
    {
     "data": {
      "text/plain": [
       "(5000000, 76)"
      ]
     },
     "execution_count": 11,
     "metadata": {},
     "output_type": "execute_result"
    }
   ],
   "source": [
    "valid_feats.shape"
   ]
  },
  {
   "cell_type": "code",
   "execution_count": 12,
   "metadata": {},
   "outputs": [],
   "source": [
    "merged = pd.concat([merged2, valid_feats], axis=1)"
   ]
  },
  {
   "cell_type": "code",
   "execution_count": 13,
   "metadata": {},
   "outputs": [
    {
     "data": {
      "text/html": [
       "<div>\n",
       "<style scoped>\n",
       "    .dataframe tbody tr th:only-of-type {\n",
       "        vertical-align: middle;\n",
       "    }\n",
       "\n",
       "    .dataframe tbody tr th {\n",
       "        vertical-align: top;\n",
       "    }\n",
       "\n",
       "    .dataframe thead th {\n",
       "        text-align: right;\n",
       "    }\n",
       "</style>\n",
       "<table border=\"1\" class=\"dataframe\">\n",
       "  <thead>\n",
       "    <tr style=\"text-align: right;\">\n",
       "      <th></th>\n",
       "      <th>row_id</th>\n",
       "      <th>label</th>\n",
       "      <th>pocket_1221</th>\n",
       "      <th>pocket_1223</th>\n",
       "      <th>owruby</th>\n",
       "      <th>Unnamed: 0</th>\n",
       "      <th>answered_correctly</th>\n",
       "      <th>sakami</th>\n",
       "      <th>index</th>\n",
       "      <th>ac</th>\n",
       "      <th>...</th>\n",
       "      <th>u_td_p2p3</th>\n",
       "      <th>u_td_p3p4</th>\n",
       "      <th>u_td_p4p5</th>\n",
       "      <th>u_td_p5p6</th>\n",
       "      <th>u_td_p6p7</th>\n",
       "      <th>u_td_p7p8</th>\n",
       "      <th>u_td_p8p9</th>\n",
       "      <th>u_td_p9p10</th>\n",
       "      <th>ut_ac_mean</th>\n",
       "      <th>ut_ac_mean2</th>\n",
       "    </tr>\n",
       "  </thead>\n",
       "  <tbody>\n",
       "    <tr>\n",
       "      <th>0</th>\n",
       "      <td>70629059</td>\n",
       "      <td>1</td>\n",
       "      <td>0.899222</td>\n",
       "      <td>0.882067</td>\n",
       "      <td>0.851218</td>\n",
       "      <td>70629059</td>\n",
       "      <td>1</td>\n",
       "      <td>0.900553</td>\n",
       "      <td>96130348</td>\n",
       "      <td>1.0</td>\n",
       "      <td>...</td>\n",
       "      <td>325317.0</td>\n",
       "      <td>454170.0</td>\n",
       "      <td>2732487.0</td>\n",
       "      <td>143467.0</td>\n",
       "      <td>190046.0</td>\n",
       "      <td>182226.0</td>\n",
       "      <td>190944.0</td>\n",
       "      <td>110019856.0</td>\n",
       "      <td>0.705882</td>\n",
       "      <td>0.688819</td>\n",
       "    </tr>\n",
       "    <tr>\n",
       "      <th>1</th>\n",
       "      <td>70629060</td>\n",
       "      <td>1</td>\n",
       "      <td>0.875296</td>\n",
       "      <td>0.861982</td>\n",
       "      <td>0.832965</td>\n",
       "      <td>70629060</td>\n",
       "      <td>1</td>\n",
       "      <td>0.865924</td>\n",
       "      <td>96130349</td>\n",
       "      <td>1.0</td>\n",
       "      <td>...</td>\n",
       "      <td>820188.0</td>\n",
       "      <td>325317.0</td>\n",
       "      <td>454170.0</td>\n",
       "      <td>2732487.0</td>\n",
       "      <td>143467.0</td>\n",
       "      <td>190046.0</td>\n",
       "      <td>182226.0</td>\n",
       "      <td>190944.0</td>\n",
       "      <td>0.737113</td>\n",
       "      <td>0.711192</td>\n",
       "    </tr>\n",
       "    <tr>\n",
       "      <th>2</th>\n",
       "      <td>70629061</td>\n",
       "      <td>0</td>\n",
       "      <td>0.765987</td>\n",
       "      <td>0.749301</td>\n",
       "      <td>0.835464</td>\n",
       "      <td>70629061</td>\n",
       "      <td>0</td>\n",
       "      <td>0.779606</td>\n",
       "      <td>96130350</td>\n",
       "      <td>0.0</td>\n",
       "      <td>...</td>\n",
       "      <td>820188.0</td>\n",
       "      <td>325317.0</td>\n",
       "      <td>454170.0</td>\n",
       "      <td>2732487.0</td>\n",
       "      <td>143467.0</td>\n",
       "      <td>190046.0</td>\n",
       "      <td>182226.0</td>\n",
       "      <td>190944.0</td>\n",
       "      <td>0.705882</td>\n",
       "      <td>0.688819</td>\n",
       "    </tr>\n",
       "    <tr>\n",
       "      <th>3</th>\n",
       "      <td>59577091</td>\n",
       "      <td>1</td>\n",
       "      <td>0.831968</td>\n",
       "      <td>0.776635</td>\n",
       "      <td>0.775140</td>\n",
       "      <td>59577091</td>\n",
       "      <td>1</td>\n",
       "      <td>0.575242</td>\n",
       "      <td>96130351</td>\n",
       "      <td>1.0</td>\n",
       "      <td>...</td>\n",
       "      <td>2243661.0</td>\n",
       "      <td>657769.0</td>\n",
       "      <td>720899.0</td>\n",
       "      <td>597984.0</td>\n",
       "      <td>415187.0</td>\n",
       "      <td>527912.0</td>\n",
       "      <td>407554.0</td>\n",
       "      <td>291635.0</td>\n",
       "      <td>0.647059</td>\n",
       "      <td>0.645833</td>\n",
       "    </tr>\n",
       "    <tr>\n",
       "      <th>4</th>\n",
       "      <td>59577092</td>\n",
       "      <td>1</td>\n",
       "      <td>0.924458</td>\n",
       "      <td>0.946935</td>\n",
       "      <td>0.970708</td>\n",
       "      <td>59577092</td>\n",
       "      <td>1</td>\n",
       "      <td>0.845466</td>\n",
       "      <td>96130352</td>\n",
       "      <td>1.0</td>\n",
       "      <td>...</td>\n",
       "      <td>56203.0</td>\n",
       "      <td>2243661.0</td>\n",
       "      <td>657769.0</td>\n",
       "      <td>720899.0</td>\n",
       "      <td>597984.0</td>\n",
       "      <td>415187.0</td>\n",
       "      <td>527912.0</td>\n",
       "      <td>407554.0</td>\n",
       "      <td>0.750000</td>\n",
       "      <td>0.812500</td>\n",
       "    </tr>\n",
       "  </tbody>\n",
       "</table>\n",
       "<p>5 rows × 84 columns</p>\n",
       "</div>"
      ],
      "text/plain": [
       "     row_id  label  pocket_1221  pocket_1223    owruby  Unnamed: 0  \\\n",
       "0  70629059      1     0.899222     0.882067  0.851218    70629059   \n",
       "1  70629060      1     0.875296     0.861982  0.832965    70629060   \n",
       "2  70629061      0     0.765987     0.749301  0.835464    70629061   \n",
       "3  59577091      1     0.831968     0.776635  0.775140    59577091   \n",
       "4  59577092      1     0.924458     0.946935  0.970708    59577092   \n",
       "\n",
       "   answered_correctly    sakami     index   ac  ...  u_td_p2p3  u_td_p3p4  \\\n",
       "0                   1  0.900553  96130348  1.0  ...   325317.0   454170.0   \n",
       "1                   1  0.865924  96130349  1.0  ...   820188.0   325317.0   \n",
       "2                   0  0.779606  96130350  0.0  ...   820188.0   325317.0   \n",
       "3                   1  0.575242  96130351  1.0  ...  2243661.0   657769.0   \n",
       "4                   1  0.845466  96130352  1.0  ...    56203.0  2243661.0   \n",
       "\n",
       "   u_td_p4p5  u_td_p5p6  u_td_p6p7  u_td_p7p8  u_td_p8p9   u_td_p9p10  \\\n",
       "0  2732487.0   143467.0   190046.0   182226.0   190944.0  110019856.0   \n",
       "1   454170.0  2732487.0   143467.0   190046.0   182226.0     190944.0   \n",
       "2   454170.0  2732487.0   143467.0   190046.0   182226.0     190944.0   \n",
       "3   720899.0   597984.0   415187.0   527912.0   407554.0     291635.0   \n",
       "4   657769.0   720899.0   597984.0   415187.0   527912.0     407554.0   \n",
       "\n",
       "   ut_ac_mean  ut_ac_mean2  \n",
       "0    0.705882     0.688819  \n",
       "1    0.737113     0.711192  \n",
       "2    0.705882     0.688819  \n",
       "3    0.647059     0.645833  \n",
       "4    0.750000     0.812500  \n",
       "\n",
       "[5 rows x 84 columns]"
      ]
     },
     "execution_count": 13,
     "metadata": {},
     "output_type": "execute_result"
    }
   ],
   "source": [
    "merged.head()"
   ]
  },
  {
   "cell_type": "code",
   "execution_count": 14,
   "metadata": {},
   "outputs": [],
   "source": [
    "class SingleLgb:\n",
    "    def __init__(self, seed=99, dry_run=False):\n",
    "        self.train_param = self.get_param()\n",
    "        if dry_run:\n",
    "            self.num_rounds = 100\n",
    "        else:\n",
    "            self.num_rounds = 500\n",
    "\n",
    "    def do_train_direct(self, x_train, x_test, y_train, y_test):\n",
    "        lgb_train = lgb.Dataset(x_train, y_train)\n",
    "        lgb_eval = lgb.Dataset(x_test, y_test)\n",
    "\n",
    "        # print('Start training...')\n",
    "        model = lgb.train(self.train_param,\n",
    "                          lgb_train,\n",
    "                          valid_sets=[lgb_eval],\n",
    "                          verbose_eval=100,\n",
    "                          num_boost_round=self.num_rounds,\n",
    "                          early_stopping_rounds=100,\n",
    "                          #categorical_feature=[]\n",
    "                         )\n",
    "        # print('End training...')\n",
    "        return model\n",
    "\n",
    "    @staticmethod\n",
    "    def show_feature_importance(model, filename=None):\n",
    "        fi = pd.DataFrame({\n",
    "            \"name\": model.feature_name(),\n",
    "            \"importance_split\": model.feature_importance(importance_type=\"split\").astype(int),\n",
    "            \"importance_gain\": model.feature_importance(importance_type=\"gain\").astype(int),\n",
    "        })\n",
    "        fi = fi.sort_values(by=\"importance_gain\", ascending=False)\n",
    "        #print(fi)\n",
    "        with pd.option_context('display.max_rows', None, 'display.max_columns', None):  # more options can be specified also\n",
    "            print(fi)\n",
    "\n",
    "    @staticmethod\n",
    "    def get_param():\n",
    "        return {\n",
    "            'num_leaves': 127,\n",
    "            'min_data_in_leaf': 50,\n",
    "            'objective': 'binary',\n",
    "            #'metric': 'auc',\n",
    "            'metric': 'binary_logloss',\n",
    "            'max_depth': -1,\n",
    "            'learning_rate': 0.02,\n",
    "            \"boosting\": \"gbdt\",\n",
    "            \"feature_fraction\": 0.9,\n",
    "            \"verbosity\": -1,\n",
    "            \"random_state\": 81,\n",
    "        }\n",
    "    \n",
    "class SingleTrainer:\n",
    "    def __init__(self, pred_col, dry_run=False):\n",
    "        self.pred_col = pred_col\n",
    "        self.target_col = \"ac\"\n",
    "        self.dry_run = dry_run\n",
    "        self.val_size = 2*1000*1000\n",
    "\n",
    "    def train_model(self, df):\n",
    "        X = df[self.pred_col]\n",
    "        y = df[self.target_col]\n",
    "        \n",
    "        models, scores = list(), list()\n",
    "        for fold in range(4):\n",
    "            print(\"---------\")\n",
    "            print(\"fold=\", fold)\n",
    "            f, c = fold, self.val_size\n",
    "            val_s, val_e = -c-f*c, len(df)-f*c\n",
    "            train_idx = -c-f*c\n",
    "            X_train, X_val = X.iloc[:train_idx], X.iloc[val_s:val_e]\n",
    "            y_train, y_val = y.iloc[:train_idx], y.iloc[val_s:val_e]\n",
    "            print(X_train.shape, X_val.shape)\n",
    "            \n",
    "            lgbm = SingleLgb(seed=99, dry_run=self.dry_run)\n",
    "            model = lgbm.do_train_direct(X_train, X_val, y_train, y_val)\n",
    "            score = model.best_score[\"valid_0\"][\"binary_logloss\"]\n",
    "            pred = model.predict(X_val)\n",
    "            score = metrics.roc_auc_score(y_val, pred)\n",
    "            print(\"AUC=\", score)\n",
    "            if fold == 0:\n",
    "                lgbm.show_feature_importance(model)\n",
    "            models.append(model)\n",
    "            scores.append(score)\n",
    "            break\n",
    "        return models, np.mean(scores)"
   ]
  },
  {
   "cell_type": "code",
   "execution_count": 15,
   "metadata": {},
   "outputs": [
    {
     "name": "stdout",
     "output_type": "stream",
     "text": [
      "['et', 'q_ac_cnt', 'b_ac_mean', 'b_ac_cnt', 'q_ac_mean', 'u_ac_mean', 'u_cnt', 'u_qm_mean', 'u_ac_cnt', 'u_ok_qm_mean', 'u_ng_qm_mean', 'q_et_mean', 'q_et_cnt', 'q_et_std', 'up_ac_cnt', 'up_ac_mean', 'u_td', 'q_ng_uac_mean', 'q_ok_uac_mean', 'q_ok_uac_std', 'q_ng_uac_std', 'correct_answer', 'u_ac_mean20', 'ulr_ac_mean', 'ut_ac_mean', 'ut_ac_mean2', 'uca_ac_mean', 'ul_td', 'u_td_wl', 'uc_td', 'uc_ac_mean', 'uc_ac_cnt', 'u_td_tp1', 'u_td_p1p2', 'u_td_p2p3', 'u_td_p3p4', 'u_td_p4p5', 'u_td_p5p6', 'u_td_p6p7', 'u_td_p7p8', 'u_td_p8p9', 'u_td_p9p10', 'uac_prev1', 'uac_prev2', 'elo_beta', 'u_elo_theta', 'u_rate', 'nn_svd0', 'nn_svd1', 'nn_svd2', 'nn_svd3', 'nn_svd4', 'nn_svd5', 'nn_svd6', 'nn_svd7', 'nn_svd8', 'nn_svd9', 'nn_svd10', 'nn_svd11', 'nn_svd12', 'nn_svd13', 'nn_svd14', 'nn_svd15', 'nn_svd16', 'nn_svd17', 'nn_svd18', 'nn_svd19']\n"
     ]
    }
   ],
   "source": [
    "pred_col = [\n",
    "    \"et\",  \"q_ac_cnt\",  'b_ac_mean', 'b_ac_cnt', \"q_ac_mean\",\n",
    "    \"u_ac_mean\", \"u_cnt\", \"u_qm_mean\", #\"u_td\", #\"uc_td\",\n",
    "    \"u_ac_cnt\", #\"u_et_cnt\"\n",
    "    'u_ok_qm_mean', 'u_ng_qm_mean',\n",
    "    'q_et_mean', 'q_et_cnt', 'q_et_std',\n",
    "   \"up_ac_cnt\", \"up_ac_mean\",\n",
    "    \"u_td\", \n",
    "    \"q_ng_uac_mean\",\"q_ok_uac_mean\", \"q_ok_uac_std\", \"q_ng_uac_std\",\n",
    "    \"correct_answer\",\n",
    "    \"u_ac_mean20\",\n",
    "    \"ulr_ac_mean\", #\"ulr_ac_cnt\",  \"ub_cnt\",\n",
    "    \"ut_ac_mean\",\"ut_ac_mean2\",\n",
    "    \"uca_ac_mean\", \n",
    "    \"ul_td\", \"u_td_wl\", \n",
    "    #\"q_pqhe_true_uac_mean\", \"q_pqhe_true_uac_std\", \"q_pqhe_false_uac_mean\", \"q_pqhe_false_uac_std\",\n",
    "    #\"pqhe\",\n",
    "    \"uc_td\", \"uc_ac_mean\", \"uc_ac_cnt\", \n",
    "    #\"u_td_final\", #\"ub_td_final\"\n",
    "    'u_td_tp1','u_td_p1p2', 'u_td_p2p3', 'u_td_p3p4', 'u_td_p4p5',\n",
    "    'u_td_p5p6', 'u_td_p6p7', 'u_td_p7p8', 'u_td_p8p9', 'u_td_p9p10',\n",
    "    \"uac_prev1\", \"uac_prev2\",\n",
    "    \"elo_beta\", \"u_elo_theta\", \n",
    "    \"u_rate\",\n",
    "]\n",
    "nn_col = [f\"nn_svd{i}\" for i in range(20)]\n",
    "pred_col += nn_col\n",
    "print(pred_col)"
   ]
  },
  {
   "cell_type": "code",
   "execution_count": 17,
   "metadata": {},
   "outputs": [],
   "source": [
    "pred_col = [\n",
    "    \"owruby\", \"sakami\", \"pocket_1223\",\n",
    "    \"uc_td\", \"uc_ac_mean\",\n",
    "    \"ul_td\", \"u_td\", \"u_td_p1p2\"\n",
    "]"
   ]
  },
  {
   "cell_type": "code",
   "execution_count": 18,
   "metadata": {},
   "outputs": [
    {
     "name": "stdout",
     "output_type": "stream",
     "text": [
      "---------\n",
      "fold= 0\n",
      "(3000000, 8) (2000000, 8)\n",
      "Training until validation scores don't improve for 100 rounds\n",
      "[100]\tvalid_0's binary_logloss: 0.505861\n",
      "[200]\tvalid_0's binary_logloss: 0.499969\n",
      "[300]\tvalid_0's binary_logloss: 0.49968\n",
      "[400]\tvalid_0's binary_logloss: 0.499666\n",
      "[500]\tvalid_0's binary_logloss: 0.499663\n",
      "Did not meet early stopping. Best iteration is:\n",
      "[481]\tvalid_0's binary_logloss: 0.499662\n",
      "AUC= 0.8128734162744986\n",
      "          name  importance_split  importance_gain\n",
      "1       sakami              8671         18601614\n",
      "0       owruby              9124          4145668\n",
      "2  pocket_1223             10721           499615\n",
      "5        ul_td              9117           100166\n",
      "3        uc_td              6305            88450\n",
      "6         u_td              7155            67837\n",
      "4   uc_ac_mean              2671            60282\n",
      "7    u_td_p1p2              6842            59413\n"
     ]
    }
   ],
   "source": [
    "trainer = SingleTrainer(pred_col, dry_run=False)\n",
    "models, score = trainer.train_model(merged)"
   ]
  },
  {
   "cell_type": "code",
   "execution_count": null,
   "metadata": {},
   "outputs": [],
   "source": []
  },
  {
   "cell_type": "code",
   "execution_count": 55,
   "metadata": {},
   "outputs": [],
   "source": [
    "# base feats\n",
    "#Early stopping, best iteration is:\n",
    "#[295]\tvalid_0's binary_logloss: 0.517508\n",
    "#AUC= 0.7967711921542647\n",
    "\n",
    "# with owruby, sakami\n",
    "# [73]\tvalid_0's binary_logloss: 0.499981\n",
    "#AUC= 0.812631130956799\n",
    "\n",
    "# add pocket1223\n",
    "#AUC= 0.8130389687940041\n",
    "\n",
    "#just 3\n",
    "#AUC= 0.8119216727001559\n",
    "\n",
    "# just3 + top feats\n",
    "#0.81279"
   ]
  },
  {
   "cell_type": "code",
   "execution_count": null,
   "metadata": {},
   "outputs": [],
   "source": []
  },
  {
   "cell_type": "code",
   "execution_count": null,
   "metadata": {},
   "outputs": [],
   "source": []
  },
  {
   "cell_type": "code",
   "execution_count": null,
   "metadata": {},
   "outputs": [],
   "source": []
  },
  {
   "cell_type": "code",
   "execution_count": null,
   "metadata": {},
   "outputs": [],
   "source": []
  },
  {
   "cell_type": "code",
   "execution_count": 22,
   "metadata": {},
   "outputs": [
    {
     "data": {
      "text/plain": [
       "0.8115313781174149"
      ]
     },
     "execution_count": 22,
     "metadata": {},
     "output_type": "execute_result"
    }
   ],
   "source": [
    "metrics.roc_auc_score(merged2[\"label\"], merged2[\"ranked_3avg\"])"
   ]
  },
  {
   "cell_type": "code",
   "execution_count": 17,
   "metadata": {},
   "outputs": [
    {
     "name": "stdout",
     "output_type": "stream",
     "text": [
      "1.5 0.8115757793963951\n",
      "1.75 0.8115617807361065\n",
      "2 0.8115436387419797\n",
      "2.25 0.8115220983411143\n",
      "2.5 0.8114978412488558\n",
      "3 0.811442840131525\n",
      "3.5 0.8113818106061845\n",
      "4 0.8113171371978005\n"
     ]
    }
   ],
   "source": [
    "for power in [1.5, 1.75, 2, 2.25, 2.5, 3, 3.5, 4]:\n",
    "    merged2[\"power_mean\"] = (merged2[\"sakami\"]**power + merged2[\"owruby\"]**power + merged2[\"pocket_1223\"]**power)\n",
    "    score = metrics.roc_auc_score(merged2[\"label\"], merged2[\"power_mean\"])\n",
    "    print(power, score)"
   ]
  },
  {
   "cell_type": "code",
   "execution_count": null,
   "metadata": {},
   "outputs": [],
   "source": []
  },
  {
   "cell_type": "code",
   "execution_count": null,
   "metadata": {},
   "outputs": [],
   "source": []
  }
 ],
 "metadata": {
  "kernelspec": {
   "display_name": "Python 3",
   "language": "python",
   "name": "python3"
  },
  "language_info": {
   "codemirror_mode": {
    "name": "ipython",
    "version": 3
   },
   "file_extension": ".py",
   "mimetype": "text/x-python",
   "name": "python",
   "nbconvert_exporter": "python",
   "pygments_lexer": "ipython3",
   "version": "3.7.9"
  }
 },
 "nbformat": 4,
 "nbformat_minor": 4
}
