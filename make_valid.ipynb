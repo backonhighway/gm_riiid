{
 "cells": [
  {
   "cell_type": "code",
   "execution_count": 1,
   "metadata": {},
   "outputs": [],
   "source": [
    "import json\n",
    "from collections import Counter, defaultdict\n",
    "import gc\n",
    "\n",
    "import numpy as np\n",
    "import pandas as pd\n",
    "import glob\n",
    "import time\n",
    "from tqdm import tqdm\n",
    "\n",
    "from sklearn import model_selection, metrics\n",
    "import matplotlib.pyplot as plt\n",
    "import seaborn as sn\n",
    "\n",
    "import lightgbm as lgb\n",
    "import feather\n",
    "\n",
    "#import riiideducation"
   ]
  },
  {
   "cell_type": "code",
   "execution_count": 2,
   "metadata": {},
   "outputs": [
    {
     "data": {
      "text/html": [
       "<div>\n",
       "<style scoped>\n",
       "    .dataframe tbody tr th:only-of-type {\n",
       "        vertical-align: middle;\n",
       "    }\n",
       "\n",
       "    .dataframe tbody tr th {\n",
       "        vertical-align: top;\n",
       "    }\n",
       "\n",
       "    .dataframe thead th {\n",
       "        text-align: right;\n",
       "    }\n",
       "</style>\n",
       "<table border=\"1\" class=\"dataframe\">\n",
       "  <thead>\n",
       "    <tr style=\"text-align: right;\">\n",
       "      <th></th>\n",
       "      <th>question_id</th>\n",
       "      <th>bundle_id</th>\n",
       "      <th>correct_answer</th>\n",
       "      <th>part</th>\n",
       "      <th>tags</th>\n",
       "    </tr>\n",
       "  </thead>\n",
       "  <tbody>\n",
       "    <tr>\n",
       "      <th>0</th>\n",
       "      <td>0</td>\n",
       "      <td>0</td>\n",
       "      <td>0</td>\n",
       "      <td>1</td>\n",
       "      <td>51 131 162 38</td>\n",
       "    </tr>\n",
       "    <tr>\n",
       "      <th>1</th>\n",
       "      <td>1</td>\n",
       "      <td>1</td>\n",
       "      <td>1</td>\n",
       "      <td>1</td>\n",
       "      <td>131 36 81</td>\n",
       "    </tr>\n",
       "  </tbody>\n",
       "</table>\n",
       "</div>"
      ],
      "text/plain": [
       "   question_id  bundle_id  correct_answer  part           tags\n",
       "0            0          0               0     1  51 131 162 38\n",
       "1            1          1               1     1      131 36 81"
      ]
     },
     "execution_count": 2,
     "metadata": {},
     "output_type": "execute_result"
    }
   ],
   "source": [
    "question = pd.read_csv(\"/home/pocket/input/questions.csv\")\n",
    "question.head(2)"
   ]
  },
  {
   "cell_type": "code",
   "execution_count": 3,
   "metadata": {},
   "outputs": [
    {
     "data": {
      "text/plain": [
       "<AxesSubplot:>"
      ]
     },
     "execution_count": 3,
     "metadata": {},
     "output_type": "execute_result"
    },
    {
     "data": {
      "image/png": "[encoded data removed]",
      "text/plain": [
       "<Figure size 432x288 with 1 Axes>"
      ]
     },
     "metadata": {
      "needs_background": "light"
     },
     "output_type": "display_data"
    }
   ],
   "source": [
    "question[\"tags\"].astype(str).apply(lambda x: len(x.split())).hist()"
   ]
  },
  {
   "cell_type": "code",
   "execution_count": 40,
   "metadata": {},
   "outputs": [],
   "source": [
    "train = pd.read_feather(\"./train.feather\")"
   ]
  },
  {
   "cell_type": "code",
   "execution_count": 24,
   "metadata": {},
   "outputs": [
    {
     "name": "stdout",
     "output_type": "stream",
     "text": [
      "Index(['row_id', 'timestamp', 'user_id', 'content_id', 'content_type_id',\n",
      "       'task_container_id', 'user_answer', 'answered_correctly',\n",
      "       'prior_question_elapsed_time', 'prior_question_had_explanation'],\n",
      "      dtype='object')\n"
     ]
    }
   ],
   "source": [
    "print(train.columns)"
   ]
  },
  {
   "cell_type": "code",
   "execution_count": 6,
   "metadata": {},
   "outputs": [
    {
     "name": "stdout",
     "output_type": "stream",
     "text": [
      "hi\n"
     ]
    }
   ],
   "source": [
    "print(\"hi\")"
   ]
  },
  {
   "cell_type": "code",
   "execution_count": 98,
   "metadata": {},
   "outputs": [],
   "source": [
    "train_now = pd.read_feather(\"./train_sorted_full2.feather\")"
   ]
  },
  {
   "cell_type": "code",
   "execution_count": 12,
   "metadata": {},
   "outputs": [],
   "source": [
    "train_now[\"u_seq_len\"] = train_now.groupby(\"user_id\")[\"user_id\"].transform(\"count\")"
   ]
  },
  {
   "cell_type": "code",
   "execution_count": 36,
   "metadata": {},
   "outputs": [],
   "source": [
    "train_now_val = train_now.iloc[-25*100*1000:]\n",
    "train_now_train = train_now.iloc[:-25*100*1000]"
   ]
  },
  {
   "cell_type": "code",
   "execution_count": 37,
   "metadata": {},
   "outputs": [],
   "source": [
    "val_set = set(train_now_val[\"user_id\"])\n",
    "tr_set = set(train_now_train[\"user_id\"])"
   ]
  },
  {
   "cell_type": "code",
   "execution_count": 38,
   "metadata": {},
   "outputs": [
    {
     "name": "stdout",
     "output_type": "stream",
     "text": [
      "378837\n",
      "24855\n",
      "14819\n"
     ]
    }
   ],
   "source": [
    "print(len(tr_set))\n",
    "print(len(val_set))\n",
    "print(len(val_set - tr_set))"
   ]
  },
  {
   "cell_type": "code",
   "execution_count": 79,
   "metadata": {},
   "outputs": [
    {
     "data": {
      "text/plain": [
       "59.621806477569905"
      ]
     },
     "execution_count": 79,
     "metadata": {},
     "output_type": "execute_result"
    }
   ],
   "source": [
    "14819 / (24855) * 100"
   ]
  },
  {
   "cell_type": "code",
   "execution_count": 39,
   "metadata": {},
   "outputs": [
    {
     "name": "stdout",
     "output_type": "stream",
     "text": [
      "2430.289205393498\n",
      "2453.094638899827\n",
      "1529.6539968\n"
     ]
    }
   ],
   "source": [
    "print(train_now[\"u_seq_len\"].mean())\n",
    "print(train_now_train[\"u_seq_len\"].mean())\n",
    "print(train_now_val[\"u_seq_len\"].mean())"
   ]
  },
  {
   "cell_type": "code",
   "execution_count": 30,
   "metadata": {},
   "outputs": [],
   "source": [
    "train[\"u_seq_len\"] = train.groupby(\"user_id\")[\"user_id\"].transform(\"count\")"
   ]
  },
  {
   "cell_type": "code",
   "execution_count": 25,
   "metadata": {},
   "outputs": [],
   "source": [
    "train = train.sort_values(by=\"timestamp\")"
   ]
  },
  {
   "cell_type": "code",
   "execution_count": 32,
   "metadata": {},
   "outputs": [],
   "source": [
    "train_val = train.iloc[-5*1000*1000:]\n",
    "train_train = train.iloc[:-5*1000*1000]"
   ]
  },
  {
   "cell_type": "code",
   "execution_count": 34,
   "metadata": {},
   "outputs": [],
   "source": [
    "val_set = set(train_val[\"user_id\"])\n",
    "tr_set = set(train_train[\"user_id\"])"
   ]
  },
  {
   "cell_type": "code",
   "execution_count": 35,
   "metadata": {},
   "outputs": [
    {
     "name": "stdout",
     "output_type": "stream",
     "text": [
      "393656\n",
      "13914\n",
      "0\n"
     ]
    }
   ],
   "source": [
    "print(len(tr_set))\n",
    "print(len(val_set))\n",
    "print(len(val_set - tr_set))"
   ]
  },
  {
   "cell_type": "code",
   "execution_count": 33,
   "metadata": {},
   "outputs": [
    {
     "name": "stdout",
     "output_type": "stream",
     "text": [
      "2430.289205393498\n",
      "2335.5586668556853\n",
      "4253.4794402\n"
     ]
    }
   ],
   "source": [
    "print(train[\"u_seq_len\"].mean())\n",
    "print(train_train[\"u_seq_len\"].mean())\n",
    "print(train_val[\"u_seq_len\"].mean())"
   ]
  },
  {
   "cell_type": "code",
   "execution_count": 21,
   "metadata": {},
   "outputs": [
    {
     "data": {
      "text/plain": [
       "{1}"
      ]
     },
     "execution_count": 21,
     "metadata": {},
     "output_type": "execute_result"
    }
   ],
   "source": []
  },
  {
   "cell_type": "code",
   "execution_count": null,
   "metadata": {},
   "outputs": [],
   "source": []
  },
  {
   "cell_type": "code",
   "execution_count": null,
   "metadata": {},
   "outputs": [],
   "source": []
  },
  {
   "cell_type": "code",
   "execution_count": null,
   "metadata": {},
   "outputs": [],
   "source": []
  },
  {
   "cell_type": "code",
   "execution_count": 48,
   "metadata": {},
   "outputs": [
    {
     "name": "stdout",
     "output_type": "stream",
     "text": [
      "371095\n",
      "26792\n",
      "22561\n",
      "2430.289205393498\n",
      "2454.1696050264068\n",
      "1970.6854484\n"
     ]
    }
   ],
   "source": [
    "train[\"u_seq_len\"] = train.groupby(\"user_id\")[\"user_id\"].transform(\"count\")\n",
    "train_val = train.iloc[-5*1000*1000:]\n",
    "train_train = train.iloc[:-5*1000*1000]\n",
    "val_set = set(train_val[\"user_id\"])\n",
    "tr_set = set(train_train[\"user_id\"])\n",
    "print(len(tr_set))\n",
    "print(len(val_set))\n",
    "print(len(val_set - tr_set))\n",
    "print(train[\"u_seq_len\"].mean())\n",
    "print(train_train[\"u_seq_len\"].mean())\n",
    "print(train_val[\"u_seq_len\"].mean())"
   ]
  },
  {
   "cell_type": "code",
   "execution_count": 80,
   "metadata": {},
   "outputs": [
    {
     "data": {
      "text/plain": [
       "84.20797252911318"
      ]
     },
     "execution_count": 80,
     "metadata": {},
     "output_type": "execute_result"
    }
   ],
   "source": [
    "22561 / (26792) * 100"
   ]
  },
  {
   "cell_type": "code",
   "execution_count": null,
   "metadata": {},
   "outputs": [],
   "source": []
  },
  {
   "cell_type": "code",
   "execution_count": null,
   "metadata": {},
   "outputs": [],
   "source": []
  },
  {
   "cell_type": "code",
   "execution_count": null,
   "metadata": {},
   "outputs": [],
   "source": []
  },
  {
   "cell_type": "code",
   "execution_count": 76,
   "metadata": {},
   "outputs": [],
   "source": [
    "# tito-san cv\n",
    "\n",
    "train = pd.read_feather(\"./train.feather\")\n",
    "import random\n",
    "random.seed(3)\n",
    "\n",
    "max_timestamp_u = train[['user_id','timestamp']].groupby(['user_id']).agg(['max']).reset_index()\n",
    "max_timestamp_u.columns = ['user_id', 'max_time_stamp']\n",
    "MAX_TIME_STAMP = max_timestamp_u.max_time_stamp.max()\n",
    "MAX_TIME_STAMP = int(MAX_TIME_STAMP * 2)\n",
    "#(MAX_TIME_STAMP for all users) - (max_time_stamp for each user) is used for this interval.\n",
    "\n",
    "def rand_time(max_time_stamp):\n",
    "    interval = MAX_TIME_STAMP - max_time_stamp\n",
    "    rand_time_stamp = random.randint(0,interval)\n",
    "    return rand_time_stamp\n",
    "\n",
    "max_timestamp_u['rand_time_stamp'] = max_timestamp_u.max_time_stamp.apply(rand_time)\n",
    "train = train.merge(max_timestamp_u, on='user_id', how='left')\n",
    "train['virtual_time_stamp'] = train.timestamp + train['rand_time_stamp']\n",
    "\n",
    "# kaggle_env = True\n",
    "# if kaggle_env:\n",
    "#     # Full dataframe can not be sorted on kaggle kernel due to lack of memory.\n",
    "#     train = train[:1*1000*1000]\n",
    "train = train.sort_values(['virtual_time_stamp', 'row_id']).reset_index(drop=True)\n",
    "\n"
   ]
  },
  {
   "cell_type": "code",
   "execution_count": 77,
   "metadata": {},
   "outputs": [
    {
     "name": "stdout",
     "output_type": "stream",
     "text": [
      "368864\n",
      "33173\n",
      "24792\n",
      "2430.289205393498\n",
      "2462.5563295988627\n",
      "1809.2739904\n"
     ]
    }
   ],
   "source": [
    "train[\"u_seq_len\"] = train.groupby(\"user_id\")[\"user_id\"].transform(\"count\")\n",
    "train_val = train.iloc[-5*1000*1000:]\n",
    "train_train = train.iloc[:-5*1000*1000]\n",
    "val_set = set(train_val[\"user_id\"])\n",
    "tr_set = set(train_train[\"user_id\"])\n",
    "print(len(tr_set))\n",
    "print(len(val_set))\n",
    "print(len(val_set - tr_set))\n",
    "print(train[\"u_seq_len\"].mean())\n",
    "print(train_train[\"u_seq_len\"].mean())\n",
    "print(train_val[\"u_seq_len\"].mean())"
   ]
  },
  {
   "cell_type": "code",
   "execution_count": 81,
   "metadata": {},
   "outputs": [
    {
     "data": {
      "text/plain": [
       "74.7354776474844"
      ]
     },
     "execution_count": 81,
     "metadata": {},
     "output_type": "execute_result"
    }
   ],
   "source": [
    "24792 / 33173 * 100"
   ]
  },
  {
   "cell_type": "code",
   "execution_count": null,
   "metadata": {},
   "outputs": [],
   "source": []
  },
  {
   "cell_type": "code",
   "execution_count": null,
   "metadata": {},
   "outputs": [],
   "source": []
  },
  {
   "cell_type": "code",
   "execution_count": null,
   "metadata": {},
   "outputs": [],
   "source": []
  },
  {
   "cell_type": "code",
   "execution_count": 121,
   "metadata": {},
   "outputs": [],
   "source": [
    "\n",
    "\n",
    "u_cnt = Counter()\n",
    "u_ac_cnt = Counter()\n",
    "u_ac_sum, u_qm_sum = Counter(), Counter()\n",
    "\n",
    "def update_ac_values(prev_rows, prev_acs, prev_uas):\n",
    "    #for i, row in enumerate(prev_df.values):\n",
    "    for i, row in enumerate(prev_rows):\n",
    "        update_ac_value(row, prev_acs[i], prev_uas[i])\n",
    "    \n",
    "def update_ac_value(row, prev_ac, prev_ua):\n",
    "    uid = int(row[2])\n",
    "    cid = int(row[3])\n",
    "    ucid = (uid, cid)\n",
    "    \n",
    "    u_ac_cnt[uid] += 1\n",
    "    u_ac_sum[uid] += prev_ac\n",
    "\n",
    "def make_row(row, data_list, is_train=True):\n",
    "    ts = int(row[1])\n",
    "    uid = int(row[2])\n",
    "    cid = int(row[3])\n",
    "    tcid = int(row[5])\n",
    "    if is_train:\n",
    "        et = row[8]\n",
    "        pqhe = row[9]\n",
    "    else:\n",
    "        et = row[6]\n",
    "        pqhe = row[7]\n",
    "    ucid = (uid, cid)\n",
    "    utcid = (uid, tcid)\n",
    "    contents = contents_dict[cid]\n",
    "    \n",
    "    output = {}\n",
    "    if is_train:\n",
    "        output[\"ac\"] = row[7]\n",
    "    output[\"et\"] = et\n",
    "    content_col = [\n",
    "        \"q_ac_mean\", \"q_ac_cnt\", \"q_et_mean\", \"q_et_cnt\", \"q_et_std\", \"b_ac_mean\", \"b_ac_cnt\",\n",
    "    ]\n",
    "    for c in content_col:\n",
    "        output[c] = contents[c]\n",
    "    \n",
    "    u_cnt[uid] += 1\n",
    "    u_qm_sum[uid] += contents[\"q_ac_mean\"]\n",
    "    output[\"u_cnt\"] = u_cnt[uid]\n",
    "    output[\"u_ac_cnt\"] = u_ac_cnt[uid]\n",
    "    output[\"u_ac_mean\"] = (u_ac_sum[uid] / u_ac_cnt[uid]) if u_ac_cnt[uid] != 0 else np.nan\n",
    "    output[\"u_qm_mean\"] = u_qm_sum[uid] / u_cnt[uid]\n",
    "    \n",
    "    data_list.append(output)\n",
    "    return data_list\n",
    "\n"
   ]
  },
  {
   "cell_type": "code",
   "execution_count": 51,
   "metadata": {},
   "outputs": [
    {
     "name": "stdout",
     "output_type": "stream",
     "text": [
      "   question_id  bundle_id  q_ac_mean  q_ac_cnt     q_et_mean  q_et_cnt  \\\n",
      "0            0          0   0.907721      6903  21875.328125      6901   \n",
      "1            1          1   0.890646      7398  22091.626953      7398   \n",
      "\n",
      "       q_et_std  b_ac_mean  b_ac_cnt  \n",
      "0  10519.116289   0.907721      6903  \n",
      "1  10867.885630   0.890646      7398  \n",
      "(13523, 9)\n",
      "13523\n"
     ]
    }
   ],
   "source": [
    "content_train = train[train[\"answered_correctly\"] != -1].copy()\n",
    "\n",
    "\n",
    "q_col = [\"question_id\", \"bundle_id\"]\n",
    "content_train = pd.merge(\n",
    "    content_train, question[q_col], left_on=\"content_id\", right_on=\"question_id\", how=\"left\"\n",
    ")\n",
    "\n",
    "# contents features\n",
    "# there are no new contents in the test, so we use part of the train as the pseudo-training set\n",
    "temp = content_train.groupby(\"content_id\")[\"answered_correctly\"].agg([\"mean\", \"count\"])\n",
    "temp.columns = [\"q_ac_mean\", \"q_ac_cnt\"]\n",
    "temp2 = content_train.groupby(\"content_id\")[\"prior_question_elapsed_time\"].agg([\"mean\", \"count\", \"std\"])\n",
    "temp2.columns = [\"q_et_mean\", \"q_et_cnt\", \"q_et_std\"]\n",
    "# temp3 = content_train.groupby(\"content_id\")[\"timestamp_diff\"].agg([\"mean\", \"std\", \"min\", \"max\", \"skew\"])\n",
    "# temp3.columns = [\"q_td_mean\", \"q_td_std\", \"q_td_min\", \"q_td_max\", \"q_td_skew\"]\n",
    "temp4 = content_train.groupby(\"bundle_id\")[\"answered_correctly\"].agg([\"mean\", \"count\"])\n",
    "temp4.columns = [\"b_ac_mean\", \"b_ac_cnt\"]\n",
    "q_col = [\"question_id\", \"bundle_id\"]\n",
    "#q_col += [str(i) for i in range(188)]\n",
    "contents = pd.merge(question[q_col], temp, left_on=\"question_id\", right_on=\"content_id\", how=\"left\")\n",
    "contents = pd.merge(contents, temp2, left_on=\"question_id\", right_on=\"content_id\", how=\"left\")\n",
    "#contents = pd.merge(contents, temp3, left_on=\"question_id\", right_on=\"content_id\", how=\"left\")\n",
    "contents = pd.merge(contents, temp4, on=\"bundle_id\", how=\"left\")\n",
    "print(contents.head(2))\n",
    "print(contents.shape)\n",
    "merge_col = [\n",
    "    \"question_id\", \"q_ac_mean\", \"q_ac_cnt\", \"q_et_mean\",\n",
    "    \"q_et_cnt\", \"q_et_std\", \"b_ac_mean\", \"b_ac_cnt\"\n",
    "]\n",
    "contents = contents[merge_col]\n",
    "contents = contents.set_index(\"question_id\")\n",
    "contents_dict = contents.to_dict(\"index\")\n",
    "print(len(contents_dict))"
   ]
  },
  {
   "cell_type": "code",
   "execution_count": 126,
   "metadata": {},
   "outputs": [],
   "source": [
    "class SingleLgb:\n",
    "    def __init__(self, seed=99, dry_run=False):\n",
    "        self.train_param = self.get_param()\n",
    "        if dry_run:\n",
    "            self.num_rounds = 100\n",
    "        else:\n",
    "            self.num_rounds = 1000\n",
    "\n",
    "    def do_train_direct(self, x_train, x_test, y_train, y_test):\n",
    "        lgb_train = lgb.Dataset(x_train, y_train)\n",
    "        lgb_eval = lgb.Dataset(x_test, y_test)\n",
    "\n",
    "        # print('Start training...')\n",
    "        model = lgb.train(self.train_param,\n",
    "                          lgb_train,\n",
    "                          valid_sets=[lgb_eval],\n",
    "                          verbose_eval=100,\n",
    "                          num_boost_round=self.num_rounds,\n",
    "                          early_stopping_rounds=100,\n",
    "                          #categorical_feature=[]\n",
    "                         )\n",
    "        # print('End training...')\n",
    "        return model\n",
    "\n",
    "    @staticmethod\n",
    "    def show_feature_importance(model, filename=None):\n",
    "        fi = pd.DataFrame({\n",
    "            \"name\": model.feature_name(),\n",
    "            \"importance_split\": model.feature_importance(importance_type=\"split\").astype(int),\n",
    "            \"importance_gain\": model.feature_importance(importance_type=\"gain\").astype(int),\n",
    "        })\n",
    "        fi = fi.sort_values(by=\"importance_gain\", ascending=False)\n",
    "        print(fi)\n",
    "        #with pd.option_context('display.max_rows', None, 'display.max_columns', None):  # more options can be specified also\n",
    "            #print(df)\n",
    "\n",
    "    @staticmethod\n",
    "    def get_param():\n",
    "        return {\n",
    "            'num_leaves': 31,\n",
    "            'min_data_in_leaf': 50,\n",
    "            'objective': 'binary',\n",
    "            #'metric': 'auc',\n",
    "            'metric': 'binary_logloss',\n",
    "            'max_depth': -1,\n",
    "            'learning_rate': 0.05,\n",
    "            \"boosting\": \"gbdt\",\n",
    "            \"feature_fraction\": 0.9,\n",
    "            \"verbosity\": -1,\n",
    "            \"random_state\": 81,\n",
    "        }\n",
    "    \n",
    "class SingleTrainer:\n",
    "    def __init__(self, pred_col, dry_run=False):\n",
    "        self.pred_col = pred_col\n",
    "        self.target_col = \"ac\"\n",
    "        self.dry_run = dry_run\n",
    "        self.val_size = 25*100*1000\n",
    "\n",
    "    def train_model(self, df):\n",
    "        X = df[self.pred_col]\n",
    "        y = df[self.target_col]\n",
    "        \n",
    "        models, scores = list(), list()\n",
    "        for fold in range(4):\n",
    "            print(\"---------\")\n",
    "            print(\"fold=\", fold)\n",
    "            f, c = fold, self.val_size\n",
    "            val_s, val_e = -c-f*c, len(df)-f*c\n",
    "            train_idx = -c-f*c\n",
    "            X_train, X_val = X.iloc[:train_idx], X.iloc[val_s:val_e]\n",
    "            y_train, y_val = y.iloc[:train_idx], y.iloc[val_s:val_e]\n",
    "            print(X_train.shape, X_val.shape)\n",
    "            \n",
    "            lgbm = SingleLgb(seed=99, dry_run=self.dry_run)\n",
    "            model = lgbm.do_train_direct(X_train, X_val, y_train, y_val)\n",
    "            score = model.best_score[\"valid_0\"][\"binary_logloss\"]\n",
    "            pred = model.predict(X_val)\n",
    "            score = metrics.roc_auc_score(y_val, pred)\n",
    "            print(\"AUC=\", score)\n",
    "            if fold == 0:\n",
    "                lgbm.show_feature_importance(model)\n",
    "            models.append(model)\n",
    "            scores.append(score)\n",
    "            break\n",
    "        return models, np.mean(scores)"
   ]
  },
  {
   "cell_type": "code",
   "execution_count": 101,
   "metadata": {},
   "outputs": [],
   "source": [
    "train_now = train_now[train_now[\"answered_correctly\"] != -1]"
   ]
  },
  {
   "cell_type": "code",
   "execution_count": null,
   "metadata": {},
   "outputs": [],
   "source": []
  },
  {
   "cell_type": "code",
   "execution_count": 104,
   "metadata": {},
   "outputs": [
    {
     "name": "stderr",
     "output_type": "stream",
     "text": [
      "100%|██████████| 99271300/99271300 [20:25<00:00, 80991.19it/s]  \n"
     ]
    },
    {
     "name": "stdout",
     "output_type": "stream",
     "text": [
      "    ac       et  q_ac_mean  q_ac_cnt     q_et_mean  q_et_cnt      q_et_std  \\\n",
      "0  1.0      NaN   0.966869     19619  23471.402344      5406  16817.431721   \n",
      "1  1.0  16000.0   0.954815     21733  19462.746094     21732  10070.528940   \n",
      "\n",
      "   b_ac_mean  b_ac_cnt  u_cnt  u_ac_cnt  u_ac_mean  u_qm_mean  \n",
      "0   0.966869     19619      1         0        NaN   0.966869  \n",
      "1   0.954815     21733      2         1        1.0   0.960842  \n"
     ]
    }
   ],
   "source": [
    "train_data_list = list()\n",
    "utcid_set = set()\n",
    "prev_rows, prev_acs, prev_uas = list(), list(), list()\n",
    "\n",
    "not_updated_idx = 0\n",
    "for i, row in enumerate(tqdm(train_now.values)):\n",
    "    uid = row[2]\n",
    "    tcid = row[5]\n",
    "    utcid = (uid, tcid)\n",
    "    if utcid not in utcid_set:\n",
    "        if len(prev_rows) > 0:\n",
    "            #prev_df2 = train.iloc[not_updated_idx:i] iloc too slow lol\n",
    "            update_ac_values(prev_rows, prev_acs, prev_uas)\n",
    "            prev_rows.clear()\n",
    "            prev_acs.clear()\n",
    "            prev_uas.clear()\n",
    "            utcid_set.clear()\n",
    "            not_updated_idx = i\n",
    "    prev_rows.append(row)\n",
    "    prev_acs.append(row[7])\n",
    "    prev_uas.append(row[6])\n",
    "    utcid_set.add(utcid)\n",
    "        \n",
    "    make_row(row, train_data_list, True)\n",
    "        \n",
    "    \n",
    "df = pd.DataFrame(train_data_list)\n",
    "print(df.head(2))\n",
    "#print(df.info())"
   ]
  },
  {
   "cell_type": "code",
   "execution_count": null,
   "metadata": {},
   "outputs": [],
   "source": []
  },
  {
   "cell_type": "code",
   "execution_count": 122,
   "metadata": {},
   "outputs": [],
   "source": [
    "train_val = train_now.iloc[-25*100*1000:].copy()"
   ]
  },
  {
   "cell_type": "code",
   "execution_count": 123,
   "metadata": {},
   "outputs": [
    {
     "name": "stderr",
     "output_type": "stream",
     "text": [
      "100%|██████████| 2500000/2500000 [00:28<00:00, 87138.86it/s]\n"
     ]
    },
    {
     "name": "stdout",
     "output_type": "stream",
     "text": [
      "    ac       et  q_ac_mean  q_ac_cnt     q_et_mean  q_et_cnt      q_et_std  \\\n",
      "0  1.0  18000.0   0.524963      7351  18318.365234      7351   9148.979822   \n",
      "1  1.0  19000.0   0.538570     27042  25251.115234     26965  22010.051535   \n",
      "\n",
      "   b_ac_mean  b_ac_cnt  u_cnt  u_ac_cnt  u_ac_mean  u_qm_mean  \n",
      "0   0.524963      7351      1         0        NaN   0.524963  \n",
      "1   0.538570     27042      1         0        NaN   0.538570  \n"
     ]
    }
   ],
   "source": [
    "train_data_list = list()\n",
    "utcid_set = set()\n",
    "prev_rows, prev_acs, prev_uas = list(), list(), list()\n",
    "\n",
    "not_updated_idx = 0\n",
    "for i, row in enumerate(tqdm(train_val.values)):\n",
    "    uid = row[2]\n",
    "    tcid = row[5]\n",
    "    utcid = (uid, tcid)\n",
    "    if utcid not in utcid_set:\n",
    "        if len(prev_rows) > 0:\n",
    "            #prev_df2 = train.iloc[not_updated_idx:i] iloc too slow lol\n",
    "            update_ac_values(prev_rows, prev_acs, prev_uas)\n",
    "            prev_rows.clear()\n",
    "            prev_acs.clear()\n",
    "            prev_uas.clear()\n",
    "            utcid_set.clear()\n",
    "            not_updated_idx = i\n",
    "    prev_rows.append(row)\n",
    "    prev_acs.append(row[7])\n",
    "    prev_uas.append(row[6])\n",
    "    utcid_set.add(utcid)\n",
    "        \n",
    "    make_row(row, train_data_list, True)\n",
    "        \n",
    "    \n",
    "df_val = pd.DataFrame(train_data_list)\n",
    "print(df_val.head(2))\n",
    "#print(df.info())"
   ]
  },
  {
   "cell_type": "code",
   "execution_count": null,
   "metadata": {},
   "outputs": [],
   "source": []
  },
  {
   "cell_type": "code",
   "execution_count": null,
   "metadata": {},
   "outputs": [],
   "source": []
  },
  {
   "cell_type": "code",
   "execution_count": 105,
   "metadata": {},
   "outputs": [],
   "source": [
    "# %%timeit\n",
    "# df = pd.DataFrame(data_list)\n",
    "# 24.7 s ± 205 ms per loop (mean ± std. dev. of 7 runs, 1 loop each)"
   ]
  },
  {
   "cell_type": "code",
   "execution_count": 69,
   "metadata": {},
   "outputs": [
    {
     "data": {
      "text/html": [
       "<div>\n",
       "<style scoped>\n",
       "    .dataframe tbody tr th:only-of-type {\n",
       "        vertical-align: middle;\n",
       "    }\n",
       "\n",
       "    .dataframe tbody tr th {\n",
       "        vertical-align: top;\n",
       "    }\n",
       "\n",
       "    .dataframe thead th {\n",
       "        text-align: right;\n",
       "    }\n",
       "</style>\n",
       "<table border=\"1\" class=\"dataframe\">\n",
       "  <thead>\n",
       "    <tr style=\"text-align: right;\">\n",
       "      <th></th>\n",
       "      <th>ac</th>\n",
       "      <th>et</th>\n",
       "      <th>q_ac_mean</th>\n",
       "      <th>q_ac_cnt</th>\n",
       "      <th>q_et_mean</th>\n",
       "      <th>q_et_cnt</th>\n",
       "      <th>q_et_std</th>\n",
       "      <th>b_ac_mean</th>\n",
       "      <th>b_ac_cnt</th>\n",
       "      <th>u_cnt</th>\n",
       "      <th>u_ac_cnt</th>\n",
       "      <th>u_ac_mean</th>\n",
       "      <th>u_qm_mean</th>\n",
       "    </tr>\n",
       "  </thead>\n",
       "  <tbody>\n",
       "    <tr>\n",
       "      <th>count</th>\n",
       "      <td>9.927130e+07</td>\n",
       "      <td>9.887879e+07</td>\n",
       "      <td>9.927130e+07</td>\n",
       "      <td>9.927130e+07</td>\n",
       "      <td>9.927130e+07</td>\n",
       "      <td>9.927130e+07</td>\n",
       "      <td>9.927129e+07</td>\n",
       "      <td>9.927130e+07</td>\n",
       "      <td>9.927130e+07</td>\n",
       "      <td>9.927130e+07</td>\n",
       "      <td>9.927130e+07</td>\n",
       "      <td>9.887484e+07</td>\n",
       "      <td>9.927130e+07</td>\n",
       "    </tr>\n",
       "    <tr>\n",
       "      <th>mean</th>\n",
       "      <td>6.572355e-01</td>\n",
       "      <td>2.542381e+04</td>\n",
       "      <td>6.572355e-01</td>\n",
       "      <td>2.521723e+04</td>\n",
       "      <td>2.541681e+04</td>\n",
       "      <td>2.491416e+04</td>\n",
       "      <td>1.802090e+04</td>\n",
       "      <td>6.572355e-01</td>\n",
       "      <td>4.546867e+04</td>\n",
       "      <td>1.196893e+03</td>\n",
       "      <td>1.195480e+03</td>\n",
       "      <td>6.433691e-01</td>\n",
       "      <td>6.515675e-01</td>\n",
       "    </tr>\n",
       "    <tr>\n",
       "      <th>std</th>\n",
       "      <td>4.746335e-01</td>\n",
       "      <td>1.994815e+04</td>\n",
       "      <td>1.742359e-01</td>\n",
       "      <td>3.820202e+04</td>\n",
       "      <td>6.479250e+03</td>\n",
       "      <td>3.761324e+04</td>\n",
       "      <td>5.571927e+03</td>\n",
       "      <td>1.532885e-01</td>\n",
       "      <td>9.440778e+04</td>\n",
       "      <td>1.833863e+03</td>\n",
       "      <td>1.833807e+03</td>\n",
       "      <td>1.295386e-01</td>\n",
       "      <td>7.147249e-02</td>\n",
       "    </tr>\n",
       "    <tr>\n",
       "      <th>min</th>\n",
       "      <td>0.000000e+00</td>\n",
       "      <td>0.000000e+00</td>\n",
       "      <td>0.000000e+00</td>\n",
       "      <td>1.000000e+00</td>\n",
       "      <td>1.333000e+03</td>\n",
       "      <td>1.000000e+00</td>\n",
       "      <td>3.204019e+03</td>\n",
       "      <td>0.000000e+00</td>\n",
       "      <td>1.000000e+00</td>\n",
       "      <td>1.000000e+00</td>\n",
       "      <td>0.000000e+00</td>\n",
       "      <td>0.000000e+00</td>\n",
       "      <td>1.006072e-01</td>\n",
       "    </tr>\n",
       "    <tr>\n",
       "      <th>25%</th>\n",
       "      <td>0.000000e+00</td>\n",
       "      <td>1.600000e+04</td>\n",
       "      <td>5.471624e-01</td>\n",
       "      <td>6.211000e+03</td>\n",
       "      <td>2.269374e+04</td>\n",
       "      <td>6.194000e+03</td>\n",
       "      <td>1.243090e+04</td>\n",
       "      <td>5.625434e-01</td>\n",
       "      <td>9.777000e+03</td>\n",
       "      <td>1.240000e+02</td>\n",
       "      <td>1.230000e+02</td>\n",
       "      <td>5.833333e-01</td>\n",
       "      <td>6.195605e-01</td>\n",
       "    </tr>\n",
       "    <tr>\n",
       "      <th>50%</th>\n",
       "      <td>1.000000e+00</td>\n",
       "      <td>2.100000e+04</td>\n",
       "      <td>6.763632e-01</td>\n",
       "      <td>1.240600e+04</td>\n",
       "      <td>2.486438e+04</td>\n",
       "      <td>1.236700e+04</td>\n",
       "      <td>2.018806e+04</td>\n",
       "      <td>6.752029e-01</td>\n",
       "      <td>1.912400e+04</td>\n",
       "      <td>4.840000e+02</td>\n",
       "      <td>4.830000e+02</td>\n",
       "      <td>6.645570e-01</td>\n",
       "      <td>6.631833e-01</td>\n",
       "    </tr>\n",
       "    <tr>\n",
       "      <th>75%</th>\n",
       "      <td>1.000000e+00</td>\n",
       "      <td>2.966600e+04</td>\n",
       "      <td>7.885033e-01</td>\n",
       "      <td>2.466000e+04</td>\n",
       "      <td>2.567838e+04</td>\n",
       "      <td>2.466000e+04</td>\n",
       "      <td>2.201005e+04</td>\n",
       "      <td>7.655832e-01</td>\n",
       "      <td>3.810500e+04</td>\n",
       "      <td>1.446000e+03</td>\n",
       "      <td>1.444000e+03</td>\n",
       "      <td>7.258065e-01</td>\n",
       "      <td>6.977971e-01</td>\n",
       "    </tr>\n",
       "    <tr>\n",
       "      <th>max</th>\n",
       "      <td>1.000000e+00</td>\n",
       "      <td>3.000000e+05</td>\n",
       "      <td>1.000000e+00</td>\n",
       "      <td>2.136050e+05</td>\n",
       "      <td>5.918858e+04</td>\n",
       "      <td>2.135260e+05</td>\n",
       "      <td>5.310611e+04</td>\n",
       "      <td>1.000000e+00</td>\n",
       "      <td>6.411980e+05</td>\n",
       "      <td>1.760900e+04</td>\n",
       "      <td>1.760800e+04</td>\n",
       "      <td>1.000000e+00</td>\n",
       "      <td>9.893495e-01</td>\n",
       "    </tr>\n",
       "  </tbody>\n",
       "</table>\n",
       "</div>"
      ],
      "text/plain": [
       "                 ac            et     q_ac_mean      q_ac_cnt     q_et_mean  \\\n",
       "count  9.927130e+07  9.887879e+07  9.927130e+07  9.927130e+07  9.927130e+07   \n",
       "mean   6.572355e-01  2.542381e+04  6.572355e-01  2.521723e+04  2.541681e+04   \n",
       "std    4.746335e-01  1.994815e+04  1.742359e-01  3.820202e+04  6.479250e+03   \n",
       "min    0.000000e+00  0.000000e+00  0.000000e+00  1.000000e+00  1.333000e+03   \n",
       "25%    0.000000e+00  1.600000e+04  5.471624e-01  6.211000e+03  2.269374e+04   \n",
       "50%    1.000000e+00  2.100000e+04  6.763632e-01  1.240600e+04  2.486438e+04   \n",
       "75%    1.000000e+00  2.966600e+04  7.885033e-01  2.466000e+04  2.567838e+04   \n",
       "max    1.000000e+00  3.000000e+05  1.000000e+00  2.136050e+05  5.918858e+04   \n",
       "\n",
       "           q_et_cnt      q_et_std     b_ac_mean      b_ac_cnt         u_cnt  \\\n",
       "count  9.927130e+07  9.927129e+07  9.927130e+07  9.927130e+07  9.927130e+07   \n",
       "mean   2.491416e+04  1.802090e+04  6.572355e-01  4.546867e+04  1.196893e+03   \n",
       "std    3.761324e+04  5.571927e+03  1.532885e-01  9.440778e+04  1.833863e+03   \n",
       "min    1.000000e+00  3.204019e+03  0.000000e+00  1.000000e+00  1.000000e+00   \n",
       "25%    6.194000e+03  1.243090e+04  5.625434e-01  9.777000e+03  1.240000e+02   \n",
       "50%    1.236700e+04  2.018806e+04  6.752029e-01  1.912400e+04  4.840000e+02   \n",
       "75%    2.466000e+04  2.201005e+04  7.655832e-01  3.810500e+04  1.446000e+03   \n",
       "max    2.135260e+05  5.310611e+04  1.000000e+00  6.411980e+05  1.760900e+04   \n",
       "\n",
       "           u_ac_cnt     u_ac_mean     u_qm_mean  \n",
       "count  9.927130e+07  9.887484e+07  9.927130e+07  \n",
       "mean   1.195480e+03  6.433691e-01  6.515675e-01  \n",
       "std    1.833807e+03  1.295386e-01  7.147249e-02  \n",
       "min    0.000000e+00  0.000000e+00  1.006072e-01  \n",
       "25%    1.230000e+02  5.833333e-01  6.195605e-01  \n",
       "50%    4.830000e+02  6.645570e-01  6.631833e-01  \n",
       "75%    1.444000e+03  7.258065e-01  6.977971e-01  \n",
       "max    1.760800e+04  1.000000e+00  9.893495e-01  "
      ]
     },
     "execution_count": 69,
     "metadata": {},
     "output_type": "execute_result"
    }
   ],
   "source": [
    "df.describe()"
   ]
  },
  {
   "cell_type": "code",
   "execution_count": 106,
   "metadata": {},
   "outputs": [
    {
     "data": {
      "text/plain": [
       "Index(['ac', 'et', 'q_ac_mean', 'q_ac_cnt', 'q_et_mean', 'q_et_cnt',\n",
       "       'q_et_std', 'b_ac_mean', 'b_ac_cnt', 'u_cnt', 'u_ac_cnt', 'u_ac_mean',\n",
       "       'u_qm_mean'],\n",
       "      dtype='object')"
      ]
     },
     "execution_count": 106,
     "metadata": {},
     "output_type": "execute_result"
    }
   ],
   "source": [
    "df.columns"
   ]
  },
  {
   "cell_type": "code",
   "execution_count": 124,
   "metadata": {},
   "outputs": [],
   "source": [
    "\n",
    "\n",
    "pred_col = [\n",
    "    'q_ac_mean', 'q_ac_cnt', 'q_et_mean', 'q_et_cnt', 'q_et_std', 'b_ac_mean', 'b_ac_cnt',\n",
    "    'u_cnt', 'u_qm_mean', 'u_ac_mean', 'et'\n",
    "]"
   ]
  },
  {
   "cell_type": "code",
   "execution_count": 125,
   "metadata": {},
   "outputs": [
    {
     "name": "stdout",
     "output_type": "stream",
     "text": [
      "(99271300, 13)\n"
     ]
    }
   ],
   "source": [
    "temp_train = df.iloc[:-25*100*1000]\n",
    "temp_val = df_val\n",
    "temp_df = pd.concat([temp_train, temp_val], axis=0)\n",
    "print(temp_df.shape)"
   ]
  },
  {
   "cell_type": "code",
   "execution_count": null,
   "metadata": {},
   "outputs": [],
   "source": []
  },
  {
   "cell_type": "code",
   "execution_count": null,
   "metadata": {},
   "outputs": [],
   "source": []
  },
  {
   "cell_type": "code",
   "execution_count": 109,
   "metadata": {},
   "outputs": [],
   "source": [
    "temp_df = df.copy()"
   ]
  },
  {
   "cell_type": "code",
   "execution_count": 127,
   "metadata": {},
   "outputs": [
    {
     "name": "stdout",
     "output_type": "stream",
     "text": [
      "---------\n",
      "fold= 0\n",
      "(96771300, 11) (2500000, 11)\n",
      "Training until validation scores don't improve for 100 rounds\n",
      "[100]\tvalid_0's binary_logloss: 0.550202\n",
      "[200]\tvalid_0's binary_logloss: 0.548802\n",
      "[300]\tvalid_0's binary_logloss: 0.548385\n",
      "[400]\tvalid_0's binary_logloss: 0.54811\n",
      "[500]\tvalid_0's binary_logloss: 0.547901\n",
      "[600]\tvalid_0's binary_logloss: 0.547742\n",
      "[700]\tvalid_0's binary_logloss: 0.547592\n",
      "[800]\tvalid_0's binary_logloss: 0.547475\n",
      "[900]\tvalid_0's binary_logloss: 0.547366\n",
      "[1000]\tvalid_0's binary_logloss: 0.547269\n",
      "Did not meet early stopping. Best iteration is:\n",
      "[1000]\tvalid_0's binary_logloss: 0.547269\n",
      "AUC= 0.7635267259624468\n",
      "         name  importance_split  importance_gain\n",
      "0   q_ac_mean              3990        129523915\n",
      "9   u_ac_mean              3812         39060063\n",
      "5   b_ac_mean              1947         12693169\n",
      "8   u_qm_mean              2910         11192396\n",
      "10         et              2366          2943730\n",
      "7       u_cnt              2977          2666587\n",
      "2   q_et_mean              3403          1165660\n",
      "1    q_ac_cnt              2721          1151577\n",
      "6    b_ac_cnt              1835           866105\n",
      "4    q_et_std              2820           565127\n",
      "3    q_et_cnt              1219           417183\n"
     ]
    }
   ],
   "source": [
    "#temp_df = df[1*1000*1000:].copy()\n",
    "\n",
    "trainer = SingleTrainer(pred_col, dry_run=False)\n",
    "models, score = trainer.train_model(temp_df)"
   ]
  },
  {
   "cell_type": "code",
   "execution_count": null,
   "metadata": {},
   "outputs": [],
   "source": []
  },
  {
   "cell_type": "code",
   "execution_count": 128,
   "metadata": {},
   "outputs": [],
   "source": [
    "publicLB = temp_df.iloc[-25*100*1000:-20*100*1000]\n",
    "privateLB = temp_df.iloc[-20*100*1000:]"
   ]
  },
  {
   "cell_type": "code",
   "execution_count": 130,
   "metadata": {},
   "outputs": [],
   "source": [
    "public_pred = models[0].predict(publicLB[pred_col])\n",
    "private_pred = models[0].predict(privateLB[pred_col])"
   ]
  },
  {
   "cell_type": "code",
   "execution_count": 132,
   "metadata": {},
   "outputs": [],
   "source": [
    "public_score = metrics.roc_auc_score(publicLB[\"ac\"], public_pred)\n",
    "private_score = metrics.roc_auc_score(privateLB[\"ac\"], private_pred)"
   ]
  },
  {
   "cell_type": "code",
   "execution_count": 133,
   "metadata": {},
   "outputs": [
    {
     "data": {
      "text/plain": [
       "(0.7577862749486305, 0.7649490305836172)"
      ]
     },
     "execution_count": 133,
     "metadata": {},
     "output_type": "execute_result"
    }
   ],
   "source": [
    "public_score, private_score"
   ]
  },
  {
   "cell_type": "code",
   "execution_count": 28,
   "metadata": {},
   "outputs": [],
   "source": [
    "# max-timestamp * 5\n",
    "# with cached feats = 762\n",
    "# cleared cached feats = 0.7615\n",
    "\n",
    "# *2\n",
    "# cached = 0.76199\n",
    "# not cached = 0.7614\n",
    "\n",
    "# *1\n",
    "# cached = 0.7645\n",
    "# not cached = 0.7635"
   ]
  },
  {
   "cell_type": "code",
   "execution_count": 28,
   "metadata": {},
   "outputs": [],
   "source": []
  },
  {
   "cell_type": "code",
   "execution_count": null,
   "metadata": {},
   "outputs": [],
   "source": [
    "def make_pred_df(df):\n",
    "    pred_data_list = list()\n",
    "    for i, row in enumerate(df.values):\n",
    "        make_row(row, pred_data_list, False)\n",
    "    pred_df = pd.DataFrame(pred_data_list)\n",
    "    return pred_df"
   ]
  },
  {
   "cell_type": "code",
   "execution_count": null,
   "metadata": {},
   "outputs": [],
   "source": [
    "env = riiideducation.make_env()\n",
    "is_train = False\n",
    "init_values()"
   ]
  },
  {
   "cell_type": "code",
   "execution_count": null,
   "metadata": {},
   "outputs": [],
   "source": [
    "prev_df = None\n",
    "for (test_df, sample_prediction_df) in env.iter_test():\n",
    "    #show_col = [\"row_id\", \"user_id\", \"content_type_id\", \"prior_group_answers_correct\", \"prior_group_responses\"]\n",
    "    #print(test_df.head(2))\n",
    "    #print(sample_prediction_df.head(2))\n",
    "    prev_ac = eval(test_df.iloc[0][\"prior_group_answers_correct\"])\n",
    "    prev_ua = eval(test_df.iloc[0][\"prior_group_responses\"])\n",
    "    use_df = test_df[test_df['content_type_id'] == 0]\n",
    "    #print(\"--------------------\")\n",
    "    \n",
    "    if len(prev_ac) > 0:\n",
    "        update_ac_values(prev_df.values, prev_ac, prev_ua)\n",
    "    pred_df = make_pred_df(use_df)\n",
    "    #print(pred_df.head(2))\n",
    "    pred = models[0].predict(pred_df[pred_col])\n",
    "    prev_df = use_df\n",
    "    \n",
    "    sub_df = use_df[[\"row_id\"]].copy()\n",
    "    sub_df[\"answered_correctly\"] = pred\n",
    "    env.predict(sub_df)\n",
    "    #test_df['answered_correctly'] = 0.5\n",
    "    #env.predict(test_df.loc[test_df['content_type_id'] == 0, ['row_id', 'answered_correctly']])\n",
    "\n",
    "\n",
    "#print(pred_df.columns)\n"
   ]
  },
  {
   "cell_type": "code",
   "execution_count": null,
   "metadata": {},
   "outputs": [],
   "source": []
  }
 ],
 "metadata": {
  "kernelspec": {
   "display_name": "Python 3",
   "language": "python",
   "name": "python3"
  },
  "language_info": {
   "codemirror_mode": {
    "name": "ipython",
    "version": 3
   },
   "file_extension": ".py",
   "mimetype": "text/x-python",
   "name": "python",
   "nbconvert_exporter": "python",
   "pygments_lexer": "ipython3",
   "version": "3.7.9"
  }
 },
 "nbformat": 4,
 "nbformat_minor": 4
}
