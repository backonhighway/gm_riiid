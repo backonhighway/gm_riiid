{
 "cells": [
  {
   "cell_type": "code",
   "execution_count": 1,
   "metadata": {},
   "outputs": [],
   "source": [
    "import json\n",
    "from collections import Counter, defaultdict, deque\n",
    "import gc\n",
    "\n",
    "import numpy as np\n",
    "import pandas as pd\n",
    "import glob\n",
    "import time\n",
    "from tqdm import tqdm\n",
    "\n",
    "from sklearn import model_selection, metrics\n",
    "from sklearn.cluster import KMeans\n",
    "import matplotlib.pyplot as plt\n",
    "import seaborn as sn\n",
    "\n",
    "import lightgbm as lgb\n",
    "from scipy.stats import skew\n",
    "\n",
    "import feather\n",
    "import pickle\n",
    "import h5py\n",
    "\n",
    "from concurrent import futures\n",
    "#import riiideducation\n"
   ]
  },
  {
   "cell_type": "code",
   "execution_count": 2,
   "metadata": {},
   "outputs": [
    {
     "data": {
      "text/html": [
       "<div>\n",
       "<style scoped>\n",
       "    .dataframe tbody tr th:only-of-type {\n",
       "        vertical-align: middle;\n",
       "    }\n",
       "\n",
       "    .dataframe tbody tr th {\n",
       "        vertical-align: top;\n",
       "    }\n",
       "\n",
       "    .dataframe thead th {\n",
       "        text-align: right;\n",
       "    }\n",
       "</style>\n",
       "<table border=\"1\" class=\"dataframe\">\n",
       "  <thead>\n",
       "    <tr style=\"text-align: right;\">\n",
       "      <th></th>\n",
       "      <th>question_id</th>\n",
       "      <th>bundle_id</th>\n",
       "      <th>correct_answer</th>\n",
       "      <th>part</th>\n",
       "      <th>tags</th>\n",
       "    </tr>\n",
       "  </thead>\n",
       "  <tbody>\n",
       "    <tr>\n",
       "      <th>0</th>\n",
       "      <td>0</td>\n",
       "      <td>0</td>\n",
       "      <td>0</td>\n",
       "      <td>1</td>\n",
       "      <td>51 131 162 38</td>\n",
       "    </tr>\n",
       "    <tr>\n",
       "      <th>1</th>\n",
       "      <td>1</td>\n",
       "      <td>1</td>\n",
       "      <td>1</td>\n",
       "      <td>1</td>\n",
       "      <td>131 36 81</td>\n",
       "    </tr>\n",
       "  </tbody>\n",
       "</table>\n",
       "</div>"
      ],
      "text/plain": [
       "   question_id  bundle_id  correct_answer  part           tags\n",
       "0            0          0               0     1  51 131 162 38\n",
       "1            1          1               1     1      131 36 81"
      ]
     },
     "execution_count": 2,
     "metadata": {},
     "output_type": "execute_result"
    }
   ],
   "source": [
    "question = pd.read_csv(\"/home/pocket/input/questions.csv\")\n",
    "question.head(2)"
   ]
  },
  {
   "cell_type": "code",
   "execution_count": 3,
   "metadata": {},
   "outputs": [
    {
     "data": {
      "text/plain": [
       "<AxesSubplot:>"
      ]
     },
     "execution_count": 3,
     "metadata": {},
     "output_type": "execute_result"
    },
    {
     "data": {
      "image/png": "[encoded data removed]",
      "text/plain": [
       "<Figure size 432x288 with 1 Axes>"
      ]
     },
     "metadata": {
      "needs_background": "light"
     },
     "output_type": "display_data"
    }
   ],
   "source": [
    "question[\"tags\"].astype(str).apply(lambda x: len(x.split())).hist()"
   ]
  },
  {
   "cell_type": "code",
   "execution_count": 4,
   "metadata": {},
   "outputs": [
    {
     "data": {
      "text/html": [
       "<div>\n",
       "<style scoped>\n",
       "    .dataframe tbody tr th:only-of-type {\n",
       "        vertical-align: middle;\n",
       "    }\n",
       "\n",
       "    .dataframe tbody tr th {\n",
       "        vertical-align: top;\n",
       "    }\n",
       "\n",
       "    .dataframe thead th {\n",
       "        text-align: right;\n",
       "    }\n",
       "</style>\n",
       "<table border=\"1\" class=\"dataframe\">\n",
       "  <thead>\n",
       "    <tr style=\"text-align: right;\">\n",
       "      <th></th>\n",
       "      <th>lecture_id</th>\n",
       "      <th>tag</th>\n",
       "      <th>part</th>\n",
       "      <th>type_of</th>\n",
       "    </tr>\n",
       "  </thead>\n",
       "  <tbody>\n",
       "    <tr>\n",
       "      <th>0</th>\n",
       "      <td>89</td>\n",
       "      <td>159</td>\n",
       "      <td>5</td>\n",
       "      <td>concept</td>\n",
       "    </tr>\n",
       "    <tr>\n",
       "      <th>1</th>\n",
       "      <td>100</td>\n",
       "      <td>70</td>\n",
       "      <td>1</td>\n",
       "      <td>concept</td>\n",
       "    </tr>\n",
       "  </tbody>\n",
       "</table>\n",
       "</div>"
      ],
      "text/plain": [
       "   lecture_id  tag  part  type_of\n",
       "0          89  159     5  concept\n",
       "1         100   70     1  concept"
      ]
     },
     "execution_count": 4,
     "metadata": {},
     "output_type": "execute_result"
    }
   ],
   "source": [
    "lecture = pd.read_csv(\"/home/pocket/input/lectures.csv\")\n",
    "lecture.head(2)"
   ]
  },
  {
   "cell_type": "code",
   "execution_count": 5,
   "metadata": {},
   "outputs": [],
   "source": [
    "lecture = lecture.set_index(\"lecture_id\")\n",
    "lectures_dict = lecture.to_dict(\"index\")"
   ]
  },
  {
   "cell_type": "code",
   "execution_count": 6,
   "metadata": {},
   "outputs": [],
   "source": [
    "train = pd.read_feather(\"./train_sorted_full2.feather\")"
   ]
  },
  {
   "cell_type": "code",
   "execution_count": 7,
   "metadata": {},
   "outputs": [],
   "source": [
    "#train[\"prior_question_had_explanation\"].fillna(False, inplace=True)"
   ]
  },
  {
   "cell_type": "code",
   "execution_count": 8,
   "metadata": {},
   "outputs": [],
   "source": [
    "#train[\"prior_question_had_explanation\"] = train[\"prior_question_had_explanation\"].astype(int)"
   ]
  },
  {
   "cell_type": "code",
   "execution_count": 9,
   "metadata": {},
   "outputs": [],
   "source": [
    "# use_col = [\n",
    "#     'row_id', 'timestamp', 'user_id', 'content_id', 'content_type_id',\n",
    "#     'task_container_id', 'user_answer', 'answered_correctly',\n",
    "#     'prior_question_elapsed_time', 'prior_question_had_explanation',\n",
    "# ]\n",
    "# train[use_col].to_feather(\"./train_sorted_full2.feather\")"
   ]
  },
  {
   "cell_type": "code",
   "execution_count": 10,
   "metadata": {},
   "outputs": [
    {
     "name": "stdout",
     "output_type": "stream",
     "text": [
      "Index(['row_id', 'timestamp', 'user_id', 'content_id', 'content_type_id',\n",
      "       'task_container_id', 'user_answer', 'answered_correctly',\n",
      "       'prior_question_elapsed_time', 'prior_question_had_explanation'],\n",
      "      dtype='object')\n"
     ]
    }
   ],
   "source": [
    "print(train.columns)\n",
    "\n",
    "# no lectures for now\n",
    "#train = train[train[\"answered_correctly\"] != -1]"
   ]
  },
  {
   "cell_type": "code",
   "execution_count": 11,
   "metadata": {},
   "outputs": [
    {
     "data": {
      "text/html": [
       "<div>\n",
       "<style scoped>\n",
       "    .dataframe tbody tr th:only-of-type {\n",
       "        vertical-align: middle;\n",
       "    }\n",
       "\n",
       "    .dataframe tbody tr th {\n",
       "        vertical-align: top;\n",
       "    }\n",
       "\n",
       "    .dataframe thead th {\n",
       "        text-align: right;\n",
       "    }\n",
       "</style>\n",
       "<table border=\"1\" class=\"dataframe\">\n",
       "  <thead>\n",
       "    <tr style=\"text-align: right;\">\n",
       "      <th></th>\n",
       "      <th>row_id</th>\n",
       "      <th>timestamp</th>\n",
       "      <th>user_id</th>\n",
       "      <th>content_id</th>\n",
       "      <th>content_type_id</th>\n",
       "      <th>task_container_id</th>\n",
       "      <th>user_answer</th>\n",
       "      <th>answered_correctly</th>\n",
       "      <th>prior_question_elapsed_time</th>\n",
       "      <th>prior_question_had_explanation</th>\n",
       "    </tr>\n",
       "  </thead>\n",
       "  <tbody>\n",
       "    <tr>\n",
       "      <th>0</th>\n",
       "      <td>32933156</td>\n",
       "      <td>0</td>\n",
       "      <td>705741139</td>\n",
       "      <td>128</td>\n",
       "      <td>0</td>\n",
       "      <td>0</td>\n",
       "      <td>0</td>\n",
       "      <td>1</td>\n",
       "      <td>NaN</td>\n",
       "      <td>0</td>\n",
       "    </tr>\n",
       "    <tr>\n",
       "      <th>1</th>\n",
       "      <td>32933157</td>\n",
       "      <td>20666</td>\n",
       "      <td>705741139</td>\n",
       "      <td>7860</td>\n",
       "      <td>0</td>\n",
       "      <td>1</td>\n",
       "      <td>0</td>\n",
       "      <td>1</td>\n",
       "      <td>16000.0</td>\n",
       "      <td>0</td>\n",
       "    </tr>\n",
       "  </tbody>\n",
       "</table>\n",
       "</div>"
      ],
      "text/plain": [
       "     row_id  timestamp    user_id  content_id  content_type_id  \\\n",
       "0  32933156          0  705741139         128                0   \n",
       "1  32933157      20666  705741139        7860                0   \n",
       "\n",
       "   task_container_id  user_answer  answered_correctly  \\\n",
       "0                  0            0                   1   \n",
       "1                  1            0                   1   \n",
       "\n",
       "   prior_question_elapsed_time  prior_question_had_explanation  \n",
       "0                          NaN                               0  \n",
       "1                      16000.0                               0  "
      ]
     },
     "execution_count": 11,
     "metadata": {},
     "output_type": "execute_result"
    }
   ],
   "source": [
    "train.head(2)"
   ]
  },
  {
   "cell_type": "code",
   "execution_count": 12,
   "metadata": {},
   "outputs": [],
   "source": [
    "class PocketCounter():\n",
    "    def __init__(self):\n",
    "        self.cnt = Counter()\n",
    "        self.sum = Counter()\n",
    "    \n",
    "    def update(self, key, sum_val):\n",
    "        self.cnt[key] += 1\n",
    "        self.sum[key] += sum_val\n",
    "        \n",
    "    def get_mean(self, key):\n",
    "        return (self.sum[key] / self.cnt[key]) if self.cnt[key] != 0 else np.nan\n",
    "    \n",
    "    \n",
    "class PocketSessionCounter():\n",
    "    def __init__(self):\n",
    "        self.prev_ts = defaultdict(int)\n",
    "        self.session_cnt = Counter()\n",
    "        self.cnt = Counter()\n",
    "        self.sum = Counter()\n",
    "        \n",
    "    def update_session(self, key, ts):\n",
    "        if ts - self.prev_ts[key] > 3600*1000:\n",
    "            self.session_cnt[key] += 1\n",
    "            self.cnt[key] = 0\n",
    "            self.sum[key] = 0\n",
    "        self.prev_ts[key] = ts\n",
    "        \n",
    "    def update_ac(self, key, sum_val):\n",
    "        self.cnt[key] += 1\n",
    "        self.sum[key] += sum_val\n",
    "        \n",
    "    def get_mean(self, key):\n",
    "        return (self.sum[key] / self.cnt[key]) if self.cnt[key] != 0 else np.nan\n",
    "    \n",
    "\n",
    "class PocketRoller():\n",
    "    def __init__(self, roll50=False):\n",
    "        self.roll = defaultdict(self.get_deq20)\n",
    "            \n",
    "    def update(self, key, val):\n",
    "        self.roll[key].append(val)\n",
    "        \n",
    "    def get_deq20(self):\n",
    "        return deque(maxlen=20)\n",
    "    \n",
    "    def get_mean(self, key):\n",
    "        return sum(self.roll[key]) / len(self.roll[key]) if len(self.roll[key]) != 0 else np.nan\n",
    "    \n",
    "\n",
    "class PocketTimestamp():\n",
    "    def __init__(self):\n",
    "        self.prev_ts = {}\n",
    "        self.prev_td = 0\n",
    "        self.td = 0\n",
    "    \n",
    "    def update(self, key, ts):\n",
    "        td = self.prev_ts.get(key, np.nan) - ts\n",
    "        if td < 0 or np.isnan(td):\n",
    "            self.td = td\n",
    "            self.prev_td = td\n",
    "        else:\n",
    "            self.td = self.prev_td\n",
    "        self.prev_ts[key] = ts\n",
    "        \n",
    "    def update_only_ts(self, key, ts):\n",
    "        self.prev_ts[key] = ts\n",
    "        \n",
    "    def get_simple_td(self, key, ts):\n",
    "        return self.prev_ts.get(key, np.nan) - ts\n",
    "\n",
    "    \n",
    "class PocketTSRoller():\n",
    "    def __init__(self):\n",
    "        self.roll = defaultdict(self.get_deq)\n",
    "    \n",
    "    def update(self, key, val):\n",
    "        if len(self.roll[key]) == 0:\n",
    "            self.roll[key].append(val)\n",
    "        \n",
    "        if val - self.roll[key][-1] != 0:\n",
    "            self.roll[key].append(val)\n",
    "        else:\n",
    "            pass\n",
    "    \n",
    "    def get_prev_t(self, key, t):\n",
    "        if len(self.roll[key]) < t:\n",
    "            return np.nan\n",
    "        else:\n",
    "            return self.roll[key][-t]\n",
    "        \n",
    "    def get_deq(self):\n",
    "        return deque(maxlen=10)\n",
    "    \n",
    "    \n",
    "class PocketElo():\n",
    "    def __init__(self):\n",
    "        self.u_theta = {}\n",
    "        self.u_cnt = {}\n",
    "        self.left_asymptote = 0.25\n",
    "        \n",
    "    def get_theta(self, uid):\n",
    "        if uid not in self.u_theta.keys():\n",
    "            return np.nan\n",
    "        else:\n",
    "            return self.u_theta[uid]\n",
    "        \n",
    "    def init_user(self, uid):\n",
    "        if uid not in self.u_theta.keys():\n",
    "            self.u_theta[uid] = 0\n",
    "            self.u_cnt[uid] = 0\n",
    "    \n",
    "    def update(self, uid, ac, beta):\n",
    "        self.init_user(uid)\n",
    "        \n",
    "        theta, cnt = self.u_theta[uid], self.u_cnt[uid]\n",
    "        new_theta = self.get_new_theta(ac, beta, theta, cnt)\n",
    "        self.u_theta[uid] = new_theta\n",
    "        self.u_cnt[uid] += 1\n",
    "            \n",
    "    def get_new_theta(self, ac, beta, theta, cnt):\n",
    "        return theta + self.learning_rate_theta(cnt) * (ac - self.ac_prob(theta, beta))\n",
    "    \n",
    "    def learning_rate_theta(self, cnt):\n",
    "        return max(0.3 / (1 + 0.01 * cnt), 0.04)\n",
    "    \n",
    "    def ac_prob(self, theta, beta):\n",
    "        return self.left_asymptote + (1 - self.left_asymptote) * self.sigmoid(theta - beta)\n",
    "\n",
    "    def sigmoid(self, x):\n",
    "        return 1 / (1 + np.exp(-x))"
   ]
  },
  {
   "cell_type": "code",
   "execution_count": 13,
   "metadata": {},
   "outputs": [],
   "source": [
    "class PocketFeatureFactory():\n",
    "    def __init__(self, is_train, contents_dict):\n",
    "        self.u_ac = PocketCounter()\n",
    "        self.uc_ac = PocketCounter()\n",
    "        self.u_qm = PocketCounter()\n",
    "        self.u_ac_roll = PocketRoller()\n",
    "        self.u_ts = PocketTimestamp()\n",
    "        self.uc_ts = PocketTimestamp()\n",
    "        self.u_ok_qm = PocketCounter()\n",
    "        self.u_ng_qm = PocketCounter()\n",
    "        self.up_ac = PocketCounter()\n",
    "        self.ulr_ac = PocketCounter()\n",
    "        self.uca_ac = PocketCounter()\n",
    "        self.ut_ac = PocketCounter()\n",
    "        self.ul_ts = PocketTimestamp()\n",
    "        self.u_ts_wl = PocketTimestamp()\n",
    "        self.u_ts_roll = PocketTSRoller()\n",
    "        \n",
    "        self.u_elo = PocketElo()\n",
    "        self.u_rate = PocketCounter()\n",
    "        self.ulr_elo = PocketElo()\n",
    "        self.up_elo = PocketElo()\n",
    "        self.u_rate_elo = PocketCounter()\n",
    "        self.u_ok_ts = PocketTimestamp()\n",
    "        self.u_ng_ts = PocketTimestamp()\n",
    "        self.u_sess_ac = PocketSessionCounter()\n",
    "        \n",
    "        self.contents_dict = contents_dict\n",
    "        self.is_train = is_train\n",
    "        \n",
    "    def get_row_tuple(self, row):\n",
    "        ts, uid, cid, tcid = int(row[1]), int(row[2]), int(row[3]), int(row[5])\n",
    "        if self.is_train:\n",
    "            et = row[8]\n",
    "            pqhe = row[9]\n",
    "        else:\n",
    "            et = row[6]\n",
    "            pqhe = row[7]\n",
    "            \n",
    "        return (ts, uid, cid, tcid, et, pqhe)\n",
    "        \n",
    "    def unpack_row(self, row):\n",
    "        (ts, uid, cid, tcid, et, pqhe) = self.get_row_tuple(row)\n",
    "        \n",
    "        contents = self.contents_dict[cid]\n",
    "        qm = contents[\"q_ac_mean\"]\n",
    "        bid = contents[\"bundle_id\"]\n",
    "        part = contents[\"part\"]\n",
    "        ca = contents[\"correct_answer\"]\n",
    "        lr = part < 5\n",
    "        tags = contents[\"tags\"].split()\n",
    "        \n",
    "        ucid = (uid, cid)\n",
    "        utcid = (uid, tcid)\n",
    "        ubid = (uid, bid)\n",
    "        upid = (uid, part)\n",
    "        ulr = (uid, lr)\n",
    "        uca = (uid, ca)\n",
    "        return (ts, uid, cid, tcid, et, pqhe, qm, tags, ucid, utcid, ubid, upid, ulr, uca)\n",
    "    \n",
    "    def do_lecture(self, row):\n",
    "        ts, uid, cid = int(row[1]), int(row[2]), int(row[3])\n",
    "        self.ul_ts.update_only_ts(uid, ts)\n",
    "        self.u_ts_wl.update_only_ts(uid, ts)\n",
    "        self.u_ts_roll.update(uid, ts)\n",
    "    \n",
    "    def update_ac_values(self, prev_rows, prev_acs, prev_uas):\n",
    "        for i, row in enumerate(prev_rows):\n",
    "            self.update_ac_value(row, prev_acs[i], prev_uas[i])\n",
    "    \n",
    "    def update_ac_value(self, row, prev_ac, prev_ua):\n",
    "        ts, uid, cid, tcid, et, pqhe, qm, tags, ucid, utcid, ubid, upid, ulr, uca = self.unpack_row(row)\n",
    "        contents = self.contents_dict[cid]\n",
    "        beta = contents[\"elo_beta\"]\n",
    "        \n",
    "        self.u_ac.update(uid, prev_ac)\n",
    "        self.uc_ac.update(ucid, prev_ac)\n",
    "        self.up_ac.update(upid, prev_ac)\n",
    "        self.ulr_ac.update(ulr, prev_ac)\n",
    "        self.uca_ac.update(uca, prev_ac)\n",
    "        self.u_ac_roll.update(uid, prev_ac)\n",
    "        self.u_sess_ac.update_ac(uid, prev_ac)\n",
    "\n",
    "        for tag in tags:\n",
    "            ut = (uid, tag)\n",
    "            self.ut_ac.update(ut, prev_ac)\n",
    "\n",
    "        if prev_ac > 0.5:\n",
    "            self.u_ok_qm.update(uid, qm)\n",
    "            self.u_rate.update(uid, contents[\"q_ok_uac_mean\"])\n",
    "            self.u_rate_elo.update(uid, contents[\"q_ok_elo_mean\"])\n",
    "            self.u_ok_ts.update_only_ts(uid, ts)\n",
    "        else:\n",
    "            self.u_ng_qm.update(uid, qm)\n",
    "            self.u_rate.update(uid, contents[\"q_ng_uac_mean\"])\n",
    "            self.u_rate_elo.update(uid, contents[\"q_ng_elo_mean\"])\n",
    "            self.u_ng_ts.update_only_ts(uid, ts)\n",
    "        \n",
    "        self.u_elo.update(uid, prev_ac, beta)\n",
    "        self.ulr_elo.update(ulr, prev_ac, beta)\n",
    "        self.up_elo.update(upid, prev_ac, beta)\n",
    "\n",
    "    def make_row(self, row, data_list):\n",
    "        ts, uid, cid, tcid, et, pqhe, qm, tags, ucid, utcid, ubid, upid, ulr, uca = self.unpack_row(row)\n",
    "\n",
    "        output = {}\n",
    "        output[\"row_id\"] = int(row[0])\n",
    "        output[\"user_id\"] = uid\n",
    "        if self.is_train:\n",
    "            output[\"ac\"] = int(row[7])\n",
    "        output[\"et\"] = et\n",
    "        \n",
    "        contents = self.contents_dict[cid]\n",
    "        content_col = [\n",
    "            \"q_ac_mean\", \"q_ac_cnt\", \"q_et_mean\", \"q_et_cnt\", \"q_et_std\", \"b_ac_mean\", \"b_ac_cnt\",\n",
    "            \"part\", \"correct_answer\",\n",
    "            \"q_ok_uac_mean\", \"q_ok_uac_std\", \"q_ng_uac_mean\", \"q_ng_uac_std\",\n",
    "            \"elo_beta\",\n",
    "            \"q_next_et_mean\", \"q_next_et_std\", \"q_next_pqhe_mean\",\n",
    "        ]\n",
    "        nn_col = [f\"nn_svd{i}\" for i in range(20)]\n",
    "        content_col += nn_col\n",
    "        \n",
    "        for c in content_col:\n",
    "            output[c] = contents[c]\n",
    "            \n",
    "        self.u_ts.update(uid, ts)\n",
    "        self.uc_ts.update(ucid, ts)\n",
    "        self.u_ts_wl.update(uid, ts)\n",
    "        output[\"u_td\"] = self.u_ts.td\n",
    "        output[\"uc_td\"] = self.uc_ts.td\n",
    "        output[\"u_td_wl\"] = self.u_ts_wl.td\n",
    "        output[\"ul_td\"] = self.ul_ts.get_simple_td(uid, ts)\n",
    "\n",
    "        self.u_qm.update(uid, qm)\n",
    "        output[\"u_cnt\"] = self.u_qm.cnt[uid]\n",
    "        output[\"u_ac_cnt\"] = self.u_ac.cnt[uid]\n",
    "        output[\"u_ac_mean\"] = self.u_ac.get_mean(uid)\n",
    "        output[\"uc_ac_cnt\"] = self.uc_ac.cnt[ucid]\n",
    "        output[\"uc_ac_mean\"] = self.uc_ac.get_mean(ucid)\n",
    "        output[\"uca_ac_mean\"] = self.uca_ac.get_mean(uca)\n",
    "        output[\"u_qm_mean\"] = self.u_qm.get_mean(uid)\n",
    "        output[\"up_ac_cnt\"] = self.up_ac.cnt[upid]\n",
    "        output[\"up_ac_mean\"] = self.up_ac.get_mean(upid)\n",
    "        output[\"ulr_ac_mean\"] = self.ulr_ac.get_mean(ulr)\n",
    "        output[\"u_ok_qm_mean\"] = self.u_ok_qm.get_mean(uid)\n",
    "        output[\"u_ng_qm_mean\"] = self.u_ng_qm.get_mean(uid)\n",
    "        output[\"u_ac_mean20\"] = self.u_ac_roll.get_mean(uid)\n",
    "        \n",
    "        output[\"u_rate\"] = self.u_rate.get_mean(uid)\n",
    "        output[\"u_elo_theta\"] = self.u_elo.get_theta(uid)\n",
    "        output[\"ulr_elo_mean\"] = self.ulr_elo.get_theta(ulr)\n",
    "        output[\"up_elo_mean\"] = self.up_elo.get_theta(upid)\n",
    "        output[\"u_rate_elo\"] = self.u_rate_elo.get_mean(uid)\n",
    "        \n",
    "        self.u_sess_ac.update_session(uid, ts)\n",
    "        output[\"u_ses_ac_mean\"] = self.u_sess_ac.get_mean(uid)\n",
    "        output[\"u_ses_cnt\"] = self.u_sess_ac.session_cnt[uid]\n",
    "        output[\"uses_cnt\"] = self.u_sess_ac.cnt[uid]\n",
    "        \n",
    "        \n",
    "        if len(self.u_ac_roll.roll[uid]) < 1:\n",
    "            output[\"uac_prev1\"] = np.nan\n",
    "        else:\n",
    "            output[\"uac_prev1\"]= self.u_ac_roll.roll[uid][-1]\n",
    "        if len(self.u_ac_roll.roll[uid]) < 2:\n",
    "            output[\"uac_prev2\"] = np.nan\n",
    "        else:\n",
    "            output[\"uac_prev2\"]= self.u_ac_roll.roll[uid][-2]\n",
    "        \n",
    "        up1 = self.u_ts_roll.get_prev_t(uid, 1)\n",
    "        up2 = self.u_ts_roll.get_prev_t(uid, 2)\n",
    "        up3 = self.u_ts_roll.get_prev_t(uid, 3)\n",
    "        up4 = self.u_ts_roll.get_prev_t(uid, 4)\n",
    "        up5 = self.u_ts_roll.get_prev_t(uid, 5)\n",
    "        up6 = self.u_ts_roll.get_prev_t(uid, 6)\n",
    "        up7 = self.u_ts_roll.get_prev_t(uid, 7)\n",
    "        up8 = self.u_ts_roll.get_prev_t(uid, 8)\n",
    "        up9 = self.u_ts_roll.get_prev_t(uid, 9)\n",
    "        up10 = self.u_ts_roll.get_prev_t(uid, 10)\n",
    "        output[\"u_td_tp1\"] = ts - up1\n",
    "        output[\"u_td_p1p2\"] = up1 - up2\n",
    "        output[\"u_td_p2p3\"] = up2 - up3\n",
    "        output[\"u_td_p3p4\"] = up3 - up4\n",
    "        output[\"u_td_p4p5\"] = up4 - up5\n",
    "        output[\"u_td_p5p6\"] = up5 - up6\n",
    "        output[\"u_td_p6p7\"] = up6 - up7\n",
    "        output[\"u_td_p7p8\"] = up7 - up8\n",
    "        output[\"u_td_p8p9\"] = up8 - up9\n",
    "        output[\"u_td_p9p10\"] = up9 - up10\n",
    "        self.u_ts_roll.update(uid, ts)\n",
    "        \n",
    "        #temp_b_cnt = row[10]\n",
    "        #output[\"u_td_final\"] = output[\"u_td_wl\"] / temp_b_cnt #+0.13pt\n",
    "        #output[\"ub_td_final\"] = output[\"ub_td\"] / temp_b_cnt\n",
    "        \n",
    "        ut_sum = 0\n",
    "        ut_cnt = 0\n",
    "        ut_mean = []\n",
    "        for tag in tags:\n",
    "            ut = (uid, tag)\n",
    "            ut_sum += self.ut_ac.sum[ut]\n",
    "            ut_cnt += self.ut_ac.cnt[ut]\n",
    "            if self.ut_ac.cnt[ut] != 0:\n",
    "                ut_mean.append(self.ut_ac.get_mean(ut))\n",
    "        output[\"ut_ac_mean\"] = (ut_sum / ut_cnt) if ut_cnt != 0 else np.nan\n",
    "        output[\"ut_ac_mean2\"] = sum(ut_mean) / len(ut_mean) if len(ut_mean) != 0 else np.nan\n",
    "        \n",
    "        \n",
    "        output[\"u_ok_ts\"] = self.u_ok_ts.get_simple_td(uid, ts)\n",
    "        output[\"u_ng_ts\"] = self.u_ng_ts.get_simple_td(uid, ts)\n",
    "\n",
    "        data_list.append(output)\n",
    "        return data_list\n"
   ]
  },
  {
   "cell_type": "code",
   "execution_count": 14,
   "metadata": {},
   "outputs": [],
   "source": [
    "class PocketFFUtil():\n",
    "    def __init__(self):\n",
    "        pass\n",
    "    \n",
    "    def merge(self, ff1, ff2):\n",
    "        counters = [\n",
    "            \"u_ac\", \"uc_ac\", \"u_qm\", \"u_ok_qm\", \"u_ng_qm\",\n",
    "            \"up_ac\", \"ulr_ac\", \"uca_ac\", \"ut_ac\",\n",
    "            \"u_rate\",\n",
    "            \"u_rate_elo\"\n",
    "        ]\n",
    "        for counter in counters:\n",
    "            c1 = getattr(ff1, counter)\n",
    "            c2 = getattr(ff2, counter)\n",
    "            c1.cnt.update(c2.cnt)\n",
    "            c1.sum.update(c2.sum)\n",
    "        \n",
    "        timestamps = [\n",
    "            \"u_ts\", \"uc_ts\", \"ul_ts\", \"u_ts_wl\",\n",
    "            \"u_ok_ts\", \"u_ng_ts\"\n",
    "        ]\n",
    "        for timestamp in timestamps:\n",
    "            ts1 = getattr(ff1, timestamp)\n",
    "            ts2 = getattr(ff2, timestamp)\n",
    "            ts1.prev_ts.update(ts2.prev_ts)\n",
    "        \n",
    "        rolls = [\"u_ac_roll\", \"u_ts_roll\"]\n",
    "        for r in rolls:\n",
    "            r1 =  getattr(ff1, r)\n",
    "            r2 =  getattr(ff2, r)\n",
    "            r1.roll.update(r2.roll)\n",
    "            \n",
    "        rates = [\"u_elo\", \"ulr_elo\", \"up_elo\"]\n",
    "        for r in rates:\n",
    "            r1 = getattr(ff1, r)\n",
    "            r2 = getattr(ff2, r)\n",
    "            r1.u_theta.update(r2.u_theta)\n",
    "            r1.u_cnt.update(r2.u_cnt)\n",
    "            \n",
    "        sess_cnts = [\"u_sess_ac\"]\n",
    "        for c in sess_cnts:\n",
    "            c1 = getattr(ff1, c)\n",
    "            c2 = getattr(ff2, c)\n",
    "            c1.prev_ts.update(c2.prev_ts)\n",
    "            c1.session_cnt.update(c2.session_cnt)\n",
    "            c1.cnt.update(c2.cnt)\n",
    "            c1.sum.update(c2.sum)\n",
    "        \n",
    "        return ff1\n",
    "        \n",
    "    def to_file(self, ff, suffix):\n",
    "        uid_set, uc_dict, ut_dict = self.make_ins_dict(ff)\n",
    "        \n",
    "        prefix = \"./temp_files\"\n",
    "        day = \"0106\"\n",
    "        \n",
    "        with h5py.File(f\"{prefix}/uc_dict_{day}_{suffix}.hdf5\", \"w\") as f:   \n",
    "            for (uid, l) in tqdm(uc_dict.items()):\n",
    "                f.create_dataset(str(uid), data=l)\n",
    "                \n",
    "        with h5py.File(f\"{prefix}/ut_dict_{day}_{suffix}.hdf5\", \"w\") as f:   \n",
    "            for (uid, l) in tqdm(ut_dict.items()):\n",
    "                f.create_dataset(str(uid), data=l)\n",
    "                \n",
    "#         with open(f\"./uid_set_1213_{suffix}.pkl\", \"wb\") as handle:\n",
    "#             pickle.dump(uid_set, handle, pickle.HIGHEST_PROTOCOL)\n",
    "        \n",
    "        ff = self.del_filed_attributes(ff)\n",
    "        with open(f\"{prefix}/ff_{day}_{suffix}.pkl\", \"wb\") as handle:\n",
    "            pickle.dump(ff, handle, pickle.HIGHEST_PROTOCOL)\n",
    "            \n",
    "    def make_ins_dict(self, ff):\n",
    "        uid_set = set()\n",
    "        uc_dict, ut_dict = {}, {}\n",
    "        #print(len(ff.ub_ac), len(ff.ub_ts), len(ff.uc_ac), len(ff.uc_ts))\n",
    "        \n",
    "        for k, ts in tqdm(ff.uc_ts.prev_ts.items()):\n",
    "            (uid, cid) = k\n",
    "            l = uc_dict.get(uid, [])\n",
    "            ac_sum, ac_cnt = ff.uc_ac.sum.get(k, np.nan), ff.uc_ac.cnt.get(k, np.nan)\n",
    "            new_data = [cid, ts, ac_sum, ac_cnt]\n",
    "            l.append(new_data)\n",
    "            uc_dict[uid] = l\n",
    "            #uid_set.add(uid)\n",
    "        for k, ts in tqdm(ff.ut_ac.sum.items()):\n",
    "            (uid, tag) = k\n",
    "            l = ut_dict.get(uid, [])\n",
    "            ac_sum, ac_cnt = ff.ut_ac.sum.get(k, np.nan), ff.ut_ac.cnt.get(k, np.nan)\n",
    "            new_data = [int(tag), ac_sum, ac_cnt]\n",
    "            l.append(new_data)\n",
    "            ut_dict[uid] = l\n",
    "            #uid_set.add(uid)\n",
    "        return uid_set, uc_dict, ut_dict\n",
    "    \n",
    "    def del_filed_attributes(self, ff):\n",
    "        ff.uc_ac = PocketCounter()\n",
    "        ff.uc_ts = PocketTimestamp()\n",
    "        ff.ut_ac = PocketCounter()\n",
    "        return ff\n",
    "        "
   ]
  },
  {
   "cell_type": "code",
   "execution_count": 15,
   "metadata": {},
   "outputs": [],
   "source": [
    "# content_clusters = pd.read_csv(\"./content_clusters.csv\")\n",
    "# content_clusters.head()"
   ]
  },
  {
   "cell_type": "code",
   "execution_count": 16,
   "metadata": {},
   "outputs": [],
   "source": [
    "# with open(\"./elo-user.pkl\", \"rb\") as handle:\n",
    "#     elo_user = pickle.load(handle)\n",
    "# elo_user_df = pd.DataFrame.from_dict(elo_user, orient=\"index\")\n",
    "# elo_user_df.reset_index(inplace=True)\n",
    "# elo_user_df.columns = [\"user_id\", \"theta\", \"u_cnt\"]\n",
    "# elo_user_df.head(2)\n",
    "# content_train = train[train[\"answered_correctly\"] != -1].copy()\n",
    "# content_train[\"temp_uac\"] = content_train.groupby(\"user_id\")[\"answered_correctly\"].transform(\"mean\")\n",
    "# # content_train[\"td\"] = content_train.groupby(\"user_id\")[\"timestamp\"].diff()\n",
    "# # content_train[\"td\"] = content_train[\"timestamp\"] - content_train.groupby(\"user_id\")[\"timestamp\"].shift()\n",
    "# # content_train[\"td\"] = content_train.groupby([\"user_id\", \"task_container_id\"])[\"td\"].transform(\"max\")\n",
    "# # content_train[\"one\"] = 1\n",
    "# # content_train[\"temp_ucnt\"] = content_train.groupby(\"user_id\")[\"one\"].cumsum()\n",
    "# # content_train[\"temp_log_ucnt\"] = np.log1p(content_train[\"temp_ucnt\"])\n",
    "\n",
    "# q_col = [\"question_id\", \"bundle_id\"]\n",
    "# content_train = pd.merge(\n",
    "#     content_train, question[q_col], left_on=\"content_id\", right_on=\"question_id\", how=\"left\"\n",
    "# )\n",
    "# e_col = [\"user_id\", \"theta\"]\n",
    "# content_train = pd.merge(\n",
    "#     content_train, elo_user_df[e_col], on=\"user_id\", how=\"left\"\n",
    "# )\n",
    "# elo1 = content_train.groupby(\"content_id\")[\"theta\"].agg([\"mean\"])\n",
    "# elo1.columns = [\"q_elo_mean\"]\n",
    "# elo2 = content_train.groupby(\"bundle_id\")[\"theta\"].agg([\"mean\"])\n",
    "# elo2.columns = [\"b_elo_mean\"]\n",
    "\n",
    "# elo3 = content_train[content_train[\"answered_correctly\"]==1]\n",
    "# elo3 = elo3.groupby(\"content_id\")[\"theta\"].agg([\"mean\", \"std\"])\n",
    "# elo3.columns = [\"q_ok_elo_mean\", \"q_ok_elo_std\"]\n",
    "\n",
    "# elo4 = content_train[content_train[\"answered_correctly\"]==0]\n",
    "# elo4 = elo4.groupby(\"content_id\")[\"theta\"].agg([\"mean\", \"std\"])\n",
    "# elo4.columns = [\"q_ng_elo_mean\", \"q_ng_elo_std\"]"
   ]
  },
  {
   "cell_type": "code",
   "execution_count": 17,
   "metadata": {},
   "outputs": [],
   "source": [
    "# # content_train = train[train[\"answered_correctly\"] != -1].copy()\n",
    "# # content_train[\"temp_uac\"] = content_train.groupby(\"user_id\")[\"answered_correctly\"].transform(\"mean\")\n",
    "# # # content_train[\"td\"] = content_train.groupby(\"user_id\")[\"timestamp\"].diff()\n",
    "# # # content_train[\"td\"] = content_train[\"timestamp\"] - content_train.groupby(\"user_id\")[\"timestamp\"].shift()\n",
    "# # # content_train[\"td\"] = content_train.groupby([\"user_id\", \"task_container_id\"])[\"td\"].transform(\"max\")\n",
    "# # # content_train[\"one\"] = 1\n",
    "# # # content_train[\"temp_ucnt\"] = content_train.groupby(\"user_id\")[\"one\"].cumsum()\n",
    "# # # content_train[\"temp_log_ucnt\"] = np.log1p(content_train[\"temp_ucnt\"])\n",
    "\n",
    "# # q_col = [\"question_id\", \"bundle_id\"]\n",
    "# # content_train = pd.merge(\n",
    "# #     content_train, question[q_col], left_on=\"content_id\", right_on=\"question_id\", how=\"left\"\n",
    "# # )\n",
    "# # e_col = [\"user_id\", \"theta\"]\n",
    "# # content_train = pd.merge(\n",
    "# #     content_train, elo_user_df[e_col], on=\"user_id\", how=\"left\"\n",
    "# # )\n",
    "\n",
    "\n",
    "\n",
    "# # contents features\n",
    "# # there are no new contents in the test, so we use part of the train as the pseudo-training set\n",
    "# temp = content_train.groupby(\"content_id\")[\"answered_correctly\"].agg([\"mean\", \"count\"])\n",
    "# temp.columns = [\"q_ac_mean\", \"q_ac_cnt\"]\n",
    "# temp2 = content_train.groupby(\"content_id\")[\"prior_question_elapsed_time\"].agg([\"mean\", \"count\", \"std\"])\n",
    "# temp2.columns = [\"q_et_mean\", \"q_et_cnt\", \"q_et_std\"]\n",
    "# # temp3 = content_train.groupby(\"content_id\")[\"td\"].agg([\"mean\", \"std\", \"min\", \"max\", \"skew\"])\n",
    "# # temp3.columns = [\"q_td_mean\", \"q_td_std\", \"q_td_min\", \"q_td_max\", \"q_td_skew\"]\n",
    "# temp4 = content_train.groupby(\"bundle_id\")[\"answered_correctly\"].agg([\"mean\", \"count\"])\n",
    "# temp4.columns = [\"b_ac_mean\", \"b_ac_cnt\"]\n",
    "\n",
    "# temp6 = content_train[content_train[\"answered_correctly\"]==1]\n",
    "# temp6 = temp6.groupby(\"content_id\")[\"temp_uac\"].agg([\"mean\", \"std\"])\n",
    "# temp6.columns = [\"q_ok_uac_mean\", \"q_ok_uac_std\"]\n",
    "\n",
    "# temp7 = content_train[content_train[\"answered_correctly\"]==0]\n",
    "# temp7 = temp7.groupby(\"content_id\")[\"temp_uac\"].agg([\"mean\", \"std\"])\n",
    "# temp7.columns = [\"q_ng_uac_mean\", \"q_ng_uac_std\"]\n",
    "\n",
    "# # temp8 = content_train.groupby(\"content_id\")[\"temp_ucnt\"].agg([\"mean\", \"std\", \"skew\"])\n",
    "# # temp8.columns = [\"q_ucnt_mean\", \"q_ucnt_std\", \"q_ucnt_skew\"]\n",
    "# # temp9 = content_train.groupby(\"content_id\")[\"temp_log_ucnt\"].agg([\"mean\", \"std\", \"skew\"])\n",
    "# # temp9.columns = [\"q_lucnt_mean\", \"q_lucnt_std\", \"q_lucnt_skew\"]\n",
    "# # temp10 = content_train[content_train[\"temp_ucnt\"]>10]\n",
    "# # temp10 = temp10.groupby(\"content_id\")[\"answered_correctly\"].agg([\"mean\"])\n",
    "# # temp10.columns = [\"q_ex10_mean\"]\n",
    "\n",
    "# # temp11 = content_train[content_train[\"prior_question_had_explanation\"]==True]\n",
    "# # temp11 = temp11.groupby(\"content_id\")[\"temp_uac\"].agg([\"mean\", \"std\"])\n",
    "# # temp11.columns = [\"q_pqhe_true_uac_mean\", \"q_pqhe_true_uac_std\"]\n",
    "# # temp12 = content_train[content_train[\"prior_question_had_explanation\"]==False]\n",
    "# # temp12 = temp12.groupby(\"content_id\")[\"temp_uac\"].agg([\"mean\", \"std\"])\n",
    "# # temp12.columns = [\"q_pqhe_false_uac_mean\", \"q_pqhe_false_uac_std\"]\n",
    "\n",
    "# temp13 = content_train.groupby(\"content_id\")[\"user_id\"].agg([\"nunique\", \"count\"])\n",
    "# temp13.columns = [\"q_u_nunique\", \"q_u_cnt\"]\n",
    "# temp13[\"q_u_unique_ratio\"] = temp13[\"q_u_nunique\"] / temp13[\"q_u_cnt\"]\n",
    "\n",
    "# # temp14 = content_train.groupby([\"content_id\", \"user_answer\"])[\"temp_uac\"].agg([\"count\", \"mean\"])\n",
    "# # temp14[\"count_sum\"] = temp14.groupby([\"content_id\"])[\"count\"].transform(\"sum\")\n",
    "# # temp14[\"cnt_ratio\"] = temp14[\"count\"] / temp14[\"count_sum\"]\n",
    "# # temp14.sort_values([\"content_id\", \"count\"], ascending=False, inplace=True)\n",
    "# # temp14[\"one\"] = 1\n",
    "# # temp14[\"ans_order\"] = temp14.groupby(\"content_id\")[\"one\"].cumsum()\n",
    "# # temp14 = temp14.reset_index().pivot(index=\"content_id\", columns=\"ans_order\", values=[\"mean\", \"cnt_ratio\"])\n",
    "# # temp14.columns =[f\"q_{s1}_ans{str(s2)}\" for (s1,s2) in temp14.columns.tolist()]\n",
    "\n",
    "# question[\"b_cnt\"] = question.groupby(\"bundle_id\")[\"question_id\"].transform(\"count\")\n",
    "# q_col = [\"question_id\", \"bundle_id\", \"part\", \"correct_answer\", \"tags\", \"b_cnt\"]\n",
    "# #q_col += [str(i) for i in range(188)]\n",
    "# contents = pd.merge(question[q_col], temp, left_on=\"question_id\", right_on=\"content_id\", how=\"left\")\n",
    "# contents = pd.merge(contents, temp2, left_on=\"question_id\", right_on=\"content_id\", how=\"left\")\n",
    "# # contents = pd.merge(contents, temp3, left_on=\"question_id\", right_on=\"content_id\", how=\"left\")\n",
    "# contents = pd.merge(contents, temp4, on=\"bundle_id\", how=\"left\")\n",
    "# contents = pd.merge(contents, temp6, left_on=\"question_id\", right_on=\"content_id\", how=\"left\")\n",
    "# contents = pd.merge(contents, temp7, left_on=\"question_id\", right_on=\"content_id\", how=\"left\")\n",
    "# # contents = pd.merge(contents, temp8, left_on=\"question_id\", right_on=\"content_id\", how=\"left\")\n",
    "# # contents = pd.merge(contents, temp9, left_on=\"question_id\", right_on=\"content_id\", how=\"left\")\n",
    "# # contents = pd.merge(contents, temp10, left_on=\"question_id\", right_on=\"content_id\", how=\"left\")\n",
    "# #contents = pd.merge(contents, temp11, left_on=\"question_id\", right_on=\"content_id\", how=\"left\")\n",
    "# #contents = pd.merge(contents, temp12, left_on=\"question_id\", right_on=\"content_id\", how=\"left\")\n",
    "# contents = pd.merge(contents, temp13, left_on=\"question_id\", right_on=\"content_id\", how=\"left\")\n",
    "# #contents = pd.merge(contents, temp14, left_on=\"question_id\", right_on=\"content_id\", how=\"left\")\n",
    "# contents = pd.merge(contents, elo1, left_on=\"question_id\", right_on=\"content_id\", how=\"left\")\n",
    "# print(contents.head(2))\n",
    "# print(contents.shape)\n",
    "# merge_col = [\n",
    "#     \"question_id\", \"bundle_id\", \"part\", \"correct_answer\", \"tags\",\n",
    "#     \"q_ac_mean\", \"q_ac_cnt\", \"q_et_mean\",\n",
    "#     \"q_et_cnt\", \"q_et_std\", \"b_ac_mean\", \"b_ac_cnt\",\n",
    "#     \"q_ok_uac_mean\", \"q_ok_uac_std\", \"q_ng_uac_mean\", \"q_ng_uac_std\",\n",
    "# ]\n",
    "# contents = contents[merge_col]\n",
    "# contents[\"tags\"].fillna(\"-1\", inplace=True)\n",
    "\n",
    "# contents = pd.merge(contents, elo1, left_on=\"question_id\", right_on=\"content_id\", how=\"left\")\n",
    "# contents = pd.merge(contents, elo2, on=\"bundle_id\", how=\"left\")\n",
    "# contents = pd.merge(contents, elo3, left_on=\"question_id\", right_on=\"content_id\", how=\"left\")\n",
    "# contents = pd.merge(contents, elo4, left_on=\"question_id\", right_on=\"content_id\", how=\"left\")\n",
    "# merge_col += [\n",
    "#     \"q_elo_mean\", \"b_elo_mean\", \"q_ok_elo_mean\", \"q_ok_elo_std\", \"q_ng_elo_mean\", \"q_ng_elo_std\"\n",
    "# ]\n",
    "# contents = contents[merge_col]\n",
    "\n",
    "# contents = contents.set_index(\"question_id\")\n",
    "# contents_dict = contents.to_dict(\"index\")\n",
    "# print(len(contents_dict))\n",
    "\n"
   ]
  },
  {
   "cell_type": "code",
   "execution_count": 18,
   "metadata": {},
   "outputs": [],
   "source": [
    "# edq_df = pd.read_csv(\"./temp_merge.csv\")\n",
    "# edq_df.head()\n",
    "\n",
    "# merge_col = [\"question_id\", \"count\", \"mean\", \"deployed_at\"]\n",
    "# contents_ed = pd.merge(contents, edq_df[merge_col], on=\"question_id\", how=\"left\") \n",
    "\n",
    "# cols = contents_ed.columns\n",
    "# cols2 = list(cols)[:-3]\n",
    "# cols2 =  cols2 + [\"edq_count\", \"edq_mean\", \"deployed_at\"]\n",
    "# contents_ed.columns = cols2\n",
    "# contents_ed = contents_ed.set_index(\"question_id\")\n",
    "# contents_ed.head(2)"
   ]
  },
  {
   "cell_type": "code",
   "execution_count": 19,
   "metadata": {},
   "outputs": [],
   "source": [
    "# contents_dict = contents_ed.to_dict(\"index\")"
   ]
  },
  {
   "cell_type": "code",
   "execution_count": 20,
   "metadata": {},
   "outputs": [],
   "source": [
    "# with open(\"./contents_dict_full_1222.pkl\", \"wb\") as handle:\n",
    "#     pickle.dump(contents_dict, handle, protocol=pickle.HIGHEST_PROTOCOL)\n",
    "# print(len(contents_dict))"
   ]
  },
  {
   "cell_type": "code",
   "execution_count": 21,
   "metadata": {},
   "outputs": [],
   "source": [
    "# with open(\"./contents_dict_full_1223.pkl\", \"rb\") as handle:\n",
    "#     contents_dict = pickle.load(handle)\n",
    "# print(len(contents_dict))"
   ]
  },
  {
   "cell_type": "code",
   "execution_count": 22,
   "metadata": {},
   "outputs": [],
   "source": [
    "# with open(\"./elo-item.pkl\", \"rb\") as handle:\n",
    "#     elo_item = pickle.load(handle)"
   ]
  },
  {
   "cell_type": "code",
   "execution_count": 23,
   "metadata": {},
   "outputs": [],
   "source": [
    "# for k, v in contents_dict.items():\n",
    "#     contents_dict[k][\"elo_beta\"] = elo_item[k][\"beta\"]"
   ]
  },
  {
   "cell_type": "code",
   "execution_count": 24,
   "metadata": {},
   "outputs": [],
   "source": [
    "# contents_vec = pd.read_csv(\"./content_nn.csv\")"
   ]
  },
  {
   "cell_type": "code",
   "execution_count": 25,
   "metadata": {},
   "outputs": [],
   "source": [
    "# for row in contents_vec.values:\n",
    "#     cid = row[0]\n",
    "#     for j in range(20):\n",
    "#         contents_dict[cid][f\"nn_svd{j}\"] = row[j+1]\n",
    "#     contents_dict[cid][\"nn_cluster\"] = row[21]"
   ]
  },
  {
   "cell_type": "code",
   "execution_count": 26,
   "metadata": {},
   "outputs": [],
   "source": [
    "# with open(\"./contents_dict_1229.pkl\", \"wb\") as handle:\n",
    "#     pickle.dump(contents_dict, handle, protocol=pickle.HIGHEST_PROTOCOL)\n",
    "# print(len(contents_dict))"
   ]
  },
  {
   "cell_type": "code",
   "execution_count": 27,
   "metadata": {},
   "outputs": [],
   "source": [
    "# with open(\"./contents_dict_1229.pkl\", \"rb\") as handle:\n",
    "#     contents_dict = pickle.load(handle)\n",
    "# print(len(contents_dict))"
   ]
  },
  {
   "cell_type": "code",
   "execution_count": 28,
   "metadata": {},
   "outputs": [],
   "source": [
    "# contents_vec = pd.read_csv(\"./content_w2v.csv\")\n",
    "# for row in contents_vec.values:\n",
    "#     cid = row[0]\n",
    "#     for j in range(20):\n",
    "#         contents_dict[cid][f\"w2v_svd{j}\"] = row[j+1]"
   ]
  },
  {
   "cell_type": "code",
   "execution_count": 29,
   "metadata": {},
   "outputs": [],
   "source": [
    "# tag_cluster = pd.read_csv(\"./tag_cluster.csv\")\n",
    "# tag_cluster.head(2)\n",
    "# for row in tag_cluster.values:\n",
    "#     cid = row[0]\n",
    "#     contents_dict[cid][\"raw_clusters\"] = row[1]\n",
    "#     contents_dict[cid][\"nmf_clusters\"] = row[2]\n",
    "#     contents_dict[cid][\"lda_clusters\"] = row[3]\n",
    "#     contents_dict[cid][\"lda_argmax\"] = row[4]"
   ]
  },
  {
   "cell_type": "code",
   "execution_count": 30,
   "metadata": {},
   "outputs": [],
   "source": [
    "# content_train = train[train[\"answered_correctly\"] != -1].copy()\n",
    "# content_train[\"next_et\"] = content_train.groupby(\"user_id\")[\"prior_question_elapsed_time\"].shift(-1)\n",
    "# content_train[\"next_pqhe\"] = content_train.groupby(\"user_id\")[\"prior_question_had_explanation\"].shift(-1)\n",
    "\n",
    "# temp = content_train.groupby(\"content_id\")[\"next_et\"].agg([\"mean\", \"count\", \"std\"])\n",
    "# temp.columns = [\"q_next_et_mean\", \"q_next_et_cnt\", \"q_next_et_std\"]\n",
    "# temp2 = content_train.groupby(\"content_id\")[\"next_pqhe\"].agg([\"mean\"])\n",
    "# temp2.columns = [\"q_next_pqhe_mean\"]\n",
    "\n",
    "# contents = pd.DataFrame.from_dict(contents_dict, orient=\"index\")\n",
    "# contents_merged = pd.merge(contents, temp, left_index=True, right_on=\"content_id\")\n",
    "# contents_merged = pd.merge(contents_merged, temp2, left_index=True, right_on=\"content_id\")\n",
    "# contents_dict = contents_merged.to_dict(\"index\")"
   ]
  },
  {
   "cell_type": "code",
   "execution_count": 31,
   "metadata": {},
   "outputs": [],
   "source": [
    "# with open(\"./contents_dict_0105.pkl\", \"wb\") as handle:\n",
    "#     pickle.dump(contents_dict, handle, protocol=pickle.HIGHEST_PROTOCOL)\n",
    "# print(len(contents_dict))"
   ]
  },
  {
   "cell_type": "code",
   "execution_count": 32,
   "metadata": {},
   "outputs": [
    {
     "name": "stdout",
     "output_type": "stream",
     "text": [
      "13523\n"
     ]
    }
   ],
   "source": [
    "with open(\"./contents_dict_0105.pkl\", \"rb\") as handle:\n",
    "    contents_dict = pickle.load(handle)\n",
    "print(len(contents_dict))"
   ]
  },
  {
   "cell_type": "code",
   "execution_count": 33,
   "metadata": {},
   "outputs": [
    {
     "name": "stdout",
     "output_type": "stream",
     "text": [
      "{'bundle_id': 0, 'part': 1, 'correct_answer': 0, 'tags': '51 131 162 38', 'q_ac_mean': 0.9077212806026366, 'q_ac_cnt': 6903, 'q_et_mean': 21875.328125, 'q_et_cnt': 6901, 'q_et_std': 10519.116288983123, 'b_ac_mean': 0.9077212806026366, 'b_ac_cnt': 6903, 'q_ok_uac_mean': 0.669308506797061, 'q_ok_uac_std': 0.09547895799112567, 'q_ng_uac_mean': 0.5938401756213438, 'q_ng_uac_std': 0.11901951306685432, 'q_elo_mean': -0.0913023899740013, 'b_elo_mean': -0.0913023899740013, 'q_ok_elo_mean': -0.02697225250264401, 'q_ok_elo_std': 0.947195776712656, 'q_ng_elo_mean': -0.7241008851004143, 'q_ng_elo_std': 1.1442658672849322, 'elo_beta': -2.467006024885898, 'nn_svd0': 0.29857266, 'nn_svd1': 0.0828594, 'nn_svd2': 0.10337925, 'nn_svd3': 0.019431107, 'nn_svd4': -0.10811632, 'nn_svd5': 0.069237724, 'nn_svd6': -0.12268643, 'nn_svd7': 0.034020207999999996, 'nn_svd8': 0.10638416, 'nn_svd9': 0.013467304, 'nn_svd10': 0.049321976, 'nn_svd11': 0.044373172999999995, 'nn_svd12': -0.01998662, 'nn_svd13': -0.0511521, 'nn_svd14': 0.0022225770000000003, 'nn_svd15': -0.027399521, 'nn_svd16': -0.045767523, 'nn_svd17': -0.05289454, 'nn_svd18': -0.047862365999999996, 'nn_svd19': 0.010021828, 'nn_cluster': 6.0, 'q_next_et_mean': 19693.703125, 'q_next_et_cnt': 6892, 'q_next_et_std': 8437.228476556189, 'q_next_pqhe_mean': 0.9528438769587928}\n"
     ]
    }
   ],
   "source": [
    "print(contents_dict[0])"
   ]
  },
  {
   "cell_type": "code",
   "execution_count": 34,
   "metadata": {},
   "outputs": [
    {
     "name": "stdout",
     "output_type": "stream",
     "text": [
      "101230332\n"
     ]
    }
   ],
   "source": [
    "print(len(train))"
   ]
  },
  {
   "cell_type": "code",
   "execution_count": 35,
   "metadata": {},
   "outputs": [],
   "source": [
    "class SingleLgb:\n",
    "    def __init__(self, seed=99, dry_run=False):\n",
    "        self.train_param = self.get_param()\n",
    "        if dry_run:\n",
    "            self.num_rounds = 100\n",
    "        else:\n",
    "            self.num_rounds = 1000\n",
    "\n",
    "    def do_train_direct(self, x_train, x_test, y_train, y_test):\n",
    "        lgb_train = lgb.Dataset(x_train, y_train)\n",
    "        lgb_eval = lgb.Dataset(x_test, y_test)\n",
    "\n",
    "        # print('Start training...')\n",
    "        model = lgb.train(self.train_param,\n",
    "                          lgb_train,\n",
    "                          valid_sets=[lgb_eval],\n",
    "                          verbose_eval=100,\n",
    "                          num_boost_round=self.num_rounds,\n",
    "                          early_stopping_rounds=100,\n",
    "                          #categorical_feature=[]\n",
    "                         )\n",
    "        # print('End training...')\n",
    "        return model\n",
    "\n",
    "    @staticmethod\n",
    "    def show_feature_importance(model, filename=None):\n",
    "        fi = pd.DataFrame({\n",
    "            \"name\": model.feature_name(),\n",
    "            \"importance_split\": model.feature_importance(importance_type=\"split\").astype(int),\n",
    "            \"importance_gain\": model.feature_importance(importance_type=\"gain\").astype(int),\n",
    "        })\n",
    "        fi = fi.sort_values(by=\"importance_gain\", ascending=False)\n",
    "        #print(fi)\n",
    "        with pd.option_context('display.max_rows', None, 'display.max_columns', None):  # more options can be specified also\n",
    "            print(fi)\n",
    "\n",
    "    @staticmethod\n",
    "    def get_param():\n",
    "        return {\n",
    "            'num_leaves': 1023,\n",
    "            'min_data_in_leaf': 100,\n",
    "            'objective': 'binary',\n",
    "            #'metric': 'auc',\n",
    "            'metric': 'binary_logloss',\n",
    "            'max_depth': -1,\n",
    "            'learning_rate': 0.05,\n",
    "            \"boosting\": \"gbdt\",\n",
    "            \"feature_fraction\": 0.9,\n",
    "            \"verbosity\": -1,\n",
    "            \"random_state\": 81,\n",
    "        }\n",
    "    \n",
    "class SingleTrainer:\n",
    "    def __init__(self, pred_col, dry_run=False):\n",
    "        self.pred_col = pred_col\n",
    "        self.target_col = \"ac\"\n",
    "        self.dry_run = dry_run\n",
    "        self.val_size = 5*1000*1000\n",
    "\n",
    "    def train_model(self, df):\n",
    "        X = df[self.pred_col]\n",
    "        y = df[self.target_col]\n",
    "        \n",
    "        models, scores = list(), list()\n",
    "        for fold in range(4):\n",
    "            print(\"---------\")\n",
    "            print(\"fold=\", fold)\n",
    "            f, c = fold, self.val_size\n",
    "            val_s, val_e = -c-f*c, len(df)-f*c\n",
    "            train_idx = -c-f*c\n",
    "            X_train, X_val = X.iloc[:train_idx], X.iloc[val_s:val_e]\n",
    "            y_train, y_val = y.iloc[:train_idx], y.iloc[val_s:val_e]\n",
    "            print(X_train.shape, X_val.shape)\n",
    "            \n",
    "            lgbm = SingleLgb(seed=99, dry_run=self.dry_run)\n",
    "            model = lgbm.do_train_direct(X_train, X_val, y_train, y_val)\n",
    "            score = model.best_score[\"valid_0\"][\"binary_logloss\"]\n",
    "            pred = model.predict(X_val)\n",
    "            score = metrics.roc_auc_score(y_val, pred)\n",
    "            print(\"AUC=\", score)\n",
    "            if fold == 0:\n",
    "                lgbm.show_feature_importance(model)\n",
    "            models.append(model)\n",
    "            scores.append(score)\n",
    "            break\n",
    "        return models, np.mean(scores)"
   ]
  },
  {
   "cell_type": "code",
   "execution_count": 36,
   "metadata": {},
   "outputs": [],
   "source": [
    "# train_data_list = list()\n",
    "# utcid_set = set()\n",
    "# prev_rows, prev_acs, prev_uas = list(), list(), list()\n",
    "# #init_values()\n",
    "\n",
    "# not_updated_idx = 0\n",
    "# for i, row in enumerate(tqdm(train.values)):\n",
    "# #     if i < 56597670:\n",
    "# #         continue\n",
    "# #     if i > 56597680:\n",
    "# #         break\n",
    "#     uid = row[2]\n",
    "#     tcid = row[5]\n",
    "#     utcid = (uid, tcid)\n",
    "#     if utcid not in utcid_set:\n",
    "#         if len(prev_rows) > 0:\n",
    "#             update_ac_values(prev_rows, prev_acs, prev_uas)\n",
    "#             prev_rows.clear()\n",
    "#             prev_acs.clear()\n",
    "#             prev_uas.clear()\n",
    "#             utcid_set.clear()\n",
    "#             not_updated_idx = i\n",
    "#     prev_rows.append(row)\n",
    "#     prev_acs.append(row[7])\n",
    "#     prev_uas.append(row[6])\n",
    "#     utcid_set.add(utcid)\n",
    "        \n",
    "#     make_row(row, train_data_list, True)\n",
    "        \n",
    "\n",
    "# start_time = time.time()\n",
    "# df = pd.DataFrame(train_data_list)\n",
    "# end_time = time.time()\n",
    "# print(end_time - start_time)\n",
    "# print(df.head(2))\n",
    "# #print(df.info())"
   ]
  },
  {
   "cell_type": "code",
   "execution_count": 37,
   "metadata": {},
   "outputs": [
    {
     "name": "stdout",
     "output_type": "stream",
     "text": [
      "Index(['row_id', 'timestamp', 'user_id', 'content_id', 'content_type_id',\n",
      "       'task_container_id', 'user_answer', 'answered_correctly',\n",
      "       'prior_question_elapsed_time', 'prior_question_had_explanation'],\n",
      "      dtype='object')\n"
     ]
    }
   ],
   "source": [
    "print(train.columns)"
   ]
  },
  {
   "cell_type": "code",
   "execution_count": 38,
   "metadata": {},
   "outputs": [],
   "source": [
    "# train[\"uid_mod\"] = train[\"user_id\"] % 37\n",
    "# train = train[train[\"uid_mod\"] < 5]"
   ]
  },
  {
   "cell_type": "code",
   "execution_count": 39,
   "metadata": {},
   "outputs": [
    {
     "name": "stdout",
     "output_type": "stream",
     "text": [
      "20386580\n",
      "140.06486058235168\n"
     ]
    },
    {
     "name": "stderr",
     "output_type": "stream",
     "text": [
      "100%|██████████| 17513249/17513249 [01:31<00:00, 190592.97it/s]\n",
      "100%|██████████| 4870798/4870798 [00:14<00:00, 335607.03it/s]\n",
      "100%|██████████| 78724/78724 [00:49<00:00, 1586.59it/s]\n",
      "100%|██████████| 78724/78724 [00:33<00:00, 2379.23it/s]\n"
     ]
    },
    {
     "name": "stdout",
     "output_type": "stream",
     "text": [
      "20178016\n",
      "528.220689535141\n"
     ]
    },
    {
     "name": "stderr",
     "output_type": "stream",
     "text": [
      "100%|██████████| 17320710/17320710 [01:30<00:00, 191062.62it/s]\n",
      "100%|██████████| 4856428/4856428 [00:14<00:00, 339488.50it/s]\n",
      "100%|██████████| 78592/78592 [00:47<00:00, 1667.63it/s]\n",
      "100%|██████████| 78592/78592 [00:30<00:00, 2584.08it/s]\n"
     ]
    },
    {
     "name": "stdout",
     "output_type": "stream",
     "text": [
      "20294219\n",
      "911.5018050670624\n"
     ]
    },
    {
     "name": "stderr",
     "output_type": "stream",
     "text": [
      "100%|██████████| 17398557/17398557 [01:31<00:00, 190924.16it/s]\n",
      "100%|██████████| 4867489/4867489 [00:14<00:00, 334888.25it/s]\n",
      "100%|██████████| 78979/78979 [00:49<00:00, 1585.27it/s]\n",
      "100%|██████████| 78979/78979 [00:31<00:00, 2530.05it/s]\n"
     ]
    },
    {
     "name": "stdout",
     "output_type": "stream",
     "text": [
      "20175459\n",
      "1301.6537280082703\n"
     ]
    },
    {
     "name": "stderr",
     "output_type": "stream",
     "text": [
      "100%|██████████| 17307936/17307936 [01:31<00:00, 189735.02it/s]\n",
      "100%|██████████| 4865560/4865560 [00:14<00:00, 339059.16it/s]\n",
      "100%|██████████| 78786/78786 [00:50<00:00, 1574.66it/s]\n",
      "100%|██████████| 78786/78786 [00:32<00:00, 2391.29it/s]\n"
     ]
    },
    {
     "name": "stdout",
     "output_type": "stream",
     "text": [
      "20196058\n",
      "1694.2529337406158\n"
     ]
    },
    {
     "name": "stderr",
     "output_type": "stream",
     "text": [
      "100%|██████████| 17326579/17326579 [01:31<00:00, 189637.49it/s]\n",
      "100%|██████████| 4840223/4840223 [00:14<00:00, 336250.22it/s]\n",
      "100%|██████████| 78575/78575 [00:47<00:00, 1643.97it/s]\n",
      "100%|██████████| 78575/78575 [00:30<00:00, 2573.77it/s]\n"
     ]
    },
    {
     "name": "stdout",
     "output_type": "stream",
     "text": [
      "1929.9916982650757\n"
     ]
    }
   ],
   "source": [
    "def get_row(train_):\n",
    "    ff = PocketFeatureFactory(True, contents_dict)\n",
    "    train_data_list = list()\n",
    "    utcid_set = set()\n",
    "    prev_rows, prev_acs, prev_uas = list(), list(), list()\n",
    "\n",
    "    for i, row in enumerate(train_.values):\n",
    "        ctype = int(row[4])\n",
    "        if ctype == 1:\n",
    "            ff.do_lecture(row)\n",
    "            continue\n",
    "        uid = int(row[2])\n",
    "        tcid = int(row[5])\n",
    "        utcid = (uid, tcid)\n",
    "        if utcid not in utcid_set:\n",
    "            if len(prev_rows) > 0:\n",
    "                #prev_df2 = train.iloc[not_updated_idx:i] iloc too slow lol\n",
    "                ff.update_ac_values(prev_rows, prev_acs, prev_uas)\n",
    "                prev_rows.clear()\n",
    "                prev_acs.clear()\n",
    "                prev_uas.clear()\n",
    "                utcid_set.clear()\n",
    "                \n",
    "        prev_rows.append(row)\n",
    "        prev_acs.append(int(row[7]))\n",
    "        prev_uas.append(int(row[6]))\n",
    "        utcid_set.add(utcid)\n",
    "\n",
    "        ff.make_row(row, train_data_list)\n",
    "    ff.update_ac_values(prev_rows, prev_acs, prev_uas)\n",
    "    \n",
    "    #return train_data_list\n",
    "    ret_idx = train_[train_[\"content_type_id\"]!=1].index\n",
    "    ret_df = pd.DataFrame(train_data_list)\n",
    "    ret_df.index = ret_idx\n",
    "    \n",
    "    return ret_df, ff\n",
    "\n",
    "start_time = time.time()\n",
    "SPLIT_NUM = 48\n",
    "USE_FROM = 5\n",
    "\n",
    "train[\"uid_mod\"] = train[\"user_id\"] % (USE_FROM)\n",
    "train[\"uid_mod2\"] = train[\"user_id\"] % (SPLIT_NUM)\n",
    "\n",
    "df_list = list()\n",
    "for i in range(USE_FROM):\n",
    "    sliced_train = train[train[\"uid_mod\"] == i]\n",
    "    print(len(sliced_train))\n",
    "\n",
    "    split_series = list()\n",
    "    for j in range(0, SPLIT_NUM):\n",
    "        one_split = sliced_train[sliced_train[\"uid_mod2\"] == j]\n",
    "        split_series.append(one_split)\n",
    "\n",
    "    future_list = list()\n",
    "    with futures.ProcessPoolExecutor(max_workers=SPLIT_NUM) as executor:\n",
    "        for s in split_series:\n",
    "            future_list.append(executor.submit(get_row, s))\n",
    "    future_results = [f.result() for f in future_list]\n",
    "    end_time = time.time()\n",
    "    print(end_time - start_time)\n",
    "    df_futures = [f[0] for f in future_results]\n",
    "    ff_futures = [f[1] for f in future_results]\n",
    "    \n",
    "    df = pd.concat(df_futures)\n",
    "    df_list.append(df)\n",
    "    \n",
    "    utils = PocketFFUtil()\n",
    "    conc_ff = ff_futures[0]\n",
    "    for j in range(len(ff_futures)-1):\n",
    "        conc_ff = utils.merge(conc_ff, ff_futures[j+1])\n",
    "        \n",
    "    utils.to_file(conc_ff, i)\n",
    "    del conc_ff\n",
    "    del ff_futures\n",
    "    gc.collect()\n",
    "    \n",
    "    \n",
    "\n",
    "end_time = time.time()\n",
    "print(end_time - start_time)"
   ]
  },
  {
   "cell_type": "code",
   "execution_count": 40,
   "metadata": {},
   "outputs": [
    {
     "name": "stdout",
     "output_type": "stream",
     "text": [
      "hi\n"
     ]
    }
   ],
   "source": [
    "print(\"hi\")"
   ]
  },
  {
   "cell_type": "code",
   "execution_count": 41,
   "metadata": {},
   "outputs": [
    {
     "name": "stdout",
     "output_type": "stream",
     "text": [
      "(99271300, 82)\n"
     ]
    }
   ],
   "source": [
    "final_df = pd.concat(df_list)\n",
    "print(final_df.shape)\n",
    "sorted_df = final_df.sort_index()"
   ]
  },
  {
   "cell_type": "code",
   "execution_count": 42,
   "metadata": {},
   "outputs": [
    {
     "data": {
      "text/html": [
       "<div>\n",
       "<style scoped>\n",
       "    .dataframe tbody tr th:only-of-type {\n",
       "        vertical-align: middle;\n",
       "    }\n",
       "\n",
       "    .dataframe tbody tr th {\n",
       "        vertical-align: top;\n",
       "    }\n",
       "\n",
       "    .dataframe thead th {\n",
       "        text-align: right;\n",
       "    }\n",
       "</style>\n",
       "<table border=\"1\" class=\"dataframe\">\n",
       "  <thead>\n",
       "    <tr style=\"text-align: right;\">\n",
       "      <th></th>\n",
       "      <th>row_id</th>\n",
       "      <th>user_id</th>\n",
       "      <th>ac</th>\n",
       "      <th>et</th>\n",
       "      <th>q_ac_mean</th>\n",
       "      <th>q_ac_cnt</th>\n",
       "      <th>q_et_mean</th>\n",
       "      <th>q_et_cnt</th>\n",
       "      <th>q_et_std</th>\n",
       "      <th>b_ac_mean</th>\n",
       "      <th>...</th>\n",
       "      <th>u_td_p4p5</th>\n",
       "      <th>u_td_p5p6</th>\n",
       "      <th>u_td_p6p7</th>\n",
       "      <th>u_td_p7p8</th>\n",
       "      <th>u_td_p8p9</th>\n",
       "      <th>u_td_p9p10</th>\n",
       "      <th>ut_ac_mean</th>\n",
       "      <th>ut_ac_mean2</th>\n",
       "      <th>u_ok_ts</th>\n",
       "      <th>u_ng_ts</th>\n",
       "    </tr>\n",
       "  </thead>\n",
       "  <tbody>\n",
       "    <tr>\n",
       "      <th>0</th>\n",
       "      <td>32933156</td>\n",
       "      <td>705741139</td>\n",
       "      <td>1</td>\n",
       "      <td>NaN</td>\n",
       "      <td>0.966869</td>\n",
       "      <td>19619</td>\n",
       "      <td>23471.402344</td>\n",
       "      <td>5406</td>\n",
       "      <td>16817.431721</td>\n",
       "      <td>0.966869</td>\n",
       "      <td>...</td>\n",
       "      <td>NaN</td>\n",
       "      <td>NaN</td>\n",
       "      <td>NaN</td>\n",
       "      <td>NaN</td>\n",
       "      <td>NaN</td>\n",
       "      <td>NaN</td>\n",
       "      <td>NaN</td>\n",
       "      <td>NaN</td>\n",
       "      <td>NaN</td>\n",
       "      <td>NaN</td>\n",
       "    </tr>\n",
       "    <tr>\n",
       "      <th>1</th>\n",
       "      <td>32933157</td>\n",
       "      <td>705741139</td>\n",
       "      <td>1</td>\n",
       "      <td>16000.0</td>\n",
       "      <td>0.954815</td>\n",
       "      <td>21733</td>\n",
       "      <td>19462.746094</td>\n",
       "      <td>21732</td>\n",
       "      <td>10070.528940</td>\n",
       "      <td>0.954815</td>\n",
       "      <td>...</td>\n",
       "      <td>NaN</td>\n",
       "      <td>NaN</td>\n",
       "      <td>NaN</td>\n",
       "      <td>NaN</td>\n",
       "      <td>NaN</td>\n",
       "      <td>NaN</td>\n",
       "      <td>1.0</td>\n",
       "      <td>1.0</td>\n",
       "      <td>-20666.0</td>\n",
       "      <td>NaN</td>\n",
       "    </tr>\n",
       "  </tbody>\n",
       "</table>\n",
       "<p>2 rows × 82 columns</p>\n",
       "</div>"
      ],
      "text/plain": [
       "     row_id    user_id  ac       et  q_ac_mean  q_ac_cnt     q_et_mean  \\\n",
       "0  32933156  705741139   1      NaN   0.966869     19619  23471.402344   \n",
       "1  32933157  705741139   1  16000.0   0.954815     21733  19462.746094   \n",
       "\n",
       "   q_et_cnt      q_et_std  b_ac_mean  ...  u_td_p4p5  u_td_p5p6  u_td_p6p7  \\\n",
       "0      5406  16817.431721   0.966869  ...        NaN        NaN        NaN   \n",
       "1     21732  10070.528940   0.954815  ...        NaN        NaN        NaN   \n",
       "\n",
       "   u_td_p7p8  u_td_p8p9  u_td_p9p10  ut_ac_mean  ut_ac_mean2  u_ok_ts  u_ng_ts  \n",
       "0        NaN        NaN         NaN         NaN          NaN      NaN      NaN  \n",
       "1        NaN        NaN         NaN         1.0          1.0 -20666.0      NaN  \n",
       "\n",
       "[2 rows x 82 columns]"
      ]
     },
     "execution_count": 42,
     "metadata": {},
     "output_type": "execute_result"
    }
   ],
   "source": [
    "sorted_df.head(2)"
   ]
  },
  {
   "cell_type": "code",
   "execution_count": 43,
   "metadata": {},
   "outputs": [
    {
     "data": {
      "text/plain": [
       "40"
      ]
     },
     "execution_count": 43,
     "metadata": {},
     "output_type": "execute_result"
    }
   ],
   "source": [
    "del train\n",
    "del final_df\n",
    "gc.collect()"
   ]
  },
  {
   "cell_type": "code",
   "execution_count": 44,
   "metadata": {},
   "outputs": [],
   "source": [
    "# sorted_df.reset_index(inplace=True)\n",
    "# file_len = len(sorted_df)\n",
    "# start_idx = 0\n",
    "# temp_df_list = []\n",
    "# for i in range(10):\n",
    "#     end_idx = start_idx + (file_len // 10)\n",
    "#     cond = (sorted_df[\"index\"] >= start_idx) & (sorted_df[\"index\"] < end_idx)\n",
    "#     if i == 9:\n",
    "#         cond = (sorted_df[\"index\"] >= start_idx)\n",
    "#     temp_df = sorted_df[cond]\n",
    "#     print(temp_df.shape)\n",
    "#     temp_df_list.append(temp_df)\n",
    "#     start_idx = end_idx"
   ]
  },
  {
   "cell_type": "code",
   "execution_count": 45,
   "metadata": {},
   "outputs": [],
   "source": [
    "#sorted_df.reset_index(drop=True).to_feather(\"./pocket_feature_df.feather\")"
   ]
  },
  {
   "cell_type": "code",
   "execution_count": 46,
   "metadata": {},
   "outputs": [],
   "source": [
    "# %%timeit\n",
    "# df = pd.DataFrame(data_list)\n",
    "# 24.7 s ± 205 ms per loop (mean ± std. dev. of 7 runs, 1 loop each)"
   ]
  },
  {
   "cell_type": "code",
   "execution_count": 47,
   "metadata": {},
   "outputs": [
    {
     "name": "stdout",
     "output_type": "stream",
     "text": [
      "['et', 'q_ac_cnt', 'b_ac_mean', 'b_ac_cnt', 'q_ac_mean', 'u_ac_mean', 'u_cnt', 'u_qm_mean', 'u_ac_cnt', 'u_ok_qm_mean', 'u_ng_qm_mean', 'q_et_mean', 'q_et_cnt', 'q_et_std', 'up_ac_cnt', 'up_ac_mean', 'u_td', 'q_ng_uac_mean', 'q_ok_uac_mean', 'q_ok_uac_std', 'q_ng_uac_std', 'correct_answer', 'u_ac_mean20', 'ulr_ac_mean', 'ut_ac_mean', 'ut_ac_mean2', 'uca_ac_mean', 'ul_td', 'u_td_wl', 'uc_td', 'uc_ac_mean', 'uc_ac_cnt', 'u_td_tp1', 'u_td_p1p2', 'u_td_p2p3', 'u_td_p3p4', 'u_td_p4p5', 'u_td_p5p6', 'u_td_p6p7', 'u_td_p7p8', 'u_td_p8p9', 'u_td_p9p10', 'uac_prev1', 'uac_prev2', 'elo_beta', 'u_elo_theta', 'u_rate', 'ulr_elo_mean', 'u_rate_elo', 'u_ses_ac_mean', 'u_ses_cnt', 'uses_cnt', 'u_ok_ts', 'u_ng_ts', 'q_next_et_mean', 'q_next_et_std', 'q_next_pqhe_mean', 'up_elo_mean', 'nn_svd0', 'nn_svd1', 'nn_svd2', 'nn_svd3', 'nn_svd4', 'nn_svd5', 'nn_svd6', 'nn_svd7', 'nn_svd8', 'nn_svd9', 'nn_svd10', 'nn_svd11', 'nn_svd12', 'nn_svd13', 'nn_svd14', 'nn_svd15', 'nn_svd16', 'nn_svd17', 'nn_svd18', 'nn_svd19']\n"
     ]
    }
   ],
   "source": [
    "\n",
    "pred_col = [\n",
    "    \"et\",  \"q_ac_cnt\",  'b_ac_mean', 'b_ac_cnt', \"q_ac_mean\",\n",
    "    \"u_ac_mean\", \"u_cnt\", \"u_qm_mean\", #\"u_td\", #\"uc_td\",\n",
    "    \"u_ac_cnt\", #\"u_et_cnt\"\n",
    "    'u_ok_qm_mean', 'u_ng_qm_mean',\n",
    "    'q_et_mean', 'q_et_cnt', 'q_et_std',\n",
    "    \"up_ac_cnt\", \"up_ac_mean\",\n",
    "    \"u_td\", \n",
    "    \"q_ng_uac_mean\",\"q_ok_uac_mean\", \"q_ok_uac_std\", \"q_ng_uac_std\",\n",
    "    \"correct_answer\",\n",
    "    \"u_ac_mean20\",\n",
    "    \"ulr_ac_mean\", #\"ulr_ac_cnt\",  \"ub_cnt\",\n",
    "    \"ut_ac_mean\",\"ut_ac_mean2\",\n",
    "    \"uca_ac_mean\", \n",
    "    \"ul_td\", \"u_td_wl\", \n",
    "    #\"q_pqhe_true_uac_mean\", \"q_pqhe_true_uac_std\", \"q_pqhe_false_uac_mean\", \"q_pqhe_false_uac_std\",\n",
    "    #\"pqhe\",\n",
    "    \"uc_td\", \"uc_ac_mean\", \"uc_ac_cnt\", \n",
    "    #\"u_td_final\", #\"ub_td_final\"\n",
    "    'u_td_tp1','u_td_p1p2', 'u_td_p2p3', 'u_td_p3p4', 'u_td_p4p5',\n",
    "    'u_td_p5p6', 'u_td_p6p7', 'u_td_p7p8', 'u_td_p8p9', 'u_td_p9p10',\n",
    "    \"uac_prev1\", \"uac_prev2\",\n",
    "    \"elo_beta\", \"u_elo_theta\", \n",
    "    \"u_rate\",\n",
    "    \"ulr_elo_mean\", \"u_rate_elo\",\n",
    "    \"u_ses_ac_mean\", \"u_ses_cnt\", \"uses_cnt\",\n",
    "    \"u_ok_ts\", \"u_ng_ts\", # 0.05pt...    \n",
    "     #'u_c_nunique_ratio', #'u_c_nunique', 'u_c_repeat_cnt',\n",
    "     \"q_next_et_mean\", \"q_next_et_std\", \"q_next_pqhe_mean\",\n",
    "]\n",
    "new_col = [\n",
    "    \"up_elo_mean\"\n",
    "]\n",
    "nn_col = [f\"nn_svd{i}\" for i in range(20)] \n",
    "#w2v_col = [f\"w2v_svd{i}\" for i in range(10)]\n",
    "pred_col += new_col\n",
    "pred_col += nn_col\n",
    "#pred_col += w2v_col\n",
    "print(pred_col)"
   ]
  },
  {
   "cell_type": "code",
   "execution_count": 48,
   "metadata": {},
   "outputs": [
    {
     "data": {
      "text/plain": [
       "['row_id', 'user_id', 'ac', 'part']"
      ]
     },
     "execution_count": 48,
     "metadata": {},
     "output_type": "execute_result"
    }
   ],
   "source": [
    "[c for c in sorted_df.columns if c not in pred_col]"
   ]
  },
  {
   "cell_type": "code",
   "execution_count": 49,
   "metadata": {},
   "outputs": [],
   "source": [
    "#print(df[new_col].describe())"
   ]
  },
  {
   "cell_type": "code",
   "execution_count": 50,
   "metadata": {
    "scrolled": true
   },
   "outputs": [
    {
     "name": "stdout",
     "output_type": "stream",
     "text": [
      "---------\n",
      "fold= 0\n",
      "(94271300, 78) (5000000, 78)\n",
      "Training until validation scores don't improve for 100 rounds\n",
      "[100]\tvalid_0's binary_logloss: 0.513991\n",
      "[200]\tvalid_0's binary_logloss: 0.509956\n",
      "[300]\tvalid_0's binary_logloss: 0.508358\n",
      "[400]\tvalid_0's binary_logloss: 0.507438\n",
      "[500]\tvalid_0's binary_logloss: 0.506836\n",
      "[600]\tvalid_0's binary_logloss: 0.506615\n",
      "[700]\tvalid_0's binary_logloss: 0.506435\n",
      "[800]\tvalid_0's binary_logloss: 0.506305\n",
      "[900]\tvalid_0's binary_logloss: 0.506235\n",
      "[1000]\tvalid_0's binary_logloss: 0.506146\n",
      "Did not meet early stopping. Best iteration is:\n",
      "[1000]\tvalid_0's binary_logloss: 0.506146\n",
      "AUC= 0.8043864148400888\n",
      "                name  importance_split  importance_gain\n",
      "4          q_ac_mean              9195        113231962\n",
      "47      ulr_elo_mean             15354         32543517\n",
      "44          elo_beta             10383         27155581\n",
      "29             uc_td             27500         16796215\n",
      "45       u_elo_theta             15747         15245129\n",
      "28           u_td_wl             23312          5972014\n",
      "57       up_elo_mean             17220          5475980\n",
      "33         u_td_p1p2             35090          4746687\n",
      "16              u_td             23575          4326401\n",
      "60           nn_svd2             16946          4017739\n",
      "32          u_td_tp1             21263          3554242\n",
      "59           nn_svd1             14350          3223149\n",
      "30        uc_ac_mean              8362          2773962\n",
      "58           nn_svd0             10947          2149596\n",
      "0                 et             23711          2056662\n",
      "52           u_ok_ts             18843          2037987\n",
      "27             ul_td             26163          1824425\n",
      "53           u_ng_ts             18082          1781720\n",
      "15        up_ac_mean             13869          1777835\n",
      "61           nn_svd3             20952          1535253\n",
      "62           nn_svd4             21414          1449772\n",
      "10      u_ng_qm_mean             15807          1313753\n",
      "54    q_next_et_mean             16345          1123052\n",
      "34         u_td_p2p3             20237          1112405\n",
      "48        u_rate_elo             14129          1024465\n",
      "14         up_ac_cnt             19434           962595\n",
      "35         u_td_p3p4             16460           923296\n",
      "11         q_et_mean             14155           897316\n",
      "63           nn_svd5             16397           860533\n",
      "26       uca_ac_mean             13327           859148\n",
      "69          nn_svd11             13526           828683\n",
      "5          u_ac_mean             14891           825022\n",
      "17     q_ng_uac_mean             10650           817338\n",
      "24        ut_ac_mean             10999           781283\n",
      "25       ut_ac_mean2             12294           757586\n",
      "65           nn_svd7             10405           715014\n",
      "13          q_et_std             11892           623053\n",
      "2          b_ac_mean             10055           603453\n",
      "67           nn_svd9             12643           577498\n",
      "55     q_next_et_std             11954           568911\n",
      "37         u_td_p5p6             13111           565736\n",
      "36         u_td_p4p5             13267           551675\n",
      "64           nn_svd6             12548           537435\n",
      "6              u_cnt             10384           520172\n",
      "66           nn_svd8             13730           506786\n",
      "23       ulr_ac_mean             12373           501598\n",
      "50         u_ses_cnt             12378           498225\n",
      "56  q_next_pqhe_mean             10291           494098\n",
      "18     q_ok_uac_mean             10383           483432\n",
      "38         u_td_p6p7             12037           452652\n",
      "41        u_td_p9p10             12583           451464\n",
      "8           u_ac_cnt              7597           428594\n",
      "39         u_td_p7p8             12165           425935\n",
      "46            u_rate             12702           414245\n",
      "40         u_td_p8p9             11924           392335\n",
      "9       u_ok_qm_mean             13021           369252\n",
      "49     u_ses_ac_mean             10394           363171\n",
      "3           b_ac_cnt              8135           353390\n",
      "70          nn_svd12             12085           342980\n",
      "75          nn_svd17             10164           340866\n",
      "22       u_ac_mean20              6295           327218\n",
      "74          nn_svd16             10957           321171\n",
      "20      q_ng_uac_std              9017           316724\n",
      "68          nn_svd10             11800           304403\n",
      "51          uses_cnt              8908           302194\n",
      "72          nn_svd14             10654           300448\n",
      "71          nn_svd13              9831           288287\n",
      "31         uc_ac_cnt              2771           286035\n",
      "77          nn_svd19             10039           275304\n",
      "19      q_ok_uac_std              9020           252368\n",
      "1           q_ac_cnt              6085           244807\n",
      "73          nn_svd15              9791           232573\n",
      "21    correct_answer              3394           209356\n",
      "76          nn_svd18             10068           208428\n",
      "7          u_qm_mean              8628           157205\n",
      "43         uac_prev2              1414           142184\n",
      "12          q_et_cnt              3350            97474\n",
      "42         uac_prev1               828            33551\n"
     ]
    }
   ],
   "source": [
    "#temp_df = df[1*1000*1000:].copy()\n",
    "#temp_df = df.copy()\n",
    "trainer = SingleTrainer(pred_col, dry_run=False)\n",
    "models, score = trainer.train_model(sorted_df)"
   ]
  },
  {
   "cell_type": "code",
   "execution_count": 51,
   "metadata": {},
   "outputs": [],
   "source": [
    "# full data\n",
    "# tekitou: 0.8040\n",
    "# no cnuni: 0.8038\n",
    "# no nn_cols: 0.80287\n",
    "\n",
    "# final: "
   ]
  },
  {
   "cell_type": "code",
   "execution_count": null,
   "metadata": {},
   "outputs": [],
   "source": []
  },
  {
   "cell_type": "code",
   "execution_count": 52,
   "metadata": {},
   "outputs": [],
   "source": [
    "# base:0.8005\n",
    "# nuniques: 0.8006\n",
    "# ? : 08008\n",
    "# rates:.... 08008\n",
    "\n",
    "# without all those new cols: 0.8002\n",
    "# proper rates: "
   ]
  },
  {
   "cell_type": "code",
   "execution_count": null,
   "metadata": {},
   "outputs": [],
   "source": []
  },
  {
   "cell_type": "code",
   "execution_count": 53,
   "metadata": {},
   "outputs": [],
   "source": [
    "# base 0.80320\n",
    "# td_final 0.80332\n",
    "# 0.803524\n",
    "# 0,8035 with new feats, 500rounds\n",
    "\n",
    "# small train...with more ratings: 7982, 2Mvalid: 7984\n",
    "# without: 7977\n",
    "# w2v: 7977\n",
    "# ulr: 7983\n",
    "# sess: 7985??\n",
    "# more rate: 7986-\n",
    "# ts: 7986+"
   ]
  },
  {
   "cell_type": "code",
   "execution_count": 54,
   "metadata": {},
   "outputs": [],
   "source": [
    "#without new cols = 0.7908\n",
    "#first try =0.7942\n",
    "#more tds = 0.7950\n",
    "# svd20 79929\n",
    "# svd10 79899\n",
    "# svd15 79913\n",
    "# 15with target-encode 79923\n",
    "# 20with target-encode 79926"
   ]
  },
  {
   "cell_type": "code",
   "execution_count": 55,
   "metadata": {},
   "outputs": [
    {
     "name": "stdout",
     "output_type": "stream",
     "text": [
      "done\n"
     ]
    }
   ],
   "source": [
    "#standard way\n",
    "#[1000]\tvalid_0's auc: 0.782993\n",
    "\n",
    "#periodic initialization\n",
    "#0.730-2\n",
    "\n",
    "#with u_ac_mean\n",
    "#0.762\n",
    "\n",
    "#with uc_td\n",
    "#has 0.776ish\n",
    "\n",
    "#with U_et_cnt(reset-cnt)\n",
    "#same\n",
    "\n",
    "#with uc_ac_prev\n",
    "#0.777ish\n",
    "\n",
    "#without\n",
    "#[1000]\tvalid_0's auc: 0.765165\n",
    "\n",
    "# with full row  feature\n",
    "#[1000]\tvalid_0's auc: 0.765111\n",
    "\n",
    "# with full cdict\n",
    "#[1000]\tvalid_0's auc: 0.765448\n",
    "\n",
    "# dropping td by //10*1000 decrease score by 0.001\n",
    "\n",
    "# new feats from test_features=0.785 ->?0.7897\n",
    "\n",
    "# add lots of features =0.79299\n",
    "\n",
    "# add more feats = 0.7876-> 0.7895\n",
    "\n",
    "print(\"done\")"
   ]
  },
  {
   "cell_type": "code",
   "execution_count": 56,
   "metadata": {},
   "outputs": [
    {
     "data": {
      "text/plain": [
       "<lightgbm.basic.Booster at 0x7f3d9208fb90>"
      ]
     },
     "execution_count": 56,
     "metadata": {},
     "output_type": "execute_result"
    }
   ],
   "source": [
    "models[0].save_model(\"./model_0106.lgb\")"
   ]
  },
  {
   "cell_type": "code",
   "execution_count": null,
   "metadata": {},
   "outputs": [],
   "source": []
  },
  {
   "cell_type": "code",
   "execution_count": 57,
   "metadata": {},
   "outputs": [
    {
     "name": "stdout",
     "output_type": "stream",
     "text": [
      "0.8043864148400888\n"
     ]
    }
   ],
   "source": [
    "final_valid = sorted_df.iloc[-5*1000*1000:]\n",
    "pred_y = models[0].predict(final_valid[pred_col])\n",
    "score = metrics.roc_auc_score(final_valid[\"ac\"], pred_y)\n",
    "print(score)"
   ]
  },
  {
   "cell_type": "code",
   "execution_count": 58,
   "metadata": {},
   "outputs": [],
   "source": [
    "pred_output = pd.DataFrame(pred_y)"
   ]
  },
  {
   "cell_type": "code",
   "execution_count": 59,
   "metadata": {},
   "outputs": [],
   "source": [
    "pd.DataFrame(pred_y).to_csv(\"./pred_0106.csv\", index=False)"
   ]
  },
  {
   "cell_type": "code",
   "execution_count": 60,
   "metadata": {},
   "outputs": [],
   "source": [
    "final_valid.reset_index().to_feather(\"./valid_0106.feather\")"
   ]
  },
  {
   "cell_type": "code",
   "execution_count": null,
   "metadata": {},
   "outputs": [],
   "source": []
  }
 ],
 "metadata": {
  "kernelspec": {
   "display_name": "Python 3",
   "language": "python",
   "name": "python3"
  },
  "language_info": {
   "codemirror_mode": {
    "name": "ipython",
    "version": 3
   },
   "file_extension": ".py",
   "mimetype": "text/x-python",
   "name": "python",
   "nbconvert_exporter": "python",
   "pygments_lexer": "ipython3",
   "version": "3.7.9"
  }
 },
 "nbformat": 4,
 "nbformat_minor": 4
}
