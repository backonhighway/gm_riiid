{
 "cells": [
  {
   "cell_type": "code",
   "execution_count": 1,
   "metadata": {},
   "outputs": [],
   "source": [
    "import json\n",
    "from collections import Counter, defaultdict, deque\n",
    "import gc\n",
    "\n",
    "import numpy as np\n",
    "import pandas as pd\n",
    "import glob\n",
    "import time\n",
    "from tqdm import tqdm\n",
    "\n",
    "from sklearn import model_selection, metrics\n",
    "import matplotlib.pyplot as plt\n",
    "import seaborn as sn\n",
    "\n",
    "import lightgbm as lgb\n",
    "\n",
    "\n",
    "#import riiideducation"
   ]
  },
  {
   "cell_type": "code",
   "execution_count": 2,
   "metadata": {},
   "outputs": [],
   "source": [
    "import feather"
   ]
  },
  {
   "cell_type": "code",
   "execution_count": 3,
   "metadata": {},
   "outputs": [
    {
     "data": {
      "text/html": [
       "<div>\n",
       "<style scoped>\n",
       "    .dataframe tbody tr th:only-of-type {\n",
       "        vertical-align: middle;\n",
       "    }\n",
       "\n",
       "    .dataframe tbody tr th {\n",
       "        vertical-align: top;\n",
       "    }\n",
       "\n",
       "    .dataframe thead th {\n",
       "        text-align: right;\n",
       "    }\n",
       "</style>\n",
       "<table border=\"1\" class=\"dataframe\">\n",
       "  <thead>\n",
       "    <tr style=\"text-align: right;\">\n",
       "      <th></th>\n",
       "      <th>question_id</th>\n",
       "      <th>bundle_id</th>\n",
       "      <th>correct_answer</th>\n",
       "      <th>part</th>\n",
       "      <th>tags</th>\n",
       "    </tr>\n",
       "  </thead>\n",
       "  <tbody>\n",
       "    <tr>\n",
       "      <th>0</th>\n",
       "      <td>0</td>\n",
       "      <td>0</td>\n",
       "      <td>0</td>\n",
       "      <td>1</td>\n",
       "      <td>51 131 162 38</td>\n",
       "    </tr>\n",
       "    <tr>\n",
       "      <th>1</th>\n",
       "      <td>1</td>\n",
       "      <td>1</td>\n",
       "      <td>1</td>\n",
       "      <td>1</td>\n",
       "      <td>131 36 81</td>\n",
       "    </tr>\n",
       "  </tbody>\n",
       "</table>\n",
       "</div>"
      ],
      "text/plain": [
       "   question_id  bundle_id  correct_answer  part           tags\n",
       "0            0          0               0     1  51 131 162 38\n",
       "1            1          1               1     1      131 36 81"
      ]
     },
     "execution_count": 3,
     "metadata": {},
     "output_type": "execute_result"
    }
   ],
   "source": [
    "question = pd.read_csv(\"/home/pocket/input/questions.csv\")\n",
    "question.head(2)"
   ]
  },
  {
   "cell_type": "code",
   "execution_count": 4,
   "metadata": {},
   "outputs": [
    {
     "data": {
      "text/plain": [
       "count    13523.000000\n",
       "mean         2.291873\n",
       "std          1.369772\n",
       "min          1.000000\n",
       "25%          1.000000\n",
       "50%          3.000000\n",
       "75%          3.000000\n",
       "max          6.000000\n",
       "Name: tags, dtype: float64"
      ]
     },
     "execution_count": 4,
     "metadata": {},
     "output_type": "execute_result"
    }
   ],
   "source": [
    "question[\"tags\"].astype(str).apply(lambda x: len(x.split())).describe()"
   ]
  },
  {
   "cell_type": "code",
   "execution_count": 5,
   "metadata": {},
   "outputs": [
    {
     "data": {
      "text/plain": [
       "<AxesSubplot:>"
      ]
     },
     "execution_count": 5,
     "metadata": {},
     "output_type": "execute_result"
    },
    {
     "data": {
      "image/png": "[encoded data removed]",
      "text/plain": [
       "<Figure size 432x288 with 1 Axes>"
      ]
     },
     "metadata": {
      "needs_background": "light"
     },
     "output_type": "display_data"
    }
   ],
   "source": [
    "question[\"tags\"].astype(str).apply(lambda x: len(x.split())).hist()"
   ]
  },
  {
   "cell_type": "code",
   "execution_count": 6,
   "metadata": {},
   "outputs": [],
   "source": [
    "train = pd.read_feather(\"./train_sorted.feather\")"
   ]
  },
  {
   "cell_type": "code",
   "execution_count": 7,
   "metadata": {},
   "outputs": [
    {
     "name": "stdout",
     "output_type": "stream",
     "text": [
      "Index(['row_id', 'timestamp', 'user_id', 'content_id', 'content_type_id',\n",
      "       'task_container_id', 'user_answer', 'answered_correctly',\n",
      "       'prior_question_elapsed_time', 'prior_question_had_explanation',\n",
      "       'max_time_stamp', 'rand_time_stamp', 'virtual_time_stamp'],\n",
      "      dtype='object')\n"
     ]
    }
   ],
   "source": [
    "print(train.columns)\n",
    "\n",
    "# no lectures for now\n",
    "train = train[train[\"answered_correctly\"] != -1]"
   ]
  },
  {
   "cell_type": "code",
   "execution_count": 8,
   "metadata": {},
   "outputs": [],
   "source": [
    "u_cnt = Counter()\n",
    "u_ac_cnt = Counter()\n",
    "u_prev_ts = {}\n",
    "uc_prev_ts = {}\n",
    "ub_prev_ts = {}\n",
    "u_ac_sum, u_qm_sum = Counter(), Counter()\n",
    "u_ok_qm_sum, u_ng_qm_sum = Counter(), Counter()\n",
    "u_ok_cnt, u_ng_cnt = Counter(), Counter()\n",
    "up_ac_cnt, up_ac_sum = Counter(), Counter()\n",
    "ulr_ac_cnt, ulr_ac_sum = Counter(), Counter()\n",
    "uca_ac_cnt, uca_ac_sum = Counter(), Counter()\n",
    "prev_utd, prev_ubtd = {}, {}\n",
    "u_ac_roll = defaultdict(lambda: deque(maxlen=20))\n",
    "uca_ac_sum, uca_ac_cnt = Counter(), Counter()\n",
    "ut_ac_sum, ut_ac_cnt = Counter(), Counter()\n",
    "\n",
    "def update_ac_values(prev_rows, prev_acs, prev_uas):\n",
    "    #for i, row in enumerate(prev_df.values):\n",
    "    for i, row in enumerate(prev_rows):\n",
    "        update_ac_value(row, prev_acs[i], prev_uas[i])\n",
    "    \n",
    "def update_ac_value(row, prev_ac, prev_ua):\n",
    "    uid = row[2]\n",
    "    cid = row[3]\n",
    "    contents = contents_dict[cid]\n",
    "    qm = contents[\"q_ac_mean\"]\n",
    "    part = contents[\"part\"]\n",
    "    lr = part < 5\n",
    "    upid = (uid, part)\n",
    "    ulr = (uid, lr)\n",
    "    ca = contents[\"correct_answer\"]\n",
    "    uca = (uid, ca)\n",
    "    tags = contents[\"tags\"].split()\n",
    "    \n",
    "    u_ac_cnt[uid] += 1\n",
    "    u_ac_sum[uid] += prev_ac\n",
    "    up_ac_cnt[upid] += 1\n",
    "    up_ac_sum[upid] += prev_ac\n",
    "    ulr_ac_cnt[ulr] += 1\n",
    "    ulr_ac_sum[ulr] += prev_ac\n",
    "    u_ac_roll[uid].append(prev_ac)\n",
    "    uca_ac_cnt[uca] += 1\n",
    "    uca_ac_sum[uca] += prev_ac\n",
    "    \n",
    "    for tag in tags:\n",
    "        ut = (uid, tag)\n",
    "        ut_ac_sum[ut] += prev_ac\n",
    "        ut_ac_cnt[ut] += 1\n",
    "    \n",
    "    if prev_ac > 0.5:\n",
    "        u_ok_cnt[uid] += 1\n",
    "        u_ok_qm_sum[uid] += qm\n",
    "    else:\n",
    "        u_ng_cnt[uid] += 1\n",
    "        u_ng_qm_sum[uid] += qm\n",
    "\n",
    "def make_row(row, data_list, is_train=True):\n",
    "    ts = row[1]\n",
    "    uid = row[2]\n",
    "    cid = row[3]\n",
    "    tcid = row[5]\n",
    "    if is_train:\n",
    "        et = row[8]\n",
    "        pqhe = row[9]\n",
    "    else:\n",
    "        et = row[6]\n",
    "        pqhe = row[7]\n",
    "    ucid = (uid, cid)\n",
    "    utcid = (uid, tcid)\n",
    "    contents = contents_dict[cid]\n",
    "    bid = contents[\"bundle_id\"]\n",
    "    part = contents[\"part\"]\n",
    "    lr = part < 5\n",
    "    ubid = (uid, bid)\n",
    "    upid = (uid, part)\n",
    "    ulr = (uid, lr)\n",
    "    ca = contents[\"correct_answer\"]\n",
    "    uca = (uid, ca)\n",
    "    tags = contents[\"tags\"].split()\n",
    "    \n",
    "    output = {}\n",
    "    if is_train:\n",
    "        output[\"ac\"] = row[7]\n",
    "    #output[\"ts\"] = ts\n",
    "    #output[\"uid\"] = uid\n",
    "    #output[\"cid\"] = cid\n",
    "    #output[\"tcid\"] = tcid\n",
    "    output[\"et\"] = et\n",
    "    #output[\"pqhe\"] = pqhe\n",
    "    content_col = [\n",
    "        \"q_ac_mean\", \"q_ac_cnt\", \"q_et_mean\", \"q_et_cnt\", \"q_et_std\", \"b_ac_mean\", \"b_ac_cnt\",\n",
    "        \"part\", \"correct_answer\",\n",
    "        \"q_ok_uac_mean\", \"q_ok_uac_std\", \"q_ng_uac_mean\", \"q_ng_uac_std\",\n",
    "    ]\n",
    "    for c in content_col:\n",
    "        output[c] = contents[c]\n",
    "        \n",
    "    utd = u_prev_ts.get(uid, np.nan) - ts\n",
    "    u_prev_ts[uid] = ts\n",
    "    \n",
    "    ubtd = ub_prev_ts.get(ubid, np.nan) - ts\n",
    "    if ubtd < 0 or np.isnan(ubtd):\n",
    "        output[\"ub_td2\"] = ubtd\n",
    "        prev_ubtd[0] = ubtd\n",
    "    else:\n",
    "        output[\"ub_td2\"] = prev_ubtd[0]\n",
    "    ub_prev_ts[ubid] = ts\n",
    "    \n",
    "    if utd < 0 or np.isnan(utd):\n",
    "        output[\"u_td2\"] = utd\n",
    "        prev_utd[uid] = utd\n",
    "    else:\n",
    "        output[\"u_td2\"] = prev_utd.get(uid, np.nan)\n",
    "        \n",
    "    u_cnt[uid] += 1\n",
    "    u_qm_sum[uid] += contents[\"q_ac_mean\"]\n",
    "    output[\"u_cnt\"] = u_cnt[uid]\n",
    "    output[\"u_ac_cnt\"] = u_ac_cnt[uid]\n",
    "    output[\"u_ac_mean\"] = (u_ac_sum[uid] / u_ac_cnt[uid]) if u_ac_cnt[uid] != 0 else np.nan\n",
    "    output[\"uca_ac_mean\"] = (uca_ac_sum[uca] / uca_ac_cnt[uca]) if uca_ac_cnt[uca] != 0 else np.nan\n",
    "    output[\"u_qm_mean\"] = u_qm_sum[uid] / u_cnt[uid]\n",
    "    \n",
    "    output[\"up_ac_cnt\"] = up_ac_cnt[upid]\n",
    "    output[\"up_ac_mean\"] = (up_ac_sum[upid] / up_ac_cnt[upid]) if up_ac_cnt[upid] != 0 else np.nan\n",
    "    output[\"ulr_ac_mean\"] = (ulr_ac_sum[ulr] / ulr_ac_cnt[ulr]) if ulr_ac_cnt[ulr] != 0 else np.nan\n",
    "    output[\"u_ok_qm_mean\"] = (u_ok_qm_sum[uid] / u_ok_cnt[uid]) if u_ok_cnt[uid] != 0 else np.nan\n",
    "    output[\"u_ng_qm_mean\"] = (u_ng_qm_sum[uid] / u_ng_cnt[uid]) if u_ng_cnt[uid] != 0 else np.nan\n",
    "    \n",
    "    output[\"u_ac_mean20\"] = sum(u_ac_roll[uid]) / len(u_ac_roll[uid]) if len(u_ac_roll[uid]) != 0 else np.nan\n",
    "    \n",
    "    ut_sum = 0\n",
    "    ut_cnt = 0\n",
    "    ut_mean = []\n",
    "    for tag in tags:\n",
    "        ut = (uid, tag)\n",
    "        ut_sum += ut_ac_sum[ut]\n",
    "        ut_cnt += ut_ac_cnt[ut]\n",
    "        if ut_ac_cnt[ut] != 0:\n",
    "            ut_mean.append(ut_ac_sum[ut]/ut_ac_cnt[ut])\n",
    "    output[\"ut_ac_mean\"] = (ut_sum / ut_cnt) if ut_cnt != 0 else np.nan\n",
    "    output[\"ut_ac_mean2\"] = sum(ut_mean) / len(ut_mean) if len(ut_mean) != 0 else np.nan\n",
    "    \n",
    "    data_list.append(output)\n",
    "    return data_list\n"
   ]
  },
  {
   "cell_type": "code",
   "execution_count": 9,
   "metadata": {},
   "outputs": [],
   "source": [
    "# content_train = train[:50*1000*1000].copy()\n",
    "# train = train[50*1000*1000:]\n",
    "\n",
    "\n",
    "# q_col = [\"question_id\", \"bundle_id\"]\n",
    "# content_train = pd.merge(\n",
    "#     content_train, question[q_col], left_on=\"content_id\", right_on=\"question_id\", how=\"left\"\n",
    "# )\n",
    "\n",
    "# # contents features\n",
    "# # there are no new contents in the test, so we use part of the train as the pseudo-training set\n",
    "# temp = content_train.groupby(\"content_id\")[\"answered_correctly\"].agg([\"mean\", \"count\"])\n",
    "# temp.columns = [\"q_ac_mean\", \"q_ac_cnt\"]\n",
    "# temp2 = content_train.groupby(\"content_id\")[\"prior_question_elapsed_time\"].agg([\"mean\", \"count\", \"std\"])\n",
    "# temp2.columns = [\"q_et_mean\", \"q_et_cnt\", \"q_et_std\"]\n",
    "# # temp3 = content_train.groupby(\"content_id\")[\"timestamp_diff\"].agg([\"mean\", \"std\", \"min\", \"max\", \"skew\"])\n",
    "# # temp3.columns = [\"q_td_mean\", \"q_td_std\", \"q_td_min\", \"q_td_max\", \"q_td_skew\"]\n",
    "# temp4 = content_train.groupby(\"bundle_id\")[\"answered_correctly\"].agg([\"mean\", \"count\"])\n",
    "# temp4.columns = [\"b_ac_mean\", \"b_ac_cnt\"]\n",
    "# q_col = [\"question_id\", \"bundle_id\", \"part\"]\n",
    "# #q_col += [str(i) for i in range(188)]\n",
    "# contents = pd.merge(question[q_col], temp, left_on=\"question_id\", right_on=\"content_id\", how=\"left\")\n",
    "# contents = pd.merge(contents, temp2, left_on=\"question_id\", right_on=\"content_id\", how=\"left\")\n",
    "# #contents = pd.merge(contents, temp3, left_on=\"question_id\", right_on=\"content_id\", how=\"left\")\n",
    "# contents = pd.merge(contents, temp4, on=\"bundle_id\", how=\"left\")\n",
    "# print(contents.head(2))\n",
    "# print(contents.shape)\n",
    "# merge_col = [\n",
    "#     \"question_id\", \"q_ac_mean\", \"q_ac_cnt\", \"q_et_mean\",\n",
    "#     \"q_et_cnt\", \"q_et_std\", \"b_ac_mean\", \"b_ac_cnt\"\n",
    "# ]\n",
    "# contents = contents[merge_col]\n",
    "# contents = contents.set_index(\"question_id\")\n",
    "# contents_dict = contents.to_dict(\"index\")\n",
    "# print(len(contents_dict))"
   ]
  },
  {
   "cell_type": "code",
   "execution_count": 10,
   "metadata": {},
   "outputs": [],
   "source": [
    "# with open(\"./contents_dict.pkl\", \"wb\") as handle:\n",
    "#     pickle.dump(contents_dict, handle, protocol=pickle.HIGHEST_PROTOCOL)\n",
    "# print(len(contents_dict))"
   ]
  },
  {
   "cell_type": "code",
   "execution_count": 11,
   "metadata": {},
   "outputs": [
    {
     "name": "stdout",
     "output_type": "stream",
     "text": [
      "13523\n"
     ]
    }
   ],
   "source": [
    "import pickle\n",
    "with open(\"./contents_dict_full2.pkl\", \"rb\") as handle:\n",
    "    contents_dict = pickle.load(handle)\n",
    "print(len(contents_dict))"
   ]
  },
  {
   "cell_type": "code",
   "execution_count": 30,
   "metadata": {},
   "outputs": [],
   "source": [
    "# cnt = 0\n",
    "# for k, v in contents_dict.items():\n",
    "#     try:\n",
    "#         v[\"tags\"].split()\n",
    "#         cnt += 1\n",
    "#     except Exception:\n",
    "#         print(v[\"tags\"])\n",
    "#         print(cnt)\n",
    "    "
   ]
  },
  {
   "cell_type": "code",
   "execution_count": 31,
   "metadata": {},
   "outputs": [],
   "source": [
    "#content_train = train[:50*1000*1000].copy()\n",
    "#train = train[50*1000*1000:]"
   ]
  },
  {
   "cell_type": "code",
   "execution_count": 12,
   "metadata": {},
   "outputs": [
    {
     "name": "stdout",
     "output_type": "stream",
     "text": [
      "99271300\n"
     ]
    }
   ],
   "source": [
    "print(len(train))"
   ]
  },
  {
   "cell_type": "code",
   "execution_count": 45,
   "metadata": {},
   "outputs": [],
   "source": [
    "class SingleLgb:\n",
    "    def __init__(self, seed=99, dry_run=False):\n",
    "        self.train_param = self.get_param()\n",
    "        if dry_run:\n",
    "            self.num_rounds = 100\n",
    "        else:\n",
    "            self.num_rounds = 500\n",
    "\n",
    "    def do_train_direct(self, x_train, x_test, y_train, y_test):\n",
    "        lgb_train = lgb.Dataset(x_train, y_train)\n",
    "        lgb_eval = lgb.Dataset(x_test, y_test)\n",
    "\n",
    "        # print('Start training...')\n",
    "        model = lgb.train(self.train_param,\n",
    "                          lgb_train,\n",
    "                          valid_sets=[lgb_eval],\n",
    "                          verbose_eval=100,\n",
    "                          num_boost_round=self.num_rounds,\n",
    "                          early_stopping_rounds=100,\n",
    "                          #categorical_feature=[]\n",
    "                         )\n",
    "        # print('End training...')\n",
    "        return model\n",
    "\n",
    "    @staticmethod\n",
    "    def show_feature_importance(model, filename=None):\n",
    "        fi = pd.DataFrame({\n",
    "            \"name\": model.feature_name(),\n",
    "            \"importance_split\": model.feature_importance(importance_type=\"split\").astype(int),\n",
    "            \"importance_gain\": model.feature_importance(importance_type=\"gain\").astype(int),\n",
    "        })\n",
    "        fi = fi.sort_values(by=\"importance_gain\", ascending=False)\n",
    "        print(fi)\n",
    "        #with pd.option_context('display.max_rows', None, 'display.max_columns', None):  # more options can be specified also\n",
    "            #print(df)\n",
    "\n",
    "    @staticmethod\n",
    "    def get_param():\n",
    "        return {\n",
    "            'num_leaves': 127,\n",
    "            'min_data_in_leaf': 100,\n",
    "            'objective': 'binary',\n",
    "            #'metric': 'auc',\n",
    "            'metric': 'binary_logloss',\n",
    "            'max_depth': -1,\n",
    "            'learning_rate': 0.1,\n",
    "            \"boosting\": \"gbdt\",\n",
    "            \"feature_fraction\": 0.9,\n",
    "            \"verbosity\": -1,\n",
    "            \"random_state\": 83,\n",
    "        }\n",
    "    \n",
    "class SingleTrainer:\n",
    "    def __init__(self, pred_col, dry_run=False):\n",
    "        self.pred_col = pred_col\n",
    "        self.target_col = \"ac\"\n",
    "        self.dry_run = dry_run\n",
    "        self.val_size = 4*1000*1000\n",
    "\n",
    "    def train_model(self, df):\n",
    "        X = df[self.pred_col]\n",
    "        y = df[self.target_col]\n",
    "        \n",
    "        models, scores = list(), list()\n",
    "        for fold in range(4):\n",
    "            print(\"---------\")\n",
    "            print(\"fold=\", fold)\n",
    "            f, c = fold, self.val_size\n",
    "            val_s, val_e = -c-f*c, len(df)-f*c\n",
    "            train_idx = -c-f*c\n",
    "            X_train, X_val = X.iloc[:train_idx], X.iloc[val_s:val_e]\n",
    "            y_train, y_val = y.iloc[:train_idx], y.iloc[val_s:val_e]\n",
    "            print(X_train.shape, X_val.shape)\n",
    "            \n",
    "            lgbm = SingleLgb(seed=99, dry_run=self.dry_run)\n",
    "            model = lgbm.do_train_direct(X_train, X_val, y_train, y_val)\n",
    "            score = model.best_score[\"valid_0\"][\"binary_logloss\"]\n",
    "            pred = model.predict(X_val)\n",
    "            score = metrics.roc_auc_score(y_val, pred)\n",
    "            print(\"AUC=\", score)\n",
    "            if fold == 0:\n",
    "                lgbm.show_feature_importance(model)\n",
    "            models.append(model)\n",
    "            scores.append(score)\n",
    "            break\n",
    "        return models, np.mean(scores)"
   ]
  },
  {
   "cell_type": "code",
   "execution_count": 14,
   "metadata": {},
   "outputs": [
    {
     "name": "stderr",
     "output_type": "stream",
     "text": [
      "100%|██████████| 99271300/99271300 [1:02:59<00:00, 26262.50it/s]\n"
     ]
    },
    {
     "name": "stdout",
     "output_type": "stream",
     "text": [
      "1046.3120143413544\n",
      "   ac       et  q_ac_mean  q_ac_cnt     q_et_mean  q_et_cnt      q_et_std  \\\n",
      "0   1      NaN   0.966869     19619  23471.402344      5406  16817.431721   \n",
      "1   1  16000.0   0.954815     21733  19462.746094     21732  10070.528940   \n",
      "\n",
      "   b_ac_mean  b_ac_cnt  part  ...  uca_ac_mean  u_qm_mean  up_ac_cnt  \\\n",
      "0   0.966869     19619     1  ...          NaN   0.966869          0   \n",
      "1   0.954815     21733     1  ...          1.0   0.960842          1   \n",
      "\n",
      "   up_ac_mean  ulr_ac_mean  u_ok_qm_mean  u_ng_qm_mean  u_ac_mean20  \\\n",
      "0         NaN          NaN           NaN           NaN          NaN   \n",
      "1         1.0          1.0      0.966869           NaN          1.0   \n",
      "\n",
      "   ut_ac_mean  ut_ac_mean2  \n",
      "0         NaN          NaN  \n",
      "1         1.0          1.0  \n",
      "\n",
      "[2 rows x 30 columns]\n"
     ]
    }
   ],
   "source": [
    "train_data_list = list()\n",
    "utcid_set = set()\n",
    "prev_rows, prev_acs, prev_uas = list(), list(), list()\n",
    "#init_values()\n",
    "\n",
    "not_updated_idx = 0\n",
    "for i, row in enumerate(tqdm(train.values)):\n",
    "#     if i < 56597670:\n",
    "#         continue\n",
    "#     if i > 56597680:\n",
    "#         break\n",
    "    uid = row[2]\n",
    "    tcid = row[5]\n",
    "    utcid = (uid, tcid)\n",
    "    if utcid not in utcid_set:\n",
    "        if len(prev_rows) > 0:\n",
    "            update_ac_values(prev_rows, prev_acs, prev_uas)\n",
    "            prev_rows.clear()\n",
    "            prev_acs.clear()\n",
    "            prev_uas.clear()\n",
    "            utcid_set.clear()\n",
    "            not_updated_idx = i\n",
    "    prev_rows.append(row)\n",
    "    prev_acs.append(row[7])\n",
    "    prev_uas.append(row[6])\n",
    "    utcid_set.add(utcid)\n",
    "        \n",
    "    make_row(row, train_data_list, True)\n",
    "        \n",
    "\n",
    "start_time = time.time()\n",
    "df = pd.DataFrame(train_data_list)\n",
    "end_time = time.time()\n",
    "print(end_time - start_time)\n",
    "print(df.head(2))\n",
    "#print(df.info())"
   ]
  },
  {
   "cell_type": "code",
   "execution_count": 13,
   "metadata": {},
   "outputs": [
    {
     "data": {
      "text/plain": [
       "43"
      ]
     },
     "execution_count": 13,
     "metadata": {},
     "output_type": "execute_result"
    }
   ],
   "source": [
    "del train_data_list\n",
    "gc.collect()"
   ]
  },
  {
   "cell_type": "code",
   "execution_count": 14,
   "metadata": {},
   "outputs": [
    {
     "name": "stdout",
     "output_type": "stream",
     "text": [
      "hi\n"
     ]
    }
   ],
   "source": [
    "print(\"hi\")"
   ]
  },
  {
   "cell_type": "code",
   "execution_count": 17,
   "metadata": {},
   "outputs": [],
   "source": [
    "# %%timeit\n",
    "# df = pd.DataFrame(data_list)\n",
    "# 24.7 s ± 205 ms per loop (mean ± std. dev. of 7 runs, 1 loop each)"
   ]
  },
  {
   "cell_type": "code",
   "execution_count": 15,
   "metadata": {},
   "outputs": [],
   "source": [
    "df.to_feather(\"./temp_df.feather\")"
   ]
  },
  {
   "cell_type": "code",
   "execution_count": 16,
   "metadata": {},
   "outputs": [
    {
     "data": {
      "text/plain": [
       "Index(['ac', 'et', 'q_ac_mean', 'q_ac_cnt', 'q_et_mean', 'q_et_cnt',\n",
       "       'q_et_std', 'b_ac_mean', 'b_ac_cnt', 'part', 'correct_answer',\n",
       "       'q_ok_uac_mean', 'q_ok_uac_std', 'q_ng_uac_mean', 'q_ng_uac_std',\n",
       "       'ub_td2', 'u_td2', 'u_cnt', 'u_ac_cnt', 'u_ac_mean', 'uca_ac_mean',\n",
       "       'u_qm_mean', 'up_ac_cnt', 'up_ac_mean', 'ulr_ac_mean', 'u_ok_qm_mean',\n",
       "       'u_ng_qm_mean', 'u_ac_mean20', 'ut_ac_mean', 'ut_ac_mean2'],\n",
       "      dtype='object')"
      ]
     },
     "execution_count": 16,
     "metadata": {},
     "output_type": "execute_result"
    }
   ],
   "source": [
    "df.columns"
   ]
  },
  {
   "cell_type": "code",
   "execution_count": 23,
   "metadata": {},
   "outputs": [],
   "source": [
    "df = pd.read_feather(\"./temp_df.feather\")"
   ]
  },
  {
   "cell_type": "code",
   "execution_count": 18,
   "metadata": {},
   "outputs": [
    {
     "name": "stdout",
     "output_type": "stream",
     "text": [
      "['ts', 'q_ac_mean', 'q_ac_cnt', 'q_et_mean', 'q_et_cnt', 'q_et_std', 'b_ac_mean', 'b_ac_cnt', 'u_td', 'uc_td', 'u_prev_qm', 'u_cnt', 'u_qm_mean', 'u_et_mean', 'u_ac_mean', 'et']\n"
     ]
    }
   ],
   "source": [
    "pred_col = ['ts',  'q_ac_mean', 'q_ac_cnt',\n",
    "    'q_et_mean', 'q_et_cnt', 'q_et_std', 'b_ac_mean', 'b_ac_cnt', 'u_td',\n",
    "       'uc_td','u_prev_qm', 'u_cnt',\n",
    "       'u_qm_mean', 'u_et_mean', 'u_ac_mean', \n",
    "            \"et\", \n",
    "           # 'uid', 'cid', 'tcid', 'et',\n",
    "            #'pqhe', \n",
    "             #'u_prev_ac', 'uc_prev_ac', 'u_prev_ua', \n",
    "]\n",
    "print(pred_col)\n",
    "pred_col = [\n",
    "    'q_ac_mean', 'q_ac_cnt', 'q_et_mean', 'q_et_cnt', 'q_et_std', 'b_ac_mean', 'b_ac_cnt',\n",
    "    'u_cnt', 'u_qm_mean', 'u_ac_mean', 'et', \"ub_td2\"\n",
    "]"
   ]
  },
  {
   "cell_type": "code",
   "execution_count": 39,
   "metadata": {},
   "outputs": [],
   "source": [
    "light_col = [\n",
    "    'q_ac_mean', 'q_ac_cnt', 'q_et_mean', 'q_et_cnt', 'q_et_std', 'b_ac_mean', 'b_ac_cnt',\n",
    "    'u_cnt', 'u_qm_mean', 'u_ac_mean', 'et', \"ub_td2\"\n",
    "]\n",
    "new_light_col = [\n",
    "    'u_ok_qm_mean', 'u_ng_qm_mean',\n",
    "    \"up_ac_mean\", \"uca_ac_mean\", #\"u_ac_mean20\", \n",
    "    #\"ut_ac_mean\", \"ut_ac_mean2\",\n",
    "    \"q_ng_uac_mean\",\"q_ok_uac_mean\", \n",
    "    \"u_td2\", \n",
    "    #\"ub_cnt\", \"ubb_cnt\",\n",
    "    #\"up_ac_cnt\", \"u_ac_cnt\",\n",
    "    \"correct_answer\", \"ulr_ac_mean\"\n",
    "]\n",
    "pred_col = light_col + new_light_col"
   ]
  },
  {
   "cell_type": "code",
   "execution_count": 17,
   "metadata": {},
   "outputs": [
    {
     "data": {
      "text/html": [
       "<div>\n",
       "<style scoped>\n",
       "    .dataframe tbody tr th:only-of-type {\n",
       "        vertical-align: middle;\n",
       "    }\n",
       "\n",
       "    .dataframe tbody tr th {\n",
       "        vertical-align: top;\n",
       "    }\n",
       "\n",
       "    .dataframe thead th {\n",
       "        text-align: right;\n",
       "    }\n",
       "</style>\n",
       "<table border=\"1\" class=\"dataframe\">\n",
       "  <thead>\n",
       "    <tr style=\"text-align: right;\">\n",
       "      <th></th>\n",
       "      <th>ub_td2</th>\n",
       "    </tr>\n",
       "  </thead>\n",
       "  <tbody>\n",
       "    <tr>\n",
       "      <th>count</th>\n",
       "      <td>1.238109e+07</td>\n",
       "    </tr>\n",
       "    <tr>\n",
       "      <th>mean</th>\n",
       "      <td>-3.436013e+05</td>\n",
       "    </tr>\n",
       "    <tr>\n",
       "      <th>std</th>\n",
       "      <td>7.622211e+05</td>\n",
       "    </tr>\n",
       "    <tr>\n",
       "      <th>min</th>\n",
       "      <td>-8.655624e+06</td>\n",
       "    </tr>\n",
       "    <tr>\n",
       "      <th>25%</th>\n",
       "      <td>-2.681390e+05</td>\n",
       "    </tr>\n",
       "    <tr>\n",
       "      <th>50%</th>\n",
       "      <td>-4.577000e+04</td>\n",
       "    </tr>\n",
       "    <tr>\n",
       "      <th>75%</th>\n",
       "      <td>-5.261000e+03</td>\n",
       "    </tr>\n",
       "    <tr>\n",
       "      <th>max</th>\n",
       "      <td>-1.000000e+00</td>\n",
       "    </tr>\n",
       "  </tbody>\n",
       "</table>\n",
       "</div>"
      ],
      "text/plain": [
       "             ub_td2\n",
       "count  1.238109e+07\n",
       "mean  -3.436013e+05\n",
       "std    7.622211e+05\n",
       "min   -8.655624e+06\n",
       "25%   -2.681390e+05\n",
       "50%   -4.577000e+04\n",
       "75%   -5.261000e+03\n",
       "max   -1.000000e+00"
      ]
     },
     "execution_count": 17,
     "metadata": {},
     "output_type": "execute_result"
    }
   ],
   "source": [
    "# show_col = [\"ub_td2\"]\n",
    "# df[show_col].describe()\n",
    "#min=-8.655624e+12"
   ]
  },
  {
   "cell_type": "code",
   "execution_count": 19,
   "metadata": {},
   "outputs": [],
   "source": [
    "# df[\"ub_td_z\"] = df[\"ub_td2\"]//10*1000"
   ]
  },
  {
   "cell_type": "code",
   "execution_count": 46,
   "metadata": {
    "scrolled": true
   },
   "outputs": [
    {
     "name": "stdout",
     "output_type": "stream",
     "text": [
      "---------\n",
      "fold= 0\n",
      "(95271300, 21) (4000000, 21)\n",
      "Training until validation scores don't improve for 100 rounds\n",
      "[100]\tvalid_0's binary_logloss: 0.525162\n",
      "[200]\tvalid_0's binary_logloss: 0.523281\n",
      "[300]\tvalid_0's binary_logloss: 0.522562\n",
      "[400]\tvalid_0's binary_logloss: 0.522127\n",
      "[500]\tvalid_0's binary_logloss: 0.52177\n",
      "Did not meet early stopping. Best iteration is:\n",
      "[500]\tvalid_0's binary_logloss: 0.52177\n",
      "AUC= 0.789792419539984\n",
      "              name  importance_split  importance_gain\n",
      "0        q_ac_mean              3920         65570864\n",
      "9        u_ac_mean              3118         10549950\n",
      "11          ub_td2              3847          8848453\n",
      "14      up_ac_mean              2643          6035949\n",
      "5        b_ac_mean              2306          5548728\n",
      "13    u_ng_qm_mean              3291          5079565\n",
      "18           u_td2              6518          5055451\n",
      "20     ulr_ac_mean              2099          4621171\n",
      "16   q_ng_uac_mean              4836          3007290\n",
      "17   q_ok_uac_mean              4760          2024843\n",
      "12    u_ok_qm_mean              2181          1742244\n",
      "10              et              2377          1665470\n",
      "7            u_cnt              4251          1355429\n",
      "2        q_et_mean              4287          1061716\n",
      "15     uca_ac_mean              1553           770071\n",
      "4         q_et_std              3278           634780\n",
      "6         b_ac_cnt              2117           432316\n",
      "1         q_ac_cnt              2447           421117\n",
      "8        u_qm_mean              1169           408677\n",
      "19  correct_answer              1054           186110\n",
      "3         q_et_cnt               948           159801\n"
     ]
    }
   ],
   "source": [
    "#temp_df = df[1*1000*1000:].copy()\n",
    "#temp_df = df.copy()\n",
    "trainer = SingleTrainer(pred_col, dry_run=False)\n",
    "models, score = trainer.train_model(df)"
   ]
  },
  {
   "cell_type": "code",
   "execution_count": null,
   "metadata": {},
   "outputs": [],
   "source": [
    "#standard way\n",
    "#[1000]\tvalid_0's auc: 0.782993\n",
    "\n",
    "#periodic initialization\n",
    "#0.730-2\n",
    "\n",
    "#with u_ac_mean\n",
    "#0.762\n",
    "\n",
    "#with uc_td\n",
    "#has 0.776ish\n",
    "\n",
    "#with U_et_cnt(reset-cnt)\n",
    "#same\n",
    "\n",
    "#with uc_ac_prev\n",
    "#0.777ish\n",
    "\n",
    "#without\n",
    "#[1000]\tvalid_0's auc: 0.765165\n",
    "\n",
    "# with full row  feature\n",
    "#[1000]\tvalid_0's auc: 0.765111\n",
    "\n",
    "# with full cdict\n",
    "#[1000]\tvalid_0's auc: 0.765448\n",
    "\n",
    "# dropping td by //10*1000 decrease score by 0.001\n",
    "\n",
    "# new feats from test_features=0.785 ->?0.7897\n",
    "\n",
    "print(\"done\")"
   ]
  },
  {
   "cell_type": "code",
   "execution_count": 37,
   "metadata": {},
   "outputs": [],
   "source": [
    "data_tuple =(u_cnt, u_ac_cnt, u_ac_sum, u_qm_sum, u_prev_ts,\n",
    "     u_ok_qm_sum, u_ng_qm_sum, u_ok_cnt, u_ng_cnt,\n",
    "     up_ac_cnt, up_ac_sum, prev_utd, prev_ubtd,\n",
    "     ulr_ac_cnt, ulr_ac_sum, uca_ac_sum, uca_ac_cnt,\n",
    "     #ut_ac_sum, ut_ac_cnt\n",
    "     #u_ac_roll,         \n",
    "                )"
   ]
  },
  {
   "cell_type": "code",
   "execution_count": 26,
   "metadata": {},
   "outputs": [
    {
     "name": "stdout",
     "output_type": "stream",
     "text": [
      "<class 'collections.Counter'>\n",
      "<class 'collections.Counter'>\n",
      "<class 'dict'>\n",
      "<class 'collections.Counter'>\n",
      "<class 'collections.Counter'>\n",
      "<class 'collections.Counter'>\n",
      "<class 'collections.Counter'>\n",
      "<class 'collections.Counter'>\n",
      "<class 'collections.Counter'>\n",
      "<class 'collections.Counter'>\n",
      "<class 'collections.Counter'>\n",
      "<class 'dict'>\n",
      "<class 'dict'>\n",
      "<class 'collections.Counter'>\n",
      "<class 'collections.Counter'>\n",
      "<class 'collections.Counter'>\n",
      "<class 'collections.Counter'>\n",
      "<class 'collections.Counter'>\n",
      "<class 'collections.Counter'>\n"
     ]
    },
    {
     "ename": "IndexError",
     "evalue": "tuple index out of range",
     "output_type": "error",
     "traceback": [
      "\u001b[0;31m---------------------------------------------------------------------------\u001b[0m",
      "\u001b[0;31mIndexError\u001b[0m                                Traceback (most recent call last)",
      "\u001b[0;32m<ipython-input-26-869ea8629b5c>\u001b[0m in \u001b[0;36m<module>\u001b[0;34m\u001b[0m\n\u001b[1;32m      1\u001b[0m \u001b[0;32mfor\u001b[0m \u001b[0mi\u001b[0m \u001b[0;32min\u001b[0m \u001b[0mrange\u001b[0m\u001b[0;34m(\u001b[0m\u001b[0;36m20\u001b[0m\u001b[0;34m)\u001b[0m\u001b[0;34m:\u001b[0m\u001b[0;34m\u001b[0m\u001b[0;34m\u001b[0m\u001b[0m\n\u001b[0;32m----> 2\u001b[0;31m     \u001b[0mprint\u001b[0m\u001b[0;34m(\u001b[0m\u001b[0mtype\u001b[0m\u001b[0;34m(\u001b[0m\u001b[0mdata_tuple\u001b[0m\u001b[0;34m[\u001b[0m\u001b[0mi\u001b[0m\u001b[0;34m]\u001b[0m\u001b[0;34m)\u001b[0m\u001b[0;34m)\u001b[0m\u001b[0;34m\u001b[0m\u001b[0;34m\u001b[0m\u001b[0m\n\u001b[0m",
      "\u001b[0;31mIndexError\u001b[0m: tuple index out of range"
     ]
    }
   ],
   "source": [
    "for i in range(20):\n",
    "    print(type(data_tuple[i]))"
   ]
  },
  {
   "cell_type": "code",
   "execution_count": 38,
   "metadata": {},
   "outputs": [],
   "source": [
    "import pickle\n",
    "\n",
    "with open(\"./data_tuple.pkl\", \"wb\") as handle:\n",
    "    pickle.dump(data_tuple, handle, pickle.HIGHEST_PROTOCOL)"
   ]
  },
  {
   "cell_type": "code",
   "execution_count": null,
   "metadata": {},
   "outputs": [],
   "source": [
    "!gsutil cp ./data_tuple.pkl gs://dena-ai-training-24-gcp/riiid/data_tuple.pkl"
   ]
  },
  {
   "cell_type": "code",
   "execution_count": 47,
   "metadata": {},
   "outputs": [
    {
     "data": {
      "text/plain": [
       "<lightgbm.basic.Booster at 0x7fa4b4f84dd0>"
      ]
     },
     "execution_count": 47,
     "metadata": {},
     "output_type": "execute_result"
    }
   ],
   "source": [
    "models[0].save_model(\"./model_s83.lgb\")"
   ]
  },
  {
   "cell_type": "code",
   "execution_count": 21,
   "metadata": {},
   "outputs": [],
   "source": [
    "with open(\"./ub_prev_ts.pkl\", \"wb\") as handle:\n",
    "    pickle.dump(ub_prev_ts, handle, pickle.HIGHEST_PROTOCOL)"
   ]
  },
  {
   "cell_type": "code",
   "execution_count": null,
   "metadata": {},
   "outputs": [
    {
     "name": "stdout",
     "output_type": "stream",
     "text": [
      "  adding: ../imported/ (stored 0%)\n",
      "  adding: ../imported/riid-model-1-sub-2e22c046-1dd5-465b-acab-86bce5acc113-Copy1.ipynb (deflated 71%)\n",
      "  adding: ../imported/contents_dict_50m_seed3.pkl (deflated 62%)\n",
      "  adding: ../imported/riid-model-1-sub-2e22c046-1dd5-465b-acab-86bce5acc113.ipynb (deflated 74%)\n",
      "  adding: ../imported/data_tuple.pkl (deflated 55%)\n",
      "  adding: ../imported/train.feather"
     ]
    }
   ],
   "source": [
    "!zip -r /home/imported.zip ../imported"
   ]
  },
  {
   "cell_type": "code",
   "execution_count": null,
   "metadata": {},
   "outputs": [],
   "source": [
    "!gsutil cp /home/imported.zip gs://dena-ai-training-24-gcp/riiid/imported.zip"
   ]
  },
  {
   "cell_type": "code",
   "execution_count": null,
   "metadata": {},
   "outputs": [],
   "source": [
    "def make_pred_df(df):\n",
    "    pred_data_list = list()\n",
    "    for i, row in enumerate(df.values):\n",
    "        make_row(row, pred_data_list, False)\n",
    "    pred_df = pd.DataFrame(pred_data_list)\n",
    "    return pred_df"
   ]
  },
  {
   "cell_type": "code",
   "execution_count": null,
   "metadata": {},
   "outputs": [],
   "source": [
    "env = riiideducation.make_env()\n",
    "is_train = False\n",
    "init_values()"
   ]
  },
  {
   "cell_type": "code",
   "execution_count": null,
   "metadata": {},
   "outputs": [],
   "source": [
    "prev_df = None\n",
    "for (test_df, sample_prediction_df) in env.iter_test():\n",
    "    #show_col = [\"row_id\", \"user_id\", \"content_type_id\", \"prior_group_answers_correct\", \"prior_group_responses\"]\n",
    "    #print(test_df.head(2))\n",
    "    #print(sample_prediction_df.head(2))\n",
    "    prev_ac = eval(test_df.iloc[0][\"prior_group_answers_correct\"])\n",
    "    prev_ua = eval(test_df.iloc[0][\"prior_group_responses\"])\n",
    "    use_df = test_df[test_df['content_type_id'] == 0]\n",
    "    #print(\"--------------------\")\n",
    "    \n",
    "    if len(prev_ac) > 0:\n",
    "        update_ac_values(prev_df.values, prev_ac, prev_ua)\n",
    "    pred_df = make_pred_df(use_df)\n",
    "    #print(pred_df.head(2))\n",
    "    pred = models[0].predict(pred_df[pred_col])\n",
    "    prev_df = use_df\n",
    "    \n",
    "    sub_df = use_df[[\"row_id\"]].copy()\n",
    "    sub_df[\"answered_correctly\"] = pred\n",
    "    env.predict(sub_df)\n",
    "    #test_df['answered_correctly'] = 0.5\n",
    "    #env.predict(test_df.loc[test_df['content_type_id'] == 0, ['row_id', 'answered_correctly']])\n",
    "\n",
    "\n",
    "#print(pred_df.columns)\n"
   ]
  },
  {
   "cell_type": "code",
   "execution_count": null,
   "metadata": {},
   "outputs": [],
   "source": []
  }
 ],
 "metadata": {
  "kernelspec": {
   "display_name": "Python 3",
   "language": "python",
   "name": "python3"
  },
  "language_info": {
   "codemirror_mode": {
    "name": "ipython",
    "version": 3
   },
   "file_extension": ".py",
   "mimetype": "text/x-python",
   "name": "python",
   "nbconvert_exporter": "python",
   "pygments_lexer": "ipython3",
   "version": "3.7.9"
  }
 },
 "nbformat": 4,
 "nbformat_minor": 4
}
